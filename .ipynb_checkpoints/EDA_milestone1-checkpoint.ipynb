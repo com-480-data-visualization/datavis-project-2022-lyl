{
 "cells": [
  {
   "cell_type": "code",
   "execution_count": 45,
   "id": "1790b278-1110-4928-9e36-3f91f33953f5",
   "metadata": {},
   "outputs": [],
   "source": [
    "# Import the needed modules\n",
    "import pandas as pd\n",
    "import numpy as np\n",
    "import matplotlib.pyplot as plt\n",
    "import seaborn as sns\n",
    "import plotly.express as px\n",
    "import plotly.graph_objects as go\n",
    "from plotly.subplots import make_subplots"
   ]
  },
  {
   "cell_type": "markdown",
   "id": "1497afb9-3bea-47cc-8b37-90625d672071",
   "metadata": {},
   "source": [
    "### Read Data"
   ]
  },
  {
   "cell_type": "code",
   "execution_count": 46,
   "id": "d2fc597f-ad9a-42f1-af5e-7ce4e7702caa",
   "metadata": {},
   "outputs": [],
   "source": [
    "teams_df = pd.read_csv('data/highest_earning_teams.csv', sep=',')\n",
    "players_df = pd.read_csv('data/highest_earning_players.csv', sep=',')\n",
    "country_df = pd.read_csv('data/country-and-continent-codes-list.csv')"
   ]
  },
  {
   "cell_type": "code",
   "execution_count": 47,
   "id": "e71a59b6-f9de-46fc-9fac-9a2a97526933",
   "metadata": {},
   "outputs": [
    {
     "data": {
      "text/html": [
       "<div>\n",
       "<style scoped>\n",
       "    .dataframe tbody tr th:only-of-type {\n",
       "        vertical-align: middle;\n",
       "    }\n",
       "\n",
       "    .dataframe tbody tr th {\n",
       "        vertical-align: top;\n",
       "    }\n",
       "\n",
       "    .dataframe thead th {\n",
       "        text-align: right;\n",
       "    }\n",
       "</style>\n",
       "<table border=\"1\" class=\"dataframe\">\n",
       "  <thead>\n",
       "    <tr style=\"text-align: right;\">\n",
       "      <th></th>\n",
       "      <th>TeamId</th>\n",
       "      <th>TeamName</th>\n",
       "      <th>TotalUSDPrize</th>\n",
       "      <th>TotalTournaments</th>\n",
       "      <th>Game</th>\n",
       "      <th>Genre</th>\n",
       "    </tr>\n",
       "  </thead>\n",
       "  <tbody>\n",
       "    <tr>\n",
       "      <th>0</th>\n",
       "      <td>760</td>\n",
       "      <td>San Francisco Shock</td>\n",
       "      <td>3105000.0</td>\n",
       "      <td>7</td>\n",
       "      <td>Overwatch</td>\n",
       "      <td>First-Person Shooter</td>\n",
       "    </tr>\n",
       "    <tr>\n",
       "      <th>1</th>\n",
       "      <td>776</td>\n",
       "      <td>London Spitfire</td>\n",
       "      <td>1591136.5</td>\n",
       "      <td>13</td>\n",
       "      <td>Overwatch</td>\n",
       "      <td>First-Person Shooter</td>\n",
       "    </tr>\n",
       "    <tr>\n",
       "      <th>2</th>\n",
       "      <td>768</td>\n",
       "      <td>New York Excelsior</td>\n",
       "      <td>1572618.5</td>\n",
       "      <td>18</td>\n",
       "      <td>Overwatch</td>\n",
       "      <td>First-Person Shooter</td>\n",
       "    </tr>\n",
       "    <tr>\n",
       "      <th>3</th>\n",
       "      <td>773</td>\n",
       "      <td>Philadelphia Fusion</td>\n",
       "      <td>1186278.5</td>\n",
       "      <td>15</td>\n",
       "      <td>Overwatch</td>\n",
       "      <td>First-Person Shooter</td>\n",
       "    </tr>\n",
       "    <tr>\n",
       "      <th>4</th>\n",
       "      <td>766</td>\n",
       "      <td>Seoul Dynasty</td>\n",
       "      <td>1130000.0</td>\n",
       "      <td>6</td>\n",
       "      <td>Overwatch</td>\n",
       "      <td>First-Person Shooter</td>\n",
       "    </tr>\n",
       "    <tr>\n",
       "      <th>...</th>\n",
       "      <td>...</td>\n",
       "      <td>...</td>\n",
       "      <td>...</td>\n",
       "      <td>...</td>\n",
       "      <td>...</td>\n",
       "      <td>...</td>\n",
       "    </tr>\n",
       "    <tr>\n",
       "      <th>923</th>\n",
       "      <td>24781</td>\n",
       "      <td>Rex Regum Qeon</td>\n",
       "      <td>6286.8</td>\n",
       "      <td>2</td>\n",
       "      <td>Arena of Valor</td>\n",
       "      <td>Multiplayer Online Battle Arena</td>\n",
       "    </tr>\n",
       "    <tr>\n",
       "      <th>924</th>\n",
       "      <td>261</td>\n",
       "      <td>Alliance</td>\n",
       "      <td>4000.0</td>\n",
       "      <td>1</td>\n",
       "      <td>Arena of Valor</td>\n",
       "      <td>Multiplayer Online Battle Arena</td>\n",
       "    </tr>\n",
       "    <tr>\n",
       "      <th>925</th>\n",
       "      <td>713</td>\n",
       "      <td>Marines Esports</td>\n",
       "      <td>3429.6</td>\n",
       "      <td>1</td>\n",
       "      <td>Arena of Valor</td>\n",
       "      <td>Multiplayer Online Battle Arena</td>\n",
       "    </tr>\n",
       "    <tr>\n",
       "      <th>926</th>\n",
       "      <td>608</td>\n",
       "      <td>British National Team</td>\n",
       "      <td>2500.0</td>\n",
       "      <td>1</td>\n",
       "      <td>Arena of Valor</td>\n",
       "      <td>Multiplayer Online Battle Arena</td>\n",
       "    </tr>\n",
       "    <tr>\n",
       "      <th>927</th>\n",
       "      <td>584</td>\n",
       "      <td>Swedish National Team</td>\n",
       "      <td>2500.0</td>\n",
       "      <td>1</td>\n",
       "      <td>Arena of Valor</td>\n",
       "      <td>Multiplayer Online Battle Arena</td>\n",
       "    </tr>\n",
       "  </tbody>\n",
       "</table>\n",
       "<p>928 rows × 6 columns</p>\n",
       "</div>"
      ],
      "text/plain": [
       "     TeamId               TeamName  TotalUSDPrize  TotalTournaments  \\\n",
       "0       760    San Francisco Shock      3105000.0                 7   \n",
       "1       776        London Spitfire      1591136.5                13   \n",
       "2       768     New York Excelsior      1572618.5                18   \n",
       "3       773    Philadelphia Fusion      1186278.5                15   \n",
       "4       766          Seoul Dynasty      1130000.0                 6   \n",
       "..      ...                    ...            ...               ...   \n",
       "923   24781         Rex Regum Qeon         6286.8                 2   \n",
       "924     261               Alliance         4000.0                 1   \n",
       "925     713        Marines Esports         3429.6                 1   \n",
       "926     608  British National Team         2500.0                 1   \n",
       "927     584  Swedish National Team         2500.0                 1   \n",
       "\n",
       "               Game                            Genre  \n",
       "0         Overwatch             First-Person Shooter  \n",
       "1         Overwatch             First-Person Shooter  \n",
       "2         Overwatch             First-Person Shooter  \n",
       "3         Overwatch             First-Person Shooter  \n",
       "4         Overwatch             First-Person Shooter  \n",
       "..              ...                              ...  \n",
       "923  Arena of Valor  Multiplayer Online Battle Arena  \n",
       "924  Arena of Valor  Multiplayer Online Battle Arena  \n",
       "925  Arena of Valor  Multiplayer Online Battle Arena  \n",
       "926  Arena of Valor  Multiplayer Online Battle Arena  \n",
       "927  Arena of Valor  Multiplayer Online Battle Arena  \n",
       "\n",
       "[928 rows x 6 columns]"
      ]
     },
     "execution_count": 47,
     "metadata": {},
     "output_type": "execute_result"
    }
   ],
   "source": [
    "teams_df"
   ]
  },
  {
   "cell_type": "markdown",
   "id": "947b70e6-6792-4f67-8b9d-e17063bc85d3",
   "metadata": {},
   "source": [
    "The data includes 10 games and we can classify them according to the 5 genres."
   ]
  },
  {
   "cell_type": "code",
   "execution_count": 50,
   "id": "da8f61e1-e29a-405f-ab78-57b2acc9de9b",
   "metadata": {},
   "outputs": [
    {
     "data": {
      "text/plain": [
       "(Genre\n",
       " Battle Royale                      200\n",
       " Collectible Card Game               80\n",
       " First-Person Shooter               200\n",
       " Multiplayer Online Battle Arena    348\n",
       " Strategy                           100\n",
       " Name: Game, dtype: int64,\n",
       " Genre\n",
       " Battle Royale                      200\n",
       " Collectible Card Game              100\n",
       " First-Person Shooter               200\n",
       " Multiplayer Online Battle Arena    400\n",
       " Strategy                           100\n",
       " Name: Game, dtype: int64)"
      ]
     },
     "execution_count": 50,
     "metadata": {},
     "output_type": "execute_result"
    }
   ],
   "source": [
    "#Show all the unique game and genre included in the dataset\n",
    "teams_df.groupby('Genre')['Game'].unique().to_frame().reset_index()\n",
    "players_df.groupby('Genre')['Game'].unique().to_frame().reset_index()\n",
    "teams_df.groupby('Genre').count()['Game'],players_df.groupby('Genre').count()['Game']"
   ]
  },
  {
   "cell_type": "code",
   "execution_count": 102,
   "id": "2f7971e6-24a2-4f07-856a-d551a83067c1",
   "metadata": {},
   "outputs": [
    {
     "data": {
      "application/vnd.plotly.v1+json": {
       "config": {
        "plotlyServerURL": "https://plot.ly"
       },
       "data": [
        {
         "alignmentgroup": "True",
         "bingroup": "x",
         "hovertemplate": "Genre=First-Person Shooter<br>TotalUSDPrize=%{x}<br>count=%{y}<extra></extra>",
         "legendgroup": "First-Person Shooter",
         "marker": {
          "color": "#636efa",
          "pattern": {
           "shape": ""
          }
         },
         "name": "First-Person Shooter",
         "offsetgroup": "First-Person Shooter",
         "orientation": "v",
         "showlegend": true,
         "type": "histogram",
         "x": [
          1822989.41,
          1799288.57,
          1787489.88,
          1652350.75,
          1416448.64,
          1087340,
          1063858.27,
          1063038.92,
          1059938.92,
          1021901.46,
          982765.66,
          964635.39,
          930696.42,
          920151.73,
          897760.68,
          880011.52,
          877668.95,
          867823.34,
          835376.43,
          814852.39,
          805444.66,
          798520.8,
          780039.21,
          763799.57,
          762802.56,
          732920.07,
          713086.68,
          689568.7,
          677155.31,
          660640.55,
          653938.44,
          617000.5,
          613854.6,
          606880.52,
          596748.79,
          591510.89,
          586616,
          577382.35,
          574103.56,
          547205.97,
          531541.99,
          517888.39,
          513805.74,
          506010.74,
          498887.62,
          485910.46,
          481487.38,
          464499.26,
          449799.56,
          448642.48,
          437479.98,
          418492.59,
          417465.86,
          414305.65,
          407662.41,
          403005.81,
          391973.94,
          389680.38,
          387551.81,
          382208.97,
          378500.99,
          375765.04,
          361678.02,
          349557.33,
          339091.34,
          335508.19,
          333711.15,
          332671.67,
          326080,
          323423.04,
          323127.22,
          307601.25,
          307129.97,
          306178.43,
          305655.12,
          302884.33,
          284845.29,
          276730.92,
          275404.13,
          273859.49,
          273784.13,
          273117.72,
          272602,
          269977.5,
          269446.78,
          265131.4,
          260987.54,
          260797.63,
          260721.09,
          256374.45,
          249663.46,
          247538.65,
          247248.57,
          245208.72,
          244070.27,
          242273.51,
          239956.42,
          234332.17,
          233210.47,
          232167.42,
          331108.68,
          327424.24,
          322184.16,
          319657.2,
          314548.25,
          312948.02,
          308901.19,
          297730.97,
          297730.97,
          272689.65,
          267391.59,
          222400.43,
          208453.84,
          197480.74,
          188479.09,
          186382.3,
          180755.36,
          176385.68,
          168959.28,
          167420.62,
          164396.18,
          164363.81,
          164025.25,
          163336.4,
          159911.85,
          159757.11,
          157907.63,
          157289.9,
          157268.25,
          156207.98,
          151472.42,
          149547.3,
          138012.28,
          131615.34,
          128681.89,
          113666.44,
          111871.29,
          110435.01,
          108240.14,
          107535.84,
          104737.26,
          104074.27,
          98285.03,
          96906.13,
          94244.74,
          91413.27,
          91158.55,
          90485.05,
          90439.44,
          90428.77,
          88443.76,
          86293.32,
          86277.6,
          85804.45,
          83845.32,
          83532.82,
          83235.77,
          82724.04,
          82630.1,
          82032.82,
          81812.25,
          81363.59,
          78260.01,
          78144.21,
          77756.89,
          77723.5,
          77014.11,
          75756.09,
          74902.37,
          74175.89,
          73478.37,
          72886.36,
          70298.68,
          70255.34,
          69918.09,
          68984.11,
          67619.01,
          67246.48,
          66306.23,
          66165.46,
          64783.08,
          63953.84,
          62069.85,
          61950.86,
          61460.24,
          61459.02,
          61027.02,
          59154.54,
          58718.69,
          56549.85,
          55676.28,
          55538.23,
          55453.17,
          54391.23,
          54391.23,
          54290.66,
          54215.94,
          54037.27,
          53759.68,
          53293.7
         ],
         "xaxis": "x",
         "yaxis": "y"
        },
        {
         "alignmentgroup": "True",
         "customdata": [
          [
           3883,
           "Peter",
           "Rasmussen",
           "dupreeh",
           "dk",
           "Counter-Strike: Global Offensive",
           "First-Person Shooter"
          ],
          [
           3679,
           "Andreas",
           "Højsleth",
           "Xyp9x",
           "dk",
           "Counter-Strike: Global Offensive",
           "First-Person Shooter"
          ],
          [
           3885,
           "Nicolai",
           "Reedtz",
           "dev1ce",
           "dk",
           "Counter-Strike: Global Offensive",
           "First-Person Shooter"
          ],
          [
           3672,
           "Lukas",
           "Rossander",
           "gla1ve",
           "dk",
           "Counter-Strike: Global Offensive",
           "First-Person Shooter"
          ],
          [
           17800,
           "Emil",
           "Reif",
           "Magisk",
           "dk",
           "Counter-Strike: Global Offensive",
           "First-Person Shooter"
          ],
          [
           16800,
           "Jakey",
           "Yip",
           "Stewie2k",
           "us",
           "Counter-Strike: Global Offensive",
           "First-Person Shooter"
          ],
          [
           12183,
           "Epitácio",
           "de Melo",
           "TACO",
           "br",
           "Counter-Strike: Global Offensive",
           "First-Person Shooter"
          ],
          [
           12169,
           "Fernando",
           "Alvarenga",
           "fer",
           "br",
           "Counter-Strike: Global Offensive",
           "First-Person Shooter"
          ],
          [
           2455,
           "Gabriel",
           "Toledo",
           "FalleN",
           "br",
           "Counter-Strike: Global Offensive",
           "First-Person Shooter"
          ],
          [
           12182,
           "Marcelo",
           "David",
           "coldzera",
           "br",
           "Counter-Strike: Global Offensive",
           "First-Person Shooter"
          ],
          [
           10629,
           "Keith",
           "Markovic",
           "NAF",
           "ca",
           "Counter-Strike: Global Offensive",
           "First-Person Shooter"
          ],
          [
           2452,
           "Finn",
           "Andersen",
           "karrigan",
           "dk",
           "Counter-Strike: Global Offensive",
           "First-Person Shooter"
          ],
          [
           11788,
           "Jonathan",
           "Jablonowski",
           "ELiGE",
           "us",
           "Counter-Strike: Global Offensive",
           "First-Person Shooter"
          ],
          [
           8635,
           "Nick",
           "Cannella",
           "nitr0",
           "us",
           "Counter-Strike: Global Offensive",
           "First-Person Shooter"
          ],
          [
           3875,
           "Jesper",
           "Wecksell",
           "JW",
           "se",
           "Counter-Strike: Global Offensive",
           "First-Person Shooter"
          ],
          [
           5001,
           "Olof",
           "Kajbjer",
           "olofmeister",
           "se",
           "Counter-Strike: Global Offensive",
           "First-Person Shooter"
          ],
          [
           3878,
           "Robin",
           "Rönnquist",
           "flusha",
           "se",
           "Counter-Strike: Global Offensive",
           "First-Person Shooter"
          ],
          [
           5000,
           "Freddy",
           "Johansson",
           "KRiMZ",
           "se",
           "Counter-Strike: Global Offensive",
           "First-Person Shooter"
          ],
          [
           20415,
           "Russel",
           "Van Dulken",
           "Twistzz",
           "ca",
           "Counter-Strike: Global Offensive",
           "First-Person Shooter"
          ],
          [
           3888,
           "Dan",
           "Madesclaire",
           "apEX",
           "fr",
           "Counter-Strike: Global Offensive",
           "First-Person Shooter"
          ],
          [
           3290,
           "Nathan",
           "Schmitt",
           "NBK",
           "fr",
           "Counter-Strike: Global Offensive",
           "First-Person Shooter"
          ],
          [
           3882,
           "Ladislav",
           "Kovács",
           "GuardiaN",
           "sk",
           "Counter-Strike: Global Offensive",
           "First-Person Shooter"
          ],
          [
           10630,
           "Tarik",
           "Celik",
           "tarik",
           "us",
           "Counter-Strike: Global Offensive",
           "First-Person Shooter"
          ],
          [
           5483,
           "Håvard",
           "Nygaard",
           "rain",
           "no",
           "Counter-Strike: Global Offensive",
           "First-Person Shooter"
          ],
          [
           5783,
           "Nikola",
           "Kovač",
           "NiKo",
           "ba",
           "Counter-Strike: Global Offensive",
           "First-Person Shooter"
          ],
          [
           8168,
           "Egor",
           "Vasilyev",
           "flamie",
           "ru",
           "Counter-Strike: Global Offensive",
           "First-Person Shooter"
          ],
          [
           3289,
           "Kenny",
           "Schrub",
           "kennyS",
           "fr",
           "Counter-Strike: Global Offensive",
           "First-Person Shooter"
          ],
          [
           1511,
           "Daniil",
           "Teslenko",
           "Zeus",
           "ua",
           "Counter-Strike: Global Offensive",
           "First-Person Shooter"
          ],
          [
           8169,
           "Alexander",
           "Kostylev",
           "s1mple",
           "ua",
           "Counter-Strike: Global Offensive",
           "First-Person Shooter"
          ],
          [
           3881,
           "Richard",
           "Papillon",
           "shox",
           "fr",
           "Counter-Strike: Global Offensive",
           "First-Person Shooter"
          ],
          [
           4998,
           "Janusz",
           "Pogorzelski",
           "snax",
           "pl",
           "Counter-Strike: Global Offensive",
           "First-Person Shooter"
          ],
          [
           10736,
           "Markus",
           "Kjærbye",
           "Kjaerbye",
           "dk",
           "Counter-Strike: Global Offensive",
           "First-Person Shooter"
          ],
          [
           1510,
           "Ioann",
           "Sukharev",
           "Edward",
           "ua",
           "Counter-Strike: Global Offensive",
           "First-Person Shooter"
          ],
          [
           1485,
           "Filip",
           "Kubski",
           "neo",
           "pl",
           "Counter-Strike: Global Offensive",
           "First-Person Shooter"
          ],
          [
           3951,
           "Chris",
           "de Jong",
           "chrisJ",
           "nl",
           "Counter-Strike: Global Offensive",
           "First-Person Shooter"
          ],
          [
           1484,
           "Wiktor",
           "Wojtas",
           "TaZ",
           "pl",
           "Counter-Strike: Global Offensive",
           "First-Person Shooter"
          ],
          [
           4311,
           "Will",
           "Wierzba",
           "Rush",
           "us",
           "Counter-Strike: Global Offensive",
           "First-Person Shooter"
          ],
          [
           1488,
           "Jarosław",
           "Jarząbkowski",
           "pashaBiceps",
           "pl",
           "Counter-Strike: Global Offensive",
           "First-Person Shooter"
          ],
          [
           4997,
           "Paweł",
           "Bieliński",
           "byali",
           "pl",
           "Counter-Strike: Global Offensive",
           "First-Person Shooter"
          ],
          [
           1490,
           "Patrik",
           "Lindberg",
           "f0rest",
           "se",
           "Counter-Strike: Global Offensive",
           "First-Person Shooter"
          ],
          [
           16267,
           "Denis",
           "Sharipov",
           "electroNic",
           "ru",
           "Counter-Strike: Global Offensive",
           "First-Person Shooter"
          ],
          [
           1492,
           "Christopher",
           "Alesund",
           "GeT_RiGhT",
           "se",
           "Counter-Strike: Global Offensive",
           "First-Person Shooter"
          ],
          [
           2440,
           "Richard",
           "Landström",
           "Xizt",
           "se",
           "Counter-Strike: Global Offensive",
           "First-Person Shooter"
          ],
          [
           31594,
           "Robin",
           "Kool",
           "ropz",
           "ee",
           "Counter-Strike: Global Offensive",
           "First-Person Shooter"
          ],
          [
           3293,
           "Cédric",
           "Guipouy",
           "RpK",
           "fr",
           "Counter-Strike: Global Offensive",
           "First-Person Shooter"
          ],
          [
           3889,
           "Vincent",
           "Schopenhauer",
           "Happy",
           "fr",
           "Counter-Strike: Global Offensive",
           "First-Person Shooter"
          ],
          [
           11483,
           "Peter",
           "Jarguz",
           "stanislaw",
           "ca",
           "Counter-Strike: Global Offensive",
           "First-Person Shooter"
          ],
          [
           12859,
           "Jonas",
           "Olofsson",
           "Lekr0",
           "se",
           "Counter-Strike: Global Offensive",
           "First-Person Shooter"
          ],
          [
           11938,
           "Timothy",
           "Ta",
           "autimatic",
           "us",
           "Counter-Strike: Global Offensive",
           "First-Person Shooter"
          ],
          [
           28556,
           "Maikil",
           "Selim",
           "Golden",
           "se",
           "Counter-Strike: Global Offensive",
           "First-Person Shooter"
          ],
          [
           3752,
           "Tyler",
           "Latham",
           "Skadoodle",
           "us",
           "Counter-Strike: Global Offensive",
           "First-Person Shooter"
          ],
          [
           2450,
           "Aleksi",
           "Jalli",
           "allu",
           "fi",
           "Counter-Strike: Global Offensive",
           "First-Person Shooter"
          ],
          [
           4996,
           "Renè",
           "Borg",
           "cajunb",
           "dk",
           "Counter-Strike: Global Offensive",
           "First-Person Shooter"
          ],
          [
           3676,
           "Dauren",
           "Kystaubayev",
           "AdreN",
           "kz",
           "Counter-Strike: Global Offensive",
           "First-Person Shooter"
          ],
          [
           3287,
           "Adam",
           "Friberg",
           "friberg",
           "se",
           "Counter-Strike: Global Offensive",
           "First-Person Shooter"
          ],
          [
           18811,
           "Kristian",
           "Wienecke",
           "k0nfig",
           "dk",
           "Counter-Strike: Global Offensive",
           "First-Person Shooter"
          ],
          [
           28489,
           "Vincent",
           "Cayonte",
           "Brehze",
           "us",
           "Counter-Strike: Global Offensive",
           "First-Person Shooter"
          ],
          [
           29711,
           "Ethan",
           "Arnold",
           "nahtE",
           "us",
           "Counter-Strike: Global Offensive",
           "First-Person Shooter"
          ],
          [
           2456,
           "Lincoln",
           "Lau",
           "fnx",
           "br",
           "Counter-Strike: Global Offensive",
           "First-Person Shooter"
          ],
          [
           12179,
           "Ricardo",
           "Prass",
           "boltz",
           "br",
           "Counter-Strike: Global Offensive",
           "First-Person Shooter"
          ],
          [
           3998,
           "Fabien",
           "Fiey",
           "KIOSHIMA",
           "fr",
           "Counter-Strike: Global Offensive",
           "First-Person Shooter"
          ],
          [
           30622,
           "Cvetelin",
           "Nikolov",
           "CeRq",
           "bg",
           "Counter-Strike: Global Offensive",
           "First-Person Shooter"
          ],
          [
           2494,
           "Dennis",
           "Edman",
           "dennis",
           "se",
           "Counter-Strike: Global Offensive",
           "First-Person Shooter"
          ],
          [
           3673,
           "Mathias",
           "Lauridsen",
           "MSL",
           "dk",
           "Counter-Strike: Global Offensive",
           "First-Person Shooter"
          ],
          [
           4587,
           "Denis",
           "Kostin",
           "seized",
           "ru",
           "Counter-Strike: Global Offensive",
           "First-Person Shooter"
          ],
          [
           5472,
           "Tomáš",
           "Šťastný",
           "oskar",
           "cz",
           "Counter-Strike: Global Offensive",
           "First-Person Shooter"
          ],
          [
           31001,
           "Mathieu",
           "Herbaut",
           "ZywOo",
           "fr",
           "Counter-Strike: Global Offensive",
           "First-Person Shooter"
          ],
          [
           5035,
           "Philip",
           "Aistrup",
           "aizy",
           "dk",
           "Counter-Strike: Global Offensive",
           "First-Person Shooter"
          ],
          [
           5499,
           "Miikka",
           "Kemppi",
           "suNny",
           "fi",
           "Counter-Strike: Global Offensive",
           "First-Person Shooter"
          ],
          [
           17801,
           "Valdemar",
           "Vangså",
           "Valde",
           "dk",
           "Counter-Strike: Global Offensive",
           "First-Person Shooter"
          ],
          [
           12173,
           "João",
           "Vasconcellos",
           "felps",
           "br",
           "Counter-Strike: Global Offensive",
           "First-Person Shooter"
          ],
          [
           1494,
           "Mikhail",
           "Stolyarov",
           "Dosia",
           "ru",
           "Counter-Strike: Global Offensive",
           "First-Person Shooter"
          ],
          [
           13134,
           "Can",
           "Dörtkardes",
           "XANTARES",
           "tr",
           "Counter-Strike: Global Offensive",
           "First-Person Shooter"
          ],
          [
           9565,
           "Alexandre",
           "Pianaro",
           "bodyy",
           "fr",
           "Counter-Strike: Global Offensive",
           "First-Person Shooter"
          ],
          [
           5433,
           "Martin",
           "Styk",
           "STYKO",
           "sk",
           "Counter-Strike: Global Offensive",
           "First-Person Shooter"
          ],
          [
           19595,
           "Özgür",
           "Eker",
           "woxic",
           "tr",
           "Counter-Strike: Global Offensive",
           "First-Person Shooter"
          ],
          [
           21291,
           "Fredrik",
           "Sterner",
           "REZ",
           "se",
           "Counter-Strike: Global Offensive",
           "First-Person Shooter"
          ],
          [
           20813,
           "Aleksi",
           "Virolainen",
           "Aleksib",
           "fi",
           "Counter-Strike: Global Offensive",
           "First-Person Shooter"
          ],
          [
           39608,
           "Alexey",
           "Golubev",
           "Qikert",
           "kz",
           "Counter-Strike: Global Offensive",
           "First-Person Shooter"
          ],
          [
           10191,
           "Rustem",
           "Tlepov",
           "mou",
           "kz",
           "Counter-Strike: Global Offensive",
           "First-Person Shooter"
          ],
          [
           35378,
           "Timur",
           "Tulepov",
           "Buster",
           "kz",
           "Counter-Strike: Global Offensive",
           "First-Person Shooter"
          ],
          [
           35077,
           "Ali",
           "Dzhami",
           "Jame",
           "ru",
           "Counter-Strike: Global Offensive",
           "First-Person Shooter"
          ],
          [
           2529,
           "Christophe",
           "Xia",
           "SIXER",
           "fr",
           "Counter-Strike: Global Offensive",
           "First-Person Shooter"
          ],
          [
           25121,
           "Abay",
           "Khasenov",
           "HObbit",
           "kz",
           "Counter-Strike: Global Offensive",
           "First-Person Shooter"
          ],
          [
           3291,
           "Edouard",
           "Dubourdeaux",
           "SmithZz",
           "fr",
           "Counter-Strike: Global Offensive",
           "First-Person Shooter"
          ],
          [
           24832,
           "David",
           "Čerňanský",
           "frozen",
           "sk",
           "Counter-Strike: Global Offensive",
           "First-Person Shooter"
          ],
          [
           38456,
           "Valentin",
           "Vasilev",
           "poiz0n",
           "bg",
           "Counter-Strike: Global Offensive",
           "First-Person Shooter"
          ],
          [
           10627,
           "Damian",
           "Steele",
           "daps",
           "ca",
           "Counter-Strike: Global Offensive",
           "First-Person Shooter"
          ],
          [
           3576,
           "Simon",
           "Eliasson",
           "twist",
           "se",
           "Counter-Strike: Global Offensive",
           "First-Person Shooter"
          ],
          [
           12170,
           "Henrique",
           "Teles",
           "hen1",
           "br",
           "Counter-Strike: Global Offensive",
           "First-Person Shooter"
          ],
          [
           3678,
           "Adil",
           "Benrlitom",
           "ScreaM",
           "be",
           "Counter-Strike: Global Offensive",
           "First-Person Shooter"
          ],
          [
           7789,
           "Oscar",
           "Cañellas",
           "mixwell",
           "es",
           "Counter-Strike: Global Offensive",
           "First-Person Shooter"
          ],
          [
           3952,
           "Johannes",
           "Wodarz",
           "tabseN",
           "de",
           "Counter-Strike: Global Offensive",
           "First-Person Shooter"
          ],
          [
           10294,
           "Alex",
           "McMeekin",
           "ALEX",
           "gb",
           "Counter-Strike: Global Offensive",
           "First-Person Shooter"
          ],
          [
           8968,
           "Damian",
           "Kisłowski",
           "Furlan",
           "pl",
           "Counter-Strike: Global Offensive",
           "First-Person Shooter"
          ],
          [
           12156,
           "HaoWen",
           "Xu",
           "somebody",
           "cn",
           "Counter-Strike: Global Offensive",
           "First-Person Shooter"
          ],
          [
           2484,
           "Jordan",
           "Gilbert",
           "n0thing",
           "us",
           "Counter-Strike: Global Offensive",
           "First-Person Shooter"
          ],
          [
           10134,
           "Karol",
           "Rodowicz",
           "rallen",
           "pl",
           "Counter-Strike: Global Offensive",
           "First-Person Shooter"
          ],
          [
           17622,
           "Francois",
           "Delaunay",
           "Amanek",
           "fr",
           "Counter-Strike: Global Offensive",
           "First-Person Shooter"
          ],
          [
           49029,
           "Sanjar",
           "Kuliev",
           "SANJI",
           "uz",
           "Counter-Strike: Global Offensive",
           "First-Person Shooter"
          ],
          [
           32000,
           "Dong Jun",
           "Kim",
           "Rascal",
           "kr",
           "Overwatch",
           "First-Person Shooter"
          ],
          [
           40261,
           "Nam Joo",
           "Kwon",
           "Striker",
           "kr",
           "Overwatch",
           "First-Person Shooter"
          ],
          [
           46828,
           "Myeong Hwan",
           "Yoo",
           "smurf",
           "kr",
           "Overwatch",
           "First-Person Shooter"
          ],
          [
           36883,
           "Hyo Bin",
           "Choi",
           "ChoiHyoBin",
           "kr",
           "Overwatch",
           "First-Person Shooter"
          ],
          [
           35563,
           "Grant",
           "Espe",
           "Moth",
           "us",
           "Overwatch",
           "First-Person Shooter"
          ],
          [
           35121,
           "Matthew",
           "DeLisi",
           "super",
           "us",
           "Overwatch",
           "First-Person Shooter"
          ],
          [
           50319,
           "Min Ki",
           "Park",
           "Viol2t",
           "kr",
           "Overwatch",
           "First-Person Shooter"
          ],
          [
           37635,
           "Jae Hee",
           "Hong",
           "Gesture",
           "kr",
           "Overwatch",
           "First-Person Shooter"
          ],
          [
           37636,
           "Joon Yeong",
           "Park",
           "Profit",
           "kr",
           "Overwatch",
           "First-Person Shooter"
          ],
          [
           35351,
           "Seung Tae",
           "Choi",
           "Bdosin",
           "kr",
           "Overwatch",
           "First-Person Shooter"
          ],
          [
           34117,
           "Joo Seok",
           "Lee",
           "Twilight",
           "kr",
           "Overwatch",
           "First-Person Shooter"
          ],
          [
           37325,
           "Jun Ho",
           "Kim",
           "Fury",
           "kr",
           "Overwatch",
           "First-Person Shooter"
          ],
          [
           34123,
           "Ji Hyuk",
           "Kim",
           "birdring",
           "kr",
           "Overwatch",
           "First-Person Shooter"
          ],
          [
           37332,
           "Won Sik",
           "Jung",
           "Closer",
           "kr",
           "Overwatch",
           "First-Person Shooter"
          ],
          [
           37389,
           "Jong Seok",
           "Kim",
           "NUS",
           "kr",
           "Overwatch",
           "First-Person Shooter"
          ],
          [
           47221,
           "Sung Jun",
           "Kim",
           "SLIME",
           "kr",
           "Overwatch",
           "First-Person Shooter"
          ],
          [
           27366,
           "Andreas",
           "Karlsson",
           "Nevix",
           "se",
           "Overwatch",
           "First-Person Shooter"
          ],
          [
           34133,
           "Jong Yeol",
           "Park",
           "Saebyeolbe",
           "kr",
           "Overwatch",
           "First-Person Shooter"
          ],
          [
           34701,
           "Dong Gyu",
           "Kim",
           "Mano",
           "kr",
           "Overwatch",
           "First-Person Shooter"
          ],
          [
           37385,
           "Hye Sung",
           "Kim",
           "Libero",
           "kr",
           "Overwatch",
           "First-Person Shooter"
          ],
          [
           37501,
           "Choong Hui",
           "Lee",
           "Stitch",
           "kr",
           "Overwatch",
           "First-Person Shooter"
          ],
          [
           34175,
           "Jay",
           "Won",
           "sinatraa",
           "us",
           "Overwatch",
           "First-Person Shooter"
          ],
          [
           39996,
           "Sean",
           "Henderson",
           "ta1yo",
           "jp",
           "Overwatch",
           "First-Person Shooter"
          ],
          [
           42786,
           "Sung Hyeon",
           "Bang",
           "JJoNak",
           "kr",
           "Overwatch",
           "First-Person Shooter"
          ],
          [
           50329,
           "Seon Chang",
           "Lee",
           "ANS",
           "kr",
           "Overwatch",
           "First-Person Shooter"
          ],
          [
           42667,
           "Tae-seong",
           "Jeong",
           "ANAMO",
           "kr",
           "Overwatch",
           "First-Person Shooter"
          ],
          [
           37637,
           "Dong Eun",
           "Lee",
           "Hooreg",
           "kr",
           "Overwatch",
           "First-Person Shooter"
          ],
          [
           40110,
           "Min Ho",
           "Park",
           "Architect",
           "kr",
           "Overwatch",
           "First-Person Shooter"
          ],
          [
           32848,
           "Jin Mo",
           "Yang",
           "tobi",
           "kr",
           "Overwatch",
           "First-Person Shooter"
          ],
          [
           40385,
           "Hyeon Woo",
           "Choi",
           "JJANU",
           "kr",
           "Overwatch",
           "First-Person Shooter"
          ],
          [
           34159,
           "Hyo Jong",
           "Kim",
           "Haksal",
           "kr",
           "Overwatch",
           "First-Person Shooter"
          ],
          [
           34132,
           "Tae Hong",
           "Kim",
           "Mek0",
           "kr",
           "Overwatch",
           "First-Person Shooter"
          ],
          [
           32172,
           "Do Hyun",
           "Kim",
           "pine",
           "kr",
           "Overwatch",
           "First-Person Shooter"
          ],
          [
           37341,
           "Min-hyuk",
           "Choi",
           "Michelle",
           "kr",
           "Overwatch",
           "First-Person Shooter"
          ],
          [
           37502,
           "Sang Beom",
           "Park",
           "BUMPER",
           "kr",
           "Overwatch",
           "First-Person Shooter"
          ],
          [
           36891,
           "Yeon Joon",
           "Hong",
           "ArK",
           "kr",
           "Overwatch",
           "First-Person Shooter"
          ],
          [
           42796,
           "Min Seo",
           "Hwang",
           "Marve1",
           "kr",
           "Overwatch",
           "First-Person Shooter"
          ],
          [
           40107,
           "Jun Woo",
           "Kang",
           "Void",
           "kr",
           "Overwatch",
           "First-Person Shooter"
          ],
          [
           50327,
           "Jae Min",
           "Park",
           "ILLICIT",
           "kr",
           "Overwatch",
           "First-Person Shooter"
          ],
          [
           42942,
           "Min Soo",
           "Seo",
           "SeoMinSoo",
           "kr",
           "Overwatch",
           "First-Person Shooter"
          ],
          [
           57262,
           "Dong Eon",
           "Kim",
           "Fits",
           "kr",
           "Overwatch",
           "First-Person Shooter"
          ],
          [
           42891,
           "Jun Geun",
           "Kim",
           "Rapel",
           "kr",
           "Overwatch",
           "First-Person Shooter"
          ],
          [
           11233,
           "Isaac",
           "Charles",
           "Boombox",
           "gb",
           "Overwatch",
           "First-Person Shooter"
          ],
          [
           44173,
           "Daniel",
           "Hathaway",
           "FunnyAstro",
           "gb",
           "Overwatch",
           "First-Person Shooter"
          ],
          [
           37331,
           "Min Seong",
           "Bae",
           "diem",
           "kr",
           "Overwatch",
           "First-Person Shooter"
          ],
          [
           39790,
           "Yeon Kwan",
           "Jeong",
           "Nenne",
           "kr",
           "Overwatch",
           "First-Person Shooter"
          ],
          [
           37497,
           "Jae Hyeok",
           "Lee",
           "Carpe",
           "kr",
           "Overwatch",
           "First-Person Shooter"
          ],
          [
           47237,
           "Young Wan",
           "Kim",
           "Creative",
           "kr",
           "Overwatch",
           "First-Person Shooter"
          ],
          [
           34401,
           "Gael",
           "Gouzerch",
           "Poko",
           "fr",
           "Overwatch",
           "First-Person Shooter"
          ],
          [
           4742,
           "Terence",
           "Tarlier",
           "SoOn",
           "fr",
           "Overwatch",
           "First-Person Shooter"
          ],
          [
           37322,
           "Jang Hyeon",
           "Hwang",
           "TiZi",
           "kr",
           "Overwatch",
           "First-Person Shooter"
          ],
          [
           34131,
           "Joong Hwa",
           "Song",
           "janus",
           "kr",
           "Overwatch",
           "First-Person Shooter"
          ],
          [
           37493,
           "Byeong Seon",
           "Kim",
           "Fleta",
           "kr",
           "Overwatch",
           "First-Person Shooter"
          ],
          [
           32847,
           "Je Hong",
           "Ryu",
           "Ryujehong",
           "kr",
           "Overwatch",
           "First-Person Shooter"
          ],
          [
           32430,
           "Weida",
           "Lu",
           "Diya",
           "cn",
           "Overwatch",
           "First-Person Shooter"
          ],
          [
           40620,
           "Josh",
           "Corona",
           "Eqo",
           "il",
           "Overwatch",
           "First-Person Shooter"
          ],
          [
           32174,
           "Yeon Oh",
           "Hwang",
           "Fl0w3R",
           "kr",
           "Overwatch",
           "First-Person Shooter"
          ],
          [
           27821,
           "Lane",
           "Roberts",
           "Surefour",
           "ca",
           "Overwatch",
           "First-Person Shooter"
          ],
          [
           50325,
           "Min Chul",
           "Kim",
           "Izayaki",
           "kr",
           "Overwatch",
           "First-Person Shooter"
          ],
          [
           43167,
           "Su Min",
           "Kim",
           "SADO",
           "kr",
           "Overwatch",
           "First-Person Shooter"
          ],
          [
           37996,
           "Simon",
           "Ekström",
           "snillo",
           "se",
           "Overwatch",
           "First-Person Shooter"
          ],
          [
           34712,
           "Seong Hyeon",
           "Yang",
           "Luffy",
           "kr",
           "Overwatch",
           "First-Person Shooter"
          ],
          [
           42669,
           "Min Seok",
           "Kwon",
           "AimGod",
           "kr",
           "Overwatch",
           "First-Person Shooter"
          ],
          [
           36889,
           "Chang Hoon",
           "Gye",
           "r0ar",
           "kr",
           "Overwatch",
           "First-Person Shooter"
          ],
          [
           40108,
           "Gui Un",
           "Jang",
           "Decay",
           "kr",
           "Overwatch",
           "First-Person Shooter"
          ],
          [
           31919,
           "Jonas",
           "Suovaara",
           "Shaz",
           "fi",
           "Overwatch",
           "First-Person Shooter"
          ],
          [
           36781,
           "Benjamin",
           "Isohanni",
           "BigG00se",
           "fi",
           "Overwatch",
           "First-Person Shooter"
          ],
          [
           36791,
           "Seung Joon",
           "Lee",
           "Whoru",
           "kr",
           "Overwatch",
           "First-Person Shooter"
          ],
          [
           35349,
           "Jin Hyeok",
           "Yang",
           "DDing",
           "kr",
           "Overwatch",
           "First-Person Shooter"
          ],
          [
           55703,
           "Jae Gon",
           "Lee",
           "LeeJaeGon",
           "kr",
           "Overwatch",
           "First-Person Shooter"
          ],
          [
           34118,
           "Kyung Ho",
           "Kim",
           "Alarm",
           "kr",
           "Overwatch",
           "First-Person Shooter"
          ],
          [
           33998,
           "Joon Hyuk",
           "Kim",
           "zunba",
           "kr",
           "Overwatch",
           "First-Person Shooter"
          ],
          [
           31156,
           "Se Yeon",
           "Kim",
           "Geguri",
           "kr",
           "Overwatch",
           "First-Person Shooter"
          ],
          [
           10750,
           "Joona",
           "Laine",
           "fragi",
           "fi",
           "Overwatch",
           "First-Person Shooter"
          ],
          [
           47123,
           "Blake",
           "Scott",
           "Gator",
           "us",
           "Overwatch",
           "First-Person Shooter"
          ],
          [
           39792,
           "Hong Joon",
           "Choi",
           "HOTBA",
           "kr",
           "Overwatch",
           "First-Person Shooter"
          ],
          [
           5238,
           "Alberto",
           "Gonzales Molinillo",
           "neptuNo",
           "es",
           "Overwatch",
           "First-Person Shooter"
          ],
          [
           36884,
           "Da Un",
           "Jeong",
           "NoSmite",
           "kr",
           "Overwatch",
           "First-Person Shooter"
          ],
          [
           11780,
           "Seb",
           "Barton",
           "numlocked",
           "gb",
           "Overwatch",
           "First-Person Shooter"
          ],
          [
           37395,
           "Joon",
           "Jeong",
           "Erster",
           "kr",
           "Overwatch",
           "First-Person Shooter"
          ],
          [
           52500,
           "Hee Su",
           "Jeong",
           "Heesu",
           "kr",
           "Overwatch",
           "First-Person Shooter"
          ],
          [
           21798,
           "George",
           "Gushcha",
           "ShaDowBurn",
           "ru",
           "Overwatch",
           "First-Person Shooter"
          ],
          [
           32098,
           "Brady",
           "Girardi",
           "Agilities",
           "ca",
           "Overwatch",
           "First-Person Shooter"
          ],
          [
           38995,
           "Ho Jin",
           "Park",
           "IDK",
           "kr",
           "Overwatch",
           "First-Person Shooter"
          ],
          [
           35356,
           "João Pedro",
           "Telles",
           "Hydration",
           "br",
           "Overwatch",
           "First-Person Shooter"
          ],
          [
           13853,
           "Ji Won",
           "Seo",
           "Stand1",
           "kr",
           "Overwatch",
           "First-Person Shooter"
          ],
          [
           27563,
           "Timo",
           "Kettunen",
           "Taimou",
           "fi",
           "Overwatch",
           "First-Person Shooter"
          ],
          [
           42209,
           "Xu",
           "Qiulin",
           "guxue",
           "cn",
           "Overwatch",
           "First-Person Shooter"
          ],
          [
           27565,
           "Jonathan",
           "Rua",
           "HarryHook",
           "es",
           "Overwatch",
           "First-Person Shooter"
          ],
          [
           2339,
           "Sebastian",
           "Widlund",
           "chipshajen",
           "se",
           "Overwatch",
           "First-Person Shooter"
          ],
          [
           29757,
           "Joe",
           "Gramano",
           "Joemeister",
           "ca",
           "Overwatch",
           "First-Person Shooter"
          ],
          [
           37330,
           "Pan Seung",
           "Koo",
           "FaTe",
           "kr",
           "Overwatch",
           "First-Person Shooter"
          ],
          [
           36795,
           "Indy",
           "Halpern",
           "SPACE",
           "us",
           "Overwatch",
           "First-Person Shooter"
          ],
          [
           3482,
           "Dylan",
           "Bignet",
           "aKm",
           "fr",
           "Overwatch",
           "First-Person Shooter"
          ],
          [
           4747,
           "Benjamin",
           "Chevasson",
           "unKOE",
           "fr",
           "Overwatch",
           "First-Person Shooter"
          ],
          [
           37638,
           "Hyeon Woo",
           "Jo",
           "HagoPeun",
           "kr",
           "Overwatch",
           "First-Person Shooter"
          ],
          [
           42893,
           "Eui Seok",
           "Lee",
           "Fearless",
           "kr",
           "Overwatch",
           "First-Person Shooter"
          ],
          [
           34125,
           "Byung Ho",
           "Lee",
           "Panker",
           "kr",
           "Overwatch",
           "First-Person Shooter"
          ],
          [
           28443,
           "Scott",
           "Kennedy",
           "Custa",
           "au",
           "Overwatch",
           "First-Person Shooter"
          ],
          [
           36882,
           "Kyeon Bo",
           "Kim",
           "GodsB",
           "kr",
           "Overwatch",
           "First-Person Shooter"
          ]
         ],
         "hovertemplate": "Genre=%{customdata[6]}<br>TotalUSDPrize=%{x}<br>PlayerId=%{customdata[0]}<br>NameFirst=%{customdata[1]}<br>NameLast=%{customdata[2]}<br>CurrentHandle=%{customdata[3]}<br>CountryCode=%{customdata[4]}<br>Game=%{customdata[5]}<extra></extra>",
         "legendgroup": "First-Person Shooter",
         "marker": {
          "color": "#636efa"
         },
         "name": "First-Person Shooter",
         "notched": true,
         "offsetgroup": "First-Person Shooter",
         "showlegend": false,
         "type": "box",
         "x": [
          1822989.41,
          1799288.57,
          1787489.88,
          1652350.75,
          1416448.64,
          1087340,
          1063858.27,
          1063038.92,
          1059938.92,
          1021901.46,
          982765.66,
          964635.39,
          930696.42,
          920151.73,
          897760.68,
          880011.52,
          877668.95,
          867823.34,
          835376.43,
          814852.39,
          805444.66,
          798520.8,
          780039.21,
          763799.57,
          762802.56,
          732920.07,
          713086.68,
          689568.7,
          677155.31,
          660640.55,
          653938.44,
          617000.5,
          613854.6,
          606880.52,
          596748.79,
          591510.89,
          586616,
          577382.35,
          574103.56,
          547205.97,
          531541.99,
          517888.39,
          513805.74,
          506010.74,
          498887.62,
          485910.46,
          481487.38,
          464499.26,
          449799.56,
          448642.48,
          437479.98,
          418492.59,
          417465.86,
          414305.65,
          407662.41,
          403005.81,
          391973.94,
          389680.38,
          387551.81,
          382208.97,
          378500.99,
          375765.04,
          361678.02,
          349557.33,
          339091.34,
          335508.19,
          333711.15,
          332671.67,
          326080,
          323423.04,
          323127.22,
          307601.25,
          307129.97,
          306178.43,
          305655.12,
          302884.33,
          284845.29,
          276730.92,
          275404.13,
          273859.49,
          273784.13,
          273117.72,
          272602,
          269977.5,
          269446.78,
          265131.4,
          260987.54,
          260797.63,
          260721.09,
          256374.45,
          249663.46,
          247538.65,
          247248.57,
          245208.72,
          244070.27,
          242273.51,
          239956.42,
          234332.17,
          233210.47,
          232167.42,
          331108.68,
          327424.24,
          322184.16,
          319657.2,
          314548.25,
          312948.02,
          308901.19,
          297730.97,
          297730.97,
          272689.65,
          267391.59,
          222400.43,
          208453.84,
          197480.74,
          188479.09,
          186382.3,
          180755.36,
          176385.68,
          168959.28,
          167420.62,
          164396.18,
          164363.81,
          164025.25,
          163336.4,
          159911.85,
          159757.11,
          157907.63,
          157289.9,
          157268.25,
          156207.98,
          151472.42,
          149547.3,
          138012.28,
          131615.34,
          128681.89,
          113666.44,
          111871.29,
          110435.01,
          108240.14,
          107535.84,
          104737.26,
          104074.27,
          98285.03,
          96906.13,
          94244.74,
          91413.27,
          91158.55,
          90485.05,
          90439.44,
          90428.77,
          88443.76,
          86293.32,
          86277.6,
          85804.45,
          83845.32,
          83532.82,
          83235.77,
          82724.04,
          82630.1,
          82032.82,
          81812.25,
          81363.59,
          78260.01,
          78144.21,
          77756.89,
          77723.5,
          77014.11,
          75756.09,
          74902.37,
          74175.89,
          73478.37,
          72886.36,
          70298.68,
          70255.34,
          69918.09,
          68984.11,
          67619.01,
          67246.48,
          66306.23,
          66165.46,
          64783.08,
          63953.84,
          62069.85,
          61950.86,
          61460.24,
          61459.02,
          61027.02,
          59154.54,
          58718.69,
          56549.85,
          55676.28,
          55538.23,
          55453.17,
          54391.23,
          54391.23,
          54290.66,
          54215.94,
          54037.27,
          53759.68,
          53293.7
         ],
         "xaxis": "x2",
         "yaxis": "y2"
        },
        {
         "alignmentgroup": "True",
         "bingroup": "x",
         "hovertemplate": "Genre=Multiplayer Online Battle Arena<br>TotalUSDPrize=%{x}<br>count=%{y}<extra></extra>",
         "legendgroup": "Multiplayer Online Battle Arena",
         "marker": {
          "color": "#EF553B",
          "pattern": {
           "shape": ""
          }
         },
         "name": "Multiplayer Online Battle Arena",
         "offsetgroup": "Multiplayer Online Battle Arena",
         "orientation": "v",
         "showlegend": true,
         "type": "histogram",
         "x": [
          6952596.58,
          6470000.02,
          6000411.96,
          5554297.41,
          5470902.57,
          5193382.81,
          4798043.68,
          4579118.16,
          4193412.69,
          3765369.04,
          3608317.34,
          3057237.67,
          2995619.62,
          2984982.14,
          2894690.34,
          2864004.17,
          2551657.34,
          2545626.14,
          2504134.31,
          2381155.91,
          2275625.58,
          2257053.21,
          2244012.27,
          2097095.28,
          2078534.86,
          2007841.6,
          2006311.11,
          2002159.51,
          1982225.7,
          1960956.47,
          1882492.98,
          1848849.88,
          1830094.33,
          1809225.3,
          1787796.92,
          1787083.53,
          1781891.47,
          1778125.61,
          1755205.74,
          1745944.26,
          1713179.57,
          1617323.45,
          1598492.49,
          1553261.96,
          1533698.67,
          1484921.92,
          1460470.75,
          1402208.92,
          1386339.43,
          1348804.67,
          1337308.37,
          1325834.13,
          1314968.82,
          1272450.74,
          1271085,
          1221917.1,
          1212757.14,
          1211710.47,
          1202225.88,
          1186002.61,
          1100271.44,
          1081544.74,
          1046689.75,
          1023582.18,
          1001723.8,
          989390.86,
          987072.69,
          933853.71,
          917449.86,
          871452.21,
          865656.21,
          845345.4,
          830696.89,
          822916.86,
          821961.68,
          813169.73,
          801915.23,
          798597.31,
          781396.55,
          780761.31,
          770563.75,
          734369.52,
          714049.53,
          710464.63,
          705536.2,
          698363.52,
          692327.42,
          679039.12,
          661271.48,
          653514.33,
          643143.08,
          641178.98,
          638938.79,
          609393.1,
          602221.88,
          601854.15,
          594922.51,
          591322.79,
          591271.39,
          591176.77,
          1257615.87,
          954620.62,
          915451.46,
          913084.7,
          810683,
          682248.64,
          610445.7,
          566607.87,
          559518.75,
          556087.84,
          553234.2,
          548235.82,
          545447.56,
          538926.12,
          538444.86,
          533979.52,
          526957.64,
          515306.14,
          507800.58,
          488379.08,
          483747.81,
          479060.15,
          472216.01,
          471280.47,
          471086.78,
          458259.05,
          440580.94,
          438830.14,
          422314.79,
          409144.64,
          403320.75,
          379664.5,
          374778.08,
          360201.28,
          348691.73,
          347699.25,
          346307.48,
          337832.12,
          337163.36,
          336306.24,
          330849.29,
          329318.02,
          325910.24,
          318379.81,
          313654.08,
          306475.81,
          300818.81,
          287279.5,
          286115.32,
          282456.48,
          281150.19,
          271901.75,
          268282.03,
          267646.88,
          266509.03,
          265601.98,
          265429.15,
          265283.06,
          260755.41,
          260170.9,
          257257.41,
          256771.39,
          252718.89,
          250580.01,
          250222.7,
          249497.86,
          242290.45,
          240437.63,
          232418.28,
          229438.65,
          225522.01,
          224722.01,
          220292.5,
          219660.3,
          217429.72,
          216539.83,
          206587.79,
          198089.09,
          191889.12,
          189265.81,
          185512.99,
          184100.69,
          183976.33,
          182877.42,
          182066.13,
          180858.29,
          177780.23,
          177478.08,
          177331.43,
          176983.88,
          174361.72,
          173098.69,
          170911.34,
          170679.58,
          166127.4,
          165169.85,
          164821.18,
          161938.75,
          160818.8,
          159402.36,
          464560.82,
          462790.78,
          427923.28,
          360093.52,
          353715.98,
          264826.14,
          239311.62,
          238798.57,
          229170.87,
          211104.46,
          200447.42,
          191647.23,
          187978.31,
          184790.78,
          184411.26,
          180964.31,
          164811.62,
          156959.11,
          151828.25,
          149291.76,
          147500,
          146932.17,
          145068.51,
          138297.16,
          138237.16,
          134818.57,
          128659.74,
          123398.02,
          122420.01,
          120263.57,
          114751.8,
          114207.06,
          112337.16,
          112170.41,
          110050.76,
          109714.8,
          106462.18,
          106288.65,
          105541.2,
          103282.92,
          102971.54,
          97856.2,
          97833.37,
          94813.8,
          93149.29,
          93131.84,
          92591.2,
          92397.81,
          90136.72,
          89529.34,
          89214.8,
          88040.91,
          87834.52,
          86588.9,
          85836.53,
          85535.96,
          84500,
          83962.45,
          80661.2,
          79790.68,
          77997.16,
          76798.88,
          75978.57,
          75648.35,
          75380.4,
          73817.6,
          73072.6,
          72193.01,
          70434.23,
          69829.77,
          69791.28,
          67862.48,
          67720,
          66663.8,
          65965.06,
          65525.96,
          65516.28,
          64763.4,
          64763.4,
          64742.6,
          64742.6,
          64112.6,
          63634.48,
          63405.8,
          60952.31,
          60502.6,
          58569.42,
          57792,
          57228,
          57198.2,
          56726.85,
          55970.05,
          53541,
          52978.13,
          51663.14,
          51636.85,
          51453.4,
          50572.68,
          50549.34,
          50545.96,
          465685.85,
          416162.04,
          399019.18,
          399019.18,
          399019.18,
          152734.63,
          143598.03,
          135749.99,
          133558.02,
          133558.02,
          133380.96,
          131670.38,
          131425.77,
          125644.94,
          122860.21,
          122693.28,
          122650.01,
          118657.27,
          117894.7,
          115644.94,
          113262.7,
          111710.36,
          111582.45,
          110644.94,
          110644.94,
          108311.67,
          98723.19,
          90798.66,
          89669.63,
          86881.37,
          86666.67,
          74492.23,
          71604.67,
          66666.67,
          65922.73,
          65922.73,
          65922.73,
          65922.73,
          65922.73,
          65922.73,
          65922.73,
          65922.73,
          65922.73,
          65922.73,
          65922.73,
          61228.35,
          58200.95,
          58160.23,
          58160.23,
          58160.23,
          58160.23,
          58160.23,
          57378.78,
          56270.18,
          55685.67,
          54159.21,
          54156.23,
          52118.54,
          51203.24,
          47549.95,
          46891.35,
          46641.1,
          46258.63,
          45995.54,
          44916.44,
          44591.96,
          43264.58,
          42482.43,
          42482.43,
          42482.43,
          42482.43,
          42482.43,
          41144.36,
          40376.87,
          38892.33,
          36171.67,
          36171.67,
          36171.67,
          36171.67,
          35049.38,
          34811.67,
          34190.6,
          33892.33,
          33892.33,
          33333.33,
          31489.38,
          31489.38,
          29676,
          28860,
          28816,
          28083.35,
          27580.07,
          27074.4,
          26695.5,
          26666.67,
          26666.67,
          26666.67,
          26645,
          25941.03,
          24171.67
         ],
         "xaxis": "x",
         "yaxis": "y"
        },
        {
         "alignmentgroup": "True",
         "customdata": [
          [
           3304,
           "Johan",
           "Sundstein",
           "N0tail",
           "dk",
           "Dota 2",
           "Multiplayer Online Battle Arena"
          ],
          [
           3822,
           "Jesse",
           "Vainikka",
           "JerAx",
           "fi",
           "Dota 2",
           "Multiplayer Online Battle Arena"
          ],
          [
           30451,
           "Anathan",
           "Pham",
           "ana",
           "au",
           "Dota 2",
           "Multiplayer Online Battle Arena"
          ],
          [
           2811,
           "Sébastien",
           "Debs",
           "Ceb",
           "fr",
           "Dota 2",
           "Multiplayer Online Battle Arena"
          ],
          [
           18897,
           "Topias",
           "Taavitsainen",
           "Topson",
           "fi",
           "Dota 2",
           "Multiplayer Online Battle Arena"
          ],
          [
           3145,
           "Kuro",
           "Takhasomi",
           "KuroKy",
           "de",
           "Dota 2",
           "Multiplayer Online Battle Arena"
          ],
          [
           14671,
           "Amer",
           "Al-Barkawi",
           "Miracle-",
           "jo",
           "Dota 2",
           "Multiplayer Online Battle Arena"
          ],
          [
           12579,
           "Ivan",
           "Ivanov",
           "MinD_ContRoL",
           "bg",
           "Dota 2",
           "Multiplayer Online Battle Arena"
          ],
          [
           25335,
           "Maroun",
           "Merhej",
           "GH",
           "lb",
           "Dota 2",
           "Multiplayer Online Battle Arena"
          ],
          [
           12133,
           "Lasse",
           "Urpalainen",
           "Matumbaman",
           "fi",
           "Dota 2",
           "Multiplayer Online Battle Arena"
          ],
          [
           14196,
           "Sumail",
           "Hassan",
           "SumaiL",
           "pk",
           "Dota 2",
           "Multiplayer Online Battle Arena"
          ],
          [
           2615,
           "Saahil",
           "Arora",
           "UNiVeRsE",
           "us",
           "Dota 2",
           "Multiplayer Online Battle Arena"
          ],
          [
           5194,
           "Peter",
           "Dager",
           "ppd",
           "us",
           "Dota 2",
           "Multiplayer Online Battle Arena"
          ],
          [
           10188,
           "Lu",
           "Yao",
           "Somnus丶M",
           "cn",
           "Dota 2",
           "Multiplayer Online Battle Arena"
          ],
          [
           4033,
           "Linsen",
           "Xu",
           "fy",
           "cn",
           "Dota 2",
           "Multiplayer Online Battle Arena"
          ],
          [
           2578,
           "Clement",
           "Ivanov",
           "Puppey",
           "ee",
           "Dota 2",
           "Multiplayer Online Battle Arena"
          ],
          [
           2610,
           "Clinton",
           "Loomis",
           "Fear",
           "us",
           "Dota 2",
           "Multiplayer Online Battle Arena"
          ],
          [
           3524,
           "Gustav",
           "Magnusson",
           "s4",
           "se",
           "Dota 2",
           "Multiplayer Online Battle Arena"
          ],
          [
           5195,
           "Ludwig",
           "Wåhlberg",
           "Zai",
           "se",
           "Dota 2",
           "Multiplayer Online Battle Arena"
          ],
          [
           3305,
           "Tal",
           "Aizik",
           "Fly",
           "il",
           "Dota 2",
           "Multiplayer Online Battle Arena"
          ],
          [
           13080,
           "Aliwi",
           "Omar",
           "w33",
           "ro",
           "Dota 2",
           "Multiplayer Online Battle Arena"
          ],
          [
           4028,
           "Artour",
           "Babaev",
           "Arteezy",
           "ca",
           "Dota 2",
           "Multiplayer Online Battle Arena"
          ],
          [
           26665,
           "Chunyu",
           "Wang",
           "Ame",
           "cn",
           "Dota 2",
           "Multiplayer Online Battle Arena"
          ],
          [
           10712,
           "Zhang",
           "Yiping",
           "y`",
           "cn",
           "Dota 2",
           "Multiplayer Online Battle Arena"
          ],
          [
           26513,
           "Zhang",
           "Ruida",
           "Faith_bian",
           "cn",
           "Dota 2",
           "Multiplayer Online Battle Arena"
          ],
          [
           9515,
           "Andreas",
           "Nielsen",
           "Cr1t",
           "dk",
           "Dota 2",
           "Multiplayer Online Battle Arena"
          ],
          [
           3256,
           "Kurtis",
           "Ling",
           "Aui_2000",
           "ca",
           "Dota 2",
           "Multiplayer Online Battle Arena"
          ],
          [
           14238,
           "Peng",
           "Li",
           "iceice",
           "cn",
           "Dota 2",
           "Multiplayer Online Battle Arena"
          ],
          [
           26512,
           "Chu",
           "Zeyu",
           "Shadow",
           "cn",
           "Dota 2",
           "Multiplayer Online Battle Arena"
          ],
          [
           10711,
           "Zhou",
           "Yang",
           "bLink",
           "cn",
           "Dota 2",
           "Multiplayer Online Battle Arena"
          ],
          [
           22207,
           "Jianwei",
           "Yap",
           "xNova",
           "my",
           "Dota 2",
           "Multiplayer Online Battle Arena"
          ],
          [
           33561,
           "Shenyi",
           "Yang",
           "Chalice",
           "cn",
           "Dota 2",
           "Multiplayer Online Battle Arena"
          ],
          [
           2596,
           "Ning",
           "Zhang",
           "xiao8",
           "cn",
           "Dota 2",
           "Multiplayer Online Battle Arena"
          ],
          [
           15530,
           "Damien",
           "Chok",
           "kpii",
           "au",
           "Dota 2",
           "Multiplayer Online Battle Arena"
          ],
          [
           16814,
           "Roman",
           "Kushnarev",
           "RAMZES666",
           "ru",
           "Dota 2",
           "Multiplayer Online Battle Arena"
          ],
          [
           10080,
           "Liangzhi",
           "Hu",
           "KaKa",
           "cn",
           "Dota 2",
           "Multiplayer Online Battle Arena"
          ],
          [
           27134,
           "Yeik Nai",
           "Zheng",
           "MidOne",
           "my",
           "Dota 2",
           "Multiplayer Online Battle Arena"
          ],
          [
           3773,
           "Alexei",
           "Berezin",
           "Solo",
           "ru",
           "Dota 2",
           "Multiplayer Online Battle Arena"
          ],
          [
           3146,
           "Zhihao",
           "Chen",
           "Hao",
           "cn",
           "Dota 2",
           "Multiplayer Online Battle Arena"
          ],
          [
           3168,
           "Hongda",
           "Zeng",
           "Faith",
           "cn",
           "Dota 2",
           "Multiplayer Online Battle Arena"
          ],
          [
           13322,
           "Pavel",
           "Khvastunov",
           "9pasha",
           "ru",
           "Dota 2",
           "Multiplayer Online Battle Arena"
          ],
          [
           13323,
           "Vladimir",
           "Minenko",
           "Noone",
           "ua",
           "Dota 2",
           "Multiplayer Online Battle Arena"
          ],
          [
           3161,
           "Junhao",
           "Xie",
           "Super",
           "cn",
           "Dota 2",
           "Multiplayer Online Battle Arena"
          ],
          [
           1949,
           "Daryl Pei Xiang",
           "Koh",
           "iceiceice",
           "sg",
           "Dota 2",
           "Multiplayer Online Battle Arena"
          ],
          [
           14672,
           "Yazied",
           "Jaradat",
           "YapzOr",
           "jo",
           "Dota 2",
           "Multiplayer Online Battle Arena"
          ],
          [
           2589,
           "Rasmus",
           "Fillipsen",
           "MiSeRy",
           "dk",
           "Dota 2",
           "Multiplayer Online Battle Arena"
          ],
          [
           3946,
           "Roman",
           "Fominok",
           "Resolut1on",
           "ua",
           "Dota 2",
           "Multiplayer Online Battle Arena"
          ],
          [
           4030,
           "Chao",
           "Lu",
           "Fenrir",
           "cn",
           "Dota 2",
           "Multiplayer Online Battle Arena"
          ],
          [
           3147,
           "Pan",
           "Zhang",
           "Mu",
           "cn",
           "Dota 2",
           "Multiplayer Online Battle Arena"
          ],
          [
           2582,
           "Zhicheng",
           "Zhang",
           "LaNm",
           "cn",
           "Dota 2",
           "Multiplayer Online Battle Arena"
          ],
          [
           2598,
           "Fa Ming",
           "Liang",
           "DDC",
           "mo",
           "Dota 2",
           "Multiplayer Online Battle Arena"
          ],
          [
           28142,
           "Vladimir",
           "Nikogosyan",
           "RodjER",
           "ru",
           "Dota 2",
           "Multiplayer Online Battle Arena"
          ],
          [
           3690,
           "Adrian",
           "Trinks",
           "FATA",
           "de",
           "Dota 2",
           "Multiplayer Online Battle Arena"
          ],
          [
           19382,
           "Chun",
           "Song",
           "Sccc",
           "cn",
           "Dota 2",
           "Multiplayer Online Battle Arena"
          ],
          [
           3813,
           "Wang",
           "Jiao",
           "Banana",
           "cn",
           "Dota 2",
           "Multiplayer Online Battle Arena"
          ],
          [
           10722,
           "Xu",
           "Han",
           "Moogy",
           "cn",
           "Dota 2",
           "Multiplayer Online Battle Arena"
          ],
          [
           3163,
           "Jiajun",
           "Liu",
           "Sylar",
           "cn",
           "Dota 2",
           "Multiplayer Online Battle Arena"
          ],
          [
           21950,
           "Ren",
           "Yangwei",
           "eLeVeN",
           "cn",
           "Dota 2",
           "Multiplayer Online Battle Arena"
          ],
          [
           2594,
           "Zhaohui",
           "Wang",
           "SanSheng",
           "cn",
           "Dota 2",
           "Multiplayer Online Battle Arena"
          ],
          [
           3164,
           "Zhengzheng",
           "Yao",
           "Yao",
           "cn",
           "Dota 2",
           "Multiplayer Online Battle Arena"
          ],
          [
           2581,
           "Zengrong",
           "Lei",
           "MMY!",
           "cn",
           "Dota 2",
           "Multiplayer Online Battle Arena"
          ],
          [
           12671,
           "Bin",
           "Fu",
           "Q",
           "cn",
           "Dota 2",
           "Multiplayer Online Battle Arena"
          ],
          [
           19074,
           "Martin",
           "Sazdov",
           "Saksa",
           "mk",
           "Dota 2",
           "Multiplayer Online Battle Arena"
          ],
          [
           3151,
           "Yee Fung",
           "Chai",
           "Mushi",
           "my",
           "Dota 2",
           "Multiplayer Online Battle Arena"
          ],
          [
           30684,
           "Chengjun",
           "Zhang",
           "Paparazi",
           "cn",
           "Dota 2",
           "Multiplayer Online Battle Arena"
          ],
          [
           4027,
           "Johan",
           "Åström",
           "pieliedie",
           "se",
           "Dota 2",
           "Multiplayer Online Battle Arena"
          ],
          [
           3522,
           "Jacky",
           "Mao",
           "EternaLEnVy",
           "ca",
           "Dota 2",
           "Multiplayer Online Battle Arena"
          ],
          [
           17765,
           "Michał",
           "Jankowski",
           "Nisha",
           "pl",
           "Dota 2",
           "Multiplayer Online Battle Arena"
          ],
          [
           11722,
           "Ilya",
           "Ilyuk",
           "Lil",
           "ua",
           "Dota 2",
           "Multiplayer Online Battle Arena"
          ],
          [
           12672,
           "Zheng",
           "Sun",
           "Agressif",
           "cn",
           "Dota 2",
           "Multiplayer Online Battle Arena"
          ],
          [
           3157,
           "Zhilei",
           "Xu",
           "BurNIng",
           "cn",
           "Dota 2",
           "Multiplayer Online Battle Arena"
          ],
          [
           9839,
           "David",
           "Tan",
           "MoonMeander",
           "ca",
           "Dota 2",
           "Multiplayer Online Battle Arena"
          ],
          [
           28739,
           "Jiaoyang",
           "Zeng",
           "Ori",
           "cn",
           "Dota 2",
           "Multiplayer Online Battle Arena"
          ],
          [
           18220,
           "David",
           "Hull",
           "Moo",
           "us",
           "Dota 2",
           "Multiplayer Online Battle Arena"
          ],
          [
           17872,
           "Haiyang",
           "Zhou",
           "Yang",
           "cn",
           "Dota 2",
           "Multiplayer Online Battle Arena"
          ],
          [
           30452,
           "Peng",
           "Du",
           "Monet",
           "cn",
           "Dota 2",
           "Multiplayer Online Battle Arena"
          ],
          [
           2574,
           "Danil",
           "Ishutin",
           "Dendi",
           "ua",
           "Dota 2",
           "Multiplayer Online Battle Arena"
          ],
          [
           5221,
           "Djardel Jicko",
           "Mampusti",
           "DJ",
           "ph",
           "Dota 2",
           "Multiplayer Online Battle Arena"
          ],
          [
           12784,
           "Tue Soon",
           "Chuan",
           "Ah-fu",
           "my",
           "Dota 2",
           "Multiplayer Online Battle Arena"
          ],
          [
           3160,
           "Fan",
           "Bai",
           "rOtK",
           "cn",
           "Dota 2",
           "Multiplayer Online Battle Arena"
          ],
          [
           30782,
           "Timothy",
           "Randrup",
           "Tims",
           "ph",
           "Dota 2",
           "Multiplayer Online Battle Arena"
          ],
          [
           9514,
           "Marcus",
           "Hoelgaard",
           "Ace",
           "dk",
           "Dota 2",
           "Multiplayer Online Battle Arena"
          ],
          [
           3167,
           "Hock Chuan",
           "Wong",
           "ChuaN",
           "my",
           "Dota 2",
           "Multiplayer Online Battle Arena"
          ],
          [
           17200,
           "Kuku",
           "Palad",
           "KuKU",
           "ph",
           "Dota 2",
           "Multiplayer Online Battle Arena"
          ],
          [
           10718,
           "Xinzhou",
           "Liu",
           "garder",
           "cn",
           "Dota 2",
           "Multiplayer Online Battle Arena"
          ],
          [
           3141,
           "Jonathan",
           "Berg",
           "Loda",
           "se",
           "Dota 2",
           "Multiplayer Online Battle Arena"
          ],
          [
           11868,
           "Zezhi",
           "Chen",
           "Xz",
           "cn",
           "Dota 2",
           "Multiplayer Online Battle Arena"
          ],
          [
           3724,
           "Jerry",
           "Lundqvist",
           "EGM",
           "se",
           "Dota 2",
           "Multiplayer Online Battle Arena"
          ],
          [
           2576,
           "Oleksandr",
           "Dashkevych",
           "XBOCT",
           "ua",
           "Dota 2",
           "Multiplayer Online Battle Arena"
          ],
          [
           15754,
           "Jiwei",
           "Huang",
           "Shiki",
           "cn",
           "Dota 2",
           "Multiplayer Online Battle Arena"
          ],
          [
           3140,
           "Joakim",
           "Akterhall",
           "Akke",
           "se",
           "Dota 2",
           "Multiplayer Online Battle Arena"
          ],
          [
           30686,
           "Pan",
           "Yi",
           "Fade",
           "cn",
           "Dota 2",
           "Multiplayer Online Battle Arena"
          ],
          [
           3523,
           "Henrik",
           "Ahnberg",
           "AdmiralBulldog",
           "se",
           "Dota 2",
           "Multiplayer Online Battle Arena"
          ],
          [
           27814,
           "Marc Polo",
           "Luis Fausto",
           "Raven",
           "ph",
           "Dota 2",
           "Multiplayer Online Battle Arena"
          ],
          [
           4885,
           "Yong Min",
           "Kim",
           "Febby",
           "kr",
           "Dota 2",
           "Multiplayer Online Battle Arena"
          ],
          [
           10074,
           "Yongzheng",
           "He",
           "Inflame",
           "cn",
           "Dota 2",
           "Multiplayer Online Battle Arena"
          ],
          [
           44114,
           "Cong",
           "Ding",
           "Dy",
           "cn",
           "Dota 2",
           "Multiplayer Online Battle Arena"
          ],
          [
           4888,
           "Sunyeob",
           "Kim",
           "QO",
           "kr",
           "Dota 2",
           "Multiplayer Online Battle Arena"
          ],
          [
           3586,
           "Artem",
           "Barshack",
           "fng",
           "by",
           "Dota 2",
           "Multiplayer Online Battle Arena"
          ],
          [
           4883,
           "Noah",
           "Pyo",
           "MP",
           "kr",
           "Dota 2",
           "Multiplayer Online Battle Arena"
          ],
          [
           3832,
           "Sang Hyeok",
           "Lee",
           "Faker",
           "kr",
           "League of Legends",
           "Multiplayer Online Battle Arena"
          ],
          [
           6466,
           "Ho Seong",
           "Lee",
           "Duke",
           "kr",
           "League of Legends",
           "Multiplayer Online Battle Arena"
          ],
          [
           3636,
           "Jun Sik",
           "Bae",
           "Bang",
           "kr",
           "League of Legends",
           "Multiplayer Online Battle Arena"
          ],
          [
           3836,
           "Jae Wan",
           "Lee",
           "Wolf",
           "kr",
           "League of Legends",
           "Multiplayer Online Battle Arena"
          ],
          [
           3831,
           "Seong Ung",
           "Bae",
           "Bengi",
           "kr",
           "League of Legends",
           "Multiplayer Online Battle Arena"
          ],
          [
           34362,
           "Wen Bo",
           "Yu",
           "JackeyLove",
           "cn",
           "League of Legends",
           "Multiplayer Online Battle Arena"
          ],
          [
           6013,
           "Eui Jin",
           "Song",
           "Rookie",
           "kr",
           "League of Legends",
           "Multiplayer Online Battle Arena"
          ],
          [
           28734,
           "Zhen Ning",
           "Gao",
           "Ning",
           "cn",
           "League of Legends",
           "Multiplayer Online Battle Arena"
          ],
          [
           18904,
           "Sun Gu",
           "Kang",
           "Blank",
           "kr",
           "League of Legends",
           "Multiplayer Online Battle Arena"
          ],
          [
           10925,
           "Jo",
           "Yong-in",
           "CoreJJ",
           "kr",
           "League of Legends",
           "Multiplayer Online Battle Arena"
          ],
          [
           2749,
           "Chan Yong",
           "Kang",
           "Ambition",
           "kr",
           "League of Legends",
           "Multiplayer Online Battle Arena"
          ],
          [
           34363,
           "Liu Yi",
           "Wang",
           "Baolan",
           "cn",
           "League of Legends",
           "Multiplayer Online Battle Arena"
          ],
          [
           4038,
           "Zihao",
           "Jian",
           "Uzi",
           "cn",
           "League of Legends",
           "Multiplayer Online Battle Arena"
          ],
          [
           11154,
           "Hau Hsuan",
           "Hung",
           "Karsa",
           "tw",
           "League of Legends",
           "Multiplayer Online Battle Arena"
          ],
          [
           39166,
           "Dong Geun",
           "Kang",
           "TheShy",
           "kr",
           "League of Legends",
           "Multiplayer Online Battle Arena"
          ],
          [
           3830,
           "Se Hyeong",
           "Cho",
           "Mata",
           "kr",
           "League of Legends",
           "Multiplayer Online Battle Arena"
          ],
          [
           28954,
           "Jae Hyuk",
           "Park",
           "Ruler",
           "kr",
           "League of Legends",
           "Multiplayer Online Battle Arena"
          ],
          [
           2762,
           "Jung",
           "Eon-yeong",
           "Impact",
           "kr",
           "League of Legends",
           "Multiplayer Online Battle Arena"
          ],
          [
           17101,
           "Yuan Hao",
           "Li",
           "xiaohu",
           "cn",
           "League of Legends",
           "Multiplayer Online Battle Arena"
          ],
          [
           14599,
           "Seong Jin",
           "Lee",
           "CuVee",
           "kr",
           "League of Legends",
           "Multiplayer Online Battle Arena"
          ],
          [
           12186,
           "Min Ho",
           "Lee",
           "Crown",
           "kr",
           "League of Legends",
           "Multiplayer Online Battle Arena"
          ],
          [
           15792,
           "Wang Ho",
           "Han",
           "Peanut",
           "kr",
           "League of Legends",
           "Multiplayer Online Battle Arena"
          ],
          [
           11698,
           "Shi Yu",
           "Liu",
           "Mlxg",
           "cn",
           "League of Legends",
           "Multiplayer Online Battle Arena"
          ],
          [
           8924,
           "Luka",
           "Perković",
           "PerkZ",
           "hr",
           "League of Legends",
           "Multiplayer Online Battle Arena"
          ],
          [
           3386,
           "Kai",
           "Ming",
           "ClearLove",
           "cn",
           "League of Legends",
           "Multiplayer Online Battle Arena"
          ],
          [
           12466,
           "Rasmus",
           "Winther",
           "Caps",
           "dk",
           "League of Legends",
           "Multiplayer Online Battle Arena"
          ],
          [
           4509,
           "Won Seok",
           "Heo",
           "PawN",
           "kr",
           "League of Legends",
           "Multiplayer Online Battle Arena"
          ],
          [
           3554,
           "Martin",
           "Larsson",
           "Rekkles",
           "se",
           "League of Legends",
           "Multiplayer Online Battle Arena"
          ],
          [
           1863,
           "Paul",
           "Boyer",
           "sOAZ",
           "fr",
           "League of Legends",
           "Multiplayer Online Battle Arena"
          ],
          [
           3843,
           "Hyuk Kyu",
           "Kim",
           "Deft",
           "kr",
           "League of Legends",
           "Multiplayer Online Battle Arena"
          ],
          [
           4584,
           "Marcin",
           "Jankowski",
           "Jankos",
           "pl",
           "League of Legends",
           "Multiplayer Online Battle Arena"
          ],
          [
           28735,
           "Sen Ming",
           "Shi",
           "Ming",
           "cn",
           "League of Legends",
           "Multiplayer Online Battle Arena"
          ],
          [
           3176,
           "Jong In",
           "Kim",
           "PraY",
           "kr",
           "League of Legends",
           "Multiplayer Online Battle Arena"
          ],
          [
           13882,
           "Jun Ze",
           "Yan",
           "letme",
           "cn",
           "League of Legends",
           "Multiplayer Online Battle Arena"
          ],
          [
           31016,
           "Min Seung",
           "Kang",
           "Haru",
           "kr",
           "League of Legends",
           "Multiplayer Online Battle Arena"
          ],
          [
           14665,
           "Seung Hoon",
           "Heo",
           "Huni",
           "kr",
           "League of Legends",
           "Multiplayer Online Battle Arena"
          ],
          [
           4629,
           "Hyeong Seok",
           "Jang",
           "Looper",
           "kr",
           "League of Legends",
           "Multiplayer Online Battle Arena"
          ],
          [
           12663,
           "Ye",
           "Tian",
           "Meiko",
           "cn",
           "League of Legends",
           "Multiplayer Online Battle Arena"
          ],
          [
           4634,
           "Shuo Jie",
           "Hu",
           "SwordArt",
           "tw",
           "League of Legends",
           "Multiplayer Online Battle Arena"
          ],
          [
           10470,
           "Martin",
           "Hansen",
           "Wunder",
           "dk",
           "League of Legends",
           "Multiplayer Online Battle Arena"
          ],
          [
           16021,
           "Tae Sang",
           "Kim",
           "doinb",
           "kr",
           "League of Legends",
           "Multiplayer Online Battle Arena"
          ],
          [
           4469,
           "Beom Hyeon",
           "Kang",
           "GorillA",
           "kr",
           "League of Legends",
           "Multiplayer Online Battle Arena"
          ],
          [
           8651,
           "Zdravec",
           "Gulubov",
           "Hylissang",
           "bg",
           "League of Legends",
           "Multiplayer Online Battle Arena"
          ],
          [
           3513,
           "Seung Bin",
           "Gu",
           "imp",
           "kr",
           "League of Legends",
           "Multiplayer Online Battle Arena"
          ],
          [
           11612,
           "Mads",
           "Brock-Pedersen",
           "Broxah",
           "dk",
           "League of Legends",
           "Multiplayer Online Battle Arena"
          ],
          [
           1853,
           "Peter",
           "Peng",
           "Doublelift",
           "us",
           "League of Legends",
           "Multiplayer Online Battle Arena"
          ],
          [
           3664,
           "Kyung Ho",
           "Song",
           "Smeb",
           "kr",
           "League of Legends",
           "Multiplayer Online Battle Arena"
          ],
          [
           27588,
           "Gabriël",
           "Rau",
           "Bwipo",
           "be",
           "League of Legends",
           "Multiplayer Online Battle Arena"
          ],
          [
           3374,
           "Bo Wei",
           "Cheng",
           "bebe",
           "tw",
           "League of Legends",
           "Multiplayer Online Battle Arena"
          ],
          [
           3769,
           "Zachary",
           "Scuderi",
           "Sneaky",
           "us",
           "League of Legends",
           "Multiplayer Online Battle Arena"
          ],
          [
           3512,
           "In Kyu",
           "Choi",
           "DanDy",
           "kr",
           "League of Legends",
           "Multiplayer Online Battle Arena"
          ],
          [
           29096,
           "Wei Xiang",
           "Lin",
           "Lwx",
           "cn",
           "League of Legends",
           "Multiplayer Online Battle Arena"
          ],
          [
           41044,
           "Tian Liang",
           "Gao",
           "Tian",
           "cn",
           "League of Legends",
           "Multiplayer Online Battle Arena"
          ],
          [
           4473,
           "Seo Haeng",
           "Lee",
           "kurO",
           "kr",
           "League of Legends",
           "Multiplayer Online Battle Arena"
          ],
          [
           6017,
           "Han Saem",
           "Kim",
           "GimGoon",
           "kr",
           "League of Legends",
           "Multiplayer Online Battle Arena"
          ],
          [
           41414,
           "Qing Song",
           "Liu",
           "Crisp",
           "cn",
           "League of Legends",
           "Multiplayer Online Battle Arena"
          ],
          [
           3833,
           "Gwang Jin",
           "Chae",
           "Piglet",
           "kr",
           "League of Legends",
           "Multiplayer Online Battle Arena"
          ],
          [
           8706,
           "Nicolaj",
           "Jensen",
           "Jensen",
           "dk",
           "League of Legends",
           "Multiplayer Online Battle Arena"
          ],
          [
           8770,
           "Yang",
           "Tong",
           "Koro1",
           "cn",
           "League of Legends",
           "Multiplayer Online Battle Arena"
          ],
          [
           2992,
           "Jake",
           "Puchero",
           "Xmithie",
           "ph",
           "League of Legends",
           "Multiplayer Online Battle Arena"
          ],
          [
           3555,
           "Dennis",
           "Johnsen",
           "Svenskeren",
           "dk",
           "League of Legends",
           "Multiplayer Online Battle Arena"
          ],
          [
           3834,
           "Jeong Hyeon",
           "Lee",
           "PoohManDu",
           "kr",
           "League of Legends",
           "Multiplayer Online Battle Arena"
          ],
          [
           3859,
           "Alfonso",
           "Aguirre Rodriguez",
           "Mithy",
           "es",
           "League of Legends",
           "Multiplayer Online Battle Arena"
          ],
          [
           6132,
           "Jesper",
           "Svenningsen",
           "Zven",
           "dk",
           "League of Legends",
           "Multiplayer Online Battle Arena"
          ],
          [
           3556,
           "Søren",
           "Bjerg",
           "Bjergsen",
           "dk",
           "League of Legends",
           "Multiplayer Online Battle Arena"
          ],
          [
           3842,
           "Ji Hoon",
           "Lee",
           "Easyhoon",
           "kr",
           "League of Legends",
           "Multiplayer Online Battle Arena"
          ],
          [
           24979,
           "Ye Chan",
           "Lee",
           "Scout",
           "kr",
           "League of Legends",
           "Multiplayer Online Battle Arena"
          ],
          [
           4632,
           "Yi Tang",
           "Huang",
           "Maple",
           "tw",
           "League of Legends",
           "Multiplayer Online Battle Arena"
          ],
          [
           8931,
           "Dong Ha",
           "Kim",
           "Khan",
           "kr",
           "League of Legends",
           "Multiplayer Online Battle Arena"
          ],
          [
           3634,
           "Kyung Sup",
           "Yoon",
           "Zero",
           "kr",
           "League of Legends",
           "Multiplayer Online Battle Arena"
          ],
          [
           3371,
           "June Tsan",
           "Wang",
           "Stanley",
           "tw",
           "League of Legends",
           "Multiplayer Online Battle Arena"
          ],
          [
           3373,
           "Kurtis Wai Kin",
           "Lau",
           "Toyz",
           "hk",
           "League of Legends",
           "Multiplayer Online Battle Arena"
          ],
          [
           11933,
           "Mihael",
           "Mehle",
           "Mikyx",
           "si",
           "League of Legends",
           "Multiplayer Online Battle Arena"
          ],
          [
           6474,
           "Gyeong Hwan",
           "Jang",
           "MaRin",
           "kr",
           "League of Legends",
           "Multiplayer Online Battle Arena"
          ],
          [
           3372,
           "Kuan Po",
           "Sung",
           "Lilballz",
           "tw",
           "League of Legends",
           "Multiplayer Online Battle Arena"
          ],
          [
           3375,
           "Hui Chung",
           "Chen",
           "MiSTakE",
           "tw",
           "League of Legends",
           "Multiplayer Online Battle Arena"
          ],
          [
           6058,
           "Han Wei",
           "Su",
           "xiye",
           "cn",
           "League of Legends",
           "Multiplayer Online Battle Arena"
          ],
          [
           13185,
           "Yu Hao",
           "Chen",
           "Mouse",
           "cn",
           "League of Legends",
           "Multiplayer Online Battle Arena"
          ],
          [
           3384,
           "Zhihao",
           "Liu",
           "Zzitai",
           "cn",
           "League of Legends",
           "Multiplayer Online Battle Arena"
          ],
          [
           6472,
           "Sung Joon",
           "Jin",
           "Mystic",
           "kr",
           "League of Legends",
           "Multiplayer Online Battle Arena"
          ],
          [
           3178,
           "Dong Bin",
           "Go",
           "Score",
           "kr",
           "League of Legends",
           "Multiplayer Online Battle Arena"
          ],
          [
           3177,
           "Sang Ook",
           "Yoo",
           "Ryu",
           "kr",
           "League of Legends",
           "Multiplayer Online Battle Arena"
          ],
          [
           1861,
           "Bora",
           "Kim",
           "YellOwStaR",
           "fr",
           "League of Legends",
           "Multiplayer Online Battle Arena"
          ],
          [
           27718,
           "Bo Seong",
           "Gwak",
           "Bdd",
           "kr",
           "League of Legends",
           "Multiplayer Online Battle Arena"
          ],
          [
           2989,
           "Jason",
           "Tran",
           "WildTurtle",
           "ca",
           "League of Legends",
           "Multiplayer Online Battle Arena"
          ],
          [
           37699,
           "Ding",
           "Zhuo",
           "Knight",
           "cn",
           "League of Legends",
           "Multiplayer Online Battle Arena"
          ],
          [
           20017,
           "Gang Yun",
           "Kim",
           "Trick",
           "kr",
           "League of Legends",
           "Multiplayer Online Battle Arena"
          ],
          [
           29501,
           "Yu Hung",
           "Lu",
           "Betty",
           "tw",
           "League of Legends",
           "Multiplayer Online Battle Arena"
          ],
          [
           59916,
           "Su",
           "Heo",
           "ShowMaker",
           "kr",
           "League of Legends",
           "Multiplayer Online Battle Arena"
          ],
          [
           37918,
           "Ha Gwon",
           "Jang",
           "Nuguri",
           "kr",
           "League of Legends",
           "Multiplayer Online Battle Arena"
          ],
          [
           59915,
           "Geon Bu",
           "Kim",
           "Canyon",
           "kr",
           "League of Legends",
           "Multiplayer Online Battle Arena"
          ],
          [
           56731,
           "Jia Hao",
           "Bai",
           "369",
           "cn",
           "League of Legends",
           "Multiplayer Online Battle Arena"
          ],
          [
           41209,
           "Geon Hee",
           "Cho",
           "BeryL",
           "kr",
           "League of Legends",
           "Multiplayer Online Battle Arena"
          ],
          [
           21629,
           "Dong Wook",
           "Lee",
           "LokeN",
           "kr",
           "League of Legends",
           "Multiplayer Online Battle Arena"
          ],
          [
           1892,
           "Enrique",
           "Cedeño Martinez",
           "xPeke",
           "es",
           "League of Legends",
           "Multiplayer Online Battle Arena"
          ],
          [
           8936,
           "Dae Han",
           "Gi",
           "Expect",
           "kr",
           "League of Legends",
           "Multiplayer Online Battle Arena"
          ],
          [
           3387,
           "Zhuojun",
           "Feng",
           "Fzzf",
           "cn",
           "League of Legends",
           "Multiplayer Online Battle Arena"
          ],
          [
           17103,
           "Ren Jie",
           "Xiang",
           "Condi",
           "cn",
           "League of Legends",
           "Multiplayer Online Battle Arena"
          ],
          [
           6633,
           "Petter",
           "Freyschuss",
           "Hjärnan",
           "se",
           "League of Legends",
           "Multiplayer Online Battle Arena"
          ],
          [
           13186,
           "Chang Yu",
           "Ke",
           "957",
           "cn",
           "League of Legends",
           "Multiplayer Online Battle Arena"
          ],
          [
           19968,
           "Won Ho",
           "Jeong",
           "KyoCha",
           "kr",
           "Heroes of the Storm",
           "Multiplayer Online Battle Arena"
          ],
          [
           18570,
           "Jung Hyeog",
           "Lee",
           "sake",
           "kr",
           "Heroes of the Storm",
           "Multiplayer Online Battle Arena"
          ],
          [
           15718,
           "Jae Won",
           "Lee",
           "Rich",
           "kr",
           "Heroes of the Storm",
           "Multiplayer Online Battle Arena"
          ],
          [
           18568,
           "Jin Woo",
           "Im",
           "Reset",
           "kr",
           "Heroes of the Storm",
           "Multiplayer Online Battle Arena"
          ],
          [
           15724,
           "Woon Sung",
           "Kang",
           "Ttsst",
           "kr",
           "Heroes of the Storm",
           "Multiplayer Online Battle Arena"
          ],
          [
           17549,
           "Jonathan",
           "Gunnarsson",
           "Wubby",
           "se",
           "Heroes of the Storm",
           "Multiplayer Online Battle Arena"
          ],
          [
           1014,
           "Seung Chul",
           "Kim",
           "sCsC",
           "kr",
           "Heroes of the Storm",
           "Multiplayer Online Battle Arena"
          ],
          [
           15602,
           "Joshua",
           "Bennett",
           "Snitch",
           "gb",
           "Heroes of the Storm",
           "Multiplayer Online Battle Arena"
          ],
          [
           16241,
           "Jérome",
           "Trinh",
           "JayPL",
           "fr",
           "Heroes of the Storm",
           "Multiplayer Online Battle Arena"
          ],
          [
           21221,
           "Ji Hoon",
           "Yoon",
           "Sign",
           "kr",
           "Heroes of the Storm",
           "Multiplayer Online Battle Arena"
          ],
          [
           23618,
           "Jeong Ha",
           "Lee",
           "Jeongha",
           "kr",
           "Heroes of the Storm",
           "Multiplayer Online Battle Arena"
          ],
          [
           15751,
           "Simon",
           "Svensson",
           "Schwimpi",
           "se",
           "Heroes of the Storm",
           "Multiplayer Online Battle Arena"
          ],
          [
           15748,
           "Pontus",
           "Sjogren",
           "Breez",
           "se",
           "Heroes of the Storm",
           "Multiplayer Online Battle Arena"
          ],
          [
           18573,
           "Tae Jun",
           "Lee",
           "merryday",
           "kr",
           "Heroes of the Storm",
           "Multiplayer Online Battle Arena"
          ],
          [
           22236,
           "Filip",
           "Liljeström",
           "Smexystyle",
           "se",
           "Heroes of the Storm",
           "Multiplayer Online Battle Arena"
          ],
          [
           11920,
           "Dob",
           "Engström",
           "QuackNiix",
           "se",
           "Heroes of the Storm",
           "Multiplayer Online Battle Arena"
          ],
          [
           1049,
           "Do Joon",
           "Chae",
           "Noblesse",
           "kr",
           "Heroes of the Storm",
           "Multiplayer Online Battle Arena"
          ],
          [
           18572,
           "Jae Hun",
           "Jin",
           "Lockdown",
           "kr",
           "Heroes of the Storm",
           "Multiplayer Online Battle Arena"
          ],
          [
           28356,
           "Seung Won",
           "Kim",
           "Swoy",
           "kr",
           "Heroes of the Storm",
           "Multiplayer Online Battle Arena"
          ],
          [
           15426,
           "Fan",
           "Yang",
           "Fan",
           "us",
           "Heroes of the Storm",
           "Multiplayer Online Battle Arena"
          ],
          [
           30547,
           "Kenn Øster",
           "Rasmussen",
           "Zaelia",
           "dk",
           "Heroes of the Storm",
           "Multiplayer Online Battle Arena"
          ],
          [
           25039,
           "Jin Su",
           "Park",
           "NachoJin",
           "kr",
           "Heroes of the Storm",
           "Multiplayer Online Battle Arena"
          ],
          [
           20908,
           "Thomas",
           "Cailleux",
           "Ménè",
           "fr",
           "Heroes of the Storm",
           "Multiplayer Online Battle Arena"
          ],
          [
           14529,
           "John Paul",
           "Lopez",
           "KingCaffeine",
           "us",
           "Heroes of the Storm",
           "Multiplayer Online Battle Arena"
          ],
          [
           12075,
           "Keiwan",
           "Itakura",
           "k1",
           "us",
           "Heroes of the Storm",
           "Multiplayer Online Battle Arena"
          ],
          [
           14011,
           "James",
           "Baker",
           "Bakery",
           "gb",
           "Heroes of the Storm",
           "Multiplayer Online Battle Arena"
          ],
          [
           1091,
           "Tae Hoon",
           "Kwon",
           "Sniper",
           "kr",
           "Heroes of the Storm",
           "Multiplayer Online Battle Arena"
          ],
          [
           18569,
           "Yeong Hwan",
           "Jing",
           "Hide",
           "kr",
           "Heroes of the Storm",
           "Multiplayer Online Battle Arena"
          ],
          [
           16733,
           "Lunhan",
           "Kang",
           "XingC",
           "cn",
           "Heroes of the Storm",
           "Multiplayer Online Battle Arena"
          ],
          [
           7405,
           "Lawrence",
           "Harper",
           "Atheroangel",
           "gb",
           "Heroes of the Storm",
           "Multiplayer Online Battle Arena"
          ],
          [
           14972,
           "Vilhem",
           "Flennmark",
           "POILK",
           "se",
           "Heroes of the Storm",
           "Multiplayer Online Battle Arena"
          ],
          [
           18797,
           "Hanfei",
           "Chen",
           "Tiger",
           "cn",
           "Heroes of the Storm",
           "Multiplayer Online Battle Arena"
          ],
          [
           6565,
           "Kun",
           "Fang",
           "iDream",
           "cn",
           "Heroes of the Storm",
           "Multiplayer Online Battle Arena"
          ],
          [
           16730,
           "Zhihao",
           "Wu",
           "Tumi",
           "cn",
           "Heroes of the Storm",
           "Multiplayer Online Battle Arena"
          ],
          [
           1233,
           "Dennis",
           "Schneider",
           "HasuObs",
           "de",
           "Heroes of the Storm",
           "Multiplayer Online Battle Arena"
          ],
          [
           23619,
           "Ju Dam",
           "Park",
           "dami",
           "kr",
           "Heroes of the Storm",
           "Multiplayer Online Battle Arena"
          ],
          [
           14122,
           "Lyubomir",
           "Kozlovski",
           "Splendour",
           "bg",
           "Heroes of the Storm",
           "Multiplayer Online Battle Arena"
          ],
          [
           20208,
           "Xiangzhi",
           "Zheng",
           "melodyC",
           "cn",
           "Heroes of the Storm",
           "Multiplayer Online Battle Arena"
          ],
          [
           15735,
           "Ben",
           "Bunk",
           "Cattlepillar",
           "de",
           "Heroes of the Storm",
           "Multiplayer Online Battle Arena"
          ],
          [
           14440,
           "Adrian",
           "Wójcik",
           "adrd",
           "pl",
           "Heroes of the Storm",
           "Multiplayer Online Battle Arena"
          ],
          [
           12389,
           "Nils",
           "Gebhardt",
           "Nurok",
           "de",
           "Heroes of the Storm",
           "Multiplayer Online Battle Arena"
          ],
          [
           14531,
           "Mike",
           "Fisk",
           "Glaurung",
           "us",
           "Heroes of the Storm",
           "Multiplayer Online Battle Arena"
          ],
          [
           16732,
           "Tuo",
           "Li",
           "NccCc",
           "cn",
           "Heroes of the Storm",
           "Multiplayer Online Battle Arena"
          ],
          [
           2805,
           "Chris",
           "Buechter",
           "Zuna",
           "us",
           "Heroes of the Storm",
           "Multiplayer Online Battle Arena"
          ],
          [
           15750,
           "Alexander",
           "Milanov",
           "ethernal",
           "bg",
           "Heroes of the Storm",
           "Multiplayer Online Battle Arena"
          ],
          [
           1134,
           "Ki Soo",
           "Han",
           "CrazymoviNG",
           "kr",
           "Heroes of the Storm",
           "Multiplayer Online Battle Arena"
          ],
          [
           26616,
           "Jun",
           "Jang",
           "Jun",
           "kr",
           "Heroes of the Storm",
           "Multiplayer Online Battle Arena"
          ],
          [
           28605,
           "Jong Hoon",
           "Park",
           "Hooligan",
           "kr",
           "Heroes of the Storm",
           "Multiplayer Online Battle Arena"
          ],
          [
           14564,
           "Lizhong",
           "Zhou",
           "Misaka",
           "cn",
           "Heroes of the Storm",
           "Multiplayer Online Battle Arena"
          ],
          [
           15431,
           "Manny",
           "Medina",
           "Fury",
           "us",
           "Heroes of the Storm",
           "Multiplayer Online Battle Arena"
          ],
          [
           23617,
           "Dae Hyung",
           "Lee",
           "Hongcono",
           "kr",
           "Heroes of the Storm",
           "Multiplayer Online Battle Arena"
          ],
          [
           1352,
           "Li Wei",
           "Sun",
           "xiaOt",
           "cn",
           "Heroes of the Storm",
           "Multiplayer Online Battle Arena"
          ],
          [
           7208,
           "Guo",
           "Jiayi",
           "Gemini",
           "cn",
           "Heroes of the Storm",
           "Multiplayer Online Battle Arena"
          ],
          [
           14568,
           "Hao",
           "Pu",
           "m",
           "cn",
           "Heroes of the Storm",
           "Multiplayer Online Battle Arena"
          ],
          [
           6023,
           "Jae Hyun",
           "Park",
           "JaeHyun",
           "kr",
           "Heroes of the Storm",
           "Multiplayer Online Battle Arena"
          ],
          [
           22243,
           "Simon",
           "Tabin",
           "Darkmok",
           "de",
           "Heroes of the Storm",
           "Multiplayer Online Battle Arena"
          ],
          [
           38902,
           "Hyun Tae",
           "Kim",
           "SDE",
           "kr",
           "Heroes of the Storm",
           "Multiplayer Online Battle Arena"
          ],
          [
           17414,
           "Alexander",
           "Grumstrup",
           "AlexTheProG",
           "dk",
           "Heroes of the Storm",
           "Multiplayer Online Battle Arena"
          ],
          [
           25047,
           "Harrison",
           "Chang",
           "psalm",
           "us",
           "Heroes of the Storm",
           "Multiplayer Online Battle Arena"
          ],
          [
           21705,
           "Jin Hwan",
           "Kim",
           "Magi",
           "kr",
           "Heroes of the Storm",
           "Multiplayer Online Battle Arena"
          ],
          [
           14528,
           "Ricardo",
           "Marques",
           "DunkTrain",
           "us",
           "Heroes of the Storm",
           "Multiplayer Online Battle Arena"
          ],
          [
           27953,
           "Benjamin",
           "Eekenulv",
           "BadBenny",
           "se",
           "Heroes of the Storm",
           "Multiplayer Online Battle Arena"
          ],
          [
           14001,
           "Matic",
           "Mikec",
           "Zarmony",
           "si",
           "Heroes of the Storm",
           "Multiplayer Online Battle Arena"
          ],
          [
           17402,
           "Jing",
           "Gu",
           "Aloof",
           "cn",
           "Heroes of the Storm",
           "Multiplayer Online Battle Arena"
          ],
          [
           18574,
           "Jize",
           "Song",
           "sk",
           "cn",
           "Heroes of the Storm",
           "Multiplayer Online Battle Arena"
          ],
          [
           15428,
           "Stafford",
           "Mcintyre",
           "McIntyre",
           "us",
           "Heroes of the Storm",
           "Multiplayer Online Battle Arena"
          ],
          [
           6066,
           "Taylor",
           "Eder",
           "Arthelon",
           "us",
           "Heroes of the Storm",
           "Multiplayer Online Battle Arena"
          ],
          [
           17550,
           "Ivan",
           "Koturić",
           "Sportbilly",
           "hr",
           "Heroes of the Storm",
           "Multiplayer Online Battle Arena"
          ],
          [
           28607,
           "Sung Hyun",
           "Moon",
           "Good",
           "kr",
           "Heroes of the Storm",
           "Multiplayer Online Battle Arena"
          ],
          [
           27955,
           "Dominic",
           "Asal",
           "Nic",
           "de",
           "Heroes of the Storm",
           "Multiplayer Online Battle Arena"
          ],
          [
           19422,
           "Jing",
           "Chen",
           "Xuyu",
           "cn",
           "Heroes of the Storm",
           "Multiplayer Online Battle Arena"
          ],
          [
           21943,
           "Niklas",
           "Skogheim",
           "Cursen",
           "no",
           "Heroes of the Storm",
           "Multiplayer Online Battle Arena"
          ],
          [
           1163,
           "Rori",
           "Bryant-Raible",
           "CauthonLuck",
           "us",
           "Heroes of the Storm",
           "Multiplayer Online Battle Arena"
          ],
          [
           21718,
           "Sammuel",
           "Hua",
           "bigempct",
           "us",
           "Heroes of the Storm",
           "Multiplayer Online Battle Arena"
          ],
          [
           20604,
           "Yu Yen",
           "Su",
           "GoDDog",
           "tw",
           "Heroes of the Storm",
           "Multiplayer Online Battle Arena"
          ],
          [
           22244,
           "Markus",
           "Hanke",
           "Blumbi",
           "de",
           "Heroes of the Storm",
           "Multiplayer Online Battle Arena"
          ],
          [
           12396,
           "Christoph",
           "Gowitzke",
           "Cris",
           "de",
           "Heroes of the Storm",
           "Multiplayer Online Battle Arena"
          ],
          [
           21715,
           "Stefen",
           "Anderson",
           "akaface",
           "us",
           "Heroes of the Storm",
           "Multiplayer Online Battle Arena"
          ],
          [
           21719,
           "Michael",
           "Udall",
           "MichaelUdall",
           "us",
           "Heroes of the Storm",
           "Multiplayer Online Battle Arena"
          ],
          [
           29443,
           "Chandler",
           "Gavran",
           "Buds",
           "us",
           "Heroes of the Storm",
           "Multiplayer Online Battle Arena"
          ],
          [
           29444,
           "Justin",
           "Gapp",
           "Justing",
           "us",
           "Heroes of the Storm",
           "Multiplayer Online Battle Arena"
          ],
          [
           20525,
           "Francisco",
           "Avalos",
           "Goku",
           "ca",
           "Heroes of the Storm",
           "Multiplayer Online Battle Arena"
          ],
          [
           25597,
           "Khalif",
           "Hashim",
           "Khroen",
           "us",
           "Heroes of the Storm",
           "Multiplayer Online Battle Arena"
          ],
          [
           1120,
           "Kyung Deok",
           "Kim",
           "duckdeok",
           "kr",
           "Heroes of the Storm",
           "Multiplayer Online Battle Arena"
          ],
          [
           21427,
           "Zhihao",
           "Zhang",
           "zZH",
           "cn",
           "Heroes of the Storm",
           "Multiplayer Online Battle Arena"
          ],
          [
           20516,
           "Kyle",
           "Belaiche",
           "Prismaticism",
           "ca",
           "Heroes of the Storm",
           "Multiplayer Online Battle Arena"
          ],
          [
           14570,
           "Tianze",
           "Chen",
           "canjian",
           "cn",
           "Heroes of the Storm",
           "Multiplayer Online Battle Arena"
          ],
          [
           32505,
           "Tae Seok",
           "Oh",
           "taeseok",
           "kr",
           "Heroes of the Storm",
           "Multiplayer Online Battle Arena"
          ],
          [
           33385,
           "Liam",
           "Simpson",
           "Arcaner",
           "au",
           "Heroes of the Storm",
           "Multiplayer Online Battle Arena"
          ],
          [
           21426,
           "Qian",
           "Li",
           "Qx",
           "cn",
           "Heroes of the Storm",
           "Multiplayer Online Battle Arena"
          ],
          [
           26991,
           "Jerome",
           "Tanguay",
           "KilluZiioN",
           "ca",
           "Heroes of the Storm",
           "Multiplayer Online Battle Arena"
          ],
          [
           21709,
           "Seong Min",
           "Min",
           "Darvish",
           "kr",
           "Heroes of the Storm",
           "Multiplayer Online Battle Arena"
          ],
          [
           23446,
           "Chun Yu",
           "Wu",
           "Alphaluna",
           "tw",
           "Heroes of the Storm",
           "Multiplayer Online Battle Arena"
          ],
          [
           21419,
           "Jiawei",
           "Zhang",
           "Kty",
           "cn",
           "Heroes of the Storm",
           "Multiplayer Online Battle Arena"
          ],
          [
           26996,
           "Thomas",
           "Maguire",
           "Tomster",
           "us",
           "Heroes of the Storm",
           "Multiplayer Online Battle Arena"
          ],
          [
           28390,
           "Merek",
           "Kangas",
           "zugrug",
           "ca",
           "Heroes of the Storm",
           "Multiplayer Online Battle Arena"
          ],
          [
           9840,
           "Josh",
           "Choi",
           "bkid",
           "us",
           "Heroes of the Storm",
           "Multiplayer Online Battle Arena"
          ],
          [
           28606,
           "Jae Yeop",
           "Jeong",
           "Frankle",
           "kr",
           "Heroes of the Storm",
           "Multiplayer Online Battle Arena"
          ],
          [
           31831,
           "Gu",
           "Junfeng",
           "Wind",
           "cn",
           "Heroes of the Storm",
           "Multiplayer Online Battle Arena"
          ],
          [
           11747,
           "Martin",
           "Rugh",
           "Crozzby",
           "dk",
           "Heroes of the Storm",
           "Multiplayer Online Battle Arena"
          ],
          [
           60467,
           "Zhengzheng",
           "Chen",
           "Cat",
           "cn",
           "Arena of Valor",
           "Multiplayer Online Battle Arena"
          ],
          [
           60565,
           "Guixin",
           "Guo",
           "NuoYan",
           "cn",
           "Arena of Valor",
           "Multiplayer Online Battle Arena"
          ],
          [
           60485,
           "Tianlong",
           "Wang",
           "Alan",
           "cn",
           "Arena of Valor",
           "Multiplayer Online Battle Arena"
          ],
          [
           70610,
           "Siyuan",
           "Luo",
           "HuaHai",
           "cn",
           "Arena of Valor",
           "Multiplayer Online Battle Arena"
          ],
          [
           70611,
           "Cong",
           "Zhang",
           "Wuming",
           "cn",
           "Arena of Valor",
           "Multiplayer Online Battle Arena"
          ],
          [
           53977,
           "Xuân Bách",
           "Trần",
           "XB",
           "vn",
           "Arena of Valor",
           "Multiplayer Online Battle Arena"
          ],
          [
           53981,
           "Quang Hiệp",
           "Trần",
           "ProE",
           "vn",
           "Arena of Valor",
           "Multiplayer Online Battle Arena"
          ],
          [
           5812,
           "Sanpett",
           "Marat",
           "FirstOne",
           "th",
           "Arena of Valor",
           "Multiplayer Online Battle Arena"
          ],
          [
           60417,
           "Yunfei",
           "Peng",
           "Fly",
           "cn",
           "Arena of Valor",
           "Multiplayer Online Battle Arena"
          ],
          [
           60418,
           "Shengqqin",
           "Xia",
           "Hurt",
           "cn",
           "Arena of Valor",
           "Multiplayer Online Battle Arena"
          ],
          [
           60451,
           "Đức Chiến",
           "Trần",
           "ADC",
           "vn",
           "Arena of Valor",
           "Multiplayer Online Battle Arena"
          ],
          [
           53986,
           "Hồng Quân",
           "Phạm",
           "Gau",
           "vn",
           "Arena of Valor",
           "Multiplayer Online Battle Arena"
          ],
          [
           37261,
           "Sorawichaya",
           "Mahavanakul",
           "Isilindilz",
           "th",
           "Arena of Valor",
           "Multiplayer Online Battle Arena"
          ],
          [
           54014,
           "Chun Sheng",
           "Chang",
           "Neil",
           "tw",
           "Arena of Valor",
           "Multiplayer Online Battle Arena"
          ],
          [
           60452,
           "Tiến Đạt",
           "Đinh",
           "ĐạtKòiii",
           "vn",
           "Arena of Valor",
           "Multiplayer Online Battle Arena"
          ],
          [
           37259,
           "Vatcharanan",
           "Thaworn",
           "Summer",
           "th",
           "Arena of Valor",
           "Multiplayer Online Battle Arena"
          ],
          [
           53998,
           "Chang Hoon",
           "Shin",
           "JJak",
           "kr",
           "Arena of Valor",
           "Multiplayer Online Battle Arena"
          ],
          [
           68651,
           "-",
           "-",
           "Nutalomlok",
           "th",
           "Arena of Valor",
           "Multiplayer Online Battle Arena"
          ],
          [
           53996,
           "Ho Yeon",
           "Lee",
           "Rush",
           "kr",
           "Arena of Valor",
           "Multiplayer Online Battle Arena"
          ],
          [
           54013,
           "Chou",
           "Chung",
           "Yuzon",
           "tw",
           "Arena of Valor",
           "Multiplayer Online Battle Arena"
          ],
          [
           60450,
           "Ting Jui",
           "Chen",
           "Winds",
           "tw",
           "Arena of Valor",
           "Multiplayer Online Battle Arena"
          ],
          [
           53999,
           "Do Yeop",
           "Kim",
           "HAK",
           "kr",
           "Arena of Valor",
           "Multiplayer Online Battle Arena"
          ],
          [
           53995,
           "Sun Woo",
           "Kim",
           "Sun",
           "kr",
           "Arena of Valor",
           "Multiplayer Online Battle Arena"
          ],
          [
           54015,
           "Nsu Yu",
           "Lin",
           "Star",
           "tw",
           "Arena of Valor",
           "Multiplayer Online Battle Arena"
          ],
          [
           54016,
           "Chien Ting",
           "Chen",
           "Benny",
           "tw",
           "Arena of Valor",
           "Multiplayer Online Battle Arena"
          ],
          [
           60420,
           "-",
           "-",
           "Song",
           "cn",
           "Arena of Valor",
           "Multiplayer Online Battle Arena"
          ],
          [
           10995,
           "Chayut",
           "Suebka",
           "007x",
           "th",
           "Arena of Valor",
           "Multiplayer Online Battle Arena"
          ],
          [
           60454,
           "Parit",
           "Pornrattanapitak",
           "Difoxn",
           "th",
           "Arena of Valor",
           "Multiplayer Online Battle Arena"
          ],
          [
           60434,
           "-",
           "-",
           "770",
           "cn",
           "Arena of Valor",
           "Multiplayer Online Battle Arena"
          ],
          [
           54458,
           "Eikapong",
           "Korhonen",
           "Tony",
           "th",
           "Arena of Valor",
           "Multiplayer Online Battle Arena"
          ],
          [
           60466,
           "-",
           "-",
           "Snow",
           "cn",
           "Arena of Valor",
           "Multiplayer Online Battle Arena"
          ],
          [
           54454,
           "Siwa",
           "Noomai",
           "JOMWick",
           "th",
           "Arena of Valor",
           "Multiplayer Online Battle Arena"
          ],
          [
           53997,
           "Hyung Min",
           "Kim",
           "Chaser",
           "kr",
           "Arena of Valor",
           "Multiplayer Online Battle Arena"
          ],
          [
           60468,
           "-",
           "-",
           "YANG",
           "cn",
           "Arena of Valor",
           "Multiplayer Online Battle Arena"
          ],
          [
           70307,
           "-",
           "-",
           "行星",
           "cn",
           "Arena of Valor",
           "Multiplayer Online Battle Arena"
          ],
          [
           70308,
           "-",
           "-",
           "轻雨",
           "cn",
           "Arena of Valor",
           "Multiplayer Online Battle Arena"
          ],
          [
           70309,
           "-",
           "-",
           "久龙",
           "cn",
           "Arena of Valor",
           "Multiplayer Online Battle Arena"
          ],
          [
           70310,
           "-",
           "-",
           "北岛",
           "cn",
           "Arena of Valor",
           "Multiplayer Online Battle Arena"
          ],
          [
           70311,
           "-",
           "-",
           "暮色",
           "cn",
           "Arena of Valor",
           "Multiplayer Online Battle Arena"
          ],
          [
           70312,
           "-",
           "-",
           "久诚",
           "cn",
           "Arena of Valor",
           "Multiplayer Online Battle Arena"
          ],
          [
           70313,
           "-",
           "-",
           "月色",
           "cn",
           "Arena of Valor",
           "Multiplayer Online Battle Arena"
          ],
          [
           70314,
           "-",
           "-",
           "柠栀",
           "cn",
           "Arena of Valor",
           "Multiplayer Online Battle Arena"
          ],
          [
           70315,
           "-",
           "-",
           "最初",
           "cn",
           "Arena of Valor",
           "Multiplayer Online Battle Arena"
          ],
          [
           70316,
           "-",
           "-",
           "尘夏",
           "cn",
           "Arena of Valor",
           "Multiplayer Online Battle Arena"
          ],
          [
           70317,
           "-",
           "-",
           "阿可",
           "cn",
           "Arena of Valor",
           "Multiplayer Online Battle Arena"
          ],
          [
           60455,
           "Metasit",
           "Leelapipatkul",
           "Moowan",
           "th",
           "Arena of Valor",
           "Multiplayer Online Battle Arena"
          ],
          [
           78285,
           "Satittirat",
           "Chetnarong",
           "Overfly",
           "th",
           "Arena of Valor",
           "Multiplayer Online Battle Arena"
          ],
          [
           60412,
           "-",
           "-",
           "NingZhi",
           "cn",
           "Arena of Valor",
           "Multiplayer Online Battle Arena"
          ],
          [
           60413,
           "-",
           "-",
           "JiuLong",
           "cn",
           "Arena of Valor",
           "Multiplayer Online Battle Arena"
          ],
          [
           60414,
           "-",
           "-",
           "JiuC",
           "cn",
           "Arena of Valor",
           "Multiplayer Online Battle Arena"
          ],
          [
           60415,
           "-",
           "-",
           "ChenXia",
           "cn",
           "Arena of Valor",
           "Multiplayer Online Battle Arena"
          ],
          [
           60416,
           "-",
           "-",
           "ZuiChu",
           "cn",
           "Arena of Valor",
           "Multiplayer Online Battle Arena"
          ],
          [
           60456,
           "Sorachat",
           "Janechaijitravanit",
           "Getsrch",
           "th",
           "Arena of Valor",
           "Multiplayer Online Battle Arena"
          ],
          [
           68648,
           "-",
           "-",
           "BLUENOPING",
           "th",
           "Arena of Valor",
           "Multiplayer Online Battle Arena"
          ],
          [
           36696,
           "Kawee",
           "Wachiraphas",
           "MeMarkz",
           "th",
           "Arena of Valor",
           "Multiplayer Online Battle Arena"
          ],
          [
           18456,
           "Pakinai",
           "Srivijarn",
           "kSsA",
           "th",
           "Arena of Valor",
           "Multiplayer Online Battle Arena"
          ],
          [
           16556,
           "Sorawat",
           "Boonphrom",
           "Moss",
           "th",
           "Arena of Valor",
           "Multiplayer Online Battle Arena"
          ],
          [
           54034,
           "Piyapong",
           "Proathaisong",
           "Taoz",
           "th",
           "Arena of Valor",
           "Multiplayer Online Battle Arena"
          ],
          [
           16554,
           "Patara",
           "Bhatarabhirom",
           "Cherie",
           "th",
           "Arena of Valor",
           "Multiplayer Online Battle Arena"
          ],
          [
           9916,
           "Nutdanai",
           "Rungruang",
           "MrSunz",
           "th",
           "Arena of Valor",
           "Multiplayer Online Battle Arena"
          ],
          [
           70622,
           "-",
           "-",
           "Giao",
           "cn",
           "Arena of Valor",
           "Multiplayer Online Battle Arena"
          ],
          [
           69659,
           "-",
           "-",
           "Munez",
           "th",
           "Arena of Valor",
           "Multiplayer Online Battle Arena"
          ],
          [
           79580,
           "Pasu",
           "Yensabai",
           "Erez",
           "th",
           "Arena of Valor",
           "Multiplayer Online Battle Arena"
          ],
          [
           60453,
           "Methus",
           "Meechom",
           "Nt",
           "th",
           "Arena of Valor",
           "Multiplayer Online Battle Arena"
          ],
          [
           54011,
           "Sirichai",
           "Sukpan",
           "ReMix",
           "th",
           "Arena of Valor",
           "Multiplayer Online Battle Arena"
          ],
          [
           79579,
           "Pakkapon",
           "Saethong",
           "IpodPro",
           "th",
           "Arena of Valor",
           "Multiplayer Online Battle Arena"
          ],
          [
           78046,
           "-",
           "-",
           "Mojo",
           "cn",
           "Arena of Valor",
           "Multiplayer Online Battle Arena"
          ],
          [
           53970,
           "-",
           "-",
           "Chichi",
           "tw",
           "Arena of Valor",
           "Multiplayer Online Battle Arena"
          ],
          [
           53971,
           "-",
           "-",
           "Genji",
           "tw",
           "Arena of Valor",
           "Multiplayer Online Battle Arena"
          ],
          [
           53972,
           "-",
           "-",
           "Hanzo",
           "tw",
           "Arena of Valor",
           "Multiplayer Online Battle Arena"
          ],
          [
           53973,
           "-",
           "-",
           "Liang",
           "tw",
           "Arena of Valor",
           "Multiplayer Online Battle Arena"
          ],
          [
           53974,
           "-",
           "-",
           "Sirenia",
           "tw",
           "Arena of Valor",
           "Multiplayer Online Battle Arena"
          ],
          [
           54012,
           "Denchai",
           "Eampaojeen",
           "JameCo",
           "th",
           "Arena of Valor",
           "Multiplayer Online Battle Arena"
          ],
          [
           75020,
           "Aum",
           "Chatchanapong",
           "Happy",
           "th",
           "Arena of Valor",
           "Multiplayer Online Battle Arena"
          ],
          [
           60463,
           "Hsing Cheng",
           "Lu",
           "Heroes",
           "tw",
           "Arena of Valor",
           "Multiplayer Online Battle Arena"
          ],
          [
           60570,
           "-",
           "-",
           "六点六",
           "cn",
           "Arena of Valor",
           "Multiplayer Online Battle Arena"
          ],
          [
           60571,
           "-",
           "-",
           "小兽",
           "cn",
           "Arena of Valor",
           "Multiplayer Online Battle Arena"
          ],
          [
           60572,
           "-",
           "-",
           "小剑",
           "cn",
           "Arena of Valor",
           "Multiplayer Online Battle Arena"
          ],
          [
           60573,
           "-",
           "-",
           "居居",
           "cn",
           "Arena of Valor",
           "Multiplayer Online Battle Arena"
          ],
          [
           60437,
           "-",
           "-",
           "Core",
           "kr",
           "Arena of Valor",
           "Multiplayer Online Battle Arena"
          ],
          [
           53976,
           "-",
           "-",
           "PS Man",
           "vn",
           "Arena of Valor",
           "Multiplayer Online Battle Arena"
          ],
          [
           54030,
           "Matt",
           "Stover",
           "Mts",
           "us",
           "Arena of Valor",
           "Multiplayer Online Battle Arena"
          ],
          [
           60462,
           "Chi Kang",
           "Chuang",
           "XiXi",
           "tw",
           "Arena of Valor",
           "Multiplayer Online Battle Arena"
          ],
          [
           60464,
           "Sung Lin",
           "Hsieh",
           "Wayn",
           "tw",
           "Arena of Valor",
           "Multiplayer Online Battle Arena"
          ],
          [
           53975,
           "-",
           "-",
           "Lulala",
           "tw",
           "Arena of Valor",
           "Multiplayer Online Battle Arena"
          ],
          [
           1297,
           "Hyo Jong",
           "Kim",
           "horror",
           "kr",
           "Arena of Valor",
           "Multiplayer Online Battle Arena"
          ],
          [
           60438,
           "-",
           "-",
           "JY",
           "kr",
           "Arena of Valor",
           "Multiplayer Online Battle Arena"
          ],
          [
           60439,
           "-",
           "-",
           "YK",
           "kr",
           "Arena of Valor",
           "Multiplayer Online Battle Arena"
          ],
          [
           78151,
           "-",
           "-",
           "Xuan",
           "my",
           "Arena of Valor",
           "Multiplayer Online Battle Arena"
          ],
          [
           60436,
           "-",
           "-",
           "Sweet",
           "kr",
           "Arena of Valor",
           "Multiplayer Online Battle Arena"
          ],
          [
           54450,
           "Chanapol",
           "Siri",
           "Sky",
           "th",
           "Arena of Valor",
           "Multiplayer Online Battle Arena"
          ],
          [
           60430,
           "-",
           "-",
           "KOKO",
           "cn",
           "Arena of Valor",
           "Multiplayer Online Battle Arena"
          ],
          [
           21212,
           "Chattrakarn",
           "Parichatkun",
           "Erl2oR",
           "th",
           "Arena of Valor",
           "Multiplayer Online Battle Arena"
          ],
          [
           78152,
           "-",
           "-",
           "Chen",
           "cn",
           "Arena of Valor",
           "Multiplayer Online Battle Arena"
          ],
          [
           83083,
           "Yu-Yan",
           "Su",
           "GaDuo",
           "tw",
           "Arena of Valor",
           "Multiplayer Online Battle Arena"
          ],
          [
           83084,
           "Tseng-Yung",
           "Chun",
           "Kato",
           "tw",
           "Arena of Valor",
           "Multiplayer Online Battle Arena"
          ],
          [
           83085,
           "En Hao",
           "Chen",
           "Gua",
           "tw",
           "Arena of Valor",
           "Multiplayer Online Battle Arena"
          ],
          [
           70343,
           "-",
           "-",
           "Rain",
           "tw",
           "Arena of Valor",
           "Multiplayer Online Battle Arena"
          ],
          [
           12241,
           "Komklit",
           "Wongsawat",
           "O7T-V1",
           "th",
           "Arena of Valor",
           "Multiplayer Online Battle Arena"
          ],
          [
           69797,
           "-",
           "-",
           "139",
           "cn",
           "Arena of Valor",
           "Multiplayer Online Battle Arena"
          ]
         ],
         "hovertemplate": "Genre=%{customdata[6]}<br>TotalUSDPrize=%{x}<br>PlayerId=%{customdata[0]}<br>NameFirst=%{customdata[1]}<br>NameLast=%{customdata[2]}<br>CurrentHandle=%{customdata[3]}<br>CountryCode=%{customdata[4]}<br>Game=%{customdata[5]}<extra></extra>",
         "legendgroup": "Multiplayer Online Battle Arena",
         "marker": {
          "color": "#EF553B"
         },
         "name": "Multiplayer Online Battle Arena",
         "notched": true,
         "offsetgroup": "Multiplayer Online Battle Arena",
         "showlegend": false,
         "type": "box",
         "x": [
          6952596.58,
          6470000.02,
          6000411.96,
          5554297.41,
          5470902.57,
          5193382.81,
          4798043.68,
          4579118.16,
          4193412.69,
          3765369.04,
          3608317.34,
          3057237.67,
          2995619.62,
          2984982.14,
          2894690.34,
          2864004.17,
          2551657.34,
          2545626.14,
          2504134.31,
          2381155.91,
          2275625.58,
          2257053.21,
          2244012.27,
          2097095.28,
          2078534.86,
          2007841.6,
          2006311.11,
          2002159.51,
          1982225.7,
          1960956.47,
          1882492.98,
          1848849.88,
          1830094.33,
          1809225.3,
          1787796.92,
          1787083.53,
          1781891.47,
          1778125.61,
          1755205.74,
          1745944.26,
          1713179.57,
          1617323.45,
          1598492.49,
          1553261.96,
          1533698.67,
          1484921.92,
          1460470.75,
          1402208.92,
          1386339.43,
          1348804.67,
          1337308.37,
          1325834.13,
          1314968.82,
          1272450.74,
          1271085,
          1221917.1,
          1212757.14,
          1211710.47,
          1202225.88,
          1186002.61,
          1100271.44,
          1081544.74,
          1046689.75,
          1023582.18,
          1001723.8,
          989390.86,
          987072.69,
          933853.71,
          917449.86,
          871452.21,
          865656.21,
          845345.4,
          830696.89,
          822916.86,
          821961.68,
          813169.73,
          801915.23,
          798597.31,
          781396.55,
          780761.31,
          770563.75,
          734369.52,
          714049.53,
          710464.63,
          705536.2,
          698363.52,
          692327.42,
          679039.12,
          661271.48,
          653514.33,
          643143.08,
          641178.98,
          638938.79,
          609393.1,
          602221.88,
          601854.15,
          594922.51,
          591322.79,
          591271.39,
          591176.77,
          1257615.87,
          954620.62,
          915451.46,
          913084.7,
          810683,
          682248.64,
          610445.7,
          566607.87,
          559518.75,
          556087.84,
          553234.2,
          548235.82,
          545447.56,
          538926.12,
          538444.86,
          533979.52,
          526957.64,
          515306.14,
          507800.58,
          488379.08,
          483747.81,
          479060.15,
          472216.01,
          471280.47,
          471086.78,
          458259.05,
          440580.94,
          438830.14,
          422314.79,
          409144.64,
          403320.75,
          379664.5,
          374778.08,
          360201.28,
          348691.73,
          347699.25,
          346307.48,
          337832.12,
          337163.36,
          336306.24,
          330849.29,
          329318.02,
          325910.24,
          318379.81,
          313654.08,
          306475.81,
          300818.81,
          287279.5,
          286115.32,
          282456.48,
          281150.19,
          271901.75,
          268282.03,
          267646.88,
          266509.03,
          265601.98,
          265429.15,
          265283.06,
          260755.41,
          260170.9,
          257257.41,
          256771.39,
          252718.89,
          250580.01,
          250222.7,
          249497.86,
          242290.45,
          240437.63,
          232418.28,
          229438.65,
          225522.01,
          224722.01,
          220292.5,
          219660.3,
          217429.72,
          216539.83,
          206587.79,
          198089.09,
          191889.12,
          189265.81,
          185512.99,
          184100.69,
          183976.33,
          182877.42,
          182066.13,
          180858.29,
          177780.23,
          177478.08,
          177331.43,
          176983.88,
          174361.72,
          173098.69,
          170911.34,
          170679.58,
          166127.4,
          165169.85,
          164821.18,
          161938.75,
          160818.8,
          159402.36,
          464560.82,
          462790.78,
          427923.28,
          360093.52,
          353715.98,
          264826.14,
          239311.62,
          238798.57,
          229170.87,
          211104.46,
          200447.42,
          191647.23,
          187978.31,
          184790.78,
          184411.26,
          180964.31,
          164811.62,
          156959.11,
          151828.25,
          149291.76,
          147500,
          146932.17,
          145068.51,
          138297.16,
          138237.16,
          134818.57,
          128659.74,
          123398.02,
          122420.01,
          120263.57,
          114751.8,
          114207.06,
          112337.16,
          112170.41,
          110050.76,
          109714.8,
          106462.18,
          106288.65,
          105541.2,
          103282.92,
          102971.54,
          97856.2,
          97833.37,
          94813.8,
          93149.29,
          93131.84,
          92591.2,
          92397.81,
          90136.72,
          89529.34,
          89214.8,
          88040.91,
          87834.52,
          86588.9,
          85836.53,
          85535.96,
          84500,
          83962.45,
          80661.2,
          79790.68,
          77997.16,
          76798.88,
          75978.57,
          75648.35,
          75380.4,
          73817.6,
          73072.6,
          72193.01,
          70434.23,
          69829.77,
          69791.28,
          67862.48,
          67720,
          66663.8,
          65965.06,
          65525.96,
          65516.28,
          64763.4,
          64763.4,
          64742.6,
          64742.6,
          64112.6,
          63634.48,
          63405.8,
          60952.31,
          60502.6,
          58569.42,
          57792,
          57228,
          57198.2,
          56726.85,
          55970.05,
          53541,
          52978.13,
          51663.14,
          51636.85,
          51453.4,
          50572.68,
          50549.34,
          50545.96,
          465685.85,
          416162.04,
          399019.18,
          399019.18,
          399019.18,
          152734.63,
          143598.03,
          135749.99,
          133558.02,
          133558.02,
          133380.96,
          131670.38,
          131425.77,
          125644.94,
          122860.21,
          122693.28,
          122650.01,
          118657.27,
          117894.7,
          115644.94,
          113262.7,
          111710.36,
          111582.45,
          110644.94,
          110644.94,
          108311.67,
          98723.19,
          90798.66,
          89669.63,
          86881.37,
          86666.67,
          74492.23,
          71604.67,
          66666.67,
          65922.73,
          65922.73,
          65922.73,
          65922.73,
          65922.73,
          65922.73,
          65922.73,
          65922.73,
          65922.73,
          65922.73,
          65922.73,
          61228.35,
          58200.95,
          58160.23,
          58160.23,
          58160.23,
          58160.23,
          58160.23,
          57378.78,
          56270.18,
          55685.67,
          54159.21,
          54156.23,
          52118.54,
          51203.24,
          47549.95,
          46891.35,
          46641.1,
          46258.63,
          45995.54,
          44916.44,
          44591.96,
          43264.58,
          42482.43,
          42482.43,
          42482.43,
          42482.43,
          42482.43,
          41144.36,
          40376.87,
          38892.33,
          36171.67,
          36171.67,
          36171.67,
          36171.67,
          35049.38,
          34811.67,
          34190.6,
          33892.33,
          33892.33,
          33333.33,
          31489.38,
          31489.38,
          29676,
          28860,
          28816,
          28083.35,
          27580.07,
          27074.4,
          26695.5,
          26666.67,
          26666.67,
          26666.67,
          26645,
          25941.03,
          24171.67
         ],
         "xaxis": "x2",
         "yaxis": "y2"
        },
        {
         "alignmentgroup": "True",
         "bingroup": "x",
         "hovertemplate": "Genre=Battle Royale<br>TotalUSDPrize=%{x}<br>count=%{y}<extra></extra>",
         "legendgroup": "Battle Royale",
         "marker": {
          "color": "#00cc96",
          "pattern": {
           "shape": ""
          }
         },
         "name": "Battle Royale",
         "offsetgroup": "Battle Royale",
         "orientation": "v",
         "showlegend": true,
         "type": "histogram",
         "x": [
          3141395.05,
          1923774.23,
          1873138.8,
          1536845.69,
          1349767.32,
          1331128.07,
          1213576.66,
          1200043.07,
          1186189.75,
          1126345.35,
          1109880.47,
          1021000,
          991583.2,
          850264.02,
          775574.81,
          715350,
          673154.23,
          615626.39,
          608416.68,
          594850,
          506099.73,
          496429.32,
          492271.94,
          482850,
          474562.23,
          468099.99,
          437975,
          437369.11,
          417366.67,
          414258.4,
          381283.32,
          360841.67,
          350238.8,
          345750,
          341250,
          341250,
          341250,
          341066.67,
          326176.94,
          324900,
          315616.67,
          310008.33,
          285707.09,
          271316.73,
          269887.84,
          255546.92,
          250968.08,
          250938.56,
          250525,
          243025,
          229850.77,
          229464.98,
          228500,
          221752.32,
          217500,
          215605,
          215391.67,
          210575.84,
          207201.06,
          205008.33,
          200130,
          197139.97,
          195617.67,
          193787.59,
          189482.52,
          188358.03,
          188212.42,
          188090,
          187095.73,
          182950,
          179596.3,
          178610,
          176803.33,
          176598.27,
          174733.33,
          174439.58,
          172779.7,
          172583.33,
          172400,
          172385.27,
          167697.53,
          160410.62,
          159833.35,
          159160.84,
          158350,
          153868.98,
          152619.67,
          150900,
          147050,
          144507.88,
          143908.34,
          142413.56,
          141158.34,
          139936.26,
          139866.67,
          137954,
          136820,
          136810,
          135928.06,
          134800,
          703953.94,
          610486.16,
          591248.41,
          585598.46,
          344350.25,
          341362.75,
          325558.75,
          282450.25,
          242483.15,
          230595.65,
          229095.65,
          205477.15,
          181549.66,
          179906.29,
          164612.66,
          163976.97,
          159650.52,
          156140.25,
          153763.01,
          141342.32,
          136120.04,
          135217.79,
          134614.01,
          133114.01,
          131989.19,
          130989.58,
          127694.75,
          127042.27,
          126204.51,
          125722.18,
          119560.82,
          113573,
          112482.56,
          106225,
          105935.34,
          104675,
          104671.25,
          104576.9,
          103739.58,
          102114.43,
          101243.57,
          100930.84,
          98090.7,
          94926.51,
          93098,
          86922.9,
          86853.44,
          85243.75,
          85032.94,
          84148.44,
          82233.44,
          81360.5,
          81023.44,
          79049.82,
          78800,
          78178.8,
          78178.8,
          77092.86,
          75125.32,
          74885.91,
          74811.76,
          71349.2,
          70101.26,
          67744.43,
          67742.92,
          67742.92,
          67742.92,
          67687.33,
          66517.5,
          64373.86,
          64304.93,
          64255.11,
          63736.69,
          63636.03,
          62654.51,
          62114.15,
          62114.15,
          61350,
          59165.88,
          58725.83,
          58710.01,
          58458.75,
          58381.6,
          58295.94,
          57157.65,
          56537.65,
          56496.7,
          55099.91,
          53388.44,
          51048.44,
          50678.6,
          50137.37,
          49761.3,
          49471.55,
          49287.5,
          48617.5,
          48503.23,
          47602.61,
          47090,
          47078.32
         ],
         "xaxis": "x",
         "yaxis": "y"
        },
        {
         "alignmentgroup": "True",
         "customdata": [
          [
           56483,
           "Kyle",
           "Giersdorf",
           "Bugha",
           "us",
           "Fortnite",
           "Battle Royale"
          ],
          [
           59528,
           "David",
           "Wang",
           "Aqua",
           "at",
           "Fortnite",
           "Battle Royale"
          ],
          [
           25047,
           "Harrison",
           "Chang",
           "psalm",
           "us",
           "Fortnite",
           "Battle Royale"
          ],
          [
           54656,
           "Emil",
           "Bergquist Pedersen",
           "Nyhrox",
           "no",
           "Fortnite",
           "Battle Royale"
          ],
          [
           61948,
           "Shane",
           "Cotton",
           "EpikWhale",
           "us",
           "Fortnite",
           "Battle Royale"
          ],
          [
           67334,
           "Jaden",
           "Ashman",
           "Wolfiez",
           "gb",
           "Fortnite",
           "Battle Royale"
          ],
          [
           55139,
           "Dave",
           "Jong",
           "Rojo",
           "nl",
           "Fortnite",
           "Battle Royale"
          ],
          [
           51948,
           "Nate",
           "Kou",
           "Kreo",
           "hk",
           "Fortnite",
           "Battle Royale"
          ],
          [
           51578,
           "Williams",
           "Aubin",
           "Zayt",
           "ca",
           "Fortnite",
           "Battle Royale"
          ],
          [
           51883,
           "Rocco",
           "Morales",
           "Saf",
           "us",
           "Fortnite",
           "Battle Royale"
          ],
          [
           51940,
           "Davis",
           "McClellan",
           "Ceice",
           "us",
           "Fortnite",
           "Battle Royale"
          ],
          [
           61896,
           "Thiago",
           "Lapp",
           "kinG",
           "ar",
           "Fortnite",
           "Battle Royale"
          ],
          [
           51885,
           "Hayden",
           "Krueger",
           "Elevate",
           "us",
           "Fortnite",
           "Battle Royale"
          ],
          [
           49566,
           "Clément",
           "Danglot",
           "Skite",
           "fr",
           "Fortnite",
           "Battle Royale"
          ],
          [
           51611,
           "Dmitri",
           "Van de Vrie",
           "Mitr0",
           "nl",
           "Fortnite",
           "Battle Royale"
          ],
          [
           62314,
           "Theo",
           "Ferrer",
           "Crue",
           "se",
           "Fortnite",
           "Battle Royale"
          ],
          [
           50421,
           "Kyle",
           "Jackson",
           "Mongraal",
           "gb",
           "Fortnite",
           "Battle Royale"
          ],
          [
           51936,
           "Timothy",
           "Miller",
           "Bizzle",
           "us",
           "Fortnite",
           "Battle Royale"
          ],
          [
           62951,
           "Diego",
           "Lima",
           "Arkhram",
           "us",
           "Fortnite",
           "Battle Royale"
          ],
          [
           38125,
           "Turner",
           "Tenney",
           "Tfue",
           "us",
           "Fortnite",
           "Battle Royale"
          ],
          [
           52321,
           "Anthony",
           "Colandro",
           "ZexRow",
           "us",
           "Fortnite",
           "Battle Royale"
          ],
          [
           61243,
           "Benjy David",
           "Fish",
           "BenjyFishy",
           "gb",
           "Fortnite",
           "Battle Royale"
          ],
          [
           57463,
           "Klaus",
           "Konstanzer",
           "stompy",
           "at",
           "Fortnite",
           "Battle Royale"
          ],
          [
           63746,
           "Brendan",
           "Falconer",
           "Falconer",
           "us",
           "Fortnite",
           "Battle Royale"
          ],
          [
           56863,
           "Nathan",
           "Berquignol",
           "Nayte",
           "fr",
           "Fortnite",
           "Battle Royale"
          ],
          [
           57614,
           "Daniel",
           "Walsh",
           "Dubs",
           "us",
           "Fortnite",
           "Battle Royale"
          ],
          [
           49822,
           "Dennis",
           "Lepore",
           "Cloakzy",
           "us",
           "Fortnite",
           "Battle Royale"
          ],
          [
           52428,
           "Nate",
           "Hill",
           "Nate Hill",
           "us",
           "Fortnite",
           "Battle Royale"
          ],
          [
           51579,
           "Noah",
           "Wright",
           "Vivid",
           "us",
           "Fortnite",
           "Battle Royale"
          ],
          [
           49559,
           "Duong",
           "Huynh",
           "Kinstaar",
           "ch",
           "Fortnite",
           "Battle Royale"
          ],
          [
           61769,
           "Noam",
           "Ackenine",
           "Megga",
           "us",
           "Fortnite",
           "Battle Royale"
          ],
          [
           57617,
           "River",
           "Handley",
           "Riversan",
           "us",
           "Fortnite",
           "Battle Royale"
          ],
          [
           55994,
           "Vinny",
           "Gilgan",
           "Vinny",
           "us",
           "Fortnite",
           "Battle Royale"
          ],
          [
           55949,
           "Jack",
           "-",
           "Cizzorz",
           "us",
           "Fortnite",
           "Battle Royale"
          ],
          [
           65114,
           "Tyler",
           "-",
           "hiimtylerh",
           "ca",
           "Fortnite",
           "Battle Royale"
          ],
          [
           65115,
           "Stephan",
           "-",
           "Suezhoo",
           "be",
           "Fortnite",
           "Battle Royale"
          ],
          [
           65116,
           "-",
           "-",
           "Zand",
           "dk",
           "Fortnite",
           "Battle Royale"
          ],
          [
           49926,
           "Ryan",
           "Chaplo",
           "Chap",
           "us",
           "Fortnite",
           "Battle Royale"
          ],
          [
           55138,
           "Thomas",
           "Hörak",
           "Tschiiinken",
           "at",
           "Fortnite",
           "Battle Royale"
          ],
          [
           49925,
           "Jake",
           "Brumleve",
           "Poach",
           "us",
           "Fortnite",
           "Battle Royale"
          ],
          [
           52429,
           "Trevor",
           "Siegler",
           "FunkBomb",
           "us",
           "Fortnite",
           "Battle Royale"
          ],
          [
           49923,
           "Thomas",
           "Mulligan",
           "72hrs",
           "us",
           "Fortnite",
           "Battle Royale"
          ],
          [
           49868,
           "Pierre",
           "Mesey",
           "Vato",
           "ch",
           "Fortnite",
           "Battle Royale"
          ],
          [
           61171,
           "Martin",
           "Foss",
           "MrSavage",
           "no",
           "Fortnite",
           "Battle Royale"
          ],
          [
           50422,
           "Domeniks",
           "Bunts",
           "Domentos",
           "lv",
           "Fortnite",
           "Battle Royale"
          ],
          [
           51618,
           "Malachi",
           "Greiner",
           "Reverse2k",
           "us",
           "Fortnite",
           "Battle Royale"
          ],
          [
           62105,
           "Cody",
           "Conrod",
           "Clix",
           "us",
           "Fortnite",
           "Battle Royale"
          ],
          [
           53744,
           "Austin",
           "Etue",
           "Morgausse",
           "us",
           "Fortnite",
           "Battle Royale"
          ],
          [
           57599,
           "Mack",
           "Aesoph",
           "MackWood",
           "us",
           "Fortnite",
           "Battle Royale"
          ],
          [
           51884,
           "Dylan",
           "Moore",
           "Dmo",
           "us",
           "Fortnite",
           "Battle Royale"
          ],
          [
           64298,
           "Jonathan",
           "Weber",
           "yung calculator",
           "us",
           "Fortnite",
           "Battle Royale"
          ],
          [
           49561,
           "Corentin",
           "Tardif",
           "Hunter",
           "fr",
           "Fortnite",
           "Battle Royale"
          ],
          [
           65746,
           "William",
           "Paquin-Brien",
           "Fatch",
           "ca",
           "Fortnite",
           "Battle Royale"
          ],
          [
           61277,
           "Josh",
           "Roach",
           "Commandment",
           "us",
           "Fortnite",
           "Battle Royale"
          ],
          [
           3591,
           "Keenan",
           "Santos",
           "Rhux",
           "us",
           "Fortnite",
           "Battle Royale"
          ],
          [
           61414,
           "Calum",
           "MacGillivray",
           "itemm",
           "gb",
           "Fortnite",
           "Battle Royale"
          ],
          [
           54842,
           "Nick",
           "McGuire",
           "Aspect",
           "us",
           "Fortnite",
           "Battle Royale"
          ],
          [
           51594,
           "Adam",
           "Boyer-Dræby",
           "Boyer",
           "dk",
           "Fortnite",
           "Battle Royale"
          ],
          [
           51909,
           "Patrik",
           "Zaharchenko",
           "Pate1k",
           "no",
           "Fortnite",
           "Battle Royale"
          ],
          [
           51924,
           "Sven",
           "Edelenbosch",
           "Svennoss",
           "nl",
           "Fortnite",
           "Battle Royale"
          ],
          [
           80698,
           "Tai",
           "Starčič",
           "TaySon",
           "si",
           "Fortnite",
           "Battle Royale"
          ],
          [
           51592,
           "Liam",
           "Fillery",
           "Kamo",
           "de",
           "Fortnite",
           "Battle Royale"
          ],
          [
           62999,
           "Fabian",
           "Real",
           "Derox",
           "de",
           "Fortnite",
           "Battle Royale"
          ],
          [
           51908,
           "Yan",
           "Kaur",
           "Fwexy",
           "ru",
           "Fortnite",
           "Battle Royale"
          ],
          [
           56925,
           "Mark",
           "Danilov",
           "Letw1k3",
           "ru",
           "Fortnite",
           "Battle Royale"
          ],
          [
           51593,
           "Artur",
           "Kurshin",
           "7ssk7",
           "by",
           "Fortnite",
           "Battle Royale"
          ],
          [
           63544,
           "Jannis",
           "Matwin",
           "JannisZ",
           "de",
           "Fortnite",
           "Battle Royale"
          ],
          [
           80697,
           "Thomas",
           "Davidsen",
           "Th0masHD",
           "dk",
           "Fortnite",
           "Battle Royale"
          ],
          [
           61233,
           "Alexandre",
           "Christophe",
           "Andilex",
           "fr",
           "Fortnite",
           "Battle Royale"
          ],
          [
           61777,
           "Julio Cesar",
           "Nevarez",
           "Pika",
           "us",
           "Fortnite",
           "Battle Royale"
          ],
          [
           44303,
           "Klaivert",
           "Dervishi",
           "Teeqzy",
           "be",
           "Fortnite",
           "Battle Royale"
          ],
          [
           57084,
           "Lassi",
           "Kallio",
           "BELAEU",
           "fi",
           "Fortnite",
           "Battle Royale"
          ],
          [
           66611,
           "Endre",
           "Byre",
           "Endretta",
           "no",
           "Fortnite",
           "Battle Royale"
          ],
          [
           3948,
           "Karim",
           "Benghalia",
           "Aïrwaks",
           "ch",
           "Fortnite",
           "Battle Royale"
          ],
          [
           53745,
           "Sean",
           "Close",
           "Sean",
           "ca",
           "Fortnite",
           "Battle Royale"
          ],
          [
           56302,
           "Felix",
           "Hortlund",
           "Wakie",
           "se",
           "Fortnite",
           "Battle Royale"
          ],
          [
           52287,
           "Jamal",
           "Saidayev",
           "Jamside",
           "ru",
           "Fortnite",
           "Battle Royale"
          ],
          [
           51619,
           "Aydan",
           "Conrad",
           "Aydan",
           "us",
           "Fortnite",
           "Battle Royale"
          ],
          [
           60945,
           "Pontus",
           "Bucht",
           "Tchub",
           "se",
           "Fortnite",
           "Battle Royale"
          ],
          [
           55243,
           "Howard",
           "Castiaux",
           "Noward",
           "be",
           "Fortnite",
           "Battle Royale"
          ],
          [
           52467,
           "Blaž",
           "Lešnik",
           "K1nzell",
           "si",
           "Fortnite",
           "Battle Royale"
          ],
          [
           57610,
           "Evan",
           "Barron",
           "Cented",
           "ca",
           "Fortnite",
           "Battle Royale"
          ],
          [
           61626,
           "Dominick",
           "Green",
           "Unknown",
           "us",
           "Fortnite",
           "Battle Royale"
          ],
          [
           56301,
           "Alexander",
           "Zayedli",
           "Znappy",
           "se",
           "Fortnite",
           "Battle Royale"
          ],
          [
           51973,
           "David",
           "Bois",
           "LeNain",
           "ca",
           "Fortnite",
           "Battle Royale"
          ],
          [
           61776,
           "Ben",
           "Peterson",
           "Edgey",
           "us",
           "Fortnite",
           "Battle Royale"
          ],
          [
           49845,
           "Maxime",
           "Thomas",
           "Blax",
           "fr",
           "Fortnite",
           "Battle Royale"
          ],
          [
           52283,
           "Anthony",
           "Waller",
           "Tendons",
           "us",
           "Fortnite",
           "Battle Royale"
          ],
          [
           51535,
           "Jong Su",
           "Lee",
           "Peterpan",
           "kr",
           "Fortnite",
           "Battle Royale"
          ],
          [
           49841,
           "Victor",
           "Lopez",
           "TheVic",
           "fr",
           "Fortnite",
           "Battle Royale"
          ],
          [
           65470,
           "-",
           "-",
           "Furious",
           "us",
           "Fortnite",
           "Battle Royale"
          ],
          [
           1219,
           "Tyler",
           "Blevins",
           "Ninja",
           "us",
           "Fortnite",
           "Battle Royale"
          ],
          [
           65087,
           "-",
           "-",
           "4DRStorm",
           "us",
           "Fortnite",
           "Battle Royale"
          ],
          [
           60950,
           "Zygimantas",
           "Navickas",
           "Redrush",
           "lt",
           "Fortnite",
           "Battle Royale"
          ],
          [
           51581,
           "Mason",
           "Lanier",
           "Symfuhny",
           "us",
           "Fortnite",
           "Battle Royale"
          ],
          [
           49578,
           "Nicolas",
           "Frejavise",
           "Nikof",
           "fr",
           "Fortnite",
           "Battle Royale"
          ],
          [
           62624,
           "Moussa",
           "Faour",
           "Chapix",
           "se",
           "Fortnite",
           "Battle Royale"
          ],
          [
           62071,
           "Jonas Colkær",
           "Thomsen",
           "Klusia",
           "dk",
           "Fortnite",
           "Battle Royale"
          ],
          [
           64190,
           "Kevin",
           "Fedjuschkin",
           "Letshe",
           "de",
           "Fortnite",
           "Battle Royale"
          ],
          [
           57034,
           "Jordan",
           "Tucker",
           "Tuckz",
           "gb",
           "Fortnite",
           "Battle Royale"
          ],
          [
           48322,
           "Jeong Yeong",
           "Bak",
           "Loki",
           "kr",
           "PUBG",
           "Battle Royale"
          ],
          [
           43755,
           "Jeong Wan",
           "Go",
           "ESTH3R",
           "kr",
           "PUBG",
           "Battle Royale"
          ],
          [
           56720,
           "Seung Hoon",
           "Cha",
           "Pio",
           "kr",
           "PUBG",
           "Battle Royale"
          ],
          [
           43849,
           "Tae Min",
           "Kang",
           "Taemin",
           "kr",
           "PUBG",
           "Battle Royale"
          ],
          [
           43862,
           "David",
           "Tillberg",
           "fuzzface",
           "se",
           "PUBG",
           "Battle Royale"
          ],
          [
           43808,
           "Anssi",
           "Pekkonen",
           "mxey",
           "fi",
           "PUBG",
           "Battle Royale"
          ],
          [
           14768,
           "Ivan",
           "Kapustin",
           "ubah",
           "ru",
           "PUBG",
           "Battle Royale"
          ],
          [
           43816,
           "Ludvik",
           "Jahnsen",
           "Aitzy",
           "no",
           "PUBG",
           "Battle Royale"
          ],
          [
           43807,
           "Samu",
           "Kauppinen",
           "Sambty",
           "fi",
           "PUBG",
           "Battle Royale"
          ],
          [
           45853,
           "Jim",
           "Eliassen",
           "Jeemzz",
           "no",
           "PUBG",
           "Battle Royale"
          ],
          [
           45855,
           "Jord",
           "van Geldere",
           "Ibiza",
           "nl",
           "PUBG",
           "Battle Royale"
          ],
          [
           45733,
           "Hao",
           "Yao",
           "lionkk",
           "cn",
           "PUBG",
           "Battle Royale"
          ],
          [
           45586,
           "Yan",
           "Wang",
           "silentBT_",
           "cn",
           "PUBG",
           "Battle Royale"
          ],
          [
           47413,
           "Jinhai",
           "Zhang",
           "xiaohaixxxx",
           "cn",
           "PUBG",
           "Battle Royale"
          ],
          [
           11221,
           "Zhen",
           "Wei",
           "GodV",
           "cn",
           "PUBG",
           "Battle Royale"
          ],
          [
           45584,
           "Liangguang",
           "Liao",
           "xiaorong",
           "cn",
           "PUBG",
           "Battle Royale"
          ],
          [
           43806,
           "Luke",
           "Laing",
           "Meluke",
           "ca",
           "PUBG",
           "Battle Royale"
          ],
          [
           43809,
           "Jere",
           "Kauppinen",
           "Jembty",
           "fi",
           "PUBG",
           "Battle Royale"
          ],
          [
           32846,
           "In Jae",
           "Kim",
           "EscA",
           "kr",
           "PUBG",
           "Battle Royale"
          ],
          [
           45687,
           "Jang Hwan",
           "Seong",
           "seongjang",
           "kr",
           "PUBG",
           "Battle Royale"
          ],
          [
           46776,
           "Do-hoon",
           "Seol",
           "indigo",
           "kr",
           "PUBG",
           "Battle Royale"
          ],
          [
           31327,
           "Su Yong",
           "Jeong",
           "kAyle",
           "kr",
           "PUBG",
           "Battle Royale"
          ],
          [
           47493,
           "Alex",
           "Gouge",
           "vard",
           "gb",
           "PUBG",
           "Battle Royale"
          ],
          [
           47491,
           "Justin",
           "McNally",
           "MiracU",
           "ie",
           "PUBG",
           "Battle Royale"
          ],
          [
           43801,
           "Magno",
           "Ramos",
           "Pr0phie",
           "ph",
           "PUBG",
           "Battle Royale"
          ],
          [
           50050,
           "Logan",
           "Heckman",
           "Zanpah",
           "us",
           "PUBG",
           "Battle Royale"
          ],
          [
           61315,
           "Mike",
           "Gariti",
           "Sharky",
           "us",
           "PUBG",
           "Battle Royale"
          ],
          [
           48323,
           "Min Ki",
           "Kim",
           "Chelator",
           "kr",
           "PUBG",
           "Battle Royale"
          ],
          [
           41259,
           "Keiron",
           "Prescott",
           "Scoom",
           "gi",
           "PUBG",
           "Battle Royale"
          ],
          [
           45412,
           "Young Hoon",
           "Shim",
           "Simsn",
           "kr",
           "PUBG",
           "Battle Royale"
          ],
          [
           53797,
           "Zheng",
           "Wu",
           "Forever",
           "cn",
           "PUBG",
           "Battle Royale"
          ],
          [
           51125,
           "Thierry",
           "Kaltenback",
           "Kaymind",
           "ca",
           "PUBG",
           "Battle Royale"
          ],
          [
           47416,
           "Xin",
           "Wang",
           "ZGGO1",
           "cn",
           "PUBG",
           "Battle Royale"
          ],
          [
           48931,
           "Roman",
           "Zinoviev",
           "ADOUZ1E",
           "ru",
           "PUBG",
           "Battle Royale"
          ],
          [
           73839,
           "Daying",
           "Wei",
           "xxxLu",
           "cn",
           "PUBG",
           "Battle Royale"
          ],
          [
           44865,
           "Arsenii",
           "Ivanychev",
           "ceh9",
           "ru",
           "PUBG",
           "Battle Royale"
          ],
          [
           47489,
           "Vadim",
           "Ulshin",
           "POKAMOLODOY",
           "ru",
           "PUBG",
           "Battle Royale"
          ],
          [
           50402,
           "Jong Ho",
           "Lee",
           "Starlord",
           "kr",
           "PUBG",
           "Battle Royale"
          ],
          [
           43805,
           "Diondre",
           "Bond",
           "YaBoiDre",
           "us",
           "PUBG",
           "Battle Royale"
          ],
          [
           46761,
           "-",
           "-",
           "Menteul",
           "kr",
           "PUBG",
           "Battle Royale"
          ],
          [
           50405,
           "Rak Gwon",
           "Chung",
           "Hulk",
           "kr",
           "PUBG",
           "Battle Royale"
          ],
          [
           60103,
           "Do-hyun",
           "Kim",
           "Daengchae",
           "kr",
           "PUBG",
           "Battle Royale"
          ],
          [
           49455,
           "Hwan",
           "Jang",
           "Hwan2da",
           "kr",
           "PUBG",
           "Battle Royale"
          ],
          [
           47492,
           "Laurynas",
           "Rudys",
           "Gaxy",
           "lt",
           "PUBG",
           "Battle Royale"
          ],
          [
           48868,
           "Ben",
           "Wheeler",
           "Nerf",
           "us",
           "PUBG",
           "Battle Royale"
          ],
          [
           55316,
           "Chuan",
           "Yu",
           "Summer",
           "cn",
           "PUBG",
           "Battle Royale"
          ],
          [
           48882,
           "Timothy",
           "Ebarb",
           "Uncivil",
           "us",
           "PUBG",
           "Battle Royale"
          ],
          [
           51774,
           "Ömer",
           "Develi",
           "Iroh",
           "tr",
           "PUBG",
           "Battle Royale"
          ],
          [
           12917,
           "Hunter",
           "Winn",
           "hwinn",
           "us",
           "PUBG",
           "Battle Royale"
          ],
          [
           48307,
           "Kurtis",
           "Bond",
           "Purdy",
           "us",
           "PUBG",
           "Battle Royale"
          ],
          [
           43800,
           "Kevin",
           "Linn",
           "Miccoy",
           "us",
           "PUBG",
           "Battle Royale"
          ],
          [
           42876,
           "Mehmood Amin",
           "Askar",
           "Moody",
           "ca",
           "PUBG",
           "Battle Royale"
          ],
          [
           56684,
           "Aaron",
           "Lommen",
           "aLOW",
           "us",
           "PUBG",
           "Battle Royale"
          ],
          [
           66881,
           "Luke",
           "Newey",
           "Luke12",
           "au",
           "PUBG",
           "Battle Royale"
          ],
          [
           57401,
           "Andrey",
           "Ionov",
           "Bestoloch",
           "ru",
           "PUBG",
           "Battle Royale"
          ],
          [
           49801,
           "Kang",
           "Wang",
           "shou",
           "cn",
           "PUBG",
           "Battle Royale"
          ],
          [
           49802,
           "Jiang Hua",
           "Chen",
           "shox",
           "cn",
           "PUBG",
           "Battle Royale"
          ],
          [
           50052,
           "Daniel",
           "Hernandez",
           "Sharpshothd",
           "cu",
           "PUBG",
           "Battle Royale"
          ],
          [
           45408,
           "-",
           "-",
           "BBABBO",
           "kr",
           "PUBG",
           "Battle Royale"
          ],
          [
           43752,
           "Jae Hyun",
           "Han",
           "SexyPIG",
           "kr",
           "PUBG",
           "Battle Royale"
          ],
          [
           43797,
           "Romain",
           "Hermann",
           "Shiv",
           "fr",
           "PUBG",
           "Battle Royale"
          ],
          [
           48377,
           "Damien",
           "Valliant",
           "Dahmien7",
           "fr",
           "PUBG",
           "Battle Royale"
          ],
          [
           43754,
           "Kyung Chul",
           "Oh",
           "style",
           "kr",
           "PUBG",
           "Battle Royale"
          ],
          [
           50364,
           "Bo Hyun",
           "Kim",
           "YaKK",
           "kr",
           "PUBG",
           "Battle Royale"
          ],
          [
           69545,
           "Qicheng",
           "Chen",
           "BoLiang",
           "cn",
           "PUBG",
           "Battle Royale"
          ],
          [
           69546,
           "Xin",
           "Lin",
           "L1nnnn",
           "cn",
           "PUBG",
           "Battle Royale"
          ],
          [
           69547,
           "Ruilong",
           "Deng",
           "LongSkr",
           "cn",
           "PUBG",
           "Battle Royale"
          ],
          [
           74025,
           "Do-gyeong",
           "Kim",
           "DoYa",
           "kr",
           "PUBG",
           "Battle Royale"
          ],
          [
           48695,
           "Gustav",
           "Blønd",
           "GustavQQ",
           "dk",
           "PUBG",
           "Battle Royale"
          ],
          [
           69544,
           "Bohang",
           "Li",
           "JiaoYang",
           "cn",
           "PUBG",
           "Battle Royale"
          ],
          [
           49806,
           "-",
           "-",
           "Tide",
           "cn",
           "PUBG",
           "Battle Royale"
          ],
          [
           50410,
           "-",
           "-",
           "DG98",
           "kr",
           "PUBG",
           "Battle Royale"
          ],
          [
           61319,
           "Tristan",
           "Nowicky",
           "Shrimzy",
           "us",
           "PUBG",
           "Battle Royale"
          ],
          [
           49144,
           "Yu-Ze",
           "Sun",
           "CPT",
           "cn",
           "PUBG",
           "Battle Royale"
          ],
          [
           43810,
           "Adrian",
           "Blom",
           "Haxete",
           "se",
           "PUBG",
           "Battle Royale"
          ],
          [
           66526,
           "-",
           "-",
           "DouM",
           "cn",
           "PUBG",
           "Battle Royale"
          ],
          [
           66527,
           "-",
           "-",
           "DJBOY",
           "cn",
           "PUBG",
           "Battle Royale"
          ],
          [
           47494,
           "Mathias",
           "Larsen",
           "Larsen",
           "dk",
           "PUBG",
           "Battle Royale"
          ],
          [
           45403,
           "Hyun Woo",
           "Yoon",
           "yoonroot",
           "kr",
           "PUBG",
           "Battle Royale"
          ],
          [
           51402,
           "Hữu Đoàn",
           "Nguyễn",
           "Leviz",
           "vn",
           "PUBG",
           "Battle Royale"
          ],
          [
           48134,
           "-",
           "-",
           "LinShuNN",
           "cn",
           "PUBG",
           "Battle Royale"
          ],
          [
           41249,
           "Alexey",
           "Trufanov",
           "0nuqtive",
           "ru",
           "PUBG",
           "Battle Royale"
          ],
          [
           48124,
           "Xin-hao",
           "Pan",
           "BaoLeiNB",
           "cn",
           "PUBG",
           "Battle Royale"
          ],
          [
           40001,
           "Cedrik",
           "Lessard",
           "DrasseL",
           "ca",
           "PUBG",
           "Battle Royale"
          ],
          [
           48125,
           "Pengcheng",
           "Wang",
           "jiaozhu",
           "cn",
           "PUBG",
           "Battle Royale"
          ],
          [
           48122,
           "Boyuan",
           "Wang",
           "Wang88",
           "cn",
           "PUBG",
           "Battle Royale"
          ],
          [
           47151,
           "Gil Do",
           "Lee",
           "Temeria",
           "kr",
           "PUBG",
           "Battle Royale"
          ],
          [
           39822,
           "-",
           "-",
           "Qmccc",
           "cn",
           "PUBG",
           "Battle Royale"
          ],
          [
           48875,
           "Jace",
           "Patras",
           "Voxsic",
           "us",
           "PUBG",
           "Battle Royale"
          ],
          [
           50167,
           "Patrick",
           "Kaplan",
           "PAT KAPS",
           "us",
           "PUBG",
           "Battle Royale"
          ],
          [
           55685,
           "-",
           "-",
           "Dongdong",
           "cn",
           "PUBG",
           "Battle Royale"
          ],
          [
           49460,
           "Seung Sun",
           "Lee",
           "shadow",
           "kr",
           "PUBG",
           "Battle Royale"
          ],
          [
           48935,
           "Magnus",
           "Hartmann",
           "udyRR",
           "de",
           "PUBG",
           "Battle Royale"
          ],
          [
           48938,
           "René",
           "Rehling",
           "Braexco",
           "de",
           "PUBG",
           "Battle Royale"
          ],
          [
           48874,
           "Michael",
           "Wake",
           "mykLe",
           "gb",
           "PUBG",
           "Battle Royale"
          ],
          [
           56973,
           "-",
           "-",
           "067QAQ",
           "cn",
           "PUBG",
           "Battle Royale"
          ],
          [
           45682,
           "-",
           "-",
           "Makne",
           "kr",
           "PUBG",
           "Battle Royale"
          ],
          [
           63566,
           "Katanyu",
           "Chinsorranan",
           "DUCKMANZ",
           "th",
           "PUBG",
           "Battle Royale"
          ],
          [
           35048,
           "Sebastian",
           "Berendt",
           "BALLOC",
           "dk",
           "PUBG",
           "Battle Royale"
          ],
          [
           50102,
           "Jake",
           "Winant",
           "Snakers",
           "us",
           "PUBG",
           "Battle Royale"
          ]
         ],
         "hovertemplate": "Genre=%{customdata[6]}<br>TotalUSDPrize=%{x}<br>PlayerId=%{customdata[0]}<br>NameFirst=%{customdata[1]}<br>NameLast=%{customdata[2]}<br>CurrentHandle=%{customdata[3]}<br>CountryCode=%{customdata[4]}<br>Game=%{customdata[5]}<extra></extra>",
         "legendgroup": "Battle Royale",
         "marker": {
          "color": "#00cc96"
         },
         "name": "Battle Royale",
         "notched": true,
         "offsetgroup": "Battle Royale",
         "showlegend": false,
         "type": "box",
         "x": [
          3141395.05,
          1923774.23,
          1873138.8,
          1536845.69,
          1349767.32,
          1331128.07,
          1213576.66,
          1200043.07,
          1186189.75,
          1126345.35,
          1109880.47,
          1021000,
          991583.2,
          850264.02,
          775574.81,
          715350,
          673154.23,
          615626.39,
          608416.68,
          594850,
          506099.73,
          496429.32,
          492271.94,
          482850,
          474562.23,
          468099.99,
          437975,
          437369.11,
          417366.67,
          414258.4,
          381283.32,
          360841.67,
          350238.8,
          345750,
          341250,
          341250,
          341250,
          341066.67,
          326176.94,
          324900,
          315616.67,
          310008.33,
          285707.09,
          271316.73,
          269887.84,
          255546.92,
          250968.08,
          250938.56,
          250525,
          243025,
          229850.77,
          229464.98,
          228500,
          221752.32,
          217500,
          215605,
          215391.67,
          210575.84,
          207201.06,
          205008.33,
          200130,
          197139.97,
          195617.67,
          193787.59,
          189482.52,
          188358.03,
          188212.42,
          188090,
          187095.73,
          182950,
          179596.3,
          178610,
          176803.33,
          176598.27,
          174733.33,
          174439.58,
          172779.7,
          172583.33,
          172400,
          172385.27,
          167697.53,
          160410.62,
          159833.35,
          159160.84,
          158350,
          153868.98,
          152619.67,
          150900,
          147050,
          144507.88,
          143908.34,
          142413.56,
          141158.34,
          139936.26,
          139866.67,
          137954,
          136820,
          136810,
          135928.06,
          134800,
          703953.94,
          610486.16,
          591248.41,
          585598.46,
          344350.25,
          341362.75,
          325558.75,
          282450.25,
          242483.15,
          230595.65,
          229095.65,
          205477.15,
          181549.66,
          179906.29,
          164612.66,
          163976.97,
          159650.52,
          156140.25,
          153763.01,
          141342.32,
          136120.04,
          135217.79,
          134614.01,
          133114.01,
          131989.19,
          130989.58,
          127694.75,
          127042.27,
          126204.51,
          125722.18,
          119560.82,
          113573,
          112482.56,
          106225,
          105935.34,
          104675,
          104671.25,
          104576.9,
          103739.58,
          102114.43,
          101243.57,
          100930.84,
          98090.7,
          94926.51,
          93098,
          86922.9,
          86853.44,
          85243.75,
          85032.94,
          84148.44,
          82233.44,
          81360.5,
          81023.44,
          79049.82,
          78800,
          78178.8,
          78178.8,
          77092.86,
          75125.32,
          74885.91,
          74811.76,
          71349.2,
          70101.26,
          67744.43,
          67742.92,
          67742.92,
          67742.92,
          67687.33,
          66517.5,
          64373.86,
          64304.93,
          64255.11,
          63736.69,
          63636.03,
          62654.51,
          62114.15,
          62114.15,
          61350,
          59165.88,
          58725.83,
          58710.01,
          58458.75,
          58381.6,
          58295.94,
          57157.65,
          56537.65,
          56496.7,
          55099.91,
          53388.44,
          51048.44,
          50678.6,
          50137.37,
          49761.3,
          49471.55,
          49287.5,
          48617.5,
          48503.23,
          47602.61,
          47090,
          47078.32
         ],
         "xaxis": "x2",
         "yaxis": "y2"
        },
        {
         "alignmentgroup": "True",
         "bingroup": "x",
         "hovertemplate": "Genre=Strategy<br>TotalUSDPrize=%{x}<br>count=%{y}<extra></extra>",
         "legendgroup": "Strategy",
         "marker": {
          "color": "#ab63fa",
          "pattern": {
           "shape": ""
          }
         },
         "name": "Strategy",
         "offsetgroup": "Strategy",
         "orientation": "v",
         "showlegend": true,
         "type": "histogram",
         "x": [
          893336.55,
          886795.83,
          883148.24,
          794627.39,
          762437,
          673162.61,
          631829.71,
          628026.1,
          616412.36,
          558114.07,
          523847.63,
          509771.79,
          479324.03,
          475900.67,
          451943.24,
          427239.54,
          415145.07,
          407169.17,
          404994.83,
          388919.99,
          377144.16,
          372788.71,
          371725.19,
          363307.59,
          341093.28,
          304291.61,
          303679.63,
          298622.85,
          289675.08,
          288257.14,
          288225.07,
          282135.93,
          280334.78,
          265914.84,
          264095.3,
          261892.87,
          243027.72,
          236690.51,
          233783.91,
          227008.15,
          224833.53,
          218911.98,
          212397.14,
          204079.55,
          189776.99,
          184811.62,
          183568.96,
          177659.71,
          172891.85,
          167442.47,
          158091.74,
          155836.32,
          153116.49,
          150578.81,
          149003.23,
          148758.87,
          148558.05,
          147459.89,
          147378.95,
          143862.24,
          142369.56,
          141938.84,
          141662.54,
          134300.51,
          133917.25,
          132306.1,
          130550.93,
          127688.41,
          125173.05,
          115102.67,
          114416.73,
          114305.31,
          111579.95,
          111540.17,
          109736.18,
          109440.09,
          108009.18,
          103798.04,
          102860.5,
          102682.9,
          100271.58,
          97741.11,
          96604.3,
          96034.27,
          94907.1,
          94856.43,
          93903.11,
          93866.46,
          93775.14,
          92282.22,
          91850.98,
          90452.98,
          90152.64,
          89725.4,
          86634.27,
          84794.99,
          84195.98,
          84119.07,
          83622.52,
          81795.94
         ],
         "xaxis": "x",
         "yaxis": "y"
        },
        {
         "alignmentgroup": "True",
         "customdata": [
          [
           5513,
           "Joona",
           "Sotala",
           "Serral",
           "fi",
           "Starcraft II",
           "Strategy"
          ],
          [
           1126,
           "Sung Choo",
           "Cho",
           "Maru",
           "kr",
           "Starcraft II",
           "Strategy"
          ],
          [
           4070,
           "Byung Ryul",
           "Lee",
           "Rogue",
           "kr",
           "Starcraft II",
           "Strategy"
          ],
          [
           3620,
           "Ryung Woo",
           "Park",
           "Dark",
           "kr",
           "Starcraft II",
           "Strategy"
          ],
          [
           2268,
           "Shin Hyung",
           "Lee",
           "INnoVation",
           "kr",
           "Starcraft II",
           "Strategy"
          ],
          [
           2224,
           "Tae Yang",
           "Jun",
           "TY",
           "kr",
           "Starcraft II",
           "Strategy"
          ],
          [
           2236,
           "Dae Yeob",
           "Kim",
           "Stats",
           "kr",
           "Starcraft II",
           "Strategy"
          ],
          [
           2272,
           "Yoo Jin",
           "Kim",
           "sOs",
           "kr",
           "Starcraft II",
           "Strategy"
          ],
          [
           3481,
           "Yoon Su",
           "Eu",
           "soO",
           "kr",
           "Starcraft II",
           "Strategy"
          ],
          [
           4674,
           "Sung Wook",
           "Joo",
           "Zest",
           "kr",
           "Starcraft II",
           "Strategy"
          ],
          [
           3818,
           "Alex",
           "Sunderhaft",
           "Neeb",
           "us",
           "Starcraft II",
           "Strategy"
          ],
          [
           1000,
           "Min Chul",
           "Jang",
           "MC",
           "kr",
           "Starcraft II",
           "Strategy"
          ],
          [
           2271,
           "Doh Woo",
           "Kim",
           "Classic",
           "kr",
           "Starcraft II",
           "Strategy"
          ],
          [
           1429,
           "Seung Hyun",
           "Lee",
           "Life",
           "kr",
           "Starcraft II",
           "Strategy"
          ],
          [
           1003,
           "Sung Hoon",
           "Choi",
           "Polt",
           "kr",
           "Starcraft II",
           "Strategy"
          ],
          [
           1132,
           "Lee Sak",
           "Won",
           "PartinG",
           "kr",
           "Starcraft II",
           "Strategy"
          ],
          [
           1017,
           "Hyun Woo",
           "Byun",
           "Byun",
           "kr",
           "Starcraft II",
           "Strategy"
          ],
          [
           1007,
           "Sung Won",
           "Moon",
           "MMA",
           "kr",
           "Starcraft II",
           "Strategy"
          ],
          [
           1002,
           "Jong Hyun",
           "Jung",
           "Mvp",
           "kr",
           "Starcraft II",
           "Strategy"
          ],
          [
           2280,
           "Sasha",
           "Hostyn",
           "Scarlett",
           "ca",
           "Starcraft II",
           "Strategy"
          ],
          [
           1175,
           "Juan Carlos",
           "Lopez",
           "SpeCial",
           "mx",
           "Starcraft II",
           "Strategy"
          ],
          [
           1257,
           "Jens",
           "Aasgaard",
           "Snute",
           "no",
           "Starcraft II",
           "Strategy"
          ],
          [
           1227,
           "Artur",
           "Bloch",
           "Nerchio",
           "pl",
           "Starcraft II",
           "Strategy"
          ],
          [
           3657,
           "Min Soo",
           "Kang",
           "Solar",
           "kr",
           "Starcraft II",
           "Strategy"
          ],
          [
           3042,
           "Joon Ho",
           "Kim",
           "herO",
           "kr",
           "Starcraft II",
           "Strategy"
          ],
          [
           1158,
           "Ilyes",
           "Satouri",
           "Stephano",
           "fr",
           "Starcraft II",
           "Strategy"
          ],
          [
           1061,
           "Young Suh",
           "Yoon",
           "TaeJa",
           "kr",
           "Starcraft II",
           "Strategy"
          ],
          [
           15015,
           "Riccardo",
           "Romiti",
           "Reynor",
           "it",
           "Starcraft II",
           "Strategy"
          ],
          [
           1057,
           "Soo Ho",
           "Park",
           "DongRaeGu",
           "kr",
           "Starcraft II",
           "Strategy"
          ],
          [
           1025,
           "Dong Nyung",
           "Lee",
           "Leenock",
           "kr",
           "Starcraft II",
           "Strategy"
          ],
          [
           1001,
           "Jae Duk",
           "Lim",
           "NesTea",
           "kr",
           "Starcraft II",
           "Strategy"
          ],
          [
           3811,
           "Tobias",
           "Sieber",
           "ShoWTimE",
           "de",
           "Starcraft II",
           "Strategy"
          ],
          [
           3435,
           "Sung Ho",
           "Cho",
           "Trap",
           "kr",
           "Starcraft II",
           "Strategy"
          ],
          [
           1030,
           "Ji Sung",
           "Choi",
           "Bomber",
           "kr",
           "Starcraft II",
           "Strategy"
          ],
          [
           11418,
           "Mikołaj",
           "Ogonowski",
           "Elazer",
           "pl",
           "Starcraft II",
           "Strategy"
          ],
          [
           1086,
           "Hyeon Deok",
           "Song",
           "HerO",
           "kr",
           "Starcraft II",
           "Strategy"
          ],
          [
           2274,
           "Dong Jun",
           "Baek",
           "Dear",
           "kr",
           "Starcraft II",
           "Strategy"
          ],
          [
           3041,
           "Yoon Jong",
           "Jung",
           "Rain",
           "kr",
           "Starcraft II",
           "Strategy"
          ],
          [
           1426,
           "Seok Hyun",
           "Ko",
           "HyuN",
           "kr",
           "Starcraft II",
           "Strategy"
          ],
          [
           1064,
           "Byung Jae",
           "Koh",
           "GuMiho",
           "kr",
           "Starcraft II",
           "Strategy"
          ],
          [
           1507,
           "Jae Dong",
           "Lee",
           "Jaedong",
           "kr",
           "Starcraft II",
           "Strategy"
          ],
          [
           1225,
           "Grzegorz",
           "Komincz",
           "MaNa",
           "pl",
           "Starcraft II",
           "Strategy"
          ],
          [
           1004,
           "Jung Hoon",
           "Lee",
           "MarineKing",
           "kr",
           "Starcraft II",
           "Strategy"
          ],
          [
           1033,
           "Lee Seok",
           "Han",
           "aLive",
           "kr",
           "Starcraft II",
           "Strategy"
          ],
          [
           3651,
           "Tae Su",
           "Bang",
           "TRUE",
           "kr",
           "Starcraft II",
           "Strategy"
          ],
          [
           19597,
           "Peinan",
           "Li",
           "TIME",
           "cn",
           "Starcraft II",
           "Strategy"
          ],
          [
           1052,
           "Dong Hwan",
           "Kim",
           "viOLet",
           "kr",
           "Starcraft II",
           "Strategy"
          ],
          [
           1094,
           "Johan",
           "Lucchesi",
           "NaNiwa",
           "se",
           "Starcraft II",
           "Strategy"
          ],
          [
           7995,
           "Zhou",
           "Hang",
           "iAsonu",
           "cn",
           "Starcraft II",
           "Strategy"
          ],
          [
           3518,
           "Gabriel",
           "Segat",
           "HeRoMaRinE",
           "de",
           "Starcraft II",
           "Strategy"
          ],
          [
           6180,
           "Diego",
           "Schwimer",
           "Kelazhur",
           "br",
           "Starcraft II",
           "Strategy"
          ],
          [
           4977,
           "Ji Hyun",
           "Jo",
           "Patience",
           "kr",
           "Starcraft II",
           "Strategy"
          ],
          [
           2230,
           "Min Chul",
           "Kim",
           "Soulkey",
           "kr",
           "Starcraft II",
           "Strategy"
          ],
          [
           2620,
           "Marc",
           "Schlappi",
           "uThermal",
           "nl",
           "Starcraft II",
           "Strategy"
          ],
          [
           7999,
           "Doh Wook",
           "Kim",
           "Cure",
           "kr",
           "Starcraft II",
           "Strategy"
          ],
          [
           1020,
           "Chris",
           "Loranger",
           "HuK",
           "ca",
           "Starcraft II",
           "Strategy"
          ],
          [
           5420,
           "Yu Feng",
           "Ke",
           "Has",
           "tw",
           "Starcraft II",
           "Strategy"
          ],
          [
           2221,
           "Dong Won",
           "Shin",
           "Hydra",
           "kr",
           "Starcraft II",
           "Strategy"
          ],
          [
           1129,
           "Ji Soo",
           "Park",
           "fOrGG",
           "kr",
           "Starcraft II",
           "Strategy"
          ],
          [
           1174,
           "Ho Joon",
           "Lee",
           "PuMa",
           "kr",
           "Starcraft II",
           "Strategy"
          ],
          [
           2775,
           "Hui Ming",
           "Huang",
           "TooDming",
           "cn",
           "Starcraft II",
           "Strategy"
          ],
          [
           1080,
           "Hyun Woo",
           "Jang",
           "Creator",
           "kr",
           "Starcraft II",
           "Strategy"
          ],
          [
           1076,
           "Chia Cheng",
           "Yang",
           "Sen",
           "tw",
           "Starcraft II",
           "Strategy"
          ],
          [
           1239,
           "Lei",
           "Wang",
           "XiGua",
           "cn",
           "Starcraft II",
           "Strategy"
          ],
          [
           1024,
           "Hoon Jung",
           "Ji",
           "Jjakji",
           "kr",
           "Starcraft II",
           "Strategy"
          ],
          [
           3742,
           "Maru",
           "Kim",
           "MaSa",
           "ca",
           "Starcraft II",
           "Strategy"
          ],
          [
           8570,
           "Théo",
           "Freydière",
           "PtitDrogo",
           "fr",
           "Starcraft II",
           "Strategy"
          ],
          [
           1285,
           "Aleksandr",
           "Svusuyk",
           "Bly",
           "ua",
           "Starcraft II",
           "Strategy"
          ],
          [
           1236,
           "Jin",
           "Hui Cao",
           "Jim",
           "cn",
           "Starcraft II",
           "Strategy"
          ],
          [
           1165,
           "Dario",
           "Wünsch",
           "TLO",
           "de",
           "Starcraft II",
           "Strategy"
          ],
          [
           3616,
           "Ji Won",
           "Han",
           "ByuL",
           "kr",
           "Starcraft II",
           "Strategy"
          ],
          [
           1009,
           "Kang Ho",
           "Hwang",
           "LosirA",
           "kr",
           "Starcraft II",
           "Strategy"
          ],
          [
           3521,
           "Seok Hee",
           "Son",
           "StarDust",
           "kr",
           "Starcraft II",
           "Strategy"
          ],
          [
           1430,
           "Xiang",
           "Hu",
           "MacSed",
           "cn",
           "Starcraft II",
           "Strategy"
          ],
          [
           3613,
           "Kevin",
           "de Koning",
           "Harstem",
           "nl",
           "Starcraft II",
           "Strategy"
          ],
          [
           1011,
           "Cho-Won",
           "Kang",
           "san",
           "kr",
           "Starcraft II",
           "Strategy"
          ],
          [
           1029,
           "Dong Won",
           "Kim",
           "Ryung",
           "kr",
           "Starcraft II",
           "Strategy"
          ],
          [
           1081,
           "Joong Hyuk",
           "Cho",
           "Dream",
           "kr",
           "Starcraft II",
           "Strategy"
          ],
          [
           1037,
           "Won Ki",
           "Kim",
           "FruitDealer",
           "kr",
           "Starcraft II",
           "Strategy"
          ],
          [
           1123,
           "Marcus",
           "Eklöf",
           "ThorZaIN",
           "se",
           "Starcraft II",
           "Strategy"
          ],
          [
           1280,
           "Juan",
           "Moreno Durán",
           "VortiX",
           "es",
           "Starcraft II",
           "Strategy"
          ],
          [
           4712,
           "Joon Hyuk",
           "Kim",
           "Impact",
           "kr",
           "Starcraft II",
           "Strategy"
          ],
          [
           7891,
           "Julian",
           "Brosig",
           "Lambo",
           "de",
           "Starcraft II",
           "Strategy"
          ],
          [
           3655,
           "Ki Woong",
           "Nam",
           "Hurricane",
           "kr",
           "Starcraft II",
           "Strategy"
          ],
          [
           1034,
           "Joon Sik",
           "Yang",
           "Alicia",
           "kr",
           "Starcraft II",
           "Strategy"
          ],
          [
           1135,
           "Dong Hyun",
           "Kang",
           "Symbol",
           "kr",
           "Starcraft II",
           "Strategy"
          ],
          [
           3441,
           "Hee Bum",
           "Shin",
           "RagnaroK",
           "kr",
           "Starcraft II",
           "Strategy"
          ],
          [
           1036,
           "Kyo Seok",
           "Hwang",
           "KeeN",
           "kr",
           "Starcraft II",
           "Strategy"
          ],
          [
           1018,
           "Min Soo",
           "Jung",
           "Genius",
           "kr",
           "Starcraft II",
           "Strategy"
          ],
          [
           1070,
           "Hyun Woo",
           "Park",
           "Squirtle",
           "kr",
           "Starcraft II",
           "Strategy"
          ],
          [
           7992,
           "David",
           "Moschetto",
           "Lilbow",
           "fr",
           "Starcraft II",
           "Strategy"
          ],
          [
           14540,
           "Huang",
           "Min",
           "Cyan",
           "cn",
           "Starcraft II",
           "Strategy"
          ],
          [
           1505,
           "Young Ho",
           "Lee",
           "Flash",
           "kr",
           "Starcraft II",
           "Strategy"
          ],
          [
           2890,
           "Hyun Woo",
           "Kang",
           "First",
           "kr",
           "Starcraft II",
           "Strategy"
          ],
          [
           4574,
           "Alexis",
           "Eusebio",
           "MarineLorD",
           "fr",
           "Starcraft II",
           "Strategy"
          ],
          [
           1233,
           "Dennis",
           "Schneider",
           "HasuObs",
           "de",
           "Starcraft II",
           "Strategy"
          ],
          [
           3091,
           "Patrick",
           "Brix",
           "Bunny",
           "dk",
           "Starcraft II",
           "Strategy"
          ],
          [
           1082,
           "Byung Hyun",
           "Choi",
           "YoDa",
           "kr",
           "Starcraft II",
           "Strategy"
          ],
          [
           2795,
           "Rickard",
           "Bergman",
           "SortOf",
           "se",
           "Starcraft II",
           "Strategy"
          ],
          [
           2833,
           "Yao",
           "Xiang",
           "XY",
           "cn",
           "Starcraft II",
           "Strategy"
          ]
         ],
         "hovertemplate": "Genre=%{customdata[6]}<br>TotalUSDPrize=%{x}<br>PlayerId=%{customdata[0]}<br>NameFirst=%{customdata[1]}<br>NameLast=%{customdata[2]}<br>CurrentHandle=%{customdata[3]}<br>CountryCode=%{customdata[4]}<br>Game=%{customdata[5]}<extra></extra>",
         "legendgroup": "Strategy",
         "marker": {
          "color": "#ab63fa"
         },
         "name": "Strategy",
         "notched": true,
         "offsetgroup": "Strategy",
         "showlegend": false,
         "type": "box",
         "x": [
          893336.55,
          886795.83,
          883148.24,
          794627.39,
          762437,
          673162.61,
          631829.71,
          628026.1,
          616412.36,
          558114.07,
          523847.63,
          509771.79,
          479324.03,
          475900.67,
          451943.24,
          427239.54,
          415145.07,
          407169.17,
          404994.83,
          388919.99,
          377144.16,
          372788.71,
          371725.19,
          363307.59,
          341093.28,
          304291.61,
          303679.63,
          298622.85,
          289675.08,
          288257.14,
          288225.07,
          282135.93,
          280334.78,
          265914.84,
          264095.3,
          261892.87,
          243027.72,
          236690.51,
          233783.91,
          227008.15,
          224833.53,
          218911.98,
          212397.14,
          204079.55,
          189776.99,
          184811.62,
          183568.96,
          177659.71,
          172891.85,
          167442.47,
          158091.74,
          155836.32,
          153116.49,
          150578.81,
          149003.23,
          148758.87,
          148558.05,
          147459.89,
          147378.95,
          143862.24,
          142369.56,
          141938.84,
          141662.54,
          134300.51,
          133917.25,
          132306.1,
          130550.93,
          127688.41,
          125173.05,
          115102.67,
          114416.73,
          114305.31,
          111579.95,
          111540.17,
          109736.18,
          109440.09,
          108009.18,
          103798.04,
          102860.5,
          102682.9,
          100271.58,
          97741.11,
          96604.3,
          96034.27,
          94907.1,
          94856.43,
          93903.11,
          93866.46,
          93775.14,
          92282.22,
          91850.98,
          90452.98,
          90152.64,
          89725.4,
          86634.27,
          84794.99,
          84195.98,
          84119.07,
          83622.52,
          81795.94
         ],
         "xaxis": "x2",
         "yaxis": "y2"
        },
        {
         "alignmentgroup": "True",
         "bingroup": "x",
         "hovertemplate": "Genre=Collectible Card Game<br>TotalUSDPrize=%{x}<br>count=%{y}<extra></extra>",
         "legendgroup": "Collectible Card Game",
         "marker": {
          "color": "#FFA15A",
          "pattern": {
           "shape": ""
          }
         },
         "name": "Collectible Card Game",
         "offsetgroup": "Collectible Card Game",
         "orientation": "v",
         "showlegend": true,
         "type": "histogram",
         "x": [
          491418.66,
          442877.87,
          347798,
          341931.16,
          316781.57,
          312987.23,
          296734.75,
          293345.18,
          291115.88,
          284382.26,
          279875,
          273654.46,
          269053.1,
          238550,
          238010,
          229488.39,
          227550,
          220418.33,
          210416.67,
          204049.56,
          193860.89,
          171767.15,
          170027.04,
          167590.47,
          165348.34,
          162017.51,
          156103.11,
          155778.27,
          153199.92,
          153062.5,
          151117.2,
          139425.79,
          136530.19,
          135189.54,
          133715,
          131560,
          125458.59,
          122179.36,
          121712.5,
          121255.92,
          121248.17,
          117466.67,
          114725,
          110925,
          110141.67,
          106314.27,
          102887.5,
          100759.37,
          97593.92,
          97479,
          96719.1,
          94073,
          91550,
          89346.12,
          89250,
          87636.14,
          86250,
          84196,
          83373.91,
          82409.24,
          81932,
          80924.07,
          80338.22,
          79671.53,
          78375,
          77943.68,
          77433.33,
          76675,
          76346.78,
          74382.47,
          73575,
          72637.5,
          70750,
          70216,
          69487.73,
          68162.5,
          67950,
          67096.88,
          66835.51,
          66730.8,
          65702.33,
          64140.31,
          63000,
          62704.15,
          62454.4,
          60165.48,
          59309.9,
          58436,
          56250,
          54812,
          54320.72,
          53526.12,
          52375,
          51231.7,
          51059.59,
          50734.44,
          50449.6,
          49300,
          48550,
          47973.61
         ],
         "xaxis": "x",
         "yaxis": "y"
        },
        {
         "alignmentgroup": "True",
         "customdata": [
          [
           7517,
           "Thijs",
           "Molendijk",
           "Thijs",
           "nl",
           "Hearthstone",
           "Collectible Card Game"
          ],
          [
           11132,
           "Wei Lin",
           "Chen",
           "tom60229",
           "tw",
           "Hearthstone",
           "Collectible Card Game"
          ],
          [
           17887,
           "Pavel",
           "Beltiukov",
           "Pavel",
           "ru",
           "Hearthstone",
           "Collectible Card Game"
          ],
          [
           39487,
           "Casper",
           "Notto",
           "Hunterace",
           "no",
           "Hearthstone",
           "Collectible Card Game"
          ],
          [
           10605,
           "Jung Soo",
           "Kim",
           "Surrender",
           "kr",
           "Hearthstone",
           "Collectible Card Game"
          ],
          [
           28337,
           "Raphael",
           "Peltzer",
           "BunnyHoppor",
           "de",
           "Hearthstone",
           "Collectible Card Game"
          ],
          [
           30870,
           "Bin",
           "Zhou",
           "Jasonzhou",
           "cn",
           "Hearthstone",
           "Collectible Card Game"
          ],
          [
           30871,
           "-",
           "-",
           "XHope",
           "cn",
           "Hearthstone",
           "Collectible Card Game"
          ],
          [
           14151,
           "Jon",
           "Westberg",
           "Orange",
           "se",
           "Hearthstone",
           "Collectible Card Game"
          ],
          [
           29441,
           "Frank",
           "Zhang",
           "fr0zen",
           "us",
           "Hearthstone",
           "Collectible Card Game"
          ],
          [
           29787,
           "Brian",
           "Eason",
           "bloodyface",
           "us",
           "Hearthstone",
           "Collectible Card Game"
          ],
          [
           9886,
           "Aleksandr",
           "Malsh",
           "Kolento",
           "ua",
           "Hearthstone",
           "Collectible Card Game"
          ],
          [
           11584,
           "James",
           "Kostesich",
           "Firebat",
           "us",
           "Hearthstone",
           "Collectible Card Game"
          ],
          [
           47080,
           "Sato",
           "Kenta",
           "glory",
           "jp",
           "Hearthstone",
           "Collectible Card Game"
          ],
          [
           45851,
           "Xiao Meng",
           "Li",
           "Liooon",
           "cn",
           "Hearthstone",
           "Collectible Card Game"
          ],
          [
           11897,
           "David",
           "Caero",
           "Dog",
           "us",
           "Hearthstone",
           "Collectible Card Game"
          ],
          [
           32352,
           "Torben",
           "Wahl",
           "Viper",
           "de",
           "Hearthstone",
           "Collectible Card Game"
          ],
          [
           16254,
           "Ryan",
           "Murphy-Root",
           "Purple",
           "ca",
           "Hearthstone",
           "Collectible Card Game"
          ],
          [
           28333,
           "Artem",
           "Kravets'",
           "DrHippi",
           "ua",
           "Hearthstone",
           "Collectible Card Game"
          ],
          [
           8377,
           "Dima",
           "Radu",
           "Rdu",
           "ro",
           "Hearthstone",
           "Collectible Card Game"
          ],
          [
           28468,
           "Euneil",
           "Javiñas",
           "Staz",
           "ph",
           "Hearthstone",
           "Collectible Card Game"
          ],
          [
           16026,
           "Frederik Høj",
           "Nielsen",
           "Hoej",
           "dk",
           "Hearthstone",
           "Collectible Card Game"
          ],
          [
           28107,
           "Vladislav",
           "Sinotov",
           "SilverName",
           "ru",
           "Hearthstone",
           "Collectible Card Game"
          ],
          [
           16252,
           "Muzahidul",
           "I.",
           "Muzzy",
           "us",
           "Hearthstone",
           "Collectible Card Game"
          ],
          [
           12110,
           "Xieyu",
           "Wang",
           "Tiddler Celestial",
           "cn",
           "Hearthstone",
           "Collectible Card Game"
          ],
          [
           29758,
           "Jaromír",
           "Vyskočil",
           "Jarla",
           "cz",
           "Hearthstone",
           "Collectible Card Game"
          ],
          [
           7525,
           "Sebastian",
           "Bentert",
           "Xixo",
           "de",
           "Hearthstone",
           "Collectible Card Game"
          ],
          [
           39983,
           "Kaan",
           "Çekli",
           "Fujitora",
           "tr",
           "Hearthstone",
           "Collectible Card Game"
          ],
          [
           7520,
           "Sebastian",
           "Engwall",
           "Ostkaka",
           "se",
           "Hearthstone",
           "Collectible Card Game"
          ],
          [
           20918,
           "David",
           "Shan",
           "JustSaiyan",
           "us",
           "Hearthstone",
           "Collectible Card Game"
          ],
          [
           41753,
           "Eddie",
           "Lui",
           "Seohyun",
           "ca",
           "Hearthstone",
           "Collectible Card Game"
          ],
          [
           28238,
           "Lin",
           "Zheng",
           "OmegaZero",
           "cn",
           "Hearthstone",
           "Collectible Card Game"
          ],
          [
           10950,
           "Adrian",
           "Koy",
           "Lifecoach",
           "de",
           "Hearthstone",
           "Collectible Card Game"
          ],
          [
           17274,
           "Hyun Jae",
           "Jang",
           "Dawn",
           "kr",
           "Hearthstone",
           "Collectible Card Game"
          ],
          [
           33382,
           "Cheon Su",
           "Kim",
           "Che0nsu",
           "kr",
           "Hearthstone",
           "Collectible Card Game"
          ],
          [
           61463,
           "Guan",
           "Zhendong",
           "Jing",
           "cn",
           "Hearthstone",
           "Collectible Card Game"
          ],
          [
           43782,
           "-",
           "-",
           "Leaoh",
           "cn",
           "Hearthstone",
           "Collectible Card Game"
          ],
          [
           14549,
           "Bohan",
           "Zhang",
           "Lovelychook",
           "cn",
           "Hearthstone",
           "Collectible Card Game"
          ],
          [
           30003,
           "Kevin",
           "Eberlein",
           "Casie",
           "de",
           "Hearthstone",
           "Collectible Card Game"
          ],
          [
           35958,
           "Théo",
           "Dumont",
           "Felkeine",
           "fr",
           "Hearthstone",
           "Collectible Card Game"
          ],
          [
           11589,
           "Eugene",
           "Shumilin",
           "Neirea",
           "ua",
           "Hearthstone",
           "Collectible Card Game"
          ],
          [
           22550,
           "Alexey",
           "Barsukov",
           "ShtanUdachi",
           "ru",
           "Hearthstone",
           "Collectible Card Game"
          ],
          [
           23913,
           "William",
           "Barton",
           "Amnesiac",
           "us",
           "Hearthstone",
           "Collectible Card Game"
          ],
          [
           32363,
           "Jerome",
           "Faucher",
           "Monsanto",
           "ca",
           "Hearthstone",
           "Collectible Card Game"
          ],
          [
           15114,
           "Paul",
           "Nemeth",
           "Zalae",
           "us",
           "Hearthstone",
           "Collectible Card Game"
          ],
          [
           1244,
           "Cong",
           "Shu",
           "StrifeCro",
           "us",
           "Hearthstone",
           "Collectible Card Game"
          ],
          [
           38403,
           "Mihai",
           "Dragalin",
           "languagehacker",
           "ca",
           "Hearthstone",
           "Collectible Card Game"
          ],
          [
           12141,
           "Bo",
           "Li",
           "LiBo",
           "cn",
           "Hearthstone",
           "Collectible Card Game"
          ],
          [
           30162,
           "Julien",
           "Perrault-Harvey",
           "Cydonia",
           "ca",
           "Hearthstone",
           "Collectible Card Game"
          ],
          [
           17271,
           "Il Mook",
           "Kang",
           "handsomeguy",
           "kr",
           "Hearthstone",
           "Collectible Card Game"
          ],
          [
           14270,
           "Shengyuan",
           "Luo",
           "Roger",
           "tw",
           "Hearthstone",
           "Collectible Card Game"
          ],
          [
           30561,
           "Chris",
           "Tsakopoulos",
           "Fenomeno",
           "gr",
           "Hearthstone",
           "Collectible Card Game"
          ],
          [
           32359,
           "Edwin",
           "Cook",
           "HotMEOWTH",
           "us",
           "Hearthstone",
           "Collectible Card Game"
          ],
          [
           43794,
           "Juwei",
           "Wu",
           "XiaoT",
           "cn",
           "Hearthstone",
           "Collectible Card Game"
          ],
          [
           37063,
           "Tsu Lin",
           "Tsao",
           "SamuelTsao",
           "tw",
           "Hearthstone",
           "Collectible Card Game"
          ],
          [
           23558,
           "Kacper",
           "Kwieciński",
           "A83650",
           "pl",
           "Hearthstone",
           "Collectible Card Game"
          ],
          [
           50884,
           "Zong Chang",
           "Wu",
           "BloodTrail",
           "tw",
           "Hearthstone",
           "Collectible Card Game"
          ],
          [
           45830,
           "Wataru",
           "Ishibashi",
           "posesi",
           "jp",
           "Hearthstone",
           "Collectible Card Game"
          ],
          [
           47728,
           "Zakarya",
           "Hail",
           "xBlyzes",
           "fr",
           "Hearthstone",
           "Collectible Card Game"
          ],
          [
           30167,
           "Francisco",
           "Leimontas",
           "PNC",
           "ar",
           "Hearthstone",
           "Collectible Card Game"
          ],
          [
           33663,
           "Tsz Kin",
           "Lo",
           "kin0531",
           "hk",
           "Hearthstone",
           "Collectible Card Game"
          ],
          [
           25983,
           "George",
           "Webb",
           "BoarControl",
           "gb",
           "Hearthstone",
           "Collectible Card Game"
          ],
          [
           14148,
           "Keaton",
           "Gill",
           "Chakki",
           "us",
           "Hearthstone",
           "Collectible Card Game"
          ],
          [
           15615,
           "Ole",
           "Batyrbekov",
           "Naiman",
           "kz",
           "Hearthstone",
           "Collectible Card Game"
          ],
          [
           39850,
           "Tyler",
           "Hoang Nguyen",
           "Tylerootd",
           "nl",
           "Hearthstone",
           "Collectible Card Game"
          ],
          [
           25030,
           "Jan",
           "Janßen",
           "SuperJJ",
           "de",
           "Hearthstone",
           "Collectible Card Game"
          ],
          [
           37062,
           "-",
           "-",
           "DocPwn",
           "ca",
           "Hearthstone",
           "Collectible Card Game"
          ],
          [
           50877,
           "Yashima",
           "Nozomi",
           "Alutemu",
           "jp",
           "Hearthstone",
           "Collectible Card Game"
          ],
          [
           33858,
           "Thomas",
           "Zimmer",
           "Sintolol",
           "de",
           "Hearthstone",
           "Collectible Card Game"
          ],
          [
           33381,
           "Songyang",
           "Zhao",
           "Hamster",
           "cn",
           "Hearthstone",
           "Collectible Card Game"
          ],
          [
           36818,
           "David",
           "Acosta",
           "killinallday",
           "us",
           "Hearthstone",
           "Collectible Card Game"
          ],
          [
           7139,
           "Jeffrey",
           "Shih",
           "Trump",
           "us",
           "Hearthstone",
           "Collectible Card Game"
          ],
          [
           15703,
           "Facu",
           "Pruzzo",
           "Nalguidan",
           "ar",
           "Hearthstone",
           "Collectible Card Game"
          ],
          [
           29789,
           "Edward",
           "Goodwin",
           "Gallon213",
           "us",
           "Hearthstone",
           "Collectible Card Game"
          ],
          [
           17263,
           "Chen",
           "Yuxiang",
           "Breath",
           "cn",
           "Hearthstone",
           "Collectible Card Game"
          ],
          [
           61464,
           "-",
           "-",
           "Yueying",
           "cn",
           "Hearthstone",
           "Collectible Card Game"
          ],
          [
           71040,
           "Jack",
           "Bancroft",
           "DeadDraw",
           "gb",
           "Hearthstone",
           "Collectible Card Game"
          ],
          [
           15803,
           "Stanislav",
           "Cifka",
           "StanCifka",
           "cz",
           "Hearthstone",
           "Collectible Card Game"
          ],
          [
           12108,
           "Baek",
           "Hak Jun",
           "Kranich",
           "kr",
           "Hearthstone",
           "Collectible Card Game"
          ],
          [
           12107,
           "Hyun Soo",
           "Cho",
           "Flurry",
           "kr",
           "Hearthstone",
           "Collectible Card Game"
          ],
          [
           49179,
           "Martin",
           "Prête",
           "Zhym",
           "fr",
           "Hearthstone",
           "Collectible Card Game"
          ],
          [
           21541,
           "Louis",
           "Bremers",
           "Mitsuhide",
           "nl",
           "Hearthstone",
           "Collectible Card Game"
          ],
          [
           46854,
           "Michael",
           "Luker",
           "Luker",
           "ca",
           "Hearthstone",
           "Collectible Card Game"
          ],
          [
           8376,
           "Jason",
           "Chan",
           "Amaz",
           "hk",
           "Hearthstone",
           "Collectible Card Game"
          ],
          [
           12793,
           "Jeffrey",
           "Liu",
           "Tarei",
           "us",
           "Hearthstone",
           "Collectible Card Game"
          ],
          [
           7398,
           "Jan",
           "Palys",
           "Ek0p",
           "de",
           "Hearthstone",
           "Collectible Card Game"
          ],
          [
           12083,
           "Xiao",
           "Feng",
           "Icefox",
           "cn",
           "Hearthstone",
           "Collectible Card Game"
          ],
          [
           28465,
           "Sang Hyeon",
           "Baek",
           "DDaHyoNi",
           "kr",
           "Hearthstone",
           "Collectible Card Game"
          ],
          [
           22276,
           "Dylan",
           "Mullins",
           "Hotform",
           "ca",
           "Hearthstone",
           "Collectible Card Game"
          ],
          [
           32353,
           "Chun Pong",
           "Ng",
           "Yulsic",
           "hk",
           "Hearthstone",
           "Collectible Card Game"
          ],
          [
           13968,
           "Li",
           "Heyang",
           "Sword",
           "cn",
           "Hearthstone",
           "Collectible Card Game"
          ],
          [
           21254,
           "Simon",
           "Raunholst",
           "Crane",
           "dk",
           "Hearthstone",
           "Collectible Card Game"
          ],
          [
           29438,
           "Anthony",
           "Trevino",
           "Ant",
           "us",
           "Hearthstone",
           "Collectible Card Game"
          ],
          [
           38798,
           "-",
           "-",
           "Trunks",
           "cn",
           "Hearthstone",
           "Collectible Card Game"
          ],
          [
           8321,
           "Petar",
           "Stevanovic",
           "Gaara",
           "de",
           "Hearthstone",
           "Collectible Card Game"
          ],
          [
           7400,
           "Janne",
           "Mikkonen",
           "Savjz",
           "fi",
           "Hearthstone",
           "Collectible Card Game"
          ],
          [
           3255,
           "Drew",
           "Biessener",
           "Tidesoftime",
           "us",
           "Hearthstone",
           "Collectible Card Game"
          ],
          [
           49164,
           "Simone",
           "Liguori",
           "Leta",
           "it",
           "Hearthstone",
           "Collectible Card Game"
          ],
          [
           43043,
           "Mike",
           "Eichner",
           "Ike",
           "us",
           "Hearthstone",
           "Collectible Card Game"
          ],
          [
           1100,
           "Jeffrey",
           "Brusi",
           "SjoW",
           "se",
           "Hearthstone",
           "Collectible Card Game"
          ]
         ],
         "hovertemplate": "Genre=%{customdata[6]}<br>TotalUSDPrize=%{x}<br>PlayerId=%{customdata[0]}<br>NameFirst=%{customdata[1]}<br>NameLast=%{customdata[2]}<br>CurrentHandle=%{customdata[3]}<br>CountryCode=%{customdata[4]}<br>Game=%{customdata[5]}<extra></extra>",
         "legendgroup": "Collectible Card Game",
         "marker": {
          "color": "#FFA15A"
         },
         "name": "Collectible Card Game",
         "notched": true,
         "offsetgroup": "Collectible Card Game",
         "showlegend": false,
         "type": "box",
         "x": [
          491418.66,
          442877.87,
          347798,
          341931.16,
          316781.57,
          312987.23,
          296734.75,
          293345.18,
          291115.88,
          284382.26,
          279875,
          273654.46,
          269053.1,
          238550,
          238010,
          229488.39,
          227550,
          220418.33,
          210416.67,
          204049.56,
          193860.89,
          171767.15,
          170027.04,
          167590.47,
          165348.34,
          162017.51,
          156103.11,
          155778.27,
          153199.92,
          153062.5,
          151117.2,
          139425.79,
          136530.19,
          135189.54,
          133715,
          131560,
          125458.59,
          122179.36,
          121712.5,
          121255.92,
          121248.17,
          117466.67,
          114725,
          110925,
          110141.67,
          106314.27,
          102887.5,
          100759.37,
          97593.92,
          97479,
          96719.1,
          94073,
          91550,
          89346.12,
          89250,
          87636.14,
          86250,
          84196,
          83373.91,
          82409.24,
          81932,
          80924.07,
          80338.22,
          79671.53,
          78375,
          77943.68,
          77433.33,
          76675,
          76346.78,
          74382.47,
          73575,
          72637.5,
          70750,
          70216,
          69487.73,
          68162.5,
          67950,
          67096.88,
          66835.51,
          66730.8,
          65702.33,
          64140.31,
          63000,
          62704.15,
          62454.4,
          60165.48,
          59309.9,
          58436,
          56250,
          54812,
          54320.72,
          53526.12,
          52375,
          51231.7,
          51059.59,
          50734.44,
          50449.6,
          49300,
          48550,
          47973.61
         ],
         "xaxis": "x2",
         "yaxis": "y2"
        }
       ],
       "layout": {
        "autosize": true,
        "barmode": "relative",
        "legend": {
         "title": {
          "text": "Genre"
         },
         "tracegroupgap": 0
        },
        "margin": {
         "t": 60
        },
        "template": {
         "data": {
          "bar": [
           {
            "error_x": {
             "color": "#2a3f5f"
            },
            "error_y": {
             "color": "#2a3f5f"
            },
            "marker": {
             "line": {
              "color": "#E5ECF6",
              "width": 0.5
             },
             "pattern": {
              "fillmode": "overlay",
              "size": 10,
              "solidity": 0.2
             }
            },
            "type": "bar"
           }
          ],
          "barpolar": [
           {
            "marker": {
             "line": {
              "color": "#E5ECF6",
              "width": 0.5
             },
             "pattern": {
              "fillmode": "overlay",
              "size": 10,
              "solidity": 0.2
             }
            },
            "type": "barpolar"
           }
          ],
          "carpet": [
           {
            "aaxis": {
             "endlinecolor": "#2a3f5f",
             "gridcolor": "white",
             "linecolor": "white",
             "minorgridcolor": "white",
             "startlinecolor": "#2a3f5f"
            },
            "baxis": {
             "endlinecolor": "#2a3f5f",
             "gridcolor": "white",
             "linecolor": "white",
             "minorgridcolor": "white",
             "startlinecolor": "#2a3f5f"
            },
            "type": "carpet"
           }
          ],
          "choropleth": [
           {
            "colorbar": {
             "outlinewidth": 0,
             "ticks": ""
            },
            "type": "choropleth"
           }
          ],
          "contour": [
           {
            "colorbar": {
             "outlinewidth": 0,
             "ticks": ""
            },
            "colorscale": [
             [
              0,
              "#0d0887"
             ],
             [
              0.1111111111111111,
              "#46039f"
             ],
             [
              0.2222222222222222,
              "#7201a8"
             ],
             [
              0.3333333333333333,
              "#9c179e"
             ],
             [
              0.4444444444444444,
              "#bd3786"
             ],
             [
              0.5555555555555556,
              "#d8576b"
             ],
             [
              0.6666666666666666,
              "#ed7953"
             ],
             [
              0.7777777777777778,
              "#fb9f3a"
             ],
             [
              0.8888888888888888,
              "#fdca26"
             ],
             [
              1,
              "#f0f921"
             ]
            ],
            "type": "contour"
           }
          ],
          "contourcarpet": [
           {
            "colorbar": {
             "outlinewidth": 0,
             "ticks": ""
            },
            "type": "contourcarpet"
           }
          ],
          "heatmap": [
           {
            "colorbar": {
             "outlinewidth": 0,
             "ticks": ""
            },
            "colorscale": [
             [
              0,
              "#0d0887"
             ],
             [
              0.1111111111111111,
              "#46039f"
             ],
             [
              0.2222222222222222,
              "#7201a8"
             ],
             [
              0.3333333333333333,
              "#9c179e"
             ],
             [
              0.4444444444444444,
              "#bd3786"
             ],
             [
              0.5555555555555556,
              "#d8576b"
             ],
             [
              0.6666666666666666,
              "#ed7953"
             ],
             [
              0.7777777777777778,
              "#fb9f3a"
             ],
             [
              0.8888888888888888,
              "#fdca26"
             ],
             [
              1,
              "#f0f921"
             ]
            ],
            "type": "heatmap"
           }
          ],
          "heatmapgl": [
           {
            "colorbar": {
             "outlinewidth": 0,
             "ticks": ""
            },
            "colorscale": [
             [
              0,
              "#0d0887"
             ],
             [
              0.1111111111111111,
              "#46039f"
             ],
             [
              0.2222222222222222,
              "#7201a8"
             ],
             [
              0.3333333333333333,
              "#9c179e"
             ],
             [
              0.4444444444444444,
              "#bd3786"
             ],
             [
              0.5555555555555556,
              "#d8576b"
             ],
             [
              0.6666666666666666,
              "#ed7953"
             ],
             [
              0.7777777777777778,
              "#fb9f3a"
             ],
             [
              0.8888888888888888,
              "#fdca26"
             ],
             [
              1,
              "#f0f921"
             ]
            ],
            "type": "heatmapgl"
           }
          ],
          "histogram": [
           {
            "marker": {
             "pattern": {
              "fillmode": "overlay",
              "size": 10,
              "solidity": 0.2
             }
            },
            "type": "histogram"
           }
          ],
          "histogram2d": [
           {
            "colorbar": {
             "outlinewidth": 0,
             "ticks": ""
            },
            "colorscale": [
             [
              0,
              "#0d0887"
             ],
             [
              0.1111111111111111,
              "#46039f"
             ],
             [
              0.2222222222222222,
              "#7201a8"
             ],
             [
              0.3333333333333333,
              "#9c179e"
             ],
             [
              0.4444444444444444,
              "#bd3786"
             ],
             [
              0.5555555555555556,
              "#d8576b"
             ],
             [
              0.6666666666666666,
              "#ed7953"
             ],
             [
              0.7777777777777778,
              "#fb9f3a"
             ],
             [
              0.8888888888888888,
              "#fdca26"
             ],
             [
              1,
              "#f0f921"
             ]
            ],
            "type": "histogram2d"
           }
          ],
          "histogram2dcontour": [
           {
            "colorbar": {
             "outlinewidth": 0,
             "ticks": ""
            },
            "colorscale": [
             [
              0,
              "#0d0887"
             ],
             [
              0.1111111111111111,
              "#46039f"
             ],
             [
              0.2222222222222222,
              "#7201a8"
             ],
             [
              0.3333333333333333,
              "#9c179e"
             ],
             [
              0.4444444444444444,
              "#bd3786"
             ],
             [
              0.5555555555555556,
              "#d8576b"
             ],
             [
              0.6666666666666666,
              "#ed7953"
             ],
             [
              0.7777777777777778,
              "#fb9f3a"
             ],
             [
              0.8888888888888888,
              "#fdca26"
             ],
             [
              1,
              "#f0f921"
             ]
            ],
            "type": "histogram2dcontour"
           }
          ],
          "mesh3d": [
           {
            "colorbar": {
             "outlinewidth": 0,
             "ticks": ""
            },
            "type": "mesh3d"
           }
          ],
          "parcoords": [
           {
            "line": {
             "colorbar": {
              "outlinewidth": 0,
              "ticks": ""
             }
            },
            "type": "parcoords"
           }
          ],
          "pie": [
           {
            "automargin": true,
            "type": "pie"
           }
          ],
          "scatter": [
           {
            "marker": {
             "colorbar": {
              "outlinewidth": 0,
              "ticks": ""
             }
            },
            "type": "scatter"
           }
          ],
          "scatter3d": [
           {
            "line": {
             "colorbar": {
              "outlinewidth": 0,
              "ticks": ""
             }
            },
            "marker": {
             "colorbar": {
              "outlinewidth": 0,
              "ticks": ""
             }
            },
            "type": "scatter3d"
           }
          ],
          "scattercarpet": [
           {
            "marker": {
             "colorbar": {
              "outlinewidth": 0,
              "ticks": ""
             }
            },
            "type": "scattercarpet"
           }
          ],
          "scattergeo": [
           {
            "marker": {
             "colorbar": {
              "outlinewidth": 0,
              "ticks": ""
             }
            },
            "type": "scattergeo"
           }
          ],
          "scattergl": [
           {
            "marker": {
             "colorbar": {
              "outlinewidth": 0,
              "ticks": ""
             }
            },
            "type": "scattergl"
           }
          ],
          "scattermapbox": [
           {
            "marker": {
             "colorbar": {
              "outlinewidth": 0,
              "ticks": ""
             }
            },
            "type": "scattermapbox"
           }
          ],
          "scatterpolar": [
           {
            "marker": {
             "colorbar": {
              "outlinewidth": 0,
              "ticks": ""
             }
            },
            "type": "scatterpolar"
           }
          ],
          "scatterpolargl": [
           {
            "marker": {
             "colorbar": {
              "outlinewidth": 0,
              "ticks": ""
             }
            },
            "type": "scatterpolargl"
           }
          ],
          "scatterternary": [
           {
            "marker": {
             "colorbar": {
              "outlinewidth": 0,
              "ticks": ""
             }
            },
            "type": "scatterternary"
           }
          ],
          "surface": [
           {
            "colorbar": {
             "outlinewidth": 0,
             "ticks": ""
            },
            "colorscale": [
             [
              0,
              "#0d0887"
             ],
             [
              0.1111111111111111,
              "#46039f"
             ],
             [
              0.2222222222222222,
              "#7201a8"
             ],
             [
              0.3333333333333333,
              "#9c179e"
             ],
             [
              0.4444444444444444,
              "#bd3786"
             ],
             [
              0.5555555555555556,
              "#d8576b"
             ],
             [
              0.6666666666666666,
              "#ed7953"
             ],
             [
              0.7777777777777778,
              "#fb9f3a"
             ],
             [
              0.8888888888888888,
              "#fdca26"
             ],
             [
              1,
              "#f0f921"
             ]
            ],
            "type": "surface"
           }
          ],
          "table": [
           {
            "cells": {
             "fill": {
              "color": "#EBF0F8"
             },
             "line": {
              "color": "white"
             }
            },
            "header": {
             "fill": {
              "color": "#C8D4E3"
             },
             "line": {
              "color": "white"
             }
            },
            "type": "table"
           }
          ]
         },
         "layout": {
          "annotationdefaults": {
           "arrowcolor": "#2a3f5f",
           "arrowhead": 0,
           "arrowwidth": 1
          },
          "autotypenumbers": "strict",
          "coloraxis": {
           "colorbar": {
            "outlinewidth": 0,
            "ticks": ""
           }
          },
          "colorscale": {
           "diverging": [
            [
             0,
             "#8e0152"
            ],
            [
             0.1,
             "#c51b7d"
            ],
            [
             0.2,
             "#de77ae"
            ],
            [
             0.3,
             "#f1b6da"
            ],
            [
             0.4,
             "#fde0ef"
            ],
            [
             0.5,
             "#f7f7f7"
            ],
            [
             0.6,
             "#e6f5d0"
            ],
            [
             0.7,
             "#b8e186"
            ],
            [
             0.8,
             "#7fbc41"
            ],
            [
             0.9,
             "#4d9221"
            ],
            [
             1,
             "#276419"
            ]
           ],
           "sequential": [
            [
             0,
             "#0d0887"
            ],
            [
             0.1111111111111111,
             "#46039f"
            ],
            [
             0.2222222222222222,
             "#7201a8"
            ],
            [
             0.3333333333333333,
             "#9c179e"
            ],
            [
             0.4444444444444444,
             "#bd3786"
            ],
            [
             0.5555555555555556,
             "#d8576b"
            ],
            [
             0.6666666666666666,
             "#ed7953"
            ],
            [
             0.7777777777777778,
             "#fb9f3a"
            ],
            [
             0.8888888888888888,
             "#fdca26"
            ],
            [
             1,
             "#f0f921"
            ]
           ],
           "sequentialminus": [
            [
             0,
             "#0d0887"
            ],
            [
             0.1111111111111111,
             "#46039f"
            ],
            [
             0.2222222222222222,
             "#7201a8"
            ],
            [
             0.3333333333333333,
             "#9c179e"
            ],
            [
             0.4444444444444444,
             "#bd3786"
            ],
            [
             0.5555555555555556,
             "#d8576b"
            ],
            [
             0.6666666666666666,
             "#ed7953"
            ],
            [
             0.7777777777777778,
             "#fb9f3a"
            ],
            [
             0.8888888888888888,
             "#fdca26"
            ],
            [
             1,
             "#f0f921"
            ]
           ]
          },
          "colorway": [
           "#636efa",
           "#EF553B",
           "#00cc96",
           "#ab63fa",
           "#FFA15A",
           "#19d3f3",
           "#FF6692",
           "#B6E880",
           "#FF97FF",
           "#FECB52"
          ],
          "font": {
           "color": "#2a3f5f"
          },
          "geo": {
           "bgcolor": "white",
           "lakecolor": "white",
           "landcolor": "#E5ECF6",
           "showlakes": true,
           "showland": true,
           "subunitcolor": "white"
          },
          "hoverlabel": {
           "align": "left"
          },
          "hovermode": "closest",
          "mapbox": {
           "style": "light"
          },
          "paper_bgcolor": "white",
          "plot_bgcolor": "#E5ECF6",
          "polar": {
           "angularaxis": {
            "gridcolor": "white",
            "linecolor": "white",
            "ticks": ""
           },
           "bgcolor": "#E5ECF6",
           "radialaxis": {
            "gridcolor": "white",
            "linecolor": "white",
            "ticks": ""
           }
          },
          "scene": {
           "xaxis": {
            "backgroundcolor": "#E5ECF6",
            "gridcolor": "white",
            "gridwidth": 2,
            "linecolor": "white",
            "showbackground": true,
            "ticks": "",
            "zerolinecolor": "white"
           },
           "yaxis": {
            "backgroundcolor": "#E5ECF6",
            "gridcolor": "white",
            "gridwidth": 2,
            "linecolor": "white",
            "showbackground": true,
            "ticks": "",
            "zerolinecolor": "white"
           },
           "zaxis": {
            "backgroundcolor": "#E5ECF6",
            "gridcolor": "white",
            "gridwidth": 2,
            "linecolor": "white",
            "showbackground": true,
            "ticks": "",
            "zerolinecolor": "white"
           }
          },
          "shapedefaults": {
           "line": {
            "color": "#2a3f5f"
           }
          },
          "ternary": {
           "aaxis": {
            "gridcolor": "white",
            "linecolor": "white",
            "ticks": ""
           },
           "baxis": {
            "gridcolor": "white",
            "linecolor": "white",
            "ticks": ""
           },
           "bgcolor": "#E5ECF6",
           "caxis": {
            "gridcolor": "white",
            "linecolor": "white",
            "ticks": ""
           }
          },
          "title": {
           "x": 0.05
          },
          "xaxis": {
           "automargin": true,
           "gridcolor": "white",
           "linecolor": "white",
           "ticks": "",
           "title": {
            "standoff": 15
           },
           "zerolinecolor": "white",
           "zerolinewidth": 2
          },
          "yaxis": {
           "automargin": true,
           "gridcolor": "white",
           "linecolor": "white",
           "ticks": "",
           "title": {
            "standoff": 15
           },
           "zerolinecolor": "white",
           "zerolinewidth": 2
          }
         }
        },
        "xaxis": {
         "anchor": "y",
         "autorange": true,
         "domain": [
          0,
          1
         ],
         "range": [
          -360740.825,
          7337509.075
         ],
         "title": {
          "text": "TotalUSDPrize"
         },
         "type": "linear"
        },
        "xaxis2": {
         "anchor": "y2",
         "autorange": true,
         "domain": [
          0,
          1
         ],
         "matches": "x",
         "range": [
          -360740.825,
          7337509.075
         ],
         "showgrid": true,
         "showticklabels": false,
         "type": "linear"
        },
        "yaxis": {
         "anchor": "x",
         "autorange": true,
         "domain": [
          0,
          0.7326
         ],
         "range": [
          0,
          336.8421052631579
         ],
         "title": {
          "text": "count"
         }
        },
        "yaxis2": {
         "anchor": "x2",
         "autorange": true,
         "domain": [
          0.7426,
          1
         ],
         "matches": "y2",
         "range": [
          -0.5,
          4.5
         ],
         "showgrid": false,
         "showline": false,
         "showticklabels": false,
         "ticks": "",
         "type": "category"
        }
       }
      },
      "image/png": "[encoded data removed]",
      "text/html": [
       "<div>                            <div id=\"71b4eab7-4c1d-4058-bc99-16a528d218b2\" class=\"plotly-graph-div\" style=\"height:525px; width:100%;\"></div>            <script type=\"text/javascript\">                require([\"plotly\"], function(Plotly) {                    window.PLOTLYENV=window.PLOTLYENV || {};                                    if (document.getElementById(\"71b4eab7-4c1d-4058-bc99-16a528d218b2\")) {                    Plotly.newPlot(                        \"71b4eab7-4c1d-4058-bc99-16a528d218b2\",                        [{\"alignmentgroup\":\"True\",\"bingroup\":\"x\",\"hovertemplate\":\"Genre=First-Person Shooter<br>TotalUSDPrize=%{x}<br>count=%{y}<extra></extra>\",\"legendgroup\":\"First-Person Shooter\",\"marker\":{\"color\":\"#636efa\",\"pattern\":{\"shape\":\"\"}},\"name\":\"First-Person Shooter\",\"offsetgroup\":\"First-Person Shooter\",\"orientation\":\"v\",\"showlegend\":true,\"x\":[1822989.41,1799288.57,1787489.88,1652350.75,1416448.64,1087340.0,1063858.27,1063038.92,1059938.92,1021901.46,982765.66,964635.39,930696.42,920151.73,897760.68,880011.52,877668.95,867823.34,835376.43,814852.39,805444.66,798520.8,780039.21,763799.57,762802.56,732920.07,713086.68,689568.7,677155.31,660640.55,653938.44,617000.5,613854.6,606880.52,596748.79,591510.89,586616.0,577382.35,574103.56,547205.97,531541.99,517888.39,513805.74,506010.74,498887.62,485910.46,481487.38,464499.26,449799.56,448642.48,437479.98,418492.59,417465.86,414305.65,407662.41,403005.81,391973.94,389680.38,387551.81,382208.97,378500.99,375765.04,361678.02,349557.33,339091.34,335508.19,333711.15,332671.67,326080.0,323423.04,323127.22,307601.25,307129.97,306178.43,305655.12,302884.33,284845.29,276730.92,275404.13,273859.49,273784.13,273117.72,272602.0,269977.5,269446.78,265131.4,260987.54,260797.63,260721.09,256374.45,249663.46,247538.65,247248.57,245208.72,244070.27,242273.51,239956.42,234332.17,233210.47,232167.42,331108.68,327424.24,322184.16,319657.2,314548.25,312948.02,308901.19,297730.97,297730.97,272689.65,267391.59,222400.43,208453.84,197480.74,188479.09,186382.3,180755.36,176385.68,168959.28,167420.62,164396.18,164363.81,164025.25,163336.4,159911.85,159757.11,157907.63,157289.9,157268.25,156207.98,151472.42,149547.3,138012.28,131615.34,128681.89,113666.44,111871.29,110435.01,108240.14,107535.84,104737.26,104074.27,98285.03,96906.13,94244.74,91413.27,91158.55,90485.05,90439.44,90428.77,88443.76,86293.32,86277.6,85804.45,83845.32,83532.82,83235.77,82724.04,82630.1,82032.82,81812.25,81363.59,78260.01,78144.21,77756.89,77723.5,77014.11,75756.09,74902.37,74175.89,73478.37,72886.36,70298.68,70255.34,69918.09,68984.11,67619.01,67246.48,66306.23,66165.46,64783.08,63953.84,62069.85,61950.86,61460.24,61459.02,61027.02,59154.54,58718.69,56549.85,55676.28,55538.23,55453.17,54391.23,54391.23,54290.66,54215.94,54037.27,53759.68,53293.7],\"xaxis\":\"x\",\"yaxis\":\"y\",\"type\":\"histogram\"},{\"alignmentgroup\":\"True\",\"customdata\":[[3883,\"Peter\",\"Rasmussen\",\"dupreeh\",\"dk\",\"Counter-Strike: Global Offensive\",\"First-Person Shooter\"],[3679,\"Andreas\",\"H\\u00f8jsleth\",\"Xyp9x\",\"dk\",\"Counter-Strike: Global Offensive\",\"First-Person Shooter\"],[3885,\"Nicolai\",\"Reedtz\",\"dev1ce\",\"dk\",\"Counter-Strike: Global Offensive\",\"First-Person Shooter\"],[3672,\"Lukas\",\"Rossander\",\"gla1ve\",\"dk\",\"Counter-Strike: Global Offensive\",\"First-Person Shooter\"],[17800,\"Emil\",\"Reif\",\"Magisk\",\"dk\",\"Counter-Strike: Global Offensive\",\"First-Person Shooter\"],[16800,\"Jakey\",\"Yip\",\"Stewie2k\",\"us\",\"Counter-Strike: Global Offensive\",\"First-Person Shooter\"],[12183,\"Epit\\u00e1cio\",\"de Melo\",\"TACO\",\"br\",\"Counter-Strike: Global Offensive\",\"First-Person Shooter\"],[12169,\"Fernando\",\"Alvarenga\",\"fer\",\"br\",\"Counter-Strike: Global Offensive\",\"First-Person Shooter\"],[2455,\"Gabriel\",\"Toledo\",\"FalleN\",\"br\",\"Counter-Strike: Global Offensive\",\"First-Person Shooter\"],[12182,\"Marcelo\",\"David\",\"coldzera\",\"br\",\"Counter-Strike: Global Offensive\",\"First-Person Shooter\"],[10629,\"Keith\",\"Markovic\",\"NAF\",\"ca\",\"Counter-Strike: Global Offensive\",\"First-Person Shooter\"],[2452,\"Finn\",\"Andersen\",\"karrigan\",\"dk\",\"Counter-Strike: Global Offensive\",\"First-Person Shooter\"],[11788,\"Jonathan\",\"Jablonowski\",\"ELiGE\",\"us\",\"Counter-Strike: Global Offensive\",\"First-Person Shooter\"],[8635,\"Nick\",\"Cannella\",\"nitr0\",\"us\",\"Counter-Strike: Global Offensive\",\"First-Person Shooter\"],[3875,\"Jesper\",\"Wecksell\",\"JW\",\"se\",\"Counter-Strike: Global Offensive\",\"First-Person Shooter\"],[5001,\"Olof\",\"Kajbjer\",\"olofmeister\",\"se\",\"Counter-Strike: Global Offensive\",\"First-Person Shooter\"],[3878,\"Robin\",\"R\\u00f6nnquist\",\"flusha\",\"se\",\"Counter-Strike: Global Offensive\",\"First-Person Shooter\"],[5000,\"Freddy\",\"Johansson\",\"KRiMZ\",\"se\",\"Counter-Strike: Global Offensive\",\"First-Person Shooter\"],[20415,\"Russel\",\"Van Dulken\",\"Twistzz\",\"ca\",\"Counter-Strike: Global Offensive\",\"First-Person Shooter\"],[3888,\"Dan\",\"Madesclaire\",\"apEX\",\"fr\",\"Counter-Strike: Global Offensive\",\"First-Person Shooter\"],[3290,\"Nathan\",\"Schmitt\",\"NBK\",\"fr\",\"Counter-Strike: Global Offensive\",\"First-Person Shooter\"],[3882,\"Ladislav\",\"Kov\\u00e1cs\",\"GuardiaN\",\"sk\",\"Counter-Strike: Global Offensive\",\"First-Person Shooter\"],[10630,\"Tarik\",\"Celik\",\"tarik\",\"us\",\"Counter-Strike: Global Offensive\",\"First-Person Shooter\"],[5483,\"H\\u00e5vard\",\"Nygaard\",\"rain\",\"no\",\"Counter-Strike: Global Offensive\",\"First-Person Shooter\"],[5783,\"Nikola\",\"Kova\\u010d\",\"NiKo\",\"ba\",\"Counter-Strike: Global Offensive\",\"First-Person Shooter\"],[8168,\"Egor\",\"Vasilyev\",\"flamie\",\"ru\",\"Counter-Strike: Global Offensive\",\"First-Person Shooter\"],[3289,\"Kenny\",\"Schrub\",\"kennyS\",\"fr\",\"Counter-Strike: Global Offensive\",\"First-Person Shooter\"],[1511,\"Daniil\",\"Teslenko\",\"Zeus\",\"ua\",\"Counter-Strike: Global Offensive\",\"First-Person Shooter\"],[8169,\"Alexander\",\"Kostylev\",\"s1mple\",\"ua\",\"Counter-Strike: Global Offensive\",\"First-Person Shooter\"],[3881,\"Richard\",\"Papillon\",\"shox\",\"fr\",\"Counter-Strike: Global Offensive\",\"First-Person Shooter\"],[4998,\"Janusz\",\"Pogorzelski\",\"snax\",\"pl\",\"Counter-Strike: Global Offensive\",\"First-Person Shooter\"],[10736,\"Markus\",\"Kj\\u00e6rbye\",\"Kjaerbye\",\"dk\",\"Counter-Strike: Global Offensive\",\"First-Person Shooter\"],[1510,\"Ioann\",\"Sukharev\",\"Edward\",\"ua\",\"Counter-Strike: Global Offensive\",\"First-Person Shooter\"],[1485,\"Filip\",\"Kubski\",\"neo\",\"pl\",\"Counter-Strike: Global Offensive\",\"First-Person Shooter\"],[3951,\"Chris\",\"de Jong\",\"chrisJ\",\"nl\",\"Counter-Strike: Global Offensive\",\"First-Person Shooter\"],[1484,\"Wiktor\",\"Wojtas\",\"TaZ\",\"pl\",\"Counter-Strike: Global Offensive\",\"First-Person Shooter\"],[4311,\"Will\",\"Wierzba\",\"Rush\",\"us\",\"Counter-Strike: Global Offensive\",\"First-Person Shooter\"],[1488,\"Jaros\\u0142aw\",\"Jarz\\u0105bkowski\",\"pashaBiceps\",\"pl\",\"Counter-Strike: Global Offensive\",\"First-Person Shooter\"],[4997,\"Pawe\\u0142\",\"Bieli\\u0144ski\",\"byali\",\"pl\",\"Counter-Strike: Global Offensive\",\"First-Person Shooter\"],[1490,\"Patrik\",\"Lindberg\",\"f0rest\",\"se\",\"Counter-Strike: Global Offensive\",\"First-Person Shooter\"],[16267,\"Denis\",\"Sharipov\",\"electroNic\",\"ru\",\"Counter-Strike: Global Offensive\",\"First-Person Shooter\"],[1492,\"Christopher\",\"Alesund\",\"GeT_RiGhT\",\"se\",\"Counter-Strike: Global Offensive\",\"First-Person Shooter\"],[2440,\"Richard\",\"Landstr\\u00f6m\",\"Xizt\",\"se\",\"Counter-Strike: Global Offensive\",\"First-Person Shooter\"],[31594,\"Robin\",\"Kool\",\"ropz\",\"ee\",\"Counter-Strike: Global Offensive\",\"First-Person Shooter\"],[3293,\"C\\u00e9dric\",\"Guipouy\",\"RpK\",\"fr\",\"Counter-Strike: Global Offensive\",\"First-Person Shooter\"],[3889,\"Vincent\",\"Schopenhauer\",\"Happy\",\"fr\",\"Counter-Strike: Global Offensive\",\"First-Person Shooter\"],[11483,\"Peter\",\"Jarguz\",\"stanislaw\",\"ca\",\"Counter-Strike: Global Offensive\",\"First-Person Shooter\"],[12859,\"Jonas\",\"Olofsson\",\"Lekr0\",\"se\",\"Counter-Strike: Global Offensive\",\"First-Person Shooter\"],[11938,\"Timothy\",\"Ta\",\"autimatic\",\"us\",\"Counter-Strike: Global Offensive\",\"First-Person Shooter\"],[28556,\"Maikil\",\"Selim\",\"Golden\",\"se\",\"Counter-Strike: Global Offensive\",\"First-Person Shooter\"],[3752,\"Tyler\",\"Latham\",\"Skadoodle\",\"us\",\"Counter-Strike: Global Offensive\",\"First-Person Shooter\"],[2450,\"Aleksi\",\"Jalli\",\"allu\",\"fi\",\"Counter-Strike: Global Offensive\",\"First-Person Shooter\"],[4996,\"Ren\\u00e8\",\"Borg\",\"cajunb\",\"dk\",\"Counter-Strike: Global Offensive\",\"First-Person Shooter\"],[3676,\"Dauren\",\"Kystaubayev\",\"AdreN\",\"kz\",\"Counter-Strike: Global Offensive\",\"First-Person Shooter\"],[3287,\"Adam\",\"Friberg\",\"friberg\",\"se\",\"Counter-Strike: Global Offensive\",\"First-Person Shooter\"],[18811,\"Kristian\",\"Wienecke\",\"k0nfig\",\"dk\",\"Counter-Strike: Global Offensive\",\"First-Person Shooter\"],[28489,\"Vincent\",\"Cayonte\",\"Brehze\",\"us\",\"Counter-Strike: Global Offensive\",\"First-Person Shooter\"],[29711,\"Ethan\",\"Arnold\",\"nahtE\",\"us\",\"Counter-Strike: Global Offensive\",\"First-Person Shooter\"],[2456,\"Lincoln\",\"Lau\",\"fnx\",\"br\",\"Counter-Strike: Global Offensive\",\"First-Person Shooter\"],[12179,\"Ricardo\",\"Prass\",\"boltz\",\"br\",\"Counter-Strike: Global Offensive\",\"First-Person Shooter\"],[3998,\"Fabien\",\"Fiey\",\"KIOSHIMA\",\"fr\",\"Counter-Strike: Global Offensive\",\"First-Person Shooter\"],[30622,\"Cvetelin\",\"Nikolov\",\"CeRq\",\"bg\",\"Counter-Strike: Global Offensive\",\"First-Person Shooter\"],[2494,\"Dennis\",\"Edman\",\"dennis\",\"se\",\"Counter-Strike: Global Offensive\",\"First-Person Shooter\"],[3673,\"Mathias\",\"Lauridsen\",\"MSL\",\"dk\",\"Counter-Strike: Global Offensive\",\"First-Person Shooter\"],[4587,\"Denis\",\"Kostin\",\"seized\",\"ru\",\"Counter-Strike: Global Offensive\",\"First-Person Shooter\"],[5472,\"Tom\\u00e1\\u0161\",\"\\u0160\\u0165astn\\u00fd\",\"oskar\",\"cz\",\"Counter-Strike: Global Offensive\",\"First-Person Shooter\"],[31001,\"Mathieu\",\"Herbaut\",\"ZywOo\",\"fr\",\"Counter-Strike: Global Offensive\",\"First-Person Shooter\"],[5035,\"Philip\",\"Aistrup\",\"aizy\",\"dk\",\"Counter-Strike: Global Offensive\",\"First-Person Shooter\"],[5499,\"Miikka\",\"Kemppi\",\"suNny\",\"fi\",\"Counter-Strike: Global Offensive\",\"First-Person Shooter\"],[17801,\"Valdemar\",\"Vangs\\u00e5\",\"Valde\",\"dk\",\"Counter-Strike: Global Offensive\",\"First-Person Shooter\"],[12173,\"Jo\\u00e3o\",\"Vasconcellos\",\"felps\",\"br\",\"Counter-Strike: Global Offensive\",\"First-Person Shooter\"],[1494,\"Mikhail\",\"Stolyarov\",\"Dosia\",\"ru\",\"Counter-Strike: Global Offensive\",\"First-Person Shooter\"],[13134,\"Can\",\"D\\u00f6rtkardes\",\"XANTARES\",\"tr\",\"Counter-Strike: Global Offensive\",\"First-Person Shooter\"],[9565,\"Alexandre\",\"Pianaro\",\"bodyy\",\"fr\",\"Counter-Strike: Global Offensive\",\"First-Person Shooter\"],[5433,\"Martin\",\"Styk\",\"STYKO\",\"sk\",\"Counter-Strike: Global Offensive\",\"First-Person Shooter\"],[19595,\"\\u00d6zg\\u00fcr\",\"Eker\",\"woxic\",\"tr\",\"Counter-Strike: Global Offensive\",\"First-Person Shooter\"],[21291,\"Fredrik\",\"Sterner\",\"REZ\",\"se\",\"Counter-Strike: Global Offensive\",\"First-Person Shooter\"],[20813,\"Aleksi\",\"Virolainen\",\"Aleksib\",\"fi\",\"Counter-Strike: Global Offensive\",\"First-Person Shooter\"],[39608,\"Alexey\",\"Golubev\",\"Qikert\",\"kz\",\"Counter-Strike: Global Offensive\",\"First-Person Shooter\"],[10191,\"Rustem\",\"Tlepov\",\"mou\",\"kz\",\"Counter-Strike: Global Offensive\",\"First-Person Shooter\"],[35378,\"Timur\",\"Tulepov\",\"Buster\",\"kz\",\"Counter-Strike: Global Offensive\",\"First-Person Shooter\"],[35077,\"Ali\",\"Dzhami\",\"Jame\",\"ru\",\"Counter-Strike: Global Offensive\",\"First-Person Shooter\"],[2529,\"Christophe\",\"Xia\",\"SIXER\",\"fr\",\"Counter-Strike: Global Offensive\",\"First-Person Shooter\"],[25121,\"Abay\",\"Khasenov\",\"HObbit\",\"kz\",\"Counter-Strike: Global Offensive\",\"First-Person Shooter\"],[3291,\"Edouard\",\"Dubourdeaux\",\"SmithZz\",\"fr\",\"Counter-Strike: Global Offensive\",\"First-Person Shooter\"],[24832,\"David\",\"\\u010cer\\u0148ansk\\u00fd\",\"frozen\",\"sk\",\"Counter-Strike: Global Offensive\",\"First-Person Shooter\"],[38456,\"Valentin\",\"Vasilev\",\"poiz0n\",\"bg\",\"Counter-Strike: Global Offensive\",\"First-Person Shooter\"],[10627,\"Damian\",\"Steele\",\"daps\",\"ca\",\"Counter-Strike: Global Offensive\",\"First-Person Shooter\"],[3576,\"Simon\",\"Eliasson\",\"twist\",\"se\",\"Counter-Strike: Global Offensive\",\"First-Person Shooter\"],[12170,\"Henrique\",\"Teles\",\"hen1\",\"br\",\"Counter-Strike: Global Offensive\",\"First-Person Shooter\"],[3678,\"Adil\",\"Benrlitom\",\"ScreaM\",\"be\",\"Counter-Strike: Global Offensive\",\"First-Person Shooter\"],[7789,\"Oscar\",\"Ca\\u00f1ellas\",\"mixwell\",\"es\",\"Counter-Strike: Global Offensive\",\"First-Person Shooter\"],[3952,\"Johannes\",\"Wodarz\",\"tabseN\",\"de\",\"Counter-Strike: Global Offensive\",\"First-Person Shooter\"],[10294,\"Alex\",\"McMeekin\",\"ALEX\",\"gb\",\"Counter-Strike: Global Offensive\",\"First-Person Shooter\"],[8968,\"Damian\",\"Kis\\u0142owski\",\"Furlan\",\"pl\",\"Counter-Strike: Global Offensive\",\"First-Person Shooter\"],[12156,\"HaoWen\",\"Xu\",\"somebody\",\"cn\",\"Counter-Strike: Global Offensive\",\"First-Person Shooter\"],[2484,\"Jordan\",\"Gilbert\",\"n0thing\",\"us\",\"Counter-Strike: Global Offensive\",\"First-Person Shooter\"],[10134,\"Karol\",\"Rodowicz\",\"rallen\",\"pl\",\"Counter-Strike: Global Offensive\",\"First-Person Shooter\"],[17622,\"Francois\",\"Delaunay\",\"Amanek\",\"fr\",\"Counter-Strike: Global Offensive\",\"First-Person Shooter\"],[49029,\"Sanjar\",\"Kuliev\",\"SANJI\",\"uz\",\"Counter-Strike: Global Offensive\",\"First-Person Shooter\"],[32000,\"Dong Jun\",\"Kim\",\"Rascal\",\"kr\",\"Overwatch\",\"First-Person Shooter\"],[40261,\"Nam Joo\",\"Kwon\",\"Striker\",\"kr\",\"Overwatch\",\"First-Person Shooter\"],[46828,\"Myeong Hwan\",\"Yoo\",\"smurf\",\"kr\",\"Overwatch\",\"First-Person Shooter\"],[36883,\"Hyo Bin\",\"Choi\",\"ChoiHyoBin\",\"kr\",\"Overwatch\",\"First-Person Shooter\"],[35563,\"Grant\",\"Espe\",\"Moth\",\"us\",\"Overwatch\",\"First-Person Shooter\"],[35121,\"Matthew\",\"DeLisi\",\"super\",\"us\",\"Overwatch\",\"First-Person Shooter\"],[50319,\"Min Ki\",\"Park\",\"Viol2t\",\"kr\",\"Overwatch\",\"First-Person Shooter\"],[37635,\"Jae Hee\",\"Hong\",\"Gesture\",\"kr\",\"Overwatch\",\"First-Person Shooter\"],[37636,\"Joon Yeong\",\"Park\",\"Profit\",\"kr\",\"Overwatch\",\"First-Person Shooter\"],[35351,\"Seung Tae\",\"Choi\",\"Bdosin\",\"kr\",\"Overwatch\",\"First-Person Shooter\"],[34117,\"Joo Seok\",\"Lee\",\"Twilight\",\"kr\",\"Overwatch\",\"First-Person Shooter\"],[37325,\"Jun Ho\",\"Kim\",\"Fury\",\"kr\",\"Overwatch\",\"First-Person Shooter\"],[34123,\"Ji Hyuk\",\"Kim\",\"birdring\",\"kr\",\"Overwatch\",\"First-Person Shooter\"],[37332,\"Won Sik\",\"Jung\",\"Closer\",\"kr\",\"Overwatch\",\"First-Person Shooter\"],[37389,\"Jong Seok\",\"Kim\",\"NUS\",\"kr\",\"Overwatch\",\"First-Person Shooter\"],[47221,\"Sung Jun\",\"Kim\",\"SLIME\",\"kr\",\"Overwatch\",\"First-Person Shooter\"],[27366,\"Andreas\",\"Karlsson\",\"Nevix\",\"se\",\"Overwatch\",\"First-Person Shooter\"],[34133,\"Jong Yeol\",\"Park\",\"Saebyeolbe\",\"kr\",\"Overwatch\",\"First-Person Shooter\"],[34701,\"Dong Gyu\",\"Kim\",\"Mano\",\"kr\",\"Overwatch\",\"First-Person Shooter\"],[37385,\"Hye Sung\",\"Kim\",\"Libero\",\"kr\",\"Overwatch\",\"First-Person Shooter\"],[37501,\"Choong Hui\",\"Lee\",\"Stitch\",\"kr\",\"Overwatch\",\"First-Person Shooter\"],[34175,\"Jay\",\"Won\",\"sinatraa\",\"us\",\"Overwatch\",\"First-Person Shooter\"],[39996,\"Sean\",\"Henderson\",\"ta1yo\",\"jp\",\"Overwatch\",\"First-Person Shooter\"],[42786,\"Sung Hyeon\",\"Bang\",\"JJoNak\",\"kr\",\"Overwatch\",\"First-Person Shooter\"],[50329,\"Seon Chang\",\"Lee\",\"ANS\",\"kr\",\"Overwatch\",\"First-Person Shooter\"],[42667,\"Tae-seong\",\"Jeong\",\"ANAMO\",\"kr\",\"Overwatch\",\"First-Person Shooter\"],[37637,\"Dong Eun\",\"Lee\",\"Hooreg\",\"kr\",\"Overwatch\",\"First-Person Shooter\"],[40110,\"Min Ho\",\"Park\",\"Architect\",\"kr\",\"Overwatch\",\"First-Person Shooter\"],[32848,\"Jin Mo\",\"Yang\",\"tobi\",\"kr\",\"Overwatch\",\"First-Person Shooter\"],[40385,\"Hyeon Woo\",\"Choi\",\"JJANU\",\"kr\",\"Overwatch\",\"First-Person Shooter\"],[34159,\"Hyo Jong\",\"Kim\",\"Haksal\",\"kr\",\"Overwatch\",\"First-Person Shooter\"],[34132,\"Tae Hong\",\"Kim\",\"Mek0\",\"kr\",\"Overwatch\",\"First-Person Shooter\"],[32172,\"Do Hyun\",\"Kim\",\"pine\",\"kr\",\"Overwatch\",\"First-Person Shooter\"],[37341,\"Min-hyuk\",\"Choi\",\"Michelle\",\"kr\",\"Overwatch\",\"First-Person Shooter\"],[37502,\"Sang Beom\",\"Park\",\"BUMPER\",\"kr\",\"Overwatch\",\"First-Person Shooter\"],[36891,\"Yeon Joon\",\"Hong\",\"ArK\",\"kr\",\"Overwatch\",\"First-Person Shooter\"],[42796,\"Min Seo\",\"Hwang\",\"Marve1\",\"kr\",\"Overwatch\",\"First-Person Shooter\"],[40107,\"Jun Woo\",\"Kang\",\"Void\",\"kr\",\"Overwatch\",\"First-Person Shooter\"],[50327,\"Jae Min\",\"Park\",\"ILLICIT\",\"kr\",\"Overwatch\",\"First-Person Shooter\"],[42942,\"Min Soo\",\"Seo\",\"SeoMinSoo\",\"kr\",\"Overwatch\",\"First-Person Shooter\"],[57262,\"Dong Eon\",\"Kim\",\"Fits\",\"kr\",\"Overwatch\",\"First-Person Shooter\"],[42891,\"Jun Geun\",\"Kim\",\"Rapel\",\"kr\",\"Overwatch\",\"First-Person Shooter\"],[11233,\"Isaac\",\"Charles\",\"Boombox\",\"gb\",\"Overwatch\",\"First-Person Shooter\"],[44173,\"Daniel\",\"Hathaway\",\"FunnyAstro\",\"gb\",\"Overwatch\",\"First-Person Shooter\"],[37331,\"Min Seong\",\"Bae\",\"diem\",\"kr\",\"Overwatch\",\"First-Person Shooter\"],[39790,\"Yeon Kwan\",\"Jeong\",\"Nenne\",\"kr\",\"Overwatch\",\"First-Person Shooter\"],[37497,\"Jae Hyeok\",\"Lee\",\"Carpe\",\"kr\",\"Overwatch\",\"First-Person Shooter\"],[47237,\"Young Wan\",\"Kim\",\"Creative\",\"kr\",\"Overwatch\",\"First-Person Shooter\"],[34401,\"Gael\",\"Gouzerch\",\"Poko\",\"fr\",\"Overwatch\",\"First-Person Shooter\"],[4742,\"Terence\",\"Tarlier\",\"SoOn\",\"fr\",\"Overwatch\",\"First-Person Shooter\"],[37322,\"Jang Hyeon\",\"Hwang\",\"TiZi\",\"kr\",\"Overwatch\",\"First-Person Shooter\"],[34131,\"Joong Hwa\",\"Song\",\"janus\",\"kr\",\"Overwatch\",\"First-Person Shooter\"],[37493,\"Byeong Seon\",\"Kim\",\"Fleta\",\"kr\",\"Overwatch\",\"First-Person Shooter\"],[32847,\"Je Hong\",\"Ryu\",\"Ryujehong\",\"kr\",\"Overwatch\",\"First-Person Shooter\"],[32430,\"Weida\",\"Lu\",\"Diya\",\"cn\",\"Overwatch\",\"First-Person Shooter\"],[40620,\"Josh\",\"Corona\",\"Eqo\",\"il\",\"Overwatch\",\"First-Person Shooter\"],[32174,\"Yeon Oh\",\"Hwang\",\"Fl0w3R\",\"kr\",\"Overwatch\",\"First-Person Shooter\"],[27821,\"Lane\",\"Roberts\",\"Surefour\",\"ca\",\"Overwatch\",\"First-Person Shooter\"],[50325,\"Min Chul\",\"Kim\",\"Izayaki\",\"kr\",\"Overwatch\",\"First-Person Shooter\"],[43167,\"Su Min\",\"Kim\",\"SADO\",\"kr\",\"Overwatch\",\"First-Person Shooter\"],[37996,\"Simon\",\"Ekstr\\u00f6m\",\"snillo\",\"se\",\"Overwatch\",\"First-Person Shooter\"],[34712,\"Seong Hyeon\",\"Yang\",\"Luffy\",\"kr\",\"Overwatch\",\"First-Person Shooter\"],[42669,\"Min Seok\",\"Kwon\",\"AimGod\",\"kr\",\"Overwatch\",\"First-Person Shooter\"],[36889,\"Chang Hoon\",\"Gye\",\"r0ar\",\"kr\",\"Overwatch\",\"First-Person Shooter\"],[40108,\"Gui Un\",\"Jang\",\"Decay\",\"kr\",\"Overwatch\",\"First-Person Shooter\"],[31919,\"Jonas\",\"Suovaara\",\"Shaz\",\"fi\",\"Overwatch\",\"First-Person Shooter\"],[36781,\"Benjamin\",\"Isohanni\",\"BigG00se\",\"fi\",\"Overwatch\",\"First-Person Shooter\"],[36791,\"Seung Joon\",\"Lee\",\"Whoru\",\"kr\",\"Overwatch\",\"First-Person Shooter\"],[35349,\"Jin Hyeok\",\"Yang\",\"DDing\",\"kr\",\"Overwatch\",\"First-Person Shooter\"],[55703,\"Jae Gon\",\"Lee\",\"LeeJaeGon\",\"kr\",\"Overwatch\",\"First-Person Shooter\"],[34118,\"Kyung Ho\",\"Kim\",\"Alarm\",\"kr\",\"Overwatch\",\"First-Person Shooter\"],[33998,\"Joon Hyuk\",\"Kim\",\"zunba\",\"kr\",\"Overwatch\",\"First-Person Shooter\"],[31156,\"Se Yeon\",\"Kim\",\"Geguri\",\"kr\",\"Overwatch\",\"First-Person Shooter\"],[10750,\"Joona\",\"Laine\",\"fragi\",\"fi\",\"Overwatch\",\"First-Person Shooter\"],[47123,\"Blake\",\"Scott\",\"Gator\",\"us\",\"Overwatch\",\"First-Person Shooter\"],[39792,\"Hong Joon\",\"Choi\",\"HOTBA\",\"kr\",\"Overwatch\",\"First-Person Shooter\"],[5238,\"Alberto\",\"Gonzales Molinillo\",\"neptuNo\",\"es\",\"Overwatch\",\"First-Person Shooter\"],[36884,\"Da Un\",\"Jeong\",\"NoSmite\",\"kr\",\"Overwatch\",\"First-Person Shooter\"],[11780,\"Seb\",\"Barton\",\"numlocked\",\"gb\",\"Overwatch\",\"First-Person Shooter\"],[37395,\"Joon\",\"Jeong\",\"Erster\",\"kr\",\"Overwatch\",\"First-Person Shooter\"],[52500,\"Hee Su\",\"Jeong\",\"Heesu\",\"kr\",\"Overwatch\",\"First-Person Shooter\"],[21798,\"George\",\"Gushcha\",\"ShaDowBurn\",\"ru\",\"Overwatch\",\"First-Person Shooter\"],[32098,\"Brady\",\"Girardi\",\"Agilities\",\"ca\",\"Overwatch\",\"First-Person Shooter\"],[38995,\"Ho Jin\",\"Park\",\"IDK\",\"kr\",\"Overwatch\",\"First-Person Shooter\"],[35356,\"Jo\\u00e3o Pedro\",\"Telles\",\"Hydration\",\"br\",\"Overwatch\",\"First-Person Shooter\"],[13853,\"Ji Won\",\"Seo\",\"Stand1\",\"kr\",\"Overwatch\",\"First-Person Shooter\"],[27563,\"Timo\",\"Kettunen\",\"Taimou\",\"fi\",\"Overwatch\",\"First-Person Shooter\"],[42209,\"Xu\",\"Qiulin\",\"guxue\",\"cn\",\"Overwatch\",\"First-Person Shooter\"],[27565,\"Jonathan\",\"Rua\",\"HarryHook\",\"es\",\"Overwatch\",\"First-Person Shooter\"],[2339,\"Sebastian\",\"Widlund\",\"chipshajen\",\"se\",\"Overwatch\",\"First-Person Shooter\"],[29757,\"Joe\",\"Gramano\",\"Joemeister\",\"ca\",\"Overwatch\",\"First-Person Shooter\"],[37330,\"Pan Seung\",\"Koo\",\"FaTe\",\"kr\",\"Overwatch\",\"First-Person Shooter\"],[36795,\"Indy\",\"Halpern\",\"SPACE\",\"us\",\"Overwatch\",\"First-Person Shooter\"],[3482,\"Dylan\",\"Bignet\",\"aKm\",\"fr\",\"Overwatch\",\"First-Person Shooter\"],[4747,\"Benjamin\",\"Chevasson\",\"unKOE\",\"fr\",\"Overwatch\",\"First-Person Shooter\"],[37638,\"Hyeon Woo\",\"Jo\",\"HagoPeun\",\"kr\",\"Overwatch\",\"First-Person Shooter\"],[42893,\"Eui Seok\",\"Lee\",\"Fearless\",\"kr\",\"Overwatch\",\"First-Person Shooter\"],[34125,\"Byung Ho\",\"Lee\",\"Panker\",\"kr\",\"Overwatch\",\"First-Person Shooter\"],[28443,\"Scott\",\"Kennedy\",\"Custa\",\"au\",\"Overwatch\",\"First-Person Shooter\"],[36882,\"Kyeon Bo\",\"Kim\",\"GodsB\",\"kr\",\"Overwatch\",\"First-Person Shooter\"]],\"hovertemplate\":\"Genre=%{customdata[6]}<br>TotalUSDPrize=%{x}<br>PlayerId=%{customdata[0]}<br>NameFirst=%{customdata[1]}<br>NameLast=%{customdata[2]}<br>CurrentHandle=%{customdata[3]}<br>CountryCode=%{customdata[4]}<br>Game=%{customdata[5]}<extra></extra>\",\"legendgroup\":\"First-Person Shooter\",\"marker\":{\"color\":\"#636efa\"},\"name\":\"First-Person Shooter\",\"notched\":true,\"offsetgroup\":\"First-Person Shooter\",\"showlegend\":false,\"x\":[1822989.41,1799288.57,1787489.88,1652350.75,1416448.64,1087340.0,1063858.27,1063038.92,1059938.92,1021901.46,982765.66,964635.39,930696.42,920151.73,897760.68,880011.52,877668.95,867823.34,835376.43,814852.39,805444.66,798520.8,780039.21,763799.57,762802.56,732920.07,713086.68,689568.7,677155.31,660640.55,653938.44,617000.5,613854.6,606880.52,596748.79,591510.89,586616.0,577382.35,574103.56,547205.97,531541.99,517888.39,513805.74,506010.74,498887.62,485910.46,481487.38,464499.26,449799.56,448642.48,437479.98,418492.59,417465.86,414305.65,407662.41,403005.81,391973.94,389680.38,387551.81,382208.97,378500.99,375765.04,361678.02,349557.33,339091.34,335508.19,333711.15,332671.67,326080.0,323423.04,323127.22,307601.25,307129.97,306178.43,305655.12,302884.33,284845.29,276730.92,275404.13,273859.49,273784.13,273117.72,272602.0,269977.5,269446.78,265131.4,260987.54,260797.63,260721.09,256374.45,249663.46,247538.65,247248.57,245208.72,244070.27,242273.51,239956.42,234332.17,233210.47,232167.42,331108.68,327424.24,322184.16,319657.2,314548.25,312948.02,308901.19,297730.97,297730.97,272689.65,267391.59,222400.43,208453.84,197480.74,188479.09,186382.3,180755.36,176385.68,168959.28,167420.62,164396.18,164363.81,164025.25,163336.4,159911.85,159757.11,157907.63,157289.9,157268.25,156207.98,151472.42,149547.3,138012.28,131615.34,128681.89,113666.44,111871.29,110435.01,108240.14,107535.84,104737.26,104074.27,98285.03,96906.13,94244.74,91413.27,91158.55,90485.05,90439.44,90428.77,88443.76,86293.32,86277.6,85804.45,83845.32,83532.82,83235.77,82724.04,82630.1,82032.82,81812.25,81363.59,78260.01,78144.21,77756.89,77723.5,77014.11,75756.09,74902.37,74175.89,73478.37,72886.36,70298.68,70255.34,69918.09,68984.11,67619.01,67246.48,66306.23,66165.46,64783.08,63953.84,62069.85,61950.86,61460.24,61459.02,61027.02,59154.54,58718.69,56549.85,55676.28,55538.23,55453.17,54391.23,54391.23,54290.66,54215.94,54037.27,53759.68,53293.7],\"xaxis\":\"x2\",\"yaxis\":\"y2\",\"type\":\"box\"},{\"alignmentgroup\":\"True\",\"bingroup\":\"x\",\"hovertemplate\":\"Genre=Multiplayer Online Battle Arena<br>TotalUSDPrize=%{x}<br>count=%{y}<extra></extra>\",\"legendgroup\":\"Multiplayer Online Battle Arena\",\"marker\":{\"color\":\"#EF553B\",\"pattern\":{\"shape\":\"\"}},\"name\":\"Multiplayer Online Battle Arena\",\"offsetgroup\":\"Multiplayer Online Battle Arena\",\"orientation\":\"v\",\"showlegend\":true,\"x\":[6952596.58,6470000.02,6000411.96,5554297.41,5470902.57,5193382.81,4798043.68,4579118.16,4193412.69,3765369.04,3608317.34,3057237.67,2995619.62,2984982.14,2894690.34,2864004.17,2551657.34,2545626.14,2504134.31,2381155.91,2275625.58,2257053.21,2244012.27,2097095.28,2078534.86,2007841.6,2006311.11,2002159.51,1982225.7,1960956.47,1882492.98,1848849.88,1830094.33,1809225.3,1787796.92,1787083.53,1781891.47,1778125.61,1755205.74,1745944.26,1713179.57,1617323.45,1598492.49,1553261.96,1533698.67,1484921.92,1460470.75,1402208.92,1386339.43,1348804.67,1337308.37,1325834.13,1314968.82,1272450.74,1271085.0,1221917.1,1212757.14,1211710.47,1202225.88,1186002.61,1100271.44,1081544.74,1046689.75,1023582.18,1001723.8,989390.86,987072.69,933853.71,917449.86,871452.21,865656.21,845345.4,830696.89,822916.86,821961.68,813169.73,801915.23,798597.31,781396.55,780761.31,770563.75,734369.52,714049.53,710464.63,705536.2,698363.52,692327.42,679039.12,661271.48,653514.33,643143.08,641178.98,638938.79,609393.1,602221.88,601854.15,594922.51,591322.79,591271.39,591176.77,1257615.87,954620.62,915451.46,913084.7,810683.0,682248.64,610445.7,566607.87,559518.75,556087.84,553234.2,548235.82,545447.56,538926.12,538444.86,533979.52,526957.64,515306.14,507800.58,488379.08,483747.81,479060.15,472216.01,471280.47,471086.78,458259.05,440580.94,438830.14,422314.79,409144.64,403320.75,379664.5,374778.08,360201.28,348691.73,347699.25,346307.48,337832.12,337163.36,336306.24,330849.29,329318.02,325910.24,318379.81,313654.08,306475.81,300818.81,287279.5,286115.32,282456.48,281150.19,271901.75,268282.03,267646.88,266509.03,265601.98,265429.15,265283.06,260755.41,260170.9,257257.41,256771.39,252718.89,250580.01,250222.7,249497.86,242290.45,240437.63,232418.28,229438.65,225522.01,224722.01,220292.5,219660.3,217429.72,216539.83,206587.79,198089.09,191889.12,189265.81,185512.99,184100.69,183976.33,182877.42,182066.13,180858.29,177780.23,177478.08,177331.43,176983.88,174361.72,173098.69,170911.34,170679.58,166127.4,165169.85,164821.18,161938.75,160818.8,159402.36,464560.82,462790.78,427923.28,360093.52,353715.98,264826.14,239311.62,238798.57,229170.87,211104.46,200447.42,191647.23,187978.31,184790.78,184411.26,180964.31,164811.62,156959.11,151828.25,149291.76,147500.0,146932.17,145068.51,138297.16,138237.16,134818.57,128659.74,123398.02,122420.01,120263.57,114751.8,114207.06,112337.16,112170.41,110050.76,109714.8,106462.18,106288.65,105541.2,103282.92,102971.54,97856.2,97833.37,94813.8,93149.29,93131.84,92591.2,92397.81,90136.72,89529.34,89214.8,88040.91,87834.52,86588.9,85836.53,85535.96,84500.0,83962.45,80661.2,79790.68,77997.16,76798.88,75978.57,75648.35,75380.4,73817.6,73072.6,72193.01,70434.23,69829.77,69791.28,67862.48,67720.0,66663.8,65965.06,65525.96,65516.28,64763.4,64763.4,64742.6,64742.6,64112.6,63634.48,63405.8,60952.31,60502.6,58569.42,57792.0,57228.0,57198.2,56726.85,55970.05,53541.0,52978.13,51663.14,51636.85,51453.4,50572.68,50549.34,50545.96,465685.85,416162.04,399019.18,399019.18,399019.18,152734.63,143598.03,135749.99,133558.02,133558.02,133380.96,131670.38,131425.77,125644.94,122860.21,122693.28,122650.01,118657.27,117894.7,115644.94,113262.7,111710.36,111582.45,110644.94,110644.94,108311.67,98723.19,90798.66,89669.63,86881.37,86666.67,74492.23,71604.67,66666.67,65922.73,65922.73,65922.73,65922.73,65922.73,65922.73,65922.73,65922.73,65922.73,65922.73,65922.73,61228.35,58200.95,58160.23,58160.23,58160.23,58160.23,58160.23,57378.78,56270.18,55685.67,54159.21,54156.23,52118.54,51203.24,47549.95,46891.35,46641.1,46258.63,45995.54,44916.44,44591.96,43264.58,42482.43,42482.43,42482.43,42482.43,42482.43,41144.36,40376.87,38892.33,36171.67,36171.67,36171.67,36171.67,35049.38,34811.67,34190.6,33892.33,33892.33,33333.33,31489.38,31489.38,29676.0,28860.0,28816.0,28083.35,27580.07,27074.4,26695.5,26666.67,26666.67,26666.67,26645.0,25941.03,24171.67],\"xaxis\":\"x\",\"yaxis\":\"y\",\"type\":\"histogram\"},{\"alignmentgroup\":\"True\",\"customdata\":[[3304,\"Johan\",\"Sundstein\",\"N0tail\",\"dk\",\"Dota 2\",\"Multiplayer Online Battle Arena\"],[3822,\"Jesse\",\"Vainikka\",\"JerAx\",\"fi\",\"Dota 2\",\"Multiplayer Online Battle Arena\"],[30451,\"Anathan\",\"Pham\",\"ana\",\"au\",\"Dota 2\",\"Multiplayer Online Battle Arena\"],[2811,\"S\\u00e9bastien\",\"Debs\",\"Ceb\",\"fr\",\"Dota 2\",\"Multiplayer Online Battle Arena\"],[18897,\"Topias\",\"Taavitsainen\",\"Topson\",\"fi\",\"Dota 2\",\"Multiplayer Online Battle Arena\"],[3145,\"Kuro\",\"Takhasomi\",\"KuroKy\",\"de\",\"Dota 2\",\"Multiplayer Online Battle Arena\"],[14671,\"Amer\",\"Al-Barkawi\",\"Miracle-\",\"jo\",\"Dota 2\",\"Multiplayer Online Battle Arena\"],[12579,\"Ivan\",\"Ivanov\",\"MinD_ContRoL\",\"bg\",\"Dota 2\",\"Multiplayer Online Battle Arena\"],[25335,\"Maroun\",\"Merhej\",\"GH\",\"lb\",\"Dota 2\",\"Multiplayer Online Battle Arena\"],[12133,\"Lasse\",\"Urpalainen\",\"Matumbaman\",\"fi\",\"Dota 2\",\"Multiplayer Online Battle Arena\"],[14196,\"Sumail\",\"Hassan\",\"SumaiL\",\"pk\",\"Dota 2\",\"Multiplayer Online Battle Arena\"],[2615,\"Saahil\",\"Arora\",\"UNiVeRsE\",\"us\",\"Dota 2\",\"Multiplayer Online Battle Arena\"],[5194,\"Peter\",\"Dager\",\"ppd\",\"us\",\"Dota 2\",\"Multiplayer Online Battle Arena\"],[10188,\"Lu\",\"Yao\",\"Somnus\\u4e36M\",\"cn\",\"Dota 2\",\"Multiplayer Online Battle Arena\"],[4033,\"Linsen\",\"Xu\",\"fy\",\"cn\",\"Dota 2\",\"Multiplayer Online Battle Arena\"],[2578,\"Clement\",\"Ivanov\",\"Puppey\",\"ee\",\"Dota 2\",\"Multiplayer Online Battle Arena\"],[2610,\"Clinton\",\"Loomis\",\"Fear\",\"us\",\"Dota 2\",\"Multiplayer Online Battle Arena\"],[3524,\"Gustav\",\"Magnusson\",\"s4\",\"se\",\"Dota 2\",\"Multiplayer Online Battle Arena\"],[5195,\"Ludwig\",\"W\\u00e5hlberg\",\"Zai\",\"se\",\"Dota 2\",\"Multiplayer Online Battle Arena\"],[3305,\"Tal\",\"Aizik\",\"Fly\",\"il\",\"Dota 2\",\"Multiplayer Online Battle Arena\"],[13080,\"Aliwi\",\"Omar\",\"w33\",\"ro\",\"Dota 2\",\"Multiplayer Online Battle Arena\"],[4028,\"Artour\",\"Babaev\",\"Arteezy\",\"ca\",\"Dota 2\",\"Multiplayer Online Battle Arena\"],[26665,\"Chunyu\",\"Wang\",\"Ame\",\"cn\",\"Dota 2\",\"Multiplayer Online Battle Arena\"],[10712,\"Zhang\",\"Yiping\",\"y`\",\"cn\",\"Dota 2\",\"Multiplayer Online Battle Arena\"],[26513,\"Zhang\",\"Ruida\",\"Faith_bian\",\"cn\",\"Dota 2\",\"Multiplayer Online Battle Arena\"],[9515,\"Andreas\",\"Nielsen\",\"Cr1t\",\"dk\",\"Dota 2\",\"Multiplayer Online Battle Arena\"],[3256,\"Kurtis\",\"Ling\",\"Aui_2000\",\"ca\",\"Dota 2\",\"Multiplayer Online Battle Arena\"],[14238,\"Peng\",\"Li\",\"iceice\",\"cn\",\"Dota 2\",\"Multiplayer Online Battle Arena\"],[26512,\"Chu\",\"Zeyu\",\"Shadow\",\"cn\",\"Dota 2\",\"Multiplayer Online Battle Arena\"],[10711,\"Zhou\",\"Yang\",\"bLink\",\"cn\",\"Dota 2\",\"Multiplayer Online Battle Arena\"],[22207,\"Jianwei\",\"Yap\",\"xNova\",\"my\",\"Dota 2\",\"Multiplayer Online Battle Arena\"],[33561,\"Shenyi\",\"Yang\",\"Chalice\",\"cn\",\"Dota 2\",\"Multiplayer Online Battle Arena\"],[2596,\"Ning\",\"Zhang\",\"xiao8\",\"cn\",\"Dota 2\",\"Multiplayer Online Battle Arena\"],[15530,\"Damien\",\"Chok\",\"kpii\",\"au\",\"Dota 2\",\"Multiplayer Online Battle Arena\"],[16814,\"Roman\",\"Kushnarev\",\"RAMZES666\",\"ru\",\"Dota 2\",\"Multiplayer Online Battle Arena\"],[10080,\"Liangzhi\",\"Hu\",\"KaKa\",\"cn\",\"Dota 2\",\"Multiplayer Online Battle Arena\"],[27134,\"Yeik Nai\",\"Zheng\",\"MidOne\",\"my\",\"Dota 2\",\"Multiplayer Online Battle Arena\"],[3773,\"Alexei\",\"Berezin\",\"Solo\",\"ru\",\"Dota 2\",\"Multiplayer Online Battle Arena\"],[3146,\"Zhihao\",\"Chen\",\"Hao\",\"cn\",\"Dota 2\",\"Multiplayer Online Battle Arena\"],[3168,\"Hongda\",\"Zeng\",\"Faith\",\"cn\",\"Dota 2\",\"Multiplayer Online Battle Arena\"],[13322,\"Pavel\",\"Khvastunov\",\"9pasha\",\"ru\",\"Dota 2\",\"Multiplayer Online Battle Arena\"],[13323,\"Vladimir\",\"Minenko\",\"Noone\",\"ua\",\"Dota 2\",\"Multiplayer Online Battle Arena\"],[3161,\"Junhao\",\"Xie\",\"Super\",\"cn\",\"Dota 2\",\"Multiplayer Online Battle Arena\"],[1949,\"Daryl Pei Xiang\",\"Koh\",\"iceiceice\",\"sg\",\"Dota 2\",\"Multiplayer Online Battle Arena\"],[14672,\"Yazied\",\"Jaradat\",\"YapzOr\",\"jo\",\"Dota 2\",\"Multiplayer Online Battle Arena\"],[2589,\"Rasmus\",\"Fillipsen\",\"MiSeRy\",\"dk\",\"Dota 2\",\"Multiplayer Online Battle Arena\"],[3946,\"Roman\",\"Fominok\",\"Resolut1on\",\"ua\",\"Dota 2\",\"Multiplayer Online Battle Arena\"],[4030,\"Chao\",\"Lu\",\"Fenrir\",\"cn\",\"Dota 2\",\"Multiplayer Online Battle Arena\"],[3147,\"Pan\",\"Zhang\",\"Mu\",\"cn\",\"Dota 2\",\"Multiplayer Online Battle Arena\"],[2582,\"Zhicheng\",\"Zhang\",\"LaNm\",\"cn\",\"Dota 2\",\"Multiplayer Online Battle Arena\"],[2598,\"Fa Ming\",\"Liang\",\"DDC\",\"mo\",\"Dota 2\",\"Multiplayer Online Battle Arena\"],[28142,\"Vladimir\",\"Nikogosyan\",\"RodjER\",\"ru\",\"Dota 2\",\"Multiplayer Online Battle Arena\"],[3690,\"Adrian\",\"Trinks\",\"FATA\",\"de\",\"Dota 2\",\"Multiplayer Online Battle Arena\"],[19382,\"Chun\",\"Song\",\"Sccc\",\"cn\",\"Dota 2\",\"Multiplayer Online Battle Arena\"],[3813,\"Wang\",\"Jiao\",\"Banana\",\"cn\",\"Dota 2\",\"Multiplayer Online Battle Arena\"],[10722,\"Xu\",\"Han\",\"Moogy\",\"cn\",\"Dota 2\",\"Multiplayer Online Battle Arena\"],[3163,\"Jiajun\",\"Liu\",\"Sylar\",\"cn\",\"Dota 2\",\"Multiplayer Online Battle Arena\"],[21950,\"Ren\",\"Yangwei\",\"eLeVeN\",\"cn\",\"Dota 2\",\"Multiplayer Online Battle Arena\"],[2594,\"Zhaohui\",\"Wang\",\"SanSheng\",\"cn\",\"Dota 2\",\"Multiplayer Online Battle Arena\"],[3164,\"Zhengzheng\",\"Yao\",\"Yao\",\"cn\",\"Dota 2\",\"Multiplayer Online Battle Arena\"],[2581,\"Zengrong\",\"Lei\",\"MMY!\",\"cn\",\"Dota 2\",\"Multiplayer Online Battle Arena\"],[12671,\"Bin\",\"Fu\",\"Q\",\"cn\",\"Dota 2\",\"Multiplayer Online Battle Arena\"],[19074,\"Martin\",\"Sazdov\",\"Saksa\",\"mk\",\"Dota 2\",\"Multiplayer Online Battle Arena\"],[3151,\"Yee Fung\",\"Chai\",\"Mushi\",\"my\",\"Dota 2\",\"Multiplayer Online Battle Arena\"],[30684,\"Chengjun\",\"Zhang\",\"Paparazi\",\"cn\",\"Dota 2\",\"Multiplayer Online Battle Arena\"],[4027,\"Johan\",\"\\u00c5str\\u00f6m\",\"pieliedie\",\"se\",\"Dota 2\",\"Multiplayer Online Battle Arena\"],[3522,\"Jacky\",\"Mao\",\"EternaLEnVy\",\"ca\",\"Dota 2\",\"Multiplayer Online Battle Arena\"],[17765,\"Micha\\u0142\",\"Jankowski\",\"Nisha\",\"pl\",\"Dota 2\",\"Multiplayer Online Battle Arena\"],[11722,\"Ilya\",\"Ilyuk\",\"Lil\",\"ua\",\"Dota 2\",\"Multiplayer Online Battle Arena\"],[12672,\"Zheng\",\"Sun\",\"Agressif\",\"cn\",\"Dota 2\",\"Multiplayer Online Battle Arena\"],[3157,\"Zhilei\",\"Xu\",\"BurNIng\",\"cn\",\"Dota 2\",\"Multiplayer Online Battle Arena\"],[9839,\"David\",\"Tan\",\"MoonMeander\",\"ca\",\"Dota 2\",\"Multiplayer Online Battle Arena\"],[28739,\"Jiaoyang\",\"Zeng\",\"Ori\",\"cn\",\"Dota 2\",\"Multiplayer Online Battle Arena\"],[18220,\"David\",\"Hull\",\"Moo\",\"us\",\"Dota 2\",\"Multiplayer Online Battle Arena\"],[17872,\"Haiyang\",\"Zhou\",\"Yang\",\"cn\",\"Dota 2\",\"Multiplayer Online Battle Arena\"],[30452,\"Peng\",\"Du\",\"Monet\",\"cn\",\"Dota 2\",\"Multiplayer Online Battle Arena\"],[2574,\"Danil\",\"Ishutin\",\"Dendi\",\"ua\",\"Dota 2\",\"Multiplayer Online Battle Arena\"],[5221,\"Djardel Jicko\",\"Mampusti\",\"DJ\",\"ph\",\"Dota 2\",\"Multiplayer Online Battle Arena\"],[12784,\"Tue Soon\",\"Chuan\",\"Ah-fu\",\"my\",\"Dota 2\",\"Multiplayer Online Battle Arena\"],[3160,\"Fan\",\"Bai\",\"rOtK\",\"cn\",\"Dota 2\",\"Multiplayer Online Battle Arena\"],[30782,\"Timothy\",\"Randrup\",\"Tims\",\"ph\",\"Dota 2\",\"Multiplayer Online Battle Arena\"],[9514,\"Marcus\",\"Hoelgaard\",\"Ace\",\"dk\",\"Dota 2\",\"Multiplayer Online Battle Arena\"],[3167,\"Hock Chuan\",\"Wong\",\"ChuaN\",\"my\",\"Dota 2\",\"Multiplayer Online Battle Arena\"],[17200,\"Kuku\",\"Palad\",\"KuKU\",\"ph\",\"Dota 2\",\"Multiplayer Online Battle Arena\"],[10718,\"Xinzhou\",\"Liu\",\"garder\",\"cn\",\"Dota 2\",\"Multiplayer Online Battle Arena\"],[3141,\"Jonathan\",\"Berg\",\"Loda\",\"se\",\"Dota 2\",\"Multiplayer Online Battle Arena\"],[11868,\"Zezhi\",\"Chen\",\"Xz\",\"cn\",\"Dota 2\",\"Multiplayer Online Battle Arena\"],[3724,\"Jerry\",\"Lundqvist\",\"EGM\",\"se\",\"Dota 2\",\"Multiplayer Online Battle Arena\"],[2576,\"Oleksandr\",\"Dashkevych\",\"XBOCT\",\"ua\",\"Dota 2\",\"Multiplayer Online Battle Arena\"],[15754,\"Jiwei\",\"Huang\",\"Shiki\",\"cn\",\"Dota 2\",\"Multiplayer Online Battle Arena\"],[3140,\"Joakim\",\"Akterhall\",\"Akke\",\"se\",\"Dota 2\",\"Multiplayer Online Battle Arena\"],[30686,\"Pan\",\"Yi\",\"Fade\",\"cn\",\"Dota 2\",\"Multiplayer Online Battle Arena\"],[3523,\"Henrik\",\"Ahnberg\",\"AdmiralBulldog\",\"se\",\"Dota 2\",\"Multiplayer Online Battle Arena\"],[27814,\"Marc Polo\",\"Luis Fausto\",\"Raven\",\"ph\",\"Dota 2\",\"Multiplayer Online Battle Arena\"],[4885,\"Yong Min\",\"Kim\",\"Febby\",\"kr\",\"Dota 2\",\"Multiplayer Online Battle Arena\"],[10074,\"Yongzheng\",\"He\",\"Inflame\",\"cn\",\"Dota 2\",\"Multiplayer Online Battle Arena\"],[44114,\"Cong\",\"Ding\",\"Dy\",\"cn\",\"Dota 2\",\"Multiplayer Online Battle Arena\"],[4888,\"Sunyeob\",\"Kim\",\"QO\",\"kr\",\"Dota 2\",\"Multiplayer Online Battle Arena\"],[3586,\"Artem\",\"Barshack\",\"fng\",\"by\",\"Dota 2\",\"Multiplayer Online Battle Arena\"],[4883,\"Noah\",\"Pyo\",\"MP\",\"kr\",\"Dota 2\",\"Multiplayer Online Battle Arena\"],[3832,\"Sang Hyeok\",\"Lee\",\"Faker\",\"kr\",\"League of Legends\",\"Multiplayer Online Battle Arena\"],[6466,\"Ho Seong\",\"Lee\",\"Duke\",\"kr\",\"League of Legends\",\"Multiplayer Online Battle Arena\"],[3636,\"Jun Sik\",\"Bae\",\"Bang\",\"kr\",\"League of Legends\",\"Multiplayer Online Battle Arena\"],[3836,\"Jae Wan\",\"Lee\",\"Wolf\",\"kr\",\"League of Legends\",\"Multiplayer Online Battle Arena\"],[3831,\"Seong Ung\",\"Bae\",\"Bengi\",\"kr\",\"League of Legends\",\"Multiplayer Online Battle Arena\"],[34362,\"Wen Bo\",\"Yu\",\"JackeyLove\",\"cn\",\"League of Legends\",\"Multiplayer Online Battle Arena\"],[6013,\"Eui Jin\",\"Song\",\"Rookie\",\"kr\",\"League of Legends\",\"Multiplayer Online Battle Arena\"],[28734,\"Zhen Ning\",\"Gao\",\"Ning\",\"cn\",\"League of Legends\",\"Multiplayer Online Battle Arena\"],[18904,\"Sun Gu\",\"Kang\",\"Blank\",\"kr\",\"League of Legends\",\"Multiplayer Online Battle Arena\"],[10925,\"Jo\",\"Yong-in\",\"CoreJJ\",\"kr\",\"League of Legends\",\"Multiplayer Online Battle Arena\"],[2749,\"Chan Yong\",\"Kang\",\"Ambition\",\"kr\",\"League of Legends\",\"Multiplayer Online Battle Arena\"],[34363,\"Liu Yi\",\"Wang\",\"Baolan\",\"cn\",\"League of Legends\",\"Multiplayer Online Battle Arena\"],[4038,\"Zihao\",\"Jian\",\"Uzi\",\"cn\",\"League of Legends\",\"Multiplayer Online Battle Arena\"],[11154,\"Hau Hsuan\",\"Hung\",\"Karsa\",\"tw\",\"League of Legends\",\"Multiplayer Online Battle Arena\"],[39166,\"Dong Geun\",\"Kang\",\"TheShy\",\"kr\",\"League of Legends\",\"Multiplayer Online Battle Arena\"],[3830,\"Se Hyeong\",\"Cho\",\"Mata\",\"kr\",\"League of Legends\",\"Multiplayer Online Battle Arena\"],[28954,\"Jae Hyuk\",\"Park\",\"Ruler\",\"kr\",\"League of Legends\",\"Multiplayer Online Battle Arena\"],[2762,\"Jung\",\"Eon-yeong\",\"Impact\",\"kr\",\"League of Legends\",\"Multiplayer Online Battle Arena\"],[17101,\"Yuan Hao\",\"Li\",\"xiaohu\",\"cn\",\"League of Legends\",\"Multiplayer Online Battle Arena\"],[14599,\"Seong Jin\",\"Lee\",\"CuVee\",\"kr\",\"League of Legends\",\"Multiplayer Online Battle Arena\"],[12186,\"Min Ho\",\"Lee\",\"Crown\",\"kr\",\"League of Legends\",\"Multiplayer Online Battle Arena\"],[15792,\"Wang Ho\",\"Han\",\"Peanut\",\"kr\",\"League of Legends\",\"Multiplayer Online Battle Arena\"],[11698,\"Shi Yu\",\"Liu\",\"Mlxg\",\"cn\",\"League of Legends\",\"Multiplayer Online Battle Arena\"],[8924,\"Luka\",\"Perkovi\\u0107\",\"PerkZ\",\"hr\",\"League of Legends\",\"Multiplayer Online Battle Arena\"],[3386,\"Kai\",\"Ming\",\"ClearLove\",\"cn\",\"League of Legends\",\"Multiplayer Online Battle Arena\"],[12466,\"Rasmus\",\"Winther\",\"Caps\",\"dk\",\"League of Legends\",\"Multiplayer Online Battle Arena\"],[4509,\"Won Seok\",\"Heo\",\"PawN\",\"kr\",\"League of Legends\",\"Multiplayer Online Battle Arena\"],[3554,\"Martin\",\"Larsson\",\"Rekkles\",\"se\",\"League of Legends\",\"Multiplayer Online Battle Arena\"],[1863,\"Paul\",\"Boyer\",\"sOAZ\",\"fr\",\"League of Legends\",\"Multiplayer Online Battle Arena\"],[3843,\"Hyuk Kyu\",\"Kim\",\"Deft\",\"kr\",\"League of Legends\",\"Multiplayer Online Battle Arena\"],[4584,\"Marcin\",\"Jankowski\",\"Jankos\",\"pl\",\"League of Legends\",\"Multiplayer Online Battle Arena\"],[28735,\"Sen Ming\",\"Shi\",\"Ming\",\"cn\",\"League of Legends\",\"Multiplayer Online Battle Arena\"],[3176,\"Jong In\",\"Kim\",\"PraY\",\"kr\",\"League of Legends\",\"Multiplayer Online Battle Arena\"],[13882,\"Jun Ze\",\"Yan\",\"letme\",\"cn\",\"League of Legends\",\"Multiplayer Online Battle Arena\"],[31016,\"Min Seung\",\"Kang\",\"Haru\",\"kr\",\"League of Legends\",\"Multiplayer Online Battle Arena\"],[14665,\"Seung Hoon\",\"Heo\",\"Huni\",\"kr\",\"League of Legends\",\"Multiplayer Online Battle Arena\"],[4629,\"Hyeong Seok\",\"Jang\",\"Looper\",\"kr\",\"League of Legends\",\"Multiplayer Online Battle Arena\"],[12663,\"Ye\",\"Tian\",\"Meiko\",\"cn\",\"League of Legends\",\"Multiplayer Online Battle Arena\"],[4634,\"Shuo Jie\",\"Hu\",\"SwordArt\",\"tw\",\"League of Legends\",\"Multiplayer Online Battle Arena\"],[10470,\"Martin\",\"Hansen\",\"Wunder\",\"dk\",\"League of Legends\",\"Multiplayer Online Battle Arena\"],[16021,\"Tae Sang\",\"Kim\",\"doinb\",\"kr\",\"League of Legends\",\"Multiplayer Online Battle Arena\"],[4469,\"Beom Hyeon\",\"Kang\",\"GorillA\",\"kr\",\"League of Legends\",\"Multiplayer Online Battle Arena\"],[8651,\"Zdravec\",\"Gulubov\",\"Hylissang\",\"bg\",\"League of Legends\",\"Multiplayer Online Battle Arena\"],[3513,\"Seung Bin\",\"Gu\",\"imp\",\"kr\",\"League of Legends\",\"Multiplayer Online Battle Arena\"],[11612,\"Mads\",\"Brock-Pedersen\",\"Broxah\",\"dk\",\"League of Legends\",\"Multiplayer Online Battle Arena\"],[1853,\"Peter\",\"Peng\",\"Doublelift\",\"us\",\"League of Legends\",\"Multiplayer Online Battle Arena\"],[3664,\"Kyung Ho\",\"Song\",\"Smeb\",\"kr\",\"League of Legends\",\"Multiplayer Online Battle Arena\"],[27588,\"Gabri\\u00ebl\",\"Rau\",\"Bwipo\",\"be\",\"League of Legends\",\"Multiplayer Online Battle Arena\"],[3374,\"Bo Wei\",\"Cheng\",\"bebe\",\"tw\",\"League of Legends\",\"Multiplayer Online Battle Arena\"],[3769,\"Zachary\",\"Scuderi\",\"Sneaky\",\"us\",\"League of Legends\",\"Multiplayer Online Battle Arena\"],[3512,\"In Kyu\",\"Choi\",\"DanDy\",\"kr\",\"League of Legends\",\"Multiplayer Online Battle Arena\"],[29096,\"Wei Xiang\",\"Lin\",\"Lwx\",\"cn\",\"League of Legends\",\"Multiplayer Online Battle Arena\"],[41044,\"Tian Liang\",\"Gao\",\"Tian\",\"cn\",\"League of Legends\",\"Multiplayer Online Battle Arena\"],[4473,\"Seo Haeng\",\"Lee\",\"kurO\",\"kr\",\"League of Legends\",\"Multiplayer Online Battle Arena\"],[6017,\"Han Saem\",\"Kim\",\"GimGoon\",\"kr\",\"League of Legends\",\"Multiplayer Online Battle Arena\"],[41414,\"Qing Song\",\"Liu\",\"Crisp\",\"cn\",\"League of Legends\",\"Multiplayer Online Battle Arena\"],[3833,\"Gwang Jin\",\"Chae\",\"Piglet\",\"kr\",\"League of Legends\",\"Multiplayer Online Battle Arena\"],[8706,\"Nicolaj\",\"Jensen\",\"Jensen\",\"dk\",\"League of Legends\",\"Multiplayer Online Battle Arena\"],[8770,\"Yang\",\"Tong\",\"Koro1\",\"cn\",\"League of Legends\",\"Multiplayer Online Battle Arena\"],[2992,\"Jake\",\"Puchero\",\"Xmithie\",\"ph\",\"League of Legends\",\"Multiplayer Online Battle Arena\"],[3555,\"Dennis\",\"Johnsen\",\"Svenskeren\",\"dk\",\"League of Legends\",\"Multiplayer Online Battle Arena\"],[3834,\"Jeong Hyeon\",\"Lee\",\"PoohManDu\",\"kr\",\"League of Legends\",\"Multiplayer Online Battle Arena\"],[3859,\"Alfonso\",\"Aguirre Rodriguez\",\"Mithy\",\"es\",\"League of Legends\",\"Multiplayer Online Battle Arena\"],[6132,\"Jesper\",\"Svenningsen\",\"Zven\",\"dk\",\"League of Legends\",\"Multiplayer Online Battle Arena\"],[3556,\"S\\u00f8ren\",\"Bjerg\",\"Bjergsen\",\"dk\",\"League of Legends\",\"Multiplayer Online Battle Arena\"],[3842,\"Ji Hoon\",\"Lee\",\"Easyhoon\",\"kr\",\"League of Legends\",\"Multiplayer Online Battle Arena\"],[24979,\"Ye Chan\",\"Lee\",\"Scout\",\"kr\",\"League of Legends\",\"Multiplayer Online Battle Arena\"],[4632,\"Yi Tang\",\"Huang\",\"Maple\",\"tw\",\"League of Legends\",\"Multiplayer Online Battle Arena\"],[8931,\"Dong Ha\",\"Kim\",\"Khan\",\"kr\",\"League of Legends\",\"Multiplayer Online Battle Arena\"],[3634,\"Kyung Sup\",\"Yoon\",\"Zero\",\"kr\",\"League of Legends\",\"Multiplayer Online Battle Arena\"],[3371,\"June Tsan\",\"Wang\",\"Stanley\",\"tw\",\"League of Legends\",\"Multiplayer Online Battle Arena\"],[3373,\"Kurtis Wai Kin\",\"Lau\",\"Toyz\",\"hk\",\"League of Legends\",\"Multiplayer Online Battle Arena\"],[11933,\"Mihael\",\"Mehle\",\"Mikyx\",\"si\",\"League of Legends\",\"Multiplayer Online Battle Arena\"],[6474,\"Gyeong Hwan\",\"Jang\",\"MaRin\",\"kr\",\"League of Legends\",\"Multiplayer Online Battle Arena\"],[3372,\"Kuan Po\",\"Sung\",\"Lilballz\",\"tw\",\"League of Legends\",\"Multiplayer Online Battle Arena\"],[3375,\"Hui Chung\",\"Chen\",\"MiSTakE\",\"tw\",\"League of Legends\",\"Multiplayer Online Battle Arena\"],[6058,\"Han Wei\",\"Su\",\"xiye\",\"cn\",\"League of Legends\",\"Multiplayer Online Battle Arena\"],[13185,\"Yu Hao\",\"Chen\",\"Mouse\",\"cn\",\"League of Legends\",\"Multiplayer Online Battle Arena\"],[3384,\"Zhihao\",\"Liu\",\"Zzitai\",\"cn\",\"League of Legends\",\"Multiplayer Online Battle Arena\"],[6472,\"Sung Joon\",\"Jin\",\"Mystic\",\"kr\",\"League of Legends\",\"Multiplayer Online Battle Arena\"],[3178,\"Dong Bin\",\"Go\",\"Score\",\"kr\",\"League of Legends\",\"Multiplayer Online Battle Arena\"],[3177,\"Sang Ook\",\"Yoo\",\"Ryu\",\"kr\",\"League of Legends\",\"Multiplayer Online Battle Arena\"],[1861,\"Bora\",\"Kim\",\"YellOwStaR\",\"fr\",\"League of Legends\",\"Multiplayer Online Battle Arena\"],[27718,\"Bo Seong\",\"Gwak\",\"Bdd\",\"kr\",\"League of Legends\",\"Multiplayer Online Battle Arena\"],[2989,\"Jason\",\"Tran\",\"WildTurtle\",\"ca\",\"League of Legends\",\"Multiplayer Online Battle Arena\"],[37699,\"Ding\",\"Zhuo\",\"Knight\",\"cn\",\"League of Legends\",\"Multiplayer Online Battle Arena\"],[20017,\"Gang Yun\",\"Kim\",\"Trick\",\"kr\",\"League of Legends\",\"Multiplayer Online Battle Arena\"],[29501,\"Yu Hung\",\"Lu\",\"Betty\",\"tw\",\"League of Legends\",\"Multiplayer Online Battle Arena\"],[59916,\"Su\",\"Heo\",\"ShowMaker\",\"kr\",\"League of Legends\",\"Multiplayer Online Battle Arena\"],[37918,\"Ha Gwon\",\"Jang\",\"Nuguri\",\"kr\",\"League of Legends\",\"Multiplayer Online Battle Arena\"],[59915,\"Geon Bu\",\"Kim\",\"Canyon\",\"kr\",\"League of Legends\",\"Multiplayer Online Battle Arena\"],[56731,\"Jia Hao\",\"Bai\",\"369\",\"cn\",\"League of Legends\",\"Multiplayer Online Battle Arena\"],[41209,\"Geon Hee\",\"Cho\",\"BeryL\",\"kr\",\"League of Legends\",\"Multiplayer Online Battle Arena\"],[21629,\"Dong Wook\",\"Lee\",\"LokeN\",\"kr\",\"League of Legends\",\"Multiplayer Online Battle Arena\"],[1892,\"Enrique\",\"Cede\\u00f1o Martinez\",\"xPeke\",\"es\",\"League of Legends\",\"Multiplayer Online Battle Arena\"],[8936,\"Dae Han\",\"Gi\",\"Expect\",\"kr\",\"League of Legends\",\"Multiplayer Online Battle Arena\"],[3387,\"Zhuojun\",\"Feng\",\"Fzzf\",\"cn\",\"League of Legends\",\"Multiplayer Online Battle Arena\"],[17103,\"Ren Jie\",\"Xiang\",\"Condi\",\"cn\",\"League of Legends\",\"Multiplayer Online Battle Arena\"],[6633,\"Petter\",\"Freyschuss\",\"Hj\\u00e4rnan\",\"se\",\"League of Legends\",\"Multiplayer Online Battle Arena\"],[13186,\"Chang Yu\",\"Ke\",\"957\",\"cn\",\"League of Legends\",\"Multiplayer Online Battle Arena\"],[19968,\"Won Ho\",\"Jeong\",\"KyoCha\",\"kr\",\"Heroes of the Storm\",\"Multiplayer Online Battle Arena\"],[18570,\"Jung Hyeog\",\"Lee\",\"sake\",\"kr\",\"Heroes of the Storm\",\"Multiplayer Online Battle Arena\"],[15718,\"Jae Won\",\"Lee\",\"Rich\",\"kr\",\"Heroes of the Storm\",\"Multiplayer Online Battle Arena\"],[18568,\"Jin Woo\",\"Im\",\"Reset\",\"kr\",\"Heroes of the Storm\",\"Multiplayer Online Battle Arena\"],[15724,\"Woon Sung\",\"Kang\",\"Ttsst\",\"kr\",\"Heroes of the Storm\",\"Multiplayer Online Battle Arena\"],[17549,\"Jonathan\",\"Gunnarsson\",\"Wubby\",\"se\",\"Heroes of the Storm\",\"Multiplayer Online Battle Arena\"],[1014,\"Seung Chul\",\"Kim\",\"sCsC\",\"kr\",\"Heroes of the Storm\",\"Multiplayer Online Battle Arena\"],[15602,\"Joshua\",\"Bennett\",\"Snitch\",\"gb\",\"Heroes of the Storm\",\"Multiplayer Online Battle Arena\"],[16241,\"J\\u00e9rome\",\"Trinh\",\"JayPL\",\"fr\",\"Heroes of the Storm\",\"Multiplayer Online Battle Arena\"],[21221,\"Ji Hoon\",\"Yoon\",\"Sign\",\"kr\",\"Heroes of the Storm\",\"Multiplayer Online Battle Arena\"],[23618,\"Jeong Ha\",\"Lee\",\"Jeongha\",\"kr\",\"Heroes of the Storm\",\"Multiplayer Online Battle Arena\"],[15751,\"Simon\",\"Svensson\",\"Schwimpi\",\"se\",\"Heroes of the Storm\",\"Multiplayer Online Battle Arena\"],[15748,\"Pontus\",\"Sjogren\",\"Breez\",\"se\",\"Heroes of the Storm\",\"Multiplayer Online Battle Arena\"],[18573,\"Tae Jun\",\"Lee\",\"merryday\",\"kr\",\"Heroes of the Storm\",\"Multiplayer Online Battle Arena\"],[22236,\"Filip\",\"Liljestr\\u00f6m\",\"Smexystyle\",\"se\",\"Heroes of the Storm\",\"Multiplayer Online Battle Arena\"],[11920,\"Dob\",\"Engstr\\u00f6m\",\"QuackNiix\",\"se\",\"Heroes of the Storm\",\"Multiplayer Online Battle Arena\"],[1049,\"Do Joon\",\"Chae\",\"Noblesse\",\"kr\",\"Heroes of the Storm\",\"Multiplayer Online Battle Arena\"],[18572,\"Jae Hun\",\"Jin\",\"Lockdown\",\"kr\",\"Heroes of the Storm\",\"Multiplayer Online Battle Arena\"],[28356,\"Seung Won\",\"Kim\",\"Swoy\",\"kr\",\"Heroes of the Storm\",\"Multiplayer Online Battle Arena\"],[15426,\"Fan\",\"Yang\",\"Fan\",\"us\",\"Heroes of the Storm\",\"Multiplayer Online Battle Arena\"],[30547,\"Kenn \\u00d8ster\",\"Rasmussen\",\"Zaelia\",\"dk\",\"Heroes of the Storm\",\"Multiplayer Online Battle Arena\"],[25039,\"Jin Su\",\"Park\",\"NachoJin\",\"kr\",\"Heroes of the Storm\",\"Multiplayer Online Battle Arena\"],[20908,\"Thomas\",\"Cailleux\",\"M\\u00e9n\\u00e8\",\"fr\",\"Heroes of the Storm\",\"Multiplayer Online Battle Arena\"],[14529,\"John Paul\",\"Lopez\",\"KingCaffeine\",\"us\",\"Heroes of the Storm\",\"Multiplayer Online Battle Arena\"],[12075,\"Keiwan\",\"Itakura\",\"k1\",\"us\",\"Heroes of the Storm\",\"Multiplayer Online Battle Arena\"],[14011,\"James\",\"Baker\",\"Bakery\",\"gb\",\"Heroes of the Storm\",\"Multiplayer Online Battle Arena\"],[1091,\"Tae Hoon\",\"Kwon\",\"Sniper\",\"kr\",\"Heroes of the Storm\",\"Multiplayer Online Battle Arena\"],[18569,\"Yeong Hwan\",\"Jing\",\"Hide\",\"kr\",\"Heroes of the Storm\",\"Multiplayer Online Battle Arena\"],[16733,\"Lunhan\",\"Kang\",\"XingC\",\"cn\",\"Heroes of the Storm\",\"Multiplayer Online Battle Arena\"],[7405,\"Lawrence\",\"Harper\",\"Atheroangel\",\"gb\",\"Heroes of the Storm\",\"Multiplayer Online Battle Arena\"],[14972,\"Vilhem\",\"Flennmark\",\"POILK\",\"se\",\"Heroes of the Storm\",\"Multiplayer Online Battle Arena\"],[18797,\"Hanfei\",\"Chen\",\"Tiger\",\"cn\",\"Heroes of the Storm\",\"Multiplayer Online Battle Arena\"],[6565,\"Kun\",\"Fang\",\"iDream\",\"cn\",\"Heroes of the Storm\",\"Multiplayer Online Battle Arena\"],[16730,\"Zhihao\",\"Wu\",\"Tumi\",\"cn\",\"Heroes of the Storm\",\"Multiplayer Online Battle Arena\"],[1233,\"Dennis\",\"Schneider\",\"HasuObs\",\"de\",\"Heroes of the Storm\",\"Multiplayer Online Battle Arena\"],[23619,\"Ju Dam\",\"Park\",\"dami\",\"kr\",\"Heroes of the Storm\",\"Multiplayer Online Battle Arena\"],[14122,\"Lyubomir\",\"Kozlovski\",\"Splendour\",\"bg\",\"Heroes of the Storm\",\"Multiplayer Online Battle Arena\"],[20208,\"Xiangzhi\",\"Zheng\",\"melodyC\",\"cn\",\"Heroes of the Storm\",\"Multiplayer Online Battle Arena\"],[15735,\"Ben\",\"Bunk\",\"Cattlepillar\",\"de\",\"Heroes of the Storm\",\"Multiplayer Online Battle Arena\"],[14440,\"Adrian\",\"W\\u00f3jcik\",\"adrd\",\"pl\",\"Heroes of the Storm\",\"Multiplayer Online Battle Arena\"],[12389,\"Nils\",\"Gebhardt\",\"Nurok\",\"de\",\"Heroes of the Storm\",\"Multiplayer Online Battle Arena\"],[14531,\"Mike\",\"Fisk\",\"Glaurung\",\"us\",\"Heroes of the Storm\",\"Multiplayer Online Battle Arena\"],[16732,\"Tuo\",\"Li\",\"NccCc\",\"cn\",\"Heroes of the Storm\",\"Multiplayer Online Battle Arena\"],[2805,\"Chris\",\"Buechter\",\"Zuna\",\"us\",\"Heroes of the Storm\",\"Multiplayer Online Battle Arena\"],[15750,\"Alexander\",\"Milanov\",\"ethernal\",\"bg\",\"Heroes of the Storm\",\"Multiplayer Online Battle Arena\"],[1134,\"Ki Soo\",\"Han\",\"CrazymoviNG\",\"kr\",\"Heroes of the Storm\",\"Multiplayer Online Battle Arena\"],[26616,\"Jun\",\"Jang\",\"Jun\",\"kr\",\"Heroes of the Storm\",\"Multiplayer Online Battle Arena\"],[28605,\"Jong Hoon\",\"Park\",\"Hooligan\",\"kr\",\"Heroes of the Storm\",\"Multiplayer Online Battle Arena\"],[14564,\"Lizhong\",\"Zhou\",\"Misaka\",\"cn\",\"Heroes of the Storm\",\"Multiplayer Online Battle Arena\"],[15431,\"Manny\",\"Medina\",\"Fury\",\"us\",\"Heroes of the Storm\",\"Multiplayer Online Battle Arena\"],[23617,\"Dae Hyung\",\"Lee\",\"Hongcono\",\"kr\",\"Heroes of the Storm\",\"Multiplayer Online Battle Arena\"],[1352,\"Li Wei\",\"Sun\",\"xiaOt\",\"cn\",\"Heroes of the Storm\",\"Multiplayer Online Battle Arena\"],[7208,\"Guo\",\"Jiayi\",\"Gemini\",\"cn\",\"Heroes of the Storm\",\"Multiplayer Online Battle Arena\"],[14568,\"Hao\",\"Pu\",\"m\",\"cn\",\"Heroes of the Storm\",\"Multiplayer Online Battle Arena\"],[6023,\"Jae Hyun\",\"Park\",\"JaeHyun\",\"kr\",\"Heroes of the Storm\",\"Multiplayer Online Battle Arena\"],[22243,\"Simon\",\"Tabin\",\"Darkmok\",\"de\",\"Heroes of the Storm\",\"Multiplayer Online Battle Arena\"],[38902,\"Hyun Tae\",\"Kim\",\"SDE\",\"kr\",\"Heroes of the Storm\",\"Multiplayer Online Battle Arena\"],[17414,\"Alexander\",\"Grumstrup\",\"AlexTheProG\",\"dk\",\"Heroes of the Storm\",\"Multiplayer Online Battle Arena\"],[25047,\"Harrison\",\"Chang\",\"psalm\",\"us\",\"Heroes of the Storm\",\"Multiplayer Online Battle Arena\"],[21705,\"Jin Hwan\",\"Kim\",\"Magi\",\"kr\",\"Heroes of the Storm\",\"Multiplayer Online Battle Arena\"],[14528,\"Ricardo\",\"Marques\",\"DunkTrain\",\"us\",\"Heroes of the Storm\",\"Multiplayer Online Battle Arena\"],[27953,\"Benjamin\",\"Eekenulv\",\"BadBenny\",\"se\",\"Heroes of the Storm\",\"Multiplayer Online Battle Arena\"],[14001,\"Matic\",\"Mikec\",\"Zarmony\",\"si\",\"Heroes of the Storm\",\"Multiplayer Online Battle Arena\"],[17402,\"Jing\",\"Gu\",\"Aloof\",\"cn\",\"Heroes of the Storm\",\"Multiplayer Online Battle Arena\"],[18574,\"Jize\",\"Song\",\"sk\",\"cn\",\"Heroes of the Storm\",\"Multiplayer Online Battle Arena\"],[15428,\"Stafford\",\"Mcintyre\",\"McIntyre\",\"us\",\"Heroes of the Storm\",\"Multiplayer Online Battle Arena\"],[6066,\"Taylor\",\"Eder\",\"Arthelon\",\"us\",\"Heroes of the Storm\",\"Multiplayer Online Battle Arena\"],[17550,\"Ivan\",\"Koturi\\u0107\",\"Sportbilly\",\"hr\",\"Heroes of the Storm\",\"Multiplayer Online Battle Arena\"],[28607,\"Sung Hyun\",\"Moon\",\"Good\",\"kr\",\"Heroes of the Storm\",\"Multiplayer Online Battle Arena\"],[27955,\"Dominic\",\"Asal\",\"Nic\",\"de\",\"Heroes of the Storm\",\"Multiplayer Online Battle Arena\"],[19422,\"Jing\",\"Chen\",\"Xuyu\",\"cn\",\"Heroes of the Storm\",\"Multiplayer Online Battle Arena\"],[21943,\"Niklas\",\"Skogheim\",\"Cursen\",\"no\",\"Heroes of the Storm\",\"Multiplayer Online Battle Arena\"],[1163,\"Rori\",\"Bryant-Raible\",\"CauthonLuck\",\"us\",\"Heroes of the Storm\",\"Multiplayer Online Battle Arena\"],[21718,\"Sammuel\",\"Hua\",\"bigempct\",\"us\",\"Heroes of the Storm\",\"Multiplayer Online Battle Arena\"],[20604,\"Yu Yen\",\"Su\",\"GoDDog\",\"tw\",\"Heroes of the Storm\",\"Multiplayer Online Battle Arena\"],[22244,\"Markus\",\"Hanke\",\"Blumbi\",\"de\",\"Heroes of the Storm\",\"Multiplayer Online Battle Arena\"],[12396,\"Christoph\",\"Gowitzke\",\"Cris\",\"de\",\"Heroes of the Storm\",\"Multiplayer Online Battle Arena\"],[21715,\"Stefen\",\"Anderson\",\"akaface\",\"us\",\"Heroes of the Storm\",\"Multiplayer Online Battle Arena\"],[21719,\"Michael\",\"Udall\",\"MichaelUdall\",\"us\",\"Heroes of the Storm\",\"Multiplayer Online Battle Arena\"],[29443,\"Chandler\",\"Gavran\",\"Buds\",\"us\",\"Heroes of the Storm\",\"Multiplayer Online Battle Arena\"],[29444,\"Justin\",\"Gapp\",\"Justing\",\"us\",\"Heroes of the Storm\",\"Multiplayer Online Battle Arena\"],[20525,\"Francisco\",\"Avalos\",\"Goku\",\"ca\",\"Heroes of the Storm\",\"Multiplayer Online Battle Arena\"],[25597,\"Khalif\",\"Hashim\",\"Khroen\",\"us\",\"Heroes of the Storm\",\"Multiplayer Online Battle Arena\"],[1120,\"Kyung Deok\",\"Kim\",\"duckdeok\",\"kr\",\"Heroes of the Storm\",\"Multiplayer Online Battle Arena\"],[21427,\"Zhihao\",\"Zhang\",\"zZH\",\"cn\",\"Heroes of the Storm\",\"Multiplayer Online Battle Arena\"],[20516,\"Kyle\",\"Belaiche\",\"Prismaticism\",\"ca\",\"Heroes of the Storm\",\"Multiplayer Online Battle Arena\"],[14570,\"Tianze\",\"Chen\",\"canjian\",\"cn\",\"Heroes of the Storm\",\"Multiplayer Online Battle Arena\"],[32505,\"Tae Seok\",\"Oh\",\"taeseok\",\"kr\",\"Heroes of the Storm\",\"Multiplayer Online Battle Arena\"],[33385,\"Liam\",\"Simpson\",\"Arcaner\",\"au\",\"Heroes of the Storm\",\"Multiplayer Online Battle Arena\"],[21426,\"Qian\",\"Li\",\"Qx\",\"cn\",\"Heroes of the Storm\",\"Multiplayer Online Battle Arena\"],[26991,\"Jerome\",\"Tanguay\",\"KilluZiioN\",\"ca\",\"Heroes of the Storm\",\"Multiplayer Online Battle Arena\"],[21709,\"Seong Min\",\"Min\",\"Darvish\",\"kr\",\"Heroes of the Storm\",\"Multiplayer Online Battle Arena\"],[23446,\"Chun Yu\",\"Wu\",\"Alphaluna\",\"tw\",\"Heroes of the Storm\",\"Multiplayer Online Battle Arena\"],[21419,\"Jiawei\",\"Zhang\",\"Kty\",\"cn\",\"Heroes of the Storm\",\"Multiplayer Online Battle Arena\"],[26996,\"Thomas\",\"Maguire\",\"Tomster\",\"us\",\"Heroes of the Storm\",\"Multiplayer Online Battle Arena\"],[28390,\"Merek\",\"Kangas\",\"zugrug\",\"ca\",\"Heroes of the Storm\",\"Multiplayer Online Battle Arena\"],[9840,\"Josh\",\"Choi\",\"bkid\",\"us\",\"Heroes of the Storm\",\"Multiplayer Online Battle Arena\"],[28606,\"Jae Yeop\",\"Jeong\",\"Frankle\",\"kr\",\"Heroes of the Storm\",\"Multiplayer Online Battle Arena\"],[31831,\"Gu\",\"Junfeng\",\"Wind\",\"cn\",\"Heroes of the Storm\",\"Multiplayer Online Battle Arena\"],[11747,\"Martin\",\"Rugh\",\"Crozzby\",\"dk\",\"Heroes of the Storm\",\"Multiplayer Online Battle Arena\"],[60467,\"Zhengzheng\",\"Chen\",\"Cat\",\"cn\",\"Arena of Valor\",\"Multiplayer Online Battle Arena\"],[60565,\"Guixin\",\"Guo\",\"NuoYan\",\"cn\",\"Arena of Valor\",\"Multiplayer Online Battle Arena\"],[60485,\"Tianlong\",\"Wang\",\"Alan\",\"cn\",\"Arena of Valor\",\"Multiplayer Online Battle Arena\"],[70610,\"Siyuan\",\"Luo\",\"HuaHai\",\"cn\",\"Arena of Valor\",\"Multiplayer Online Battle Arena\"],[70611,\"Cong\",\"Zhang\",\"Wuming\",\"cn\",\"Arena of Valor\",\"Multiplayer Online Battle Arena\"],[53977,\"Xu\\u00e2n B\\u00e1ch\",\"Tr\\u1ea7n\",\"XB\",\"vn\",\"Arena of Valor\",\"Multiplayer Online Battle Arena\"],[53981,\"Quang Hi\\u1ec7p\",\"Tr\\u1ea7n\",\"ProE\",\"vn\",\"Arena of Valor\",\"Multiplayer Online Battle Arena\"],[5812,\"Sanpett\",\"Marat\",\"FirstOne\",\"th\",\"Arena of Valor\",\"Multiplayer Online Battle Arena\"],[60417,\"Yunfei\",\"Peng\",\"Fly\",\"cn\",\"Arena of Valor\",\"Multiplayer Online Battle Arena\"],[60418,\"Shengqqin\",\"Xia\",\"Hurt\",\"cn\",\"Arena of Valor\",\"Multiplayer Online Battle Arena\"],[60451,\"\\u0110\\u1ee9c Chi\\u1ebfn\",\"Tr\\u1ea7n\",\"ADC\",\"vn\",\"Arena of Valor\",\"Multiplayer Online Battle Arena\"],[53986,\"H\\u1ed3ng Qu\\u00e2n\",\"Ph\\u1ea1m\",\"Gau\",\"vn\",\"Arena of Valor\",\"Multiplayer Online Battle Arena\"],[37261,\"Sorawichaya\",\"Mahavanakul\",\"Isilindilz\",\"th\",\"Arena of Valor\",\"Multiplayer Online Battle Arena\"],[54014,\"Chun Sheng\",\"Chang\",\"Neil\",\"tw\",\"Arena of Valor\",\"Multiplayer Online Battle Arena\"],[60452,\"Ti\\u1ebfn \\u0110\\u1ea1t\",\"\\u0110inh\",\"\\u0110\\u1ea1tK\\u00f2iii\",\"vn\",\"Arena of Valor\",\"Multiplayer Online Battle Arena\"],[37259,\"Vatcharanan\",\"Thaworn\",\"Summer\",\"th\",\"Arena of Valor\",\"Multiplayer Online Battle Arena\"],[53998,\"Chang Hoon\",\"Shin\",\"JJak\",\"kr\",\"Arena of Valor\",\"Multiplayer Online Battle Arena\"],[68651,\"-\",\"-\",\"Nutalomlok\",\"th\",\"Arena of Valor\",\"Multiplayer Online Battle Arena\"],[53996,\"Ho Yeon\",\"Lee\",\"Rush\",\"kr\",\"Arena of Valor\",\"Multiplayer Online Battle Arena\"],[54013,\"Chou\",\"Chung\",\"Yuzon\",\"tw\",\"Arena of Valor\",\"Multiplayer Online Battle Arena\"],[60450,\"Ting Jui\",\"Chen\",\"Winds\",\"tw\",\"Arena of Valor\",\"Multiplayer Online Battle Arena\"],[53999,\"Do Yeop\",\"Kim\",\"HAK\",\"kr\",\"Arena of Valor\",\"Multiplayer Online Battle Arena\"],[53995,\"Sun Woo\",\"Kim\",\"Sun\",\"kr\",\"Arena of Valor\",\"Multiplayer Online Battle Arena\"],[54015,\"Nsu Yu\",\"Lin\",\"Star\",\"tw\",\"Arena of Valor\",\"Multiplayer Online Battle Arena\"],[54016,\"Chien Ting\",\"Chen\",\"Benny\",\"tw\",\"Arena of Valor\",\"Multiplayer Online Battle Arena\"],[60420,\"-\",\"-\",\"Song\",\"cn\",\"Arena of Valor\",\"Multiplayer Online Battle Arena\"],[10995,\"Chayut\",\"Suebka\",\"007x\",\"th\",\"Arena of Valor\",\"Multiplayer Online Battle Arena\"],[60454,\"Parit\",\"Pornrattanapitak\",\"Difoxn\",\"th\",\"Arena of Valor\",\"Multiplayer Online Battle Arena\"],[60434,\"-\",\"-\",\"770\",\"cn\",\"Arena of Valor\",\"Multiplayer Online Battle Arena\"],[54458,\"Eikapong\",\"Korhonen\",\"Tony\",\"th\",\"Arena of Valor\",\"Multiplayer Online Battle Arena\"],[60466,\"-\",\"-\",\"Snow\",\"cn\",\"Arena of Valor\",\"Multiplayer Online Battle Arena\"],[54454,\"Siwa\",\"Noomai\",\"JOMWick\",\"th\",\"Arena of Valor\",\"Multiplayer Online Battle Arena\"],[53997,\"Hyung Min\",\"Kim\",\"Chaser\",\"kr\",\"Arena of Valor\",\"Multiplayer Online Battle Arena\"],[60468,\"-\",\"-\",\"YANG\",\"cn\",\"Arena of Valor\",\"Multiplayer Online Battle Arena\"],[70307,\"-\",\"-\",\"\\u884c\\u661f\",\"cn\",\"Arena of Valor\",\"Multiplayer Online Battle Arena\"],[70308,\"-\",\"-\",\"\\u8f7b\\u96e8\",\"cn\",\"Arena of Valor\",\"Multiplayer Online Battle Arena\"],[70309,\"-\",\"-\",\"\\u4e45\\u9f99\",\"cn\",\"Arena of Valor\",\"Multiplayer Online Battle Arena\"],[70310,\"-\",\"-\",\"\\u5317\\u5c9b\",\"cn\",\"Arena of Valor\",\"Multiplayer Online Battle Arena\"],[70311,\"-\",\"-\",\"\\u66ae\\u8272\",\"cn\",\"Arena of Valor\",\"Multiplayer Online Battle Arena\"],[70312,\"-\",\"-\",\"\\u4e45\\u8bda\",\"cn\",\"Arena of Valor\",\"Multiplayer Online Battle Arena\"],[70313,\"-\",\"-\",\"\\u6708\\u8272\",\"cn\",\"Arena of Valor\",\"Multiplayer Online Battle Arena\"],[70314,\"-\",\"-\",\"\\u67e0\\u6800\",\"cn\",\"Arena of Valor\",\"Multiplayer Online Battle Arena\"],[70315,\"-\",\"-\",\"\\u6700\\u521d\",\"cn\",\"Arena of Valor\",\"Multiplayer Online Battle Arena\"],[70316,\"-\",\"-\",\"\\u5c18\\u590f\",\"cn\",\"Arena of Valor\",\"Multiplayer Online Battle Arena\"],[70317,\"-\",\"-\",\"\\u963f\\u53ef\",\"cn\",\"Arena of Valor\",\"Multiplayer Online Battle Arena\"],[60455,\"Metasit\",\"Leelapipatkul\",\"Moowan\",\"th\",\"Arena of Valor\",\"Multiplayer Online Battle Arena\"],[78285,\"Satittirat\",\"Chetnarong\",\"Overfly\",\"th\",\"Arena of Valor\",\"Multiplayer Online Battle Arena\"],[60412,\"-\",\"-\",\"NingZhi\",\"cn\",\"Arena of Valor\",\"Multiplayer Online Battle Arena\"],[60413,\"-\",\"-\",\"JiuLong\",\"cn\",\"Arena of Valor\",\"Multiplayer Online Battle Arena\"],[60414,\"-\",\"-\",\"JiuC\",\"cn\",\"Arena of Valor\",\"Multiplayer Online Battle Arena\"],[60415,\"-\",\"-\",\"ChenXia\",\"cn\",\"Arena of Valor\",\"Multiplayer Online Battle Arena\"],[60416,\"-\",\"-\",\"ZuiChu\",\"cn\",\"Arena of Valor\",\"Multiplayer Online Battle Arena\"],[60456,\"Sorachat\",\"Janechaijitravanit\",\"Getsrch\",\"th\",\"Arena of Valor\",\"Multiplayer Online Battle Arena\"],[68648,\"-\",\"-\",\"BLUENOPING\",\"th\",\"Arena of Valor\",\"Multiplayer Online Battle Arena\"],[36696,\"Kawee\",\"Wachiraphas\",\"MeMarkz\",\"th\",\"Arena of Valor\",\"Multiplayer Online Battle Arena\"],[18456,\"Pakinai\",\"Srivijarn\",\"kSsA\",\"th\",\"Arena of Valor\",\"Multiplayer Online Battle Arena\"],[16556,\"Sorawat\",\"Boonphrom\",\"Moss\",\"th\",\"Arena of Valor\",\"Multiplayer Online Battle Arena\"],[54034,\"Piyapong\",\"Proathaisong\",\"Taoz\",\"th\",\"Arena of Valor\",\"Multiplayer Online Battle Arena\"],[16554,\"Patara\",\"Bhatarabhirom\",\"Cherie\",\"th\",\"Arena of Valor\",\"Multiplayer Online Battle Arena\"],[9916,\"Nutdanai\",\"Rungruang\",\"MrSunz\",\"th\",\"Arena of Valor\",\"Multiplayer Online Battle Arena\"],[70622,\"-\",\"-\",\"Giao\",\"cn\",\"Arena of Valor\",\"Multiplayer Online Battle Arena\"],[69659,\"-\",\"-\",\"Munez\",\"th\",\"Arena of Valor\",\"Multiplayer Online Battle Arena\"],[79580,\"Pasu\",\"Yensabai\",\"Erez\",\"th\",\"Arena of Valor\",\"Multiplayer Online Battle Arena\"],[60453,\"Methus\",\"Meechom\",\"Nt\",\"th\",\"Arena of Valor\",\"Multiplayer Online Battle Arena\"],[54011,\"Sirichai\",\"Sukpan\",\"ReMix\",\"th\",\"Arena of Valor\",\"Multiplayer Online Battle Arena\"],[79579,\"Pakkapon\",\"Saethong\",\"IpodPro\",\"th\",\"Arena of Valor\",\"Multiplayer Online Battle Arena\"],[78046,\"-\",\"-\",\"Mojo\",\"cn\",\"Arena of Valor\",\"Multiplayer Online Battle Arena\"],[53970,\"-\",\"-\",\"Chichi\",\"tw\",\"Arena of Valor\",\"Multiplayer Online Battle Arena\"],[53971,\"-\",\"-\",\"Genji\",\"tw\",\"Arena of Valor\",\"Multiplayer Online Battle Arena\"],[53972,\"-\",\"-\",\"Hanzo\",\"tw\",\"Arena of Valor\",\"Multiplayer Online Battle Arena\"],[53973,\"-\",\"-\",\"Liang\",\"tw\",\"Arena of Valor\",\"Multiplayer Online Battle Arena\"],[53974,\"-\",\"-\",\"Sirenia\",\"tw\",\"Arena of Valor\",\"Multiplayer Online Battle Arena\"],[54012,\"Denchai\",\"Eampaojeen\",\"JameCo\",\"th\",\"Arena of Valor\",\"Multiplayer Online Battle Arena\"],[75020,\"Aum\",\"Chatchanapong\",\"Happy\",\"th\",\"Arena of Valor\",\"Multiplayer Online Battle Arena\"],[60463,\"Hsing Cheng\",\"Lu\",\"Heroes\",\"tw\",\"Arena of Valor\",\"Multiplayer Online Battle Arena\"],[60570,\"-\",\"-\",\"\\u516d\\u70b9\\u516d\",\"cn\",\"Arena of Valor\",\"Multiplayer Online Battle Arena\"],[60571,\"-\",\"-\",\"\\u5c0f\\u517d\",\"cn\",\"Arena of Valor\",\"Multiplayer Online Battle Arena\"],[60572,\"-\",\"-\",\"\\u5c0f\\u5251\",\"cn\",\"Arena of Valor\",\"Multiplayer Online Battle Arena\"],[60573,\"-\",\"-\",\"\\u5c45\\u5c45\",\"cn\",\"Arena of Valor\",\"Multiplayer Online Battle Arena\"],[60437,\"-\",\"-\",\"Core\",\"kr\",\"Arena of Valor\",\"Multiplayer Online Battle Arena\"],[53976,\"-\",\"-\",\"PS Man\",\"vn\",\"Arena of Valor\",\"Multiplayer Online Battle Arena\"],[54030,\"Matt\",\"Stover\",\"Mts\",\"us\",\"Arena of Valor\",\"Multiplayer Online Battle Arena\"],[60462,\"Chi Kang\",\"Chuang\",\"XiXi\",\"tw\",\"Arena of Valor\",\"Multiplayer Online Battle Arena\"],[60464,\"Sung Lin\",\"Hsieh\",\"Wayn\",\"tw\",\"Arena of Valor\",\"Multiplayer Online Battle Arena\"],[53975,\"-\",\"-\",\"Lulala\",\"tw\",\"Arena of Valor\",\"Multiplayer Online Battle Arena\"],[1297,\"Hyo Jong\",\"Kim\",\"horror\",\"kr\",\"Arena of Valor\",\"Multiplayer Online Battle Arena\"],[60438,\"-\",\"-\",\"JY\",\"kr\",\"Arena of Valor\",\"Multiplayer Online Battle Arena\"],[60439,\"-\",\"-\",\"YK\",\"kr\",\"Arena of Valor\",\"Multiplayer Online Battle Arena\"],[78151,\"-\",\"-\",\"Xuan\",\"my\",\"Arena of Valor\",\"Multiplayer Online Battle Arena\"],[60436,\"-\",\"-\",\"Sweet\",\"kr\",\"Arena of Valor\",\"Multiplayer Online Battle Arena\"],[54450,\"Chanapol\",\"Siri\",\"Sky\",\"th\",\"Arena of Valor\",\"Multiplayer Online Battle Arena\"],[60430,\"-\",\"-\",\"KOKO\",\"cn\",\"Arena of Valor\",\"Multiplayer Online Battle Arena\"],[21212,\"Chattrakarn\",\"Parichatkun\",\"Erl2oR\",\"th\",\"Arena of Valor\",\"Multiplayer Online Battle Arena\"],[78152,\"-\",\"-\",\"Chen\",\"cn\",\"Arena of Valor\",\"Multiplayer Online Battle Arena\"],[83083,\"Yu-Yan\",\"Su\",\"GaDuo\",\"tw\",\"Arena of Valor\",\"Multiplayer Online Battle Arena\"],[83084,\"Tseng-Yung\",\"Chun\",\"Kato\",\"tw\",\"Arena of Valor\",\"Multiplayer Online Battle Arena\"],[83085,\"En Hao\",\"Chen\",\"Gua\",\"tw\",\"Arena of Valor\",\"Multiplayer Online Battle Arena\"],[70343,\"-\",\"-\",\"Rain\",\"tw\",\"Arena of Valor\",\"Multiplayer Online Battle Arena\"],[12241,\"Komklit\",\"Wongsawat\",\"O7T-V1\",\"th\",\"Arena of Valor\",\"Multiplayer Online Battle Arena\"],[69797,\"-\",\"-\",\"139\",\"cn\",\"Arena of Valor\",\"Multiplayer Online Battle Arena\"]],\"hovertemplate\":\"Genre=%{customdata[6]}<br>TotalUSDPrize=%{x}<br>PlayerId=%{customdata[0]}<br>NameFirst=%{customdata[1]}<br>NameLast=%{customdata[2]}<br>CurrentHandle=%{customdata[3]}<br>CountryCode=%{customdata[4]}<br>Game=%{customdata[5]}<extra></extra>\",\"legendgroup\":\"Multiplayer Online Battle Arena\",\"marker\":{\"color\":\"#EF553B\"},\"name\":\"Multiplayer Online Battle Arena\",\"notched\":true,\"offsetgroup\":\"Multiplayer Online Battle Arena\",\"showlegend\":false,\"x\":[6952596.58,6470000.02,6000411.96,5554297.41,5470902.57,5193382.81,4798043.68,4579118.16,4193412.69,3765369.04,3608317.34,3057237.67,2995619.62,2984982.14,2894690.34,2864004.17,2551657.34,2545626.14,2504134.31,2381155.91,2275625.58,2257053.21,2244012.27,2097095.28,2078534.86,2007841.6,2006311.11,2002159.51,1982225.7,1960956.47,1882492.98,1848849.88,1830094.33,1809225.3,1787796.92,1787083.53,1781891.47,1778125.61,1755205.74,1745944.26,1713179.57,1617323.45,1598492.49,1553261.96,1533698.67,1484921.92,1460470.75,1402208.92,1386339.43,1348804.67,1337308.37,1325834.13,1314968.82,1272450.74,1271085.0,1221917.1,1212757.14,1211710.47,1202225.88,1186002.61,1100271.44,1081544.74,1046689.75,1023582.18,1001723.8,989390.86,987072.69,933853.71,917449.86,871452.21,865656.21,845345.4,830696.89,822916.86,821961.68,813169.73,801915.23,798597.31,781396.55,780761.31,770563.75,734369.52,714049.53,710464.63,705536.2,698363.52,692327.42,679039.12,661271.48,653514.33,643143.08,641178.98,638938.79,609393.1,602221.88,601854.15,594922.51,591322.79,591271.39,591176.77,1257615.87,954620.62,915451.46,913084.7,810683.0,682248.64,610445.7,566607.87,559518.75,556087.84,553234.2,548235.82,545447.56,538926.12,538444.86,533979.52,526957.64,515306.14,507800.58,488379.08,483747.81,479060.15,472216.01,471280.47,471086.78,458259.05,440580.94,438830.14,422314.79,409144.64,403320.75,379664.5,374778.08,360201.28,348691.73,347699.25,346307.48,337832.12,337163.36,336306.24,330849.29,329318.02,325910.24,318379.81,313654.08,306475.81,300818.81,287279.5,286115.32,282456.48,281150.19,271901.75,268282.03,267646.88,266509.03,265601.98,265429.15,265283.06,260755.41,260170.9,257257.41,256771.39,252718.89,250580.01,250222.7,249497.86,242290.45,240437.63,232418.28,229438.65,225522.01,224722.01,220292.5,219660.3,217429.72,216539.83,206587.79,198089.09,191889.12,189265.81,185512.99,184100.69,183976.33,182877.42,182066.13,180858.29,177780.23,177478.08,177331.43,176983.88,174361.72,173098.69,170911.34,170679.58,166127.4,165169.85,164821.18,161938.75,160818.8,159402.36,464560.82,462790.78,427923.28,360093.52,353715.98,264826.14,239311.62,238798.57,229170.87,211104.46,200447.42,191647.23,187978.31,184790.78,184411.26,180964.31,164811.62,156959.11,151828.25,149291.76,147500.0,146932.17,145068.51,138297.16,138237.16,134818.57,128659.74,123398.02,122420.01,120263.57,114751.8,114207.06,112337.16,112170.41,110050.76,109714.8,106462.18,106288.65,105541.2,103282.92,102971.54,97856.2,97833.37,94813.8,93149.29,93131.84,92591.2,92397.81,90136.72,89529.34,89214.8,88040.91,87834.52,86588.9,85836.53,85535.96,84500.0,83962.45,80661.2,79790.68,77997.16,76798.88,75978.57,75648.35,75380.4,73817.6,73072.6,72193.01,70434.23,69829.77,69791.28,67862.48,67720.0,66663.8,65965.06,65525.96,65516.28,64763.4,64763.4,64742.6,64742.6,64112.6,63634.48,63405.8,60952.31,60502.6,58569.42,57792.0,57228.0,57198.2,56726.85,55970.05,53541.0,52978.13,51663.14,51636.85,51453.4,50572.68,50549.34,50545.96,465685.85,416162.04,399019.18,399019.18,399019.18,152734.63,143598.03,135749.99,133558.02,133558.02,133380.96,131670.38,131425.77,125644.94,122860.21,122693.28,122650.01,118657.27,117894.7,115644.94,113262.7,111710.36,111582.45,110644.94,110644.94,108311.67,98723.19,90798.66,89669.63,86881.37,86666.67,74492.23,71604.67,66666.67,65922.73,65922.73,65922.73,65922.73,65922.73,65922.73,65922.73,65922.73,65922.73,65922.73,65922.73,61228.35,58200.95,58160.23,58160.23,58160.23,58160.23,58160.23,57378.78,56270.18,55685.67,54159.21,54156.23,52118.54,51203.24,47549.95,46891.35,46641.1,46258.63,45995.54,44916.44,44591.96,43264.58,42482.43,42482.43,42482.43,42482.43,42482.43,41144.36,40376.87,38892.33,36171.67,36171.67,36171.67,36171.67,35049.38,34811.67,34190.6,33892.33,33892.33,33333.33,31489.38,31489.38,29676.0,28860.0,28816.0,28083.35,27580.07,27074.4,26695.5,26666.67,26666.67,26666.67,26645.0,25941.03,24171.67],\"xaxis\":\"x2\",\"yaxis\":\"y2\",\"type\":\"box\"},{\"alignmentgroup\":\"True\",\"bingroup\":\"x\",\"hovertemplate\":\"Genre=Battle Royale<br>TotalUSDPrize=%{x}<br>count=%{y}<extra></extra>\",\"legendgroup\":\"Battle Royale\",\"marker\":{\"color\":\"#00cc96\",\"pattern\":{\"shape\":\"\"}},\"name\":\"Battle Royale\",\"offsetgroup\":\"Battle Royale\",\"orientation\":\"v\",\"showlegend\":true,\"x\":[3141395.05,1923774.23,1873138.8,1536845.69,1349767.32,1331128.07,1213576.66,1200043.07,1186189.75,1126345.35,1109880.47,1021000.0,991583.2,850264.02,775574.81,715350.0,673154.23,615626.39,608416.68,594850.0,506099.73,496429.32,492271.94,482850.0,474562.23,468099.99,437975.0,437369.11,417366.67,414258.4,381283.32,360841.67,350238.8,345750.0,341250.0,341250.0,341250.0,341066.67,326176.94,324900.0,315616.67,310008.33,285707.09,271316.73,269887.84,255546.92,250968.08,250938.56,250525.0,243025.0,229850.77,229464.98,228500.0,221752.32,217500.0,215605.0,215391.67,210575.84,207201.06,205008.33,200130.0,197139.97,195617.67,193787.59,189482.52,188358.03,188212.42,188090.0,187095.73,182950.0,179596.3,178610.0,176803.33,176598.27,174733.33,174439.58,172779.7,172583.33,172400.0,172385.27,167697.53,160410.62,159833.35,159160.84,158350.0,153868.98,152619.67,150900.0,147050.0,144507.88,143908.34,142413.56,141158.34,139936.26,139866.67,137954.0,136820.0,136810.0,135928.06,134800.0,703953.94,610486.16,591248.41,585598.46,344350.25,341362.75,325558.75,282450.25,242483.15,230595.65,229095.65,205477.15,181549.66,179906.29,164612.66,163976.97,159650.52,156140.25,153763.01,141342.32,136120.04,135217.79,134614.01,133114.01,131989.19,130989.58,127694.75,127042.27,126204.51,125722.18,119560.82,113573.0,112482.56,106225.0,105935.34,104675.0,104671.25,104576.9,103739.58,102114.43,101243.57,100930.84,98090.7,94926.51,93098.0,86922.9,86853.44,85243.75,85032.94,84148.44,82233.44,81360.5,81023.44,79049.82,78800.0,78178.8,78178.8,77092.86,75125.32,74885.91,74811.76,71349.2,70101.26,67744.43,67742.92,67742.92,67742.92,67687.33,66517.5,64373.86,64304.93,64255.11,63736.69,63636.03,62654.51,62114.15,62114.15,61350.0,59165.88,58725.83,58710.01,58458.75,58381.6,58295.94,57157.65,56537.65,56496.7,55099.91,53388.44,51048.44,50678.6,50137.37,49761.3,49471.55,49287.5,48617.5,48503.23,47602.61,47090.0,47078.32],\"xaxis\":\"x\",\"yaxis\":\"y\",\"type\":\"histogram\"},{\"alignmentgroup\":\"True\",\"customdata\":[[56483,\"Kyle\",\"Giersdorf\",\"Bugha\",\"us\",\"Fortnite\",\"Battle Royale\"],[59528,\"David\",\"Wang\",\"Aqua\",\"at\",\"Fortnite\",\"Battle Royale\"],[25047,\"Harrison\",\"Chang\",\"psalm\",\"us\",\"Fortnite\",\"Battle Royale\"],[54656,\"Emil\",\"Bergquist Pedersen\",\"Nyhrox\",\"no\",\"Fortnite\",\"Battle Royale\"],[61948,\"Shane\",\"Cotton\",\"EpikWhale\",\"us\",\"Fortnite\",\"Battle Royale\"],[67334,\"Jaden\",\"Ashman\",\"Wolfiez\",\"gb\",\"Fortnite\",\"Battle Royale\"],[55139,\"Dave\",\"Jong\",\"Rojo\",\"nl\",\"Fortnite\",\"Battle Royale\"],[51948,\"Nate\",\"Kou\",\"Kreo\",\"hk\",\"Fortnite\",\"Battle Royale\"],[51578,\"Williams\",\"Aubin\",\"Zayt\",\"ca\",\"Fortnite\",\"Battle Royale\"],[51883,\"Rocco\",\"Morales\",\"Saf\",\"us\",\"Fortnite\",\"Battle Royale\"],[51940,\"Davis\",\"McClellan\",\"Ceice\",\"us\",\"Fortnite\",\"Battle Royale\"],[61896,\"Thiago\",\"Lapp\",\"kinG\",\"ar\",\"Fortnite\",\"Battle Royale\"],[51885,\"Hayden\",\"Krueger\",\"Elevate\",\"us\",\"Fortnite\",\"Battle Royale\"],[49566,\"Cl\\u00e9ment\",\"Danglot\",\"Skite\",\"fr\",\"Fortnite\",\"Battle Royale\"],[51611,\"Dmitri\",\"Van de Vrie\",\"Mitr0\",\"nl\",\"Fortnite\",\"Battle Royale\"],[62314,\"Theo\",\"Ferrer\",\"Crue\",\"se\",\"Fortnite\",\"Battle Royale\"],[50421,\"Kyle\",\"Jackson\",\"Mongraal\",\"gb\",\"Fortnite\",\"Battle Royale\"],[51936,\"Timothy\",\"Miller\",\"Bizzle\",\"us\",\"Fortnite\",\"Battle Royale\"],[62951,\"Diego\",\"Lima\",\"Arkhram\",\"us\",\"Fortnite\",\"Battle Royale\"],[38125,\"Turner\",\"Tenney\",\"Tfue\",\"us\",\"Fortnite\",\"Battle Royale\"],[52321,\"Anthony\",\"Colandro\",\"ZexRow\",\"us\",\"Fortnite\",\"Battle Royale\"],[61243,\"Benjy David\",\"Fish\",\"BenjyFishy\",\"gb\",\"Fortnite\",\"Battle Royale\"],[57463,\"Klaus\",\"Konstanzer\",\"stompy\",\"at\",\"Fortnite\",\"Battle Royale\"],[63746,\"Brendan\",\"Falconer\",\"Falconer\",\"us\",\"Fortnite\",\"Battle Royale\"],[56863,\"Nathan\",\"Berquignol\",\"Nayte\",\"fr\",\"Fortnite\",\"Battle Royale\"],[57614,\"Daniel\",\"Walsh\",\"Dubs\",\"us\",\"Fortnite\",\"Battle Royale\"],[49822,\"Dennis\",\"Lepore\",\"Cloakzy\",\"us\",\"Fortnite\",\"Battle Royale\"],[52428,\"Nate\",\"Hill\",\"Nate Hill\",\"us\",\"Fortnite\",\"Battle Royale\"],[51579,\"Noah\",\"Wright\",\"Vivid\",\"us\",\"Fortnite\",\"Battle Royale\"],[49559,\"Duong\",\"Huynh\",\"Kinstaar\",\"ch\",\"Fortnite\",\"Battle Royale\"],[61769,\"Noam\",\"Ackenine\",\"Megga\",\"us\",\"Fortnite\",\"Battle Royale\"],[57617,\"River\",\"Handley\",\"Riversan\",\"us\",\"Fortnite\",\"Battle Royale\"],[55994,\"Vinny\",\"Gilgan\",\"Vinny\",\"us\",\"Fortnite\",\"Battle Royale\"],[55949,\"Jack\",\"-\",\"Cizzorz\",\"us\",\"Fortnite\",\"Battle Royale\"],[65114,\"Tyler\",\"-\",\"hiimtylerh\",\"ca\",\"Fortnite\",\"Battle Royale\"],[65115,\"Stephan\",\"-\",\"Suezhoo\",\"be\",\"Fortnite\",\"Battle Royale\"],[65116,\"-\",\"-\",\"Zand\",\"dk\",\"Fortnite\",\"Battle Royale\"],[49926,\"Ryan\",\"Chaplo\",\"Chap\",\"us\",\"Fortnite\",\"Battle Royale\"],[55138,\"Thomas\",\"H\\u00f6rak\",\"Tschiiinken\",\"at\",\"Fortnite\",\"Battle Royale\"],[49925,\"Jake\",\"Brumleve\",\"Poach\",\"us\",\"Fortnite\",\"Battle Royale\"],[52429,\"Trevor\",\"Siegler\",\"FunkBomb\",\"us\",\"Fortnite\",\"Battle Royale\"],[49923,\"Thomas\",\"Mulligan\",\"72hrs\",\"us\",\"Fortnite\",\"Battle Royale\"],[49868,\"Pierre\",\"Mesey\",\"Vato\",\"ch\",\"Fortnite\",\"Battle Royale\"],[61171,\"Martin\",\"Foss\",\"MrSavage\",\"no\",\"Fortnite\",\"Battle Royale\"],[50422,\"Domeniks\",\"Bunts\",\"Domentos\",\"lv\",\"Fortnite\",\"Battle Royale\"],[51618,\"Malachi\",\"Greiner\",\"Reverse2k\",\"us\",\"Fortnite\",\"Battle Royale\"],[62105,\"Cody\",\"Conrod\",\"Clix\",\"us\",\"Fortnite\",\"Battle Royale\"],[53744,\"Austin\",\"Etue\",\"Morgausse\",\"us\",\"Fortnite\",\"Battle Royale\"],[57599,\"Mack\",\"Aesoph\",\"MackWood\",\"us\",\"Fortnite\",\"Battle Royale\"],[51884,\"Dylan\",\"Moore\",\"Dmo\",\"us\",\"Fortnite\",\"Battle Royale\"],[64298,\"Jonathan\",\"Weber\",\"yung calculator\",\"us\",\"Fortnite\",\"Battle Royale\"],[49561,\"Corentin\",\"Tardif\",\"Hunter\",\"fr\",\"Fortnite\",\"Battle Royale\"],[65746,\"William\",\"Paquin-Brien\",\"Fatch\",\"ca\",\"Fortnite\",\"Battle Royale\"],[61277,\"Josh\",\"Roach\",\"Commandment\",\"us\",\"Fortnite\",\"Battle Royale\"],[3591,\"Keenan\",\"Santos\",\"Rhux\",\"us\",\"Fortnite\",\"Battle Royale\"],[61414,\"Calum\",\"MacGillivray\",\"itemm\",\"gb\",\"Fortnite\",\"Battle Royale\"],[54842,\"Nick\",\"McGuire\",\"Aspect\",\"us\",\"Fortnite\",\"Battle Royale\"],[51594,\"Adam\",\"Boyer-Dr\\u00e6by\",\"Boyer\",\"dk\",\"Fortnite\",\"Battle Royale\"],[51909,\"Patrik\",\"Zaharchenko\",\"Pate1k\",\"no\",\"Fortnite\",\"Battle Royale\"],[51924,\"Sven\",\"Edelenbosch\",\"Svennoss\",\"nl\",\"Fortnite\",\"Battle Royale\"],[80698,\"Tai\",\"Star\\u010di\\u010d\",\"TaySon\",\"si\",\"Fortnite\",\"Battle Royale\"],[51592,\"Liam\",\"Fillery\",\"Kamo\",\"de\",\"Fortnite\",\"Battle Royale\"],[62999,\"Fabian\",\"Real\",\"Derox\",\"de\",\"Fortnite\",\"Battle Royale\"],[51908,\"Yan\",\"Kaur\",\"Fwexy\",\"ru\",\"Fortnite\",\"Battle Royale\"],[56925,\"Mark\",\"Danilov\",\"Letw1k3\",\"ru\",\"Fortnite\",\"Battle Royale\"],[51593,\"Artur\",\"Kurshin\",\"7ssk7\",\"by\",\"Fortnite\",\"Battle Royale\"],[63544,\"Jannis\",\"Matwin\",\"JannisZ\",\"de\",\"Fortnite\",\"Battle Royale\"],[80697,\"Thomas\",\"Davidsen\",\"Th0masHD\",\"dk\",\"Fortnite\",\"Battle Royale\"],[61233,\"Alexandre\",\"Christophe\",\"Andilex\",\"fr\",\"Fortnite\",\"Battle Royale\"],[61777,\"Julio Cesar\",\"Nevarez\",\"Pika\",\"us\",\"Fortnite\",\"Battle Royale\"],[44303,\"Klaivert\",\"Dervishi\",\"Teeqzy\",\"be\",\"Fortnite\",\"Battle Royale\"],[57084,\"Lassi\",\"Kallio\",\"BELAEU\",\"fi\",\"Fortnite\",\"Battle Royale\"],[66611,\"Endre\",\"Byre\",\"Endretta\",\"no\",\"Fortnite\",\"Battle Royale\"],[3948,\"Karim\",\"Benghalia\",\"A\\u00efrwaks\",\"ch\",\"Fortnite\",\"Battle Royale\"],[53745,\"Sean\",\"Close\",\"Sean\",\"ca\",\"Fortnite\",\"Battle Royale\"],[56302,\"Felix\",\"Hortlund\",\"Wakie\",\"se\",\"Fortnite\",\"Battle Royale\"],[52287,\"Jamal\",\"Saidayev\",\"Jamside\",\"ru\",\"Fortnite\",\"Battle Royale\"],[51619,\"Aydan\",\"Conrad\",\"Aydan\",\"us\",\"Fortnite\",\"Battle Royale\"],[60945,\"Pontus\",\"Bucht\",\"Tchub\",\"se\",\"Fortnite\",\"Battle Royale\"],[55243,\"Howard\",\"Castiaux\",\"Noward\",\"be\",\"Fortnite\",\"Battle Royale\"],[52467,\"Bla\\u017e\",\"Le\\u0161nik\",\"K1nzell\",\"si\",\"Fortnite\",\"Battle Royale\"],[57610,\"Evan\",\"Barron\",\"Cented\",\"ca\",\"Fortnite\",\"Battle Royale\"],[61626,\"Dominick\",\"Green\",\"Unknown\",\"us\",\"Fortnite\",\"Battle Royale\"],[56301,\"Alexander\",\"Zayedli\",\"Znappy\",\"se\",\"Fortnite\",\"Battle Royale\"],[51973,\"David\",\"Bois\",\"LeNain\",\"ca\",\"Fortnite\",\"Battle Royale\"],[61776,\"Ben\",\"Peterson\",\"Edgey\",\"us\",\"Fortnite\",\"Battle Royale\"],[49845,\"Maxime\",\"Thomas\",\"Blax\",\"fr\",\"Fortnite\",\"Battle Royale\"],[52283,\"Anthony\",\"Waller\",\"Tendons\",\"us\",\"Fortnite\",\"Battle Royale\"],[51535,\"Jong Su\",\"Lee\",\"Peterpan\",\"kr\",\"Fortnite\",\"Battle Royale\"],[49841,\"Victor\",\"Lopez\",\"TheVic\",\"fr\",\"Fortnite\",\"Battle Royale\"],[65470,\"-\",\"-\",\"Furious\",\"us\",\"Fortnite\",\"Battle Royale\"],[1219,\"Tyler\",\"Blevins\",\"Ninja\",\"us\",\"Fortnite\",\"Battle Royale\"],[65087,\"-\",\"-\",\"4DRStorm\",\"us\",\"Fortnite\",\"Battle Royale\"],[60950,\"Zygimantas\",\"Navickas\",\"Redrush\",\"lt\",\"Fortnite\",\"Battle Royale\"],[51581,\"Mason\",\"Lanier\",\"Symfuhny\",\"us\",\"Fortnite\",\"Battle Royale\"],[49578,\"Nicolas\",\"Frejavise\",\"Nikof\",\"fr\",\"Fortnite\",\"Battle Royale\"],[62624,\"Moussa\",\"Faour\",\"Chapix\",\"se\",\"Fortnite\",\"Battle Royale\"],[62071,\"Jonas Colk\\u00e6r\",\"Thomsen\",\"Klusia\",\"dk\",\"Fortnite\",\"Battle Royale\"],[64190,\"Kevin\",\"Fedjuschkin\",\"Letshe\",\"de\",\"Fortnite\",\"Battle Royale\"],[57034,\"Jordan\",\"Tucker\",\"Tuckz\",\"gb\",\"Fortnite\",\"Battle Royale\"],[48322,\"Jeong Yeong\",\"Bak\",\"Loki\",\"kr\",\"PUBG\",\"Battle Royale\"],[43755,\"Jeong Wan\",\"Go\",\"ESTH3R\",\"kr\",\"PUBG\",\"Battle Royale\"],[56720,\"Seung Hoon\",\"Cha\",\"Pio\",\"kr\",\"PUBG\",\"Battle Royale\"],[43849,\"Tae Min\",\"Kang\",\"Taemin\",\"kr\",\"PUBG\",\"Battle Royale\"],[43862,\"David\",\"Tillberg\",\"fuzzface\",\"se\",\"PUBG\",\"Battle Royale\"],[43808,\"Anssi\",\"Pekkonen\",\"mxey\",\"fi\",\"PUBG\",\"Battle Royale\"],[14768,\"Ivan\",\"Kapustin\",\"ubah\",\"ru\",\"PUBG\",\"Battle Royale\"],[43816,\"Ludvik\",\"Jahnsen\",\"Aitzy\",\"no\",\"PUBG\",\"Battle Royale\"],[43807,\"Samu\",\"Kauppinen\",\"Sambty\",\"fi\",\"PUBG\",\"Battle Royale\"],[45853,\"Jim\",\"Eliassen\",\"Jeemzz\",\"no\",\"PUBG\",\"Battle Royale\"],[45855,\"Jord\",\"van Geldere\",\"Ibiza\",\"nl\",\"PUBG\",\"Battle Royale\"],[45733,\"Hao\",\"Yao\",\"lionkk\",\"cn\",\"PUBG\",\"Battle Royale\"],[45586,\"Yan\",\"Wang\",\"silentBT_\",\"cn\",\"PUBG\",\"Battle Royale\"],[47413,\"Jinhai\",\"Zhang\",\"xiaohaixxxx\",\"cn\",\"PUBG\",\"Battle Royale\"],[11221,\"Zhen\",\"Wei\",\"GodV\",\"cn\",\"PUBG\",\"Battle Royale\"],[45584,\"Liangguang\",\"Liao\",\"xiaorong\",\"cn\",\"PUBG\",\"Battle Royale\"],[43806,\"Luke\",\"Laing\",\"Meluke\",\"ca\",\"PUBG\",\"Battle Royale\"],[43809,\"Jere\",\"Kauppinen\",\"Jembty\",\"fi\",\"PUBG\",\"Battle Royale\"],[32846,\"In Jae\",\"Kim\",\"EscA\",\"kr\",\"PUBG\",\"Battle Royale\"],[45687,\"Jang Hwan\",\"Seong\",\"seongjang\",\"kr\",\"PUBG\",\"Battle Royale\"],[46776,\"Do-hoon\",\"Seol\",\"indigo\",\"kr\",\"PUBG\",\"Battle Royale\"],[31327,\"Su Yong\",\"Jeong\",\"kAyle\",\"kr\",\"PUBG\",\"Battle Royale\"],[47493,\"Alex\",\"Gouge\",\"vard\",\"gb\",\"PUBG\",\"Battle Royale\"],[47491,\"Justin\",\"McNally\",\"MiracU\",\"ie\",\"PUBG\",\"Battle Royale\"],[43801,\"Magno\",\"Ramos\",\"Pr0phie\",\"ph\",\"PUBG\",\"Battle Royale\"],[50050,\"Logan\",\"Heckman\",\"Zanpah\",\"us\",\"PUBG\",\"Battle Royale\"],[61315,\"Mike\",\"Gariti\",\"Sharky\",\"us\",\"PUBG\",\"Battle Royale\"],[48323,\"Min Ki\",\"Kim\",\"Chelator\",\"kr\",\"PUBG\",\"Battle Royale\"],[41259,\"Keiron\",\"Prescott\",\"Scoom\",\"gi\",\"PUBG\",\"Battle Royale\"],[45412,\"Young Hoon\",\"Shim\",\"Simsn\",\"kr\",\"PUBG\",\"Battle Royale\"],[53797,\"Zheng\",\"Wu\",\"Forever\",\"cn\",\"PUBG\",\"Battle Royale\"],[51125,\"Thierry\",\"Kaltenback\",\"Kaymind\",\"ca\",\"PUBG\",\"Battle Royale\"],[47416,\"Xin\",\"Wang\",\"ZGGO1\",\"cn\",\"PUBG\",\"Battle Royale\"],[48931,\"Roman\",\"Zinoviev\",\"ADOUZ1E\",\"ru\",\"PUBG\",\"Battle Royale\"],[73839,\"Daying\",\"Wei\",\"xxxLu\",\"cn\",\"PUBG\",\"Battle Royale\"],[44865,\"Arsenii\",\"Ivanychev\",\"ceh9\",\"ru\",\"PUBG\",\"Battle Royale\"],[47489,\"Vadim\",\"Ulshin\",\"POKAMOLODOY\",\"ru\",\"PUBG\",\"Battle Royale\"],[50402,\"Jong Ho\",\"Lee\",\"Starlord\",\"kr\",\"PUBG\",\"Battle Royale\"],[43805,\"Diondre\",\"Bond\",\"YaBoiDre\",\"us\",\"PUBG\",\"Battle Royale\"],[46761,\"-\",\"-\",\"Menteul\",\"kr\",\"PUBG\",\"Battle Royale\"],[50405,\"Rak Gwon\",\"Chung\",\"Hulk\",\"kr\",\"PUBG\",\"Battle Royale\"],[60103,\"Do-hyun\",\"Kim\",\"Daengchae\",\"kr\",\"PUBG\",\"Battle Royale\"],[49455,\"Hwan\",\"Jang\",\"Hwan2da\",\"kr\",\"PUBG\",\"Battle Royale\"],[47492,\"Laurynas\",\"Rudys\",\"Gaxy\",\"lt\",\"PUBG\",\"Battle Royale\"],[48868,\"Ben\",\"Wheeler\",\"Nerf\",\"us\",\"PUBG\",\"Battle Royale\"],[55316,\"Chuan\",\"Yu\",\"Summer\",\"cn\",\"PUBG\",\"Battle Royale\"],[48882,\"Timothy\",\"Ebarb\",\"Uncivil\",\"us\",\"PUBG\",\"Battle Royale\"],[51774,\"\\u00d6mer\",\"Develi\",\"Iroh\",\"tr\",\"PUBG\",\"Battle Royale\"],[12917,\"Hunter\",\"Winn\",\"hwinn\",\"us\",\"PUBG\",\"Battle Royale\"],[48307,\"Kurtis\",\"Bond\",\"Purdy\",\"us\",\"PUBG\",\"Battle Royale\"],[43800,\"Kevin\",\"Linn\",\"Miccoy\",\"us\",\"PUBG\",\"Battle Royale\"],[42876,\"Mehmood Amin\",\"Askar\",\"Moody\",\"ca\",\"PUBG\",\"Battle Royale\"],[56684,\"Aaron\",\"Lommen\",\"aLOW\",\"us\",\"PUBG\",\"Battle Royale\"],[66881,\"Luke\",\"Newey\",\"Luke12\",\"au\",\"PUBG\",\"Battle Royale\"],[57401,\"Andrey\",\"Ionov\",\"Bestoloch\",\"ru\",\"PUBG\",\"Battle Royale\"],[49801,\"Kang\",\"Wang\",\"shou\",\"cn\",\"PUBG\",\"Battle Royale\"],[49802,\"Jiang Hua\",\"Chen\",\"shox\",\"cn\",\"PUBG\",\"Battle Royale\"],[50052,\"Daniel\",\"Hernandez\",\"Sharpshothd\",\"cu\",\"PUBG\",\"Battle Royale\"],[45408,\"-\",\"-\",\"BBABBO\",\"kr\",\"PUBG\",\"Battle Royale\"],[43752,\"Jae Hyun\",\"Han\",\"SexyPIG\",\"kr\",\"PUBG\",\"Battle Royale\"],[43797,\"Romain\",\"Hermann\",\"Shiv\",\"fr\",\"PUBG\",\"Battle Royale\"],[48377,\"Damien\",\"Valliant\",\"Dahmien7\",\"fr\",\"PUBG\",\"Battle Royale\"],[43754,\"Kyung Chul\",\"Oh\",\"style\",\"kr\",\"PUBG\",\"Battle Royale\"],[50364,\"Bo Hyun\",\"Kim\",\"YaKK\",\"kr\",\"PUBG\",\"Battle Royale\"],[69545,\"Qicheng\",\"Chen\",\"BoLiang\",\"cn\",\"PUBG\",\"Battle Royale\"],[69546,\"Xin\",\"Lin\",\"L1nnnn\",\"cn\",\"PUBG\",\"Battle Royale\"],[69547,\"Ruilong\",\"Deng\",\"LongSkr\",\"cn\",\"PUBG\",\"Battle Royale\"],[74025,\"Do-gyeong\",\"Kim\",\"DoYa\",\"kr\",\"PUBG\",\"Battle Royale\"],[48695,\"Gustav\",\"Bl\\u00f8nd\",\"GustavQQ\",\"dk\",\"PUBG\",\"Battle Royale\"],[69544,\"Bohang\",\"Li\",\"JiaoYang\",\"cn\",\"PUBG\",\"Battle Royale\"],[49806,\"-\",\"-\",\"Tide\",\"cn\",\"PUBG\",\"Battle Royale\"],[50410,\"-\",\"-\",\"DG98\",\"kr\",\"PUBG\",\"Battle Royale\"],[61319,\"Tristan\",\"Nowicky\",\"Shrimzy\",\"us\",\"PUBG\",\"Battle Royale\"],[49144,\"Yu-Ze\",\"Sun\",\"CPT\",\"cn\",\"PUBG\",\"Battle Royale\"],[43810,\"Adrian\",\"Blom\",\"Haxete\",\"se\",\"PUBG\",\"Battle Royale\"],[66526,\"-\",\"-\",\"DouM\",\"cn\",\"PUBG\",\"Battle Royale\"],[66527,\"-\",\"-\",\"DJBOY\",\"cn\",\"PUBG\",\"Battle Royale\"],[47494,\"Mathias\",\"Larsen\",\"Larsen\",\"dk\",\"PUBG\",\"Battle Royale\"],[45403,\"Hyun Woo\",\"Yoon\",\"yoonroot\",\"kr\",\"PUBG\",\"Battle Royale\"],[51402,\"H\\u1eefu \\u0110o\\u00e0n\",\"Nguy\\u1ec5n\",\"Leviz\",\"vn\",\"PUBG\",\"Battle Royale\"],[48134,\"-\",\"-\",\"LinShuNN\",\"cn\",\"PUBG\",\"Battle Royale\"],[41249,\"Alexey\",\"Trufanov\",\"0nuqtive\",\"ru\",\"PUBG\",\"Battle Royale\"],[48124,\"Xin-hao\",\"Pan\",\"BaoLeiNB\",\"cn\",\"PUBG\",\"Battle Royale\"],[40001,\"Cedrik\",\"Lessard\",\"DrasseL\",\"ca\",\"PUBG\",\"Battle Royale\"],[48125,\"Pengcheng\",\"Wang\",\"jiaozhu\",\"cn\",\"PUBG\",\"Battle Royale\"],[48122,\"Boyuan\",\"Wang\",\"Wang88\",\"cn\",\"PUBG\",\"Battle Royale\"],[47151,\"Gil Do\",\"Lee\",\"Temeria\",\"kr\",\"PUBG\",\"Battle Royale\"],[39822,\"-\",\"-\",\"Qmccc\",\"cn\",\"PUBG\",\"Battle Royale\"],[48875,\"Jace\",\"Patras\",\"Voxsic\",\"us\",\"PUBG\",\"Battle Royale\"],[50167,\"Patrick\",\"Kaplan\",\"PAT KAPS\",\"us\",\"PUBG\",\"Battle Royale\"],[55685,\"-\",\"-\",\"Dongdong\",\"cn\",\"PUBG\",\"Battle Royale\"],[49460,\"Seung Sun\",\"Lee\",\"shadow\",\"kr\",\"PUBG\",\"Battle Royale\"],[48935,\"Magnus\",\"Hartmann\",\"udyRR\",\"de\",\"PUBG\",\"Battle Royale\"],[48938,\"Ren\\u00e9\",\"Rehling\",\"Braexco\",\"de\",\"PUBG\",\"Battle Royale\"],[48874,\"Michael\",\"Wake\",\"mykLe\",\"gb\",\"PUBG\",\"Battle Royale\"],[56973,\"-\",\"-\",\"067QAQ\",\"cn\",\"PUBG\",\"Battle Royale\"],[45682,\"-\",\"-\",\"Makne\",\"kr\",\"PUBG\",\"Battle Royale\"],[63566,\"Katanyu\",\"Chinsorranan\",\"DUCKMANZ\",\"th\",\"PUBG\",\"Battle Royale\"],[35048,\"Sebastian\",\"Berendt\",\"BALLOC\",\"dk\",\"PUBG\",\"Battle Royale\"],[50102,\"Jake\",\"Winant\",\"Snakers\",\"us\",\"PUBG\",\"Battle Royale\"]],\"hovertemplate\":\"Genre=%{customdata[6]}<br>TotalUSDPrize=%{x}<br>PlayerId=%{customdata[0]}<br>NameFirst=%{customdata[1]}<br>NameLast=%{customdata[2]}<br>CurrentHandle=%{customdata[3]}<br>CountryCode=%{customdata[4]}<br>Game=%{customdata[5]}<extra></extra>\",\"legendgroup\":\"Battle Royale\",\"marker\":{\"color\":\"#00cc96\"},\"name\":\"Battle Royale\",\"notched\":true,\"offsetgroup\":\"Battle Royale\",\"showlegend\":false,\"x\":[3141395.05,1923774.23,1873138.8,1536845.69,1349767.32,1331128.07,1213576.66,1200043.07,1186189.75,1126345.35,1109880.47,1021000.0,991583.2,850264.02,775574.81,715350.0,673154.23,615626.39,608416.68,594850.0,506099.73,496429.32,492271.94,482850.0,474562.23,468099.99,437975.0,437369.11,417366.67,414258.4,381283.32,360841.67,350238.8,345750.0,341250.0,341250.0,341250.0,341066.67,326176.94,324900.0,315616.67,310008.33,285707.09,271316.73,269887.84,255546.92,250968.08,250938.56,250525.0,243025.0,229850.77,229464.98,228500.0,221752.32,217500.0,215605.0,215391.67,210575.84,207201.06,205008.33,200130.0,197139.97,195617.67,193787.59,189482.52,188358.03,188212.42,188090.0,187095.73,182950.0,179596.3,178610.0,176803.33,176598.27,174733.33,174439.58,172779.7,172583.33,172400.0,172385.27,167697.53,160410.62,159833.35,159160.84,158350.0,153868.98,152619.67,150900.0,147050.0,144507.88,143908.34,142413.56,141158.34,139936.26,139866.67,137954.0,136820.0,136810.0,135928.06,134800.0,703953.94,610486.16,591248.41,585598.46,344350.25,341362.75,325558.75,282450.25,242483.15,230595.65,229095.65,205477.15,181549.66,179906.29,164612.66,163976.97,159650.52,156140.25,153763.01,141342.32,136120.04,135217.79,134614.01,133114.01,131989.19,130989.58,127694.75,127042.27,126204.51,125722.18,119560.82,113573.0,112482.56,106225.0,105935.34,104675.0,104671.25,104576.9,103739.58,102114.43,101243.57,100930.84,98090.7,94926.51,93098.0,86922.9,86853.44,85243.75,85032.94,84148.44,82233.44,81360.5,81023.44,79049.82,78800.0,78178.8,78178.8,77092.86,75125.32,74885.91,74811.76,71349.2,70101.26,67744.43,67742.92,67742.92,67742.92,67687.33,66517.5,64373.86,64304.93,64255.11,63736.69,63636.03,62654.51,62114.15,62114.15,61350.0,59165.88,58725.83,58710.01,58458.75,58381.6,58295.94,57157.65,56537.65,56496.7,55099.91,53388.44,51048.44,50678.6,50137.37,49761.3,49471.55,49287.5,48617.5,48503.23,47602.61,47090.0,47078.32],\"xaxis\":\"x2\",\"yaxis\":\"y2\",\"type\":\"box\"},{\"alignmentgroup\":\"True\",\"bingroup\":\"x\",\"hovertemplate\":\"Genre=Strategy<br>TotalUSDPrize=%{x}<br>count=%{y}<extra></extra>\",\"legendgroup\":\"Strategy\",\"marker\":{\"color\":\"#ab63fa\",\"pattern\":{\"shape\":\"\"}},\"name\":\"Strategy\",\"offsetgroup\":\"Strategy\",\"orientation\":\"v\",\"showlegend\":true,\"x\":[893336.55,886795.83,883148.24,794627.39,762437.0,673162.61,631829.71,628026.1,616412.36,558114.07,523847.63,509771.79,479324.03,475900.67,451943.24,427239.54,415145.07,407169.17,404994.83,388919.99,377144.16,372788.71,371725.19,363307.59,341093.28,304291.61,303679.63,298622.85,289675.08,288257.14,288225.07,282135.93,280334.78,265914.84,264095.3,261892.87,243027.72,236690.51,233783.91,227008.15,224833.53,218911.98,212397.14,204079.55,189776.99,184811.62,183568.96,177659.71,172891.85,167442.47,158091.74,155836.32,153116.49,150578.81,149003.23,148758.87,148558.05,147459.89,147378.95,143862.24,142369.56,141938.84,141662.54,134300.51,133917.25,132306.1,130550.93,127688.41,125173.05,115102.67,114416.73,114305.31,111579.95,111540.17,109736.18,109440.09,108009.18,103798.04,102860.5,102682.9,100271.58,97741.11,96604.3,96034.27,94907.1,94856.43,93903.11,93866.46,93775.14,92282.22,91850.98,90452.98,90152.64,89725.4,86634.27,84794.99,84195.98,84119.07,83622.52,81795.94],\"xaxis\":\"x\",\"yaxis\":\"y\",\"type\":\"histogram\"},{\"alignmentgroup\":\"True\",\"customdata\":[[5513,\"Joona\",\"Sotala\",\"Serral\",\"fi\",\"Starcraft II\",\"Strategy\"],[1126,\"Sung Choo\",\"Cho\",\"Maru\",\"kr\",\"Starcraft II\",\"Strategy\"],[4070,\"Byung Ryul\",\"Lee\",\"Rogue\",\"kr\",\"Starcraft II\",\"Strategy\"],[3620,\"Ryung Woo\",\"Park\",\"Dark\",\"kr\",\"Starcraft II\",\"Strategy\"],[2268,\"Shin Hyung\",\"Lee\",\"INnoVation\",\"kr\",\"Starcraft II\",\"Strategy\"],[2224,\"Tae Yang\",\"Jun\",\"TY\",\"kr\",\"Starcraft II\",\"Strategy\"],[2236,\"Dae Yeob\",\"Kim\",\"Stats\",\"kr\",\"Starcraft II\",\"Strategy\"],[2272,\"Yoo Jin\",\"Kim\",\"sOs\",\"kr\",\"Starcraft II\",\"Strategy\"],[3481,\"Yoon Su\",\"Eu\",\"soO\",\"kr\",\"Starcraft II\",\"Strategy\"],[4674,\"Sung Wook\",\"Joo\",\"Zest\",\"kr\",\"Starcraft II\",\"Strategy\"],[3818,\"Alex\",\"Sunderhaft\",\"Neeb\",\"us\",\"Starcraft II\",\"Strategy\"],[1000,\"Min Chul\",\"Jang\",\"MC\",\"kr\",\"Starcraft II\",\"Strategy\"],[2271,\"Doh Woo\",\"Kim\",\"Classic\",\"kr\",\"Starcraft II\",\"Strategy\"],[1429,\"Seung Hyun\",\"Lee\",\"Life\",\"kr\",\"Starcraft II\",\"Strategy\"],[1003,\"Sung Hoon\",\"Choi\",\"Polt\",\"kr\",\"Starcraft II\",\"Strategy\"],[1132,\"Lee Sak\",\"Won\",\"PartinG\",\"kr\",\"Starcraft II\",\"Strategy\"],[1017,\"Hyun Woo\",\"Byun\",\"Byun\",\"kr\",\"Starcraft II\",\"Strategy\"],[1007,\"Sung Won\",\"Moon\",\"MMA\",\"kr\",\"Starcraft II\",\"Strategy\"],[1002,\"Jong Hyun\",\"Jung\",\"Mvp\",\"kr\",\"Starcraft II\",\"Strategy\"],[2280,\"Sasha\",\"Hostyn\",\"Scarlett\",\"ca\",\"Starcraft II\",\"Strategy\"],[1175,\"Juan Carlos\",\"Lopez\",\"SpeCial\",\"mx\",\"Starcraft II\",\"Strategy\"],[1257,\"Jens\",\"Aasgaard\",\"Snute\",\"no\",\"Starcraft II\",\"Strategy\"],[1227,\"Artur\",\"Bloch\",\"Nerchio\",\"pl\",\"Starcraft II\",\"Strategy\"],[3657,\"Min Soo\",\"Kang\",\"Solar\",\"kr\",\"Starcraft II\",\"Strategy\"],[3042,\"Joon Ho\",\"Kim\",\"herO\",\"kr\",\"Starcraft II\",\"Strategy\"],[1158,\"Ilyes\",\"Satouri\",\"Stephano\",\"fr\",\"Starcraft II\",\"Strategy\"],[1061,\"Young Suh\",\"Yoon\",\"TaeJa\",\"kr\",\"Starcraft II\",\"Strategy\"],[15015,\"Riccardo\",\"Romiti\",\"Reynor\",\"it\",\"Starcraft II\",\"Strategy\"],[1057,\"Soo Ho\",\"Park\",\"DongRaeGu\",\"kr\",\"Starcraft II\",\"Strategy\"],[1025,\"Dong Nyung\",\"Lee\",\"Leenock\",\"kr\",\"Starcraft II\",\"Strategy\"],[1001,\"Jae Duk\",\"Lim\",\"NesTea\",\"kr\",\"Starcraft II\",\"Strategy\"],[3811,\"Tobias\",\"Sieber\",\"ShoWTimE\",\"de\",\"Starcraft II\",\"Strategy\"],[3435,\"Sung Ho\",\"Cho\",\"Trap\",\"kr\",\"Starcraft II\",\"Strategy\"],[1030,\"Ji Sung\",\"Choi\",\"Bomber\",\"kr\",\"Starcraft II\",\"Strategy\"],[11418,\"Miko\\u0142aj\",\"Ogonowski\",\"Elazer\",\"pl\",\"Starcraft II\",\"Strategy\"],[1086,\"Hyeon Deok\",\"Song\",\"HerO\",\"kr\",\"Starcraft II\",\"Strategy\"],[2274,\"Dong Jun\",\"Baek\",\"Dear\",\"kr\",\"Starcraft II\",\"Strategy\"],[3041,\"Yoon Jong\",\"Jung\",\"Rain\",\"kr\",\"Starcraft II\",\"Strategy\"],[1426,\"Seok Hyun\",\"Ko\",\"HyuN\",\"kr\",\"Starcraft II\",\"Strategy\"],[1064,\"Byung Jae\",\"Koh\",\"GuMiho\",\"kr\",\"Starcraft II\",\"Strategy\"],[1507,\"Jae Dong\",\"Lee\",\"Jaedong\",\"kr\",\"Starcraft II\",\"Strategy\"],[1225,\"Grzegorz\",\"Komincz\",\"MaNa\",\"pl\",\"Starcraft II\",\"Strategy\"],[1004,\"Jung Hoon\",\"Lee\",\"MarineKing\",\"kr\",\"Starcraft II\",\"Strategy\"],[1033,\"Lee Seok\",\"Han\",\"aLive\",\"kr\",\"Starcraft II\",\"Strategy\"],[3651,\"Tae Su\",\"Bang\",\"TRUE\",\"kr\",\"Starcraft II\",\"Strategy\"],[19597,\"Peinan\",\"Li\",\"TIME\",\"cn\",\"Starcraft II\",\"Strategy\"],[1052,\"Dong Hwan\",\"Kim\",\"viOLet\",\"kr\",\"Starcraft II\",\"Strategy\"],[1094,\"Johan\",\"Lucchesi\",\"NaNiwa\",\"se\",\"Starcraft II\",\"Strategy\"],[7995,\"Zhou\",\"Hang\",\"iAsonu\",\"cn\",\"Starcraft II\",\"Strategy\"],[3518,\"Gabriel\",\"Segat\",\"HeRoMaRinE\",\"de\",\"Starcraft II\",\"Strategy\"],[6180,\"Diego\",\"Schwimer\",\"Kelazhur\",\"br\",\"Starcraft II\",\"Strategy\"],[4977,\"Ji Hyun\",\"Jo\",\"Patience\",\"kr\",\"Starcraft II\",\"Strategy\"],[2230,\"Min Chul\",\"Kim\",\"Soulkey\",\"kr\",\"Starcraft II\",\"Strategy\"],[2620,\"Marc\",\"Schlappi\",\"uThermal\",\"nl\",\"Starcraft II\",\"Strategy\"],[7999,\"Doh Wook\",\"Kim\",\"Cure\",\"kr\",\"Starcraft II\",\"Strategy\"],[1020,\"Chris\",\"Loranger\",\"HuK\",\"ca\",\"Starcraft II\",\"Strategy\"],[5420,\"Yu Feng\",\"Ke\",\"Has\",\"tw\",\"Starcraft II\",\"Strategy\"],[2221,\"Dong Won\",\"Shin\",\"Hydra\",\"kr\",\"Starcraft II\",\"Strategy\"],[1129,\"Ji Soo\",\"Park\",\"fOrGG\",\"kr\",\"Starcraft II\",\"Strategy\"],[1174,\"Ho Joon\",\"Lee\",\"PuMa\",\"kr\",\"Starcraft II\",\"Strategy\"],[2775,\"Hui Ming\",\"Huang\",\"TooDming\",\"cn\",\"Starcraft II\",\"Strategy\"],[1080,\"Hyun Woo\",\"Jang\",\"Creator\",\"kr\",\"Starcraft II\",\"Strategy\"],[1076,\"Chia Cheng\",\"Yang\",\"Sen\",\"tw\",\"Starcraft II\",\"Strategy\"],[1239,\"Lei\",\"Wang\",\"XiGua\",\"cn\",\"Starcraft II\",\"Strategy\"],[1024,\"Hoon Jung\",\"Ji\",\"Jjakji\",\"kr\",\"Starcraft II\",\"Strategy\"],[3742,\"Maru\",\"Kim\",\"MaSa\",\"ca\",\"Starcraft II\",\"Strategy\"],[8570,\"Th\\u00e9o\",\"Freydi\\u00e8re\",\"PtitDrogo\",\"fr\",\"Starcraft II\",\"Strategy\"],[1285,\"Aleksandr\",\"Svusuyk\",\"Bly\",\"ua\",\"Starcraft II\",\"Strategy\"],[1236,\"Jin\",\"Hui Cao\",\"Jim\",\"cn\",\"Starcraft II\",\"Strategy\"],[1165,\"Dario\",\"W\\u00fcnsch\",\"TLO\",\"de\",\"Starcraft II\",\"Strategy\"],[3616,\"Ji Won\",\"Han\",\"ByuL\",\"kr\",\"Starcraft II\",\"Strategy\"],[1009,\"Kang Ho\",\"Hwang\",\"LosirA\",\"kr\",\"Starcraft II\",\"Strategy\"],[3521,\"Seok Hee\",\"Son\",\"StarDust\",\"kr\",\"Starcraft II\",\"Strategy\"],[1430,\"Xiang\",\"Hu\",\"MacSed\",\"cn\",\"Starcraft II\",\"Strategy\"],[3613,\"Kevin\",\"de Koning\",\"Harstem\",\"nl\",\"Starcraft II\",\"Strategy\"],[1011,\"Cho-Won\",\"Kang\",\"san\",\"kr\",\"Starcraft II\",\"Strategy\"],[1029,\"Dong Won\",\"Kim\",\"Ryung\",\"kr\",\"Starcraft II\",\"Strategy\"],[1081,\"Joong Hyuk\",\"Cho\",\"Dream\",\"kr\",\"Starcraft II\",\"Strategy\"],[1037,\"Won Ki\",\"Kim\",\"FruitDealer\",\"kr\",\"Starcraft II\",\"Strategy\"],[1123,\"Marcus\",\"Ekl\\u00f6f\",\"ThorZaIN\",\"se\",\"Starcraft II\",\"Strategy\"],[1280,\"Juan\",\"Moreno Dur\\u00e1n\",\"VortiX\",\"es\",\"Starcraft II\",\"Strategy\"],[4712,\"Joon Hyuk\",\"Kim\",\"Impact\",\"kr\",\"Starcraft II\",\"Strategy\"],[7891,\"Julian\",\"Brosig\",\"Lambo\",\"de\",\"Starcraft II\",\"Strategy\"],[3655,\"Ki Woong\",\"Nam\",\"Hurricane\",\"kr\",\"Starcraft II\",\"Strategy\"],[1034,\"Joon Sik\",\"Yang\",\"Alicia\",\"kr\",\"Starcraft II\",\"Strategy\"],[1135,\"Dong Hyun\",\"Kang\",\"Symbol\",\"kr\",\"Starcraft II\",\"Strategy\"],[3441,\"Hee Bum\",\"Shin\",\"RagnaroK\",\"kr\",\"Starcraft II\",\"Strategy\"],[1036,\"Kyo Seok\",\"Hwang\",\"KeeN\",\"kr\",\"Starcraft II\",\"Strategy\"],[1018,\"Min Soo\",\"Jung\",\"Genius\",\"kr\",\"Starcraft II\",\"Strategy\"],[1070,\"Hyun Woo\",\"Park\",\"Squirtle\",\"kr\",\"Starcraft II\",\"Strategy\"],[7992,\"David\",\"Moschetto\",\"Lilbow\",\"fr\",\"Starcraft II\",\"Strategy\"],[14540,\"Huang\",\"Min\",\"Cyan\",\"cn\",\"Starcraft II\",\"Strategy\"],[1505,\"Young Ho\",\"Lee\",\"Flash\",\"kr\",\"Starcraft II\",\"Strategy\"],[2890,\"Hyun Woo\",\"Kang\",\"First\",\"kr\",\"Starcraft II\",\"Strategy\"],[4574,\"Alexis\",\"Eusebio\",\"MarineLorD\",\"fr\",\"Starcraft II\",\"Strategy\"],[1233,\"Dennis\",\"Schneider\",\"HasuObs\",\"de\",\"Starcraft II\",\"Strategy\"],[3091,\"Patrick\",\"Brix\",\"Bunny\",\"dk\",\"Starcraft II\",\"Strategy\"],[1082,\"Byung Hyun\",\"Choi\",\"YoDa\",\"kr\",\"Starcraft II\",\"Strategy\"],[2795,\"Rickard\",\"Bergman\",\"SortOf\",\"se\",\"Starcraft II\",\"Strategy\"],[2833,\"Yao\",\"Xiang\",\"XY\",\"cn\",\"Starcraft II\",\"Strategy\"]],\"hovertemplate\":\"Genre=%{customdata[6]}<br>TotalUSDPrize=%{x}<br>PlayerId=%{customdata[0]}<br>NameFirst=%{customdata[1]}<br>NameLast=%{customdata[2]}<br>CurrentHandle=%{customdata[3]}<br>CountryCode=%{customdata[4]}<br>Game=%{customdata[5]}<extra></extra>\",\"legendgroup\":\"Strategy\",\"marker\":{\"color\":\"#ab63fa\"},\"name\":\"Strategy\",\"notched\":true,\"offsetgroup\":\"Strategy\",\"showlegend\":false,\"x\":[893336.55,886795.83,883148.24,794627.39,762437.0,673162.61,631829.71,628026.1,616412.36,558114.07,523847.63,509771.79,479324.03,475900.67,451943.24,427239.54,415145.07,407169.17,404994.83,388919.99,377144.16,372788.71,371725.19,363307.59,341093.28,304291.61,303679.63,298622.85,289675.08,288257.14,288225.07,282135.93,280334.78,265914.84,264095.3,261892.87,243027.72,236690.51,233783.91,227008.15,224833.53,218911.98,212397.14,204079.55,189776.99,184811.62,183568.96,177659.71,172891.85,167442.47,158091.74,155836.32,153116.49,150578.81,149003.23,148758.87,148558.05,147459.89,147378.95,143862.24,142369.56,141938.84,141662.54,134300.51,133917.25,132306.1,130550.93,127688.41,125173.05,115102.67,114416.73,114305.31,111579.95,111540.17,109736.18,109440.09,108009.18,103798.04,102860.5,102682.9,100271.58,97741.11,96604.3,96034.27,94907.1,94856.43,93903.11,93866.46,93775.14,92282.22,91850.98,90452.98,90152.64,89725.4,86634.27,84794.99,84195.98,84119.07,83622.52,81795.94],\"xaxis\":\"x2\",\"yaxis\":\"y2\",\"type\":\"box\"},{\"alignmentgroup\":\"True\",\"bingroup\":\"x\",\"hovertemplate\":\"Genre=Collectible Card Game<br>TotalUSDPrize=%{x}<br>count=%{y}<extra></extra>\",\"legendgroup\":\"Collectible Card Game\",\"marker\":{\"color\":\"#FFA15A\",\"pattern\":{\"shape\":\"\"}},\"name\":\"Collectible Card Game\",\"offsetgroup\":\"Collectible Card Game\",\"orientation\":\"v\",\"showlegend\":true,\"x\":[491418.66,442877.87,347798.0,341931.16,316781.57,312987.23,296734.75,293345.18,291115.88,284382.26,279875.0,273654.46,269053.1,238550.0,238010.0,229488.39,227550.0,220418.33,210416.67,204049.56,193860.89,171767.15,170027.04,167590.47,165348.34,162017.51,156103.11,155778.27,153199.92,153062.5,151117.2,139425.79,136530.19,135189.54,133715.0,131560.0,125458.59,122179.36,121712.5,121255.92,121248.17,117466.67,114725.0,110925.0,110141.67,106314.27,102887.5,100759.37,97593.92,97479.0,96719.1,94073.0,91550.0,89346.12,89250.0,87636.14,86250.0,84196.0,83373.91,82409.24,81932.0,80924.07,80338.22,79671.53,78375.0,77943.68,77433.33,76675.0,76346.78,74382.47,73575.0,72637.5,70750.0,70216.0,69487.73,68162.5,67950.0,67096.88,66835.51,66730.8,65702.33,64140.31,63000.0,62704.15,62454.4,60165.48,59309.9,58436.0,56250.0,54812.0,54320.72,53526.12,52375.0,51231.7,51059.59,50734.44,50449.6,49300.0,48550.0,47973.61],\"xaxis\":\"x\",\"yaxis\":\"y\",\"type\":\"histogram\"},{\"alignmentgroup\":\"True\",\"customdata\":[[7517,\"Thijs\",\"Molendijk\",\"Thijs\",\"nl\",\"Hearthstone\",\"Collectible Card Game\"],[11132,\"Wei Lin\",\"Chen\",\"tom60229\",\"tw\",\"Hearthstone\",\"Collectible Card Game\"],[17887,\"Pavel\",\"Beltiukov\",\"Pavel\",\"ru\",\"Hearthstone\",\"Collectible Card Game\"],[39487,\"Casper\",\"Notto\",\"Hunterace\",\"no\",\"Hearthstone\",\"Collectible Card Game\"],[10605,\"Jung Soo\",\"Kim\",\"Surrender\",\"kr\",\"Hearthstone\",\"Collectible Card Game\"],[28337,\"Raphael\",\"Peltzer\",\"BunnyHoppor\",\"de\",\"Hearthstone\",\"Collectible Card Game\"],[30870,\"Bin\",\"Zhou\",\"Jasonzhou\",\"cn\",\"Hearthstone\",\"Collectible Card Game\"],[30871,\"-\",\"-\",\"XHope\",\"cn\",\"Hearthstone\",\"Collectible Card Game\"],[14151,\"Jon\",\"Westberg\",\"Orange\",\"se\",\"Hearthstone\",\"Collectible Card Game\"],[29441,\"Frank\",\"Zhang\",\"fr0zen\",\"us\",\"Hearthstone\",\"Collectible Card Game\"],[29787,\"Brian\",\"Eason\",\"bloodyface\",\"us\",\"Hearthstone\",\"Collectible Card Game\"],[9886,\"Aleksandr\",\"Malsh\",\"Kolento\",\"ua\",\"Hearthstone\",\"Collectible Card Game\"],[11584,\"James\",\"Kostesich\",\"Firebat\",\"us\",\"Hearthstone\",\"Collectible Card Game\"],[47080,\"Sato\",\"Kenta\",\"glory\",\"jp\",\"Hearthstone\",\"Collectible Card Game\"],[45851,\"Xiao Meng\",\"Li\",\"Liooon\",\"cn\",\"Hearthstone\",\"Collectible Card Game\"],[11897,\"David\",\"Caero\",\"Dog\",\"us\",\"Hearthstone\",\"Collectible Card Game\"],[32352,\"Torben\",\"Wahl\",\"Viper\",\"de\",\"Hearthstone\",\"Collectible Card Game\"],[16254,\"Ryan\",\"Murphy-Root\",\"Purple\",\"ca\",\"Hearthstone\",\"Collectible Card Game\"],[28333,\"Artem\",\"Kravets'\",\"DrHippi\",\"ua\",\"Hearthstone\",\"Collectible Card Game\"],[8377,\"Dima\",\"Radu\",\"Rdu\",\"ro\",\"Hearthstone\",\"Collectible Card Game\"],[28468,\"Euneil\",\"Javi\\u00f1as\",\"Staz\",\"ph\",\"Hearthstone\",\"Collectible Card Game\"],[16026,\"Frederik H\\u00f8j\",\"Nielsen\",\"Hoej\",\"dk\",\"Hearthstone\",\"Collectible Card Game\"],[28107,\"Vladislav\",\"Sinotov\",\"SilverName\",\"ru\",\"Hearthstone\",\"Collectible Card Game\"],[16252,\"Muzahidul\",\"I.\",\"Muzzy\",\"us\",\"Hearthstone\",\"Collectible Card Game\"],[12110,\"Xieyu\",\"Wang\",\"Tiddler Celestial\",\"cn\",\"Hearthstone\",\"Collectible Card Game\"],[29758,\"Jarom\\u00edr\",\"Vysko\\u010dil\",\"Jarla\",\"cz\",\"Hearthstone\",\"Collectible Card Game\"],[7525,\"Sebastian\",\"Bentert\",\"Xixo\",\"de\",\"Hearthstone\",\"Collectible Card Game\"],[39983,\"Kaan\",\"\\u00c7ekli\",\"Fujitora\",\"tr\",\"Hearthstone\",\"Collectible Card Game\"],[7520,\"Sebastian\",\"Engwall\",\"Ostkaka\",\"se\",\"Hearthstone\",\"Collectible Card Game\"],[20918,\"David\",\"Shan\",\"JustSaiyan\",\"us\",\"Hearthstone\",\"Collectible Card Game\"],[41753,\"Eddie\",\"Lui\",\"Seohyun\",\"ca\",\"Hearthstone\",\"Collectible Card Game\"],[28238,\"Lin\",\"Zheng\",\"OmegaZero\",\"cn\",\"Hearthstone\",\"Collectible Card Game\"],[10950,\"Adrian\",\"Koy\",\"Lifecoach\",\"de\",\"Hearthstone\",\"Collectible Card Game\"],[17274,\"Hyun Jae\",\"Jang\",\"Dawn\",\"kr\",\"Hearthstone\",\"Collectible Card Game\"],[33382,\"Cheon Su\",\"Kim\",\"Che0nsu\",\"kr\",\"Hearthstone\",\"Collectible Card Game\"],[61463,\"Guan\",\"Zhendong\",\"Jing\",\"cn\",\"Hearthstone\",\"Collectible Card Game\"],[43782,\"-\",\"-\",\"Leaoh\",\"cn\",\"Hearthstone\",\"Collectible Card Game\"],[14549,\"Bohan\",\"Zhang\",\"Lovelychook\",\"cn\",\"Hearthstone\",\"Collectible Card Game\"],[30003,\"Kevin\",\"Eberlein\",\"Casie\",\"de\",\"Hearthstone\",\"Collectible Card Game\"],[35958,\"Th\\u00e9o\",\"Dumont\",\"Felkeine\",\"fr\",\"Hearthstone\",\"Collectible Card Game\"],[11589,\"Eugene\",\"Shumilin\",\"Neirea\",\"ua\",\"Hearthstone\",\"Collectible Card Game\"],[22550,\"Alexey\",\"Barsukov\",\"ShtanUdachi\",\"ru\",\"Hearthstone\",\"Collectible Card Game\"],[23913,\"William\",\"Barton\",\"Amnesiac\",\"us\",\"Hearthstone\",\"Collectible Card Game\"],[32363,\"Jerome\",\"Faucher\",\"Monsanto\",\"ca\",\"Hearthstone\",\"Collectible Card Game\"],[15114,\"Paul\",\"Nemeth\",\"Zalae\",\"us\",\"Hearthstone\",\"Collectible Card Game\"],[1244,\"Cong\",\"Shu\",\"StrifeCro\",\"us\",\"Hearthstone\",\"Collectible Card Game\"],[38403,\"Mihai\",\"Dragalin\",\"languagehacker\",\"ca\",\"Hearthstone\",\"Collectible Card Game\"],[12141,\"Bo\",\"Li\",\"LiBo\",\"cn\",\"Hearthstone\",\"Collectible Card Game\"],[30162,\"Julien\",\"Perrault-Harvey\",\"Cydonia\",\"ca\",\"Hearthstone\",\"Collectible Card Game\"],[17271,\"Il Mook\",\"Kang\",\"handsomeguy\",\"kr\",\"Hearthstone\",\"Collectible Card Game\"],[14270,\"Shengyuan\",\"Luo\",\"Roger\",\"tw\",\"Hearthstone\",\"Collectible Card Game\"],[30561,\"Chris\",\"Tsakopoulos\",\"Fenomeno\",\"gr\",\"Hearthstone\",\"Collectible Card Game\"],[32359,\"Edwin\",\"Cook\",\"HotMEOWTH\",\"us\",\"Hearthstone\",\"Collectible Card Game\"],[43794,\"Juwei\",\"Wu\",\"XiaoT\",\"cn\",\"Hearthstone\",\"Collectible Card Game\"],[37063,\"Tsu Lin\",\"Tsao\",\"SamuelTsao\",\"tw\",\"Hearthstone\",\"Collectible Card Game\"],[23558,\"Kacper\",\"Kwieci\\u0144ski\",\"A83650\",\"pl\",\"Hearthstone\",\"Collectible Card Game\"],[50884,\"Zong Chang\",\"Wu\",\"BloodTrail\",\"tw\",\"Hearthstone\",\"Collectible Card Game\"],[45830,\"Wataru\",\"Ishibashi\",\"posesi\",\"jp\",\"Hearthstone\",\"Collectible Card Game\"],[47728,\"Zakarya\",\"Hail\",\"xBlyzes\",\"fr\",\"Hearthstone\",\"Collectible Card Game\"],[30167,\"Francisco\",\"Leimontas\",\"PNC\",\"ar\",\"Hearthstone\",\"Collectible Card Game\"],[33663,\"Tsz Kin\",\"Lo\",\"kin0531\",\"hk\",\"Hearthstone\",\"Collectible Card Game\"],[25983,\"George\",\"Webb\",\"BoarControl\",\"gb\",\"Hearthstone\",\"Collectible Card Game\"],[14148,\"Keaton\",\"Gill\",\"Chakki\",\"us\",\"Hearthstone\",\"Collectible Card Game\"],[15615,\"Ole\",\"Batyrbekov\",\"Naiman\",\"kz\",\"Hearthstone\",\"Collectible Card Game\"],[39850,\"Tyler\",\"Hoang Nguyen\",\"Tylerootd\",\"nl\",\"Hearthstone\",\"Collectible Card Game\"],[25030,\"Jan\",\"Jan\\u00dfen\",\"SuperJJ\",\"de\",\"Hearthstone\",\"Collectible Card Game\"],[37062,\"-\",\"-\",\"DocPwn\",\"ca\",\"Hearthstone\",\"Collectible Card Game\"],[50877,\"Yashima\",\"Nozomi\",\"Alutemu\",\"jp\",\"Hearthstone\",\"Collectible Card Game\"],[33858,\"Thomas\",\"Zimmer\",\"Sintolol\",\"de\",\"Hearthstone\",\"Collectible Card Game\"],[33381,\"Songyang\",\"Zhao\",\"Hamster\",\"cn\",\"Hearthstone\",\"Collectible Card Game\"],[36818,\"David\",\"Acosta\",\"killinallday\",\"us\",\"Hearthstone\",\"Collectible Card Game\"],[7139,\"Jeffrey\",\"Shih\",\"Trump\",\"us\",\"Hearthstone\",\"Collectible Card Game\"],[15703,\"Facu\",\"Pruzzo\",\"Nalguidan\",\"ar\",\"Hearthstone\",\"Collectible Card Game\"],[29789,\"Edward\",\"Goodwin\",\"Gallon213\",\"us\",\"Hearthstone\",\"Collectible Card Game\"],[17263,\"Chen\",\"Yuxiang\",\"Breath\",\"cn\",\"Hearthstone\",\"Collectible Card Game\"],[61464,\"-\",\"-\",\"Yueying\",\"cn\",\"Hearthstone\",\"Collectible Card Game\"],[71040,\"Jack\",\"Bancroft\",\"DeadDraw\",\"gb\",\"Hearthstone\",\"Collectible Card Game\"],[15803,\"Stanislav\",\"Cifka\",\"StanCifka\",\"cz\",\"Hearthstone\",\"Collectible Card Game\"],[12108,\"Baek\",\"Hak Jun\",\"Kranich\",\"kr\",\"Hearthstone\",\"Collectible Card Game\"],[12107,\"Hyun Soo\",\"Cho\",\"Flurry\",\"kr\",\"Hearthstone\",\"Collectible Card Game\"],[49179,\"Martin\",\"Pr\\u00eate\",\"Zhym\",\"fr\",\"Hearthstone\",\"Collectible Card Game\"],[21541,\"Louis\",\"Bremers\",\"Mitsuhide\",\"nl\",\"Hearthstone\",\"Collectible Card Game\"],[46854,\"Michael\",\"Luker\",\"Luker\",\"ca\",\"Hearthstone\",\"Collectible Card Game\"],[8376,\"Jason\",\"Chan\",\"Amaz\",\"hk\",\"Hearthstone\",\"Collectible Card Game\"],[12793,\"Jeffrey\",\"Liu\",\"Tarei\",\"us\",\"Hearthstone\",\"Collectible Card Game\"],[7398,\"Jan\",\"Palys\",\"Ek0p\",\"de\",\"Hearthstone\",\"Collectible Card Game\"],[12083,\"Xiao\",\"Feng\",\"Icefox\",\"cn\",\"Hearthstone\",\"Collectible Card Game\"],[28465,\"Sang Hyeon\",\"Baek\",\"DDaHyoNi\",\"kr\",\"Hearthstone\",\"Collectible Card Game\"],[22276,\"Dylan\",\"Mullins\",\"Hotform\",\"ca\",\"Hearthstone\",\"Collectible Card Game\"],[32353,\"Chun Pong\",\"Ng\",\"Yulsic\",\"hk\",\"Hearthstone\",\"Collectible Card Game\"],[13968,\"Li\",\"Heyang\",\"Sword\",\"cn\",\"Hearthstone\",\"Collectible Card Game\"],[21254,\"Simon\",\"Raunholst\",\"Crane\",\"dk\",\"Hearthstone\",\"Collectible Card Game\"],[29438,\"Anthony\",\"Trevino\",\"Ant\",\"us\",\"Hearthstone\",\"Collectible Card Game\"],[38798,\"-\",\"-\",\"Trunks\",\"cn\",\"Hearthstone\",\"Collectible Card Game\"],[8321,\"Petar\",\"Stevanovic\",\"Gaara\",\"de\",\"Hearthstone\",\"Collectible Card Game\"],[7400,\"Janne\",\"Mikkonen\",\"Savjz\",\"fi\",\"Hearthstone\",\"Collectible Card Game\"],[3255,\"Drew\",\"Biessener\",\"Tidesoftime\",\"us\",\"Hearthstone\",\"Collectible Card Game\"],[49164,\"Simone\",\"Liguori\",\"Leta\",\"it\",\"Hearthstone\",\"Collectible Card Game\"],[43043,\"Mike\",\"Eichner\",\"Ike\",\"us\",\"Hearthstone\",\"Collectible Card Game\"],[1100,\"Jeffrey\",\"Brusi\",\"SjoW\",\"se\",\"Hearthstone\",\"Collectible Card Game\"]],\"hovertemplate\":\"Genre=%{customdata[6]}<br>TotalUSDPrize=%{x}<br>PlayerId=%{customdata[0]}<br>NameFirst=%{customdata[1]}<br>NameLast=%{customdata[2]}<br>CurrentHandle=%{customdata[3]}<br>CountryCode=%{customdata[4]}<br>Game=%{customdata[5]}<extra></extra>\",\"legendgroup\":\"Collectible Card Game\",\"marker\":{\"color\":\"#FFA15A\"},\"name\":\"Collectible Card Game\",\"notched\":true,\"offsetgroup\":\"Collectible Card Game\",\"showlegend\":false,\"x\":[491418.66,442877.87,347798.0,341931.16,316781.57,312987.23,296734.75,293345.18,291115.88,284382.26,279875.0,273654.46,269053.1,238550.0,238010.0,229488.39,227550.0,220418.33,210416.67,204049.56,193860.89,171767.15,170027.04,167590.47,165348.34,162017.51,156103.11,155778.27,153199.92,153062.5,151117.2,139425.79,136530.19,135189.54,133715.0,131560.0,125458.59,122179.36,121712.5,121255.92,121248.17,117466.67,114725.0,110925.0,110141.67,106314.27,102887.5,100759.37,97593.92,97479.0,96719.1,94073.0,91550.0,89346.12,89250.0,87636.14,86250.0,84196.0,83373.91,82409.24,81932.0,80924.07,80338.22,79671.53,78375.0,77943.68,77433.33,76675.0,76346.78,74382.47,73575.0,72637.5,70750.0,70216.0,69487.73,68162.5,67950.0,67096.88,66835.51,66730.8,65702.33,64140.31,63000.0,62704.15,62454.4,60165.48,59309.9,58436.0,56250.0,54812.0,54320.72,53526.12,52375.0,51231.7,51059.59,50734.44,50449.6,49300.0,48550.0,47973.61],\"xaxis\":\"x2\",\"yaxis\":\"y2\",\"type\":\"box\"}],                        {\"template\":{\"data\":{\"bar\":[{\"error_x\":{\"color\":\"#2a3f5f\"},\"error_y\":{\"color\":\"#2a3f5f\"},\"marker\":{\"line\":{\"color\":\"#E5ECF6\",\"width\":0.5},\"pattern\":{\"fillmode\":\"overlay\",\"size\":10,\"solidity\":0.2}},\"type\":\"bar\"}],\"barpolar\":[{\"marker\":{\"line\":{\"color\":\"#E5ECF6\",\"width\":0.5},\"pattern\":{\"fillmode\":\"overlay\",\"size\":10,\"solidity\":0.2}},\"type\":\"barpolar\"}],\"carpet\":[{\"aaxis\":{\"endlinecolor\":\"#2a3f5f\",\"gridcolor\":\"white\",\"linecolor\":\"white\",\"minorgridcolor\":\"white\",\"startlinecolor\":\"#2a3f5f\"},\"baxis\":{\"endlinecolor\":\"#2a3f5f\",\"gridcolor\":\"white\",\"linecolor\":\"white\",\"minorgridcolor\":\"white\",\"startlinecolor\":\"#2a3f5f\"},\"type\":\"carpet\"}],\"choropleth\":[{\"colorbar\":{\"outlinewidth\":0,\"ticks\":\"\"},\"type\":\"choropleth\"}],\"contour\":[{\"colorbar\":{\"outlinewidth\":0,\"ticks\":\"\"},\"colorscale\":[[0.0,\"#0d0887\"],[0.1111111111111111,\"#46039f\"],[0.2222222222222222,\"#7201a8\"],[0.3333333333333333,\"#9c179e\"],[0.4444444444444444,\"#bd3786\"],[0.5555555555555556,\"#d8576b\"],[0.6666666666666666,\"#ed7953\"],[0.7777777777777778,\"#fb9f3a\"],[0.8888888888888888,\"#fdca26\"],[1.0,\"#f0f921\"]],\"type\":\"contour\"}],\"contourcarpet\":[{\"colorbar\":{\"outlinewidth\":0,\"ticks\":\"\"},\"type\":\"contourcarpet\"}],\"heatmap\":[{\"colorbar\":{\"outlinewidth\":0,\"ticks\":\"\"},\"colorscale\":[[0.0,\"#0d0887\"],[0.1111111111111111,\"#46039f\"],[0.2222222222222222,\"#7201a8\"],[0.3333333333333333,\"#9c179e\"],[0.4444444444444444,\"#bd3786\"],[0.5555555555555556,\"#d8576b\"],[0.6666666666666666,\"#ed7953\"],[0.7777777777777778,\"#fb9f3a\"],[0.8888888888888888,\"#fdca26\"],[1.0,\"#f0f921\"]],\"type\":\"heatmap\"}],\"heatmapgl\":[{\"colorbar\":{\"outlinewidth\":0,\"ticks\":\"\"},\"colorscale\":[[0.0,\"#0d0887\"],[0.1111111111111111,\"#46039f\"],[0.2222222222222222,\"#7201a8\"],[0.3333333333333333,\"#9c179e\"],[0.4444444444444444,\"#bd3786\"],[0.5555555555555556,\"#d8576b\"],[0.6666666666666666,\"#ed7953\"],[0.7777777777777778,\"#fb9f3a\"],[0.8888888888888888,\"#fdca26\"],[1.0,\"#f0f921\"]],\"type\":\"heatmapgl\"}],\"histogram\":[{\"marker\":{\"pattern\":{\"fillmode\":\"overlay\",\"size\":10,\"solidity\":0.2}},\"type\":\"histogram\"}],\"histogram2d\":[{\"colorbar\":{\"outlinewidth\":0,\"ticks\":\"\"},\"colorscale\":[[0.0,\"#0d0887\"],[0.1111111111111111,\"#46039f\"],[0.2222222222222222,\"#7201a8\"],[0.3333333333333333,\"#9c179e\"],[0.4444444444444444,\"#bd3786\"],[0.5555555555555556,\"#d8576b\"],[0.6666666666666666,\"#ed7953\"],[0.7777777777777778,\"#fb9f3a\"],[0.8888888888888888,\"#fdca26\"],[1.0,\"#f0f921\"]],\"type\":\"histogram2d\"}],\"histogram2dcontour\":[{\"colorbar\":{\"outlinewidth\":0,\"ticks\":\"\"},\"colorscale\":[[0.0,\"#0d0887\"],[0.1111111111111111,\"#46039f\"],[0.2222222222222222,\"#7201a8\"],[0.3333333333333333,\"#9c179e\"],[0.4444444444444444,\"#bd3786\"],[0.5555555555555556,\"#d8576b\"],[0.6666666666666666,\"#ed7953\"],[0.7777777777777778,\"#fb9f3a\"],[0.8888888888888888,\"#fdca26\"],[1.0,\"#f0f921\"]],\"type\":\"histogram2dcontour\"}],\"mesh3d\":[{\"colorbar\":{\"outlinewidth\":0,\"ticks\":\"\"},\"type\":\"mesh3d\"}],\"parcoords\":[{\"line\":{\"colorbar\":{\"outlinewidth\":0,\"ticks\":\"\"}},\"type\":\"parcoords\"}],\"pie\":[{\"automargin\":true,\"type\":\"pie\"}],\"scatter\":[{\"marker\":{\"colorbar\":{\"outlinewidth\":0,\"ticks\":\"\"}},\"type\":\"scatter\"}],\"scatter3d\":[{\"line\":{\"colorbar\":{\"outlinewidth\":0,\"ticks\":\"\"}},\"marker\":{\"colorbar\":{\"outlinewidth\":0,\"ticks\":\"\"}},\"type\":\"scatter3d\"}],\"scattercarpet\":[{\"marker\":{\"colorbar\":{\"outlinewidth\":0,\"ticks\":\"\"}},\"type\":\"scattercarpet\"}],\"scattergeo\":[{\"marker\":{\"colorbar\":{\"outlinewidth\":0,\"ticks\":\"\"}},\"type\":\"scattergeo\"}],\"scattergl\":[{\"marker\":{\"colorbar\":{\"outlinewidth\":0,\"ticks\":\"\"}},\"type\":\"scattergl\"}],\"scattermapbox\":[{\"marker\":{\"colorbar\":{\"outlinewidth\":0,\"ticks\":\"\"}},\"type\":\"scattermapbox\"}],\"scatterpolar\":[{\"marker\":{\"colorbar\":{\"outlinewidth\":0,\"ticks\":\"\"}},\"type\":\"scatterpolar\"}],\"scatterpolargl\":[{\"marker\":{\"colorbar\":{\"outlinewidth\":0,\"ticks\":\"\"}},\"type\":\"scatterpolargl\"}],\"scatterternary\":[{\"marker\":{\"colorbar\":{\"outlinewidth\":0,\"ticks\":\"\"}},\"type\":\"scatterternary\"}],\"surface\":[{\"colorbar\":{\"outlinewidth\":0,\"ticks\":\"\"},\"colorscale\":[[0.0,\"#0d0887\"],[0.1111111111111111,\"#46039f\"],[0.2222222222222222,\"#7201a8\"],[0.3333333333333333,\"#9c179e\"],[0.4444444444444444,\"#bd3786\"],[0.5555555555555556,\"#d8576b\"],[0.6666666666666666,\"#ed7953\"],[0.7777777777777778,\"#fb9f3a\"],[0.8888888888888888,\"#fdca26\"],[1.0,\"#f0f921\"]],\"type\":\"surface\"}],\"table\":[{\"cells\":{\"fill\":{\"color\":\"#EBF0F8\"},\"line\":{\"color\":\"white\"}},\"header\":{\"fill\":{\"color\":\"#C8D4E3\"},\"line\":{\"color\":\"white\"}},\"type\":\"table\"}]},\"layout\":{\"annotationdefaults\":{\"arrowcolor\":\"#2a3f5f\",\"arrowhead\":0,\"arrowwidth\":1},\"autotypenumbers\":\"strict\",\"coloraxis\":{\"colorbar\":{\"outlinewidth\":0,\"ticks\":\"\"}},\"colorscale\":{\"diverging\":[[0,\"#8e0152\"],[0.1,\"#c51b7d\"],[0.2,\"#de77ae\"],[0.3,\"#f1b6da\"],[0.4,\"#fde0ef\"],[0.5,\"#f7f7f7\"],[0.6,\"#e6f5d0\"],[0.7,\"#b8e186\"],[0.8,\"#7fbc41\"],[0.9,\"#4d9221\"],[1,\"#276419\"]],\"sequential\":[[0.0,\"#0d0887\"],[0.1111111111111111,\"#46039f\"],[0.2222222222222222,\"#7201a8\"],[0.3333333333333333,\"#9c179e\"],[0.4444444444444444,\"#bd3786\"],[0.5555555555555556,\"#d8576b\"],[0.6666666666666666,\"#ed7953\"],[0.7777777777777778,\"#fb9f3a\"],[0.8888888888888888,\"#fdca26\"],[1.0,\"#f0f921\"]],\"sequentialminus\":[[0.0,\"#0d0887\"],[0.1111111111111111,\"#46039f\"],[0.2222222222222222,\"#7201a8\"],[0.3333333333333333,\"#9c179e\"],[0.4444444444444444,\"#bd3786\"],[0.5555555555555556,\"#d8576b\"],[0.6666666666666666,\"#ed7953\"],[0.7777777777777778,\"#fb9f3a\"],[0.8888888888888888,\"#fdca26\"],[1.0,\"#f0f921\"]]},\"colorway\":[\"#636efa\",\"#EF553B\",\"#00cc96\",\"#ab63fa\",\"#FFA15A\",\"#19d3f3\",\"#FF6692\",\"#B6E880\",\"#FF97FF\",\"#FECB52\"],\"font\":{\"color\":\"#2a3f5f\"},\"geo\":{\"bgcolor\":\"white\",\"lakecolor\":\"white\",\"landcolor\":\"#E5ECF6\",\"showlakes\":true,\"showland\":true,\"subunitcolor\":\"white\"},\"hoverlabel\":{\"align\":\"left\"},\"hovermode\":\"closest\",\"mapbox\":{\"style\":\"light\"},\"paper_bgcolor\":\"white\",\"plot_bgcolor\":\"#E5ECF6\",\"polar\":{\"angularaxis\":{\"gridcolor\":\"white\",\"linecolor\":\"white\",\"ticks\":\"\"},\"bgcolor\":\"#E5ECF6\",\"radialaxis\":{\"gridcolor\":\"white\",\"linecolor\":\"white\",\"ticks\":\"\"}},\"scene\":{\"xaxis\":{\"backgroundcolor\":\"#E5ECF6\",\"gridcolor\":\"white\",\"gridwidth\":2,\"linecolor\":\"white\",\"showbackground\":true,\"ticks\":\"\",\"zerolinecolor\":\"white\"},\"yaxis\":{\"backgroundcolor\":\"#E5ECF6\",\"gridcolor\":\"white\",\"gridwidth\":2,\"linecolor\":\"white\",\"showbackground\":true,\"ticks\":\"\",\"zerolinecolor\":\"white\"},\"zaxis\":{\"backgroundcolor\":\"#E5ECF6\",\"gridcolor\":\"white\",\"gridwidth\":2,\"linecolor\":\"white\",\"showbackground\":true,\"ticks\":\"\",\"zerolinecolor\":\"white\"}},\"shapedefaults\":{\"line\":{\"color\":\"#2a3f5f\"}},\"ternary\":{\"aaxis\":{\"gridcolor\":\"white\",\"linecolor\":\"white\",\"ticks\":\"\"},\"baxis\":{\"gridcolor\":\"white\",\"linecolor\":\"white\",\"ticks\":\"\"},\"bgcolor\":\"#E5ECF6\",\"caxis\":{\"gridcolor\":\"white\",\"linecolor\":\"white\",\"ticks\":\"\"}},\"title\":{\"x\":0.05},\"xaxis\":{\"automargin\":true,\"gridcolor\":\"white\",\"linecolor\":\"white\",\"ticks\":\"\",\"title\":{\"standoff\":15},\"zerolinecolor\":\"white\",\"zerolinewidth\":2},\"yaxis\":{\"automargin\":true,\"gridcolor\":\"white\",\"linecolor\":\"white\",\"ticks\":\"\",\"title\":{\"standoff\":15},\"zerolinecolor\":\"white\",\"zerolinewidth\":2}}},\"xaxis\":{\"anchor\":\"y\",\"domain\":[0.0,1.0],\"title\":{\"text\":\"TotalUSDPrize\"}},\"yaxis\":{\"anchor\":\"x\",\"domain\":[0.0,0.7326],\"title\":{\"text\":\"count\"}},\"xaxis2\":{\"anchor\":\"y2\",\"domain\":[0.0,1.0],\"matches\":\"x\",\"showticklabels\":false,\"showgrid\":true},\"yaxis2\":{\"anchor\":\"x2\",\"domain\":[0.7426,1.0],\"matches\":\"y2\",\"showticklabels\":false,\"showline\":false,\"ticks\":\"\",\"showgrid\":false},\"legend\":{\"title\":{\"text\":\"Genre\"},\"tracegroupgap\":0},\"margin\":{\"t\":60},\"barmode\":\"relative\"},                        {\"responsive\": true}                    ).then(function(){\n",
       "                            \n",
       "var gd = document.getElementById('71b4eab7-4c1d-4058-bc99-16a528d218b2');\n",
       "var x = new MutationObserver(function (mutations, observer) {{\n",
       "        var display = window.getComputedStyle(gd).display;\n",
       "        if (!display || display === 'none') {{\n",
       "            console.log([gd, 'removed!']);\n",
       "            Plotly.purge(gd);\n",
       "            observer.disconnect();\n",
       "        }}\n",
       "}});\n",
       "\n",
       "// Listen for the removal of the full notebook cells\n",
       "var notebookContainer = gd.closest('#notebook-container');\n",
       "if (notebookContainer) {{\n",
       "    x.observe(notebookContainer, {childList: true});\n",
       "}}\n",
       "\n",
       "// Listen for the clearing of the current output cell\n",
       "var outputEl = gd.closest('.output');\n",
       "if (outputEl) {{\n",
       "    x.observe(outputEl, {childList: true});\n",
       "}}\n",
       "\n",
       "                        })                };                });            </script>        </div>"
      ]
     },
     "metadata": {},
     "output_type": "display_data"
    }
   ],
   "source": [
    "fig = px.histogram(players_df, x=\"TotalUSDPrize\",color=\"Genre\",\n",
    "                   marginal=\"box\", # or violin, rug\n",
    "                   hover_data=players_df.columns)\n",
    "fig.show()"
   ]
  },
  {
   "cell_type": "code",
   "execution_count": 103,
   "id": "8e2cae1b-d87c-4374-b2cd-6a2543b2e1a7",
   "metadata": {},
   "outputs": [
    {
     "data": {
      "image/png": "[encoded data removed]",
      "text/plain": [
       "<Figure size 720x720 with 1 Axes>"
      ]
     },
     "metadata": {
      "needs_background": "light"
     },
     "output_type": "display_data"
    }
   ],
   "source": [
    "fig, ax = plt.subplots(figsize=(10,10))\n",
    "plt.xticks(rotation = 45)\n",
    "sns.boxplot(data = players_df, x=\"Genre\", y=\"TotalUSDPrize\")\n",
    "plt.show()"
   ]
  },
  {
   "cell_type": "markdown",
   "id": "7b99a65f-ee27-4aaf-b4e2-2e16a27409af",
   "metadata": {},
   "source": [
    "There are lots of  'outliers' in the data and the top of the top players competing in MOBA do outearn all the other genres."
   ]
  },
  {
   "cell_type": "code",
   "execution_count": 13,
   "id": "6b8fbab1-686e-48b5-a027-b8db3972436f",
   "metadata": {},
   "outputs": [
    {
     "data": {
      "text/html": [
       "<div>\n",
       "<style scoped>\n",
       "    .dataframe tbody tr th:only-of-type {\n",
       "        vertical-align: middle;\n",
       "    }\n",
       "\n",
       "    .dataframe tbody tr th {\n",
       "        vertical-align: top;\n",
       "    }\n",
       "\n",
       "    .dataframe thead th {\n",
       "        text-align: right;\n",
       "    }\n",
       "</style>\n",
       "<table border=\"1\" class=\"dataframe\">\n",
       "  <thead>\n",
       "    <tr style=\"text-align: right;\">\n",
       "      <th></th>\n",
       "      <th>TeamName</th>\n",
       "      <th>Game</th>\n",
       "    </tr>\n",
       "  </thead>\n",
       "  <tbody>\n",
       "    <tr>\n",
       "      <th>0</th>\n",
       "      <td>(monkey) Business</td>\n",
       "      <td>1</td>\n",
       "    </tr>\n",
       "    <tr>\n",
       "      <th>1</th>\n",
       "      <td>100 Thieves</td>\n",
       "      <td>3</td>\n",
       "    </tr>\n",
       "    <tr>\n",
       "      <th>2</th>\n",
       "      <td>303 Esports</td>\n",
       "      <td>1</td>\n",
       "    </tr>\n",
       "    <tr>\n",
       "      <th>3</th>\n",
       "      <td>3DMAX</td>\n",
       "      <td>2</td>\n",
       "    </tr>\n",
       "    <tr>\n",
       "      <th>4</th>\n",
       "      <td>4 Clovers &amp; Lepricon</td>\n",
       "      <td>1</td>\n",
       "    </tr>\n",
       "    <tr>\n",
       "      <th>...</th>\n",
       "      <td>...</td>\n",
       "      <td>...</td>\n",
       "    </tr>\n",
       "    <tr>\n",
       "      <th>500</th>\n",
       "      <td>mudgolems</td>\n",
       "      <td>1</td>\n",
       "    </tr>\n",
       "    <tr>\n",
       "      <th>501</th>\n",
       "      <td>paiN Gaming</td>\n",
       "      <td>3</td>\n",
       "    </tr>\n",
       "    <tr>\n",
       "      <th>502</th>\n",
       "      <td>vsBANDITS</td>\n",
       "      <td>1</td>\n",
       "    </tr>\n",
       "    <tr>\n",
       "      <th>503</th>\n",
       "      <td>wisdom Nerve victory</td>\n",
       "      <td>1</td>\n",
       "    </tr>\n",
       "    <tr>\n",
       "      <th>504</th>\n",
       "      <td>x6tence</td>\n",
       "      <td>2</td>\n",
       "    </tr>\n",
       "  </tbody>\n",
       "</table>\n",
       "<p>505 rows × 2 columns</p>\n",
       "</div>"
      ],
      "text/plain": [
       "                 TeamName  Game\n",
       "0       (monkey) Business     1\n",
       "1             100 Thieves     3\n",
       "2             303 Esports     1\n",
       "3                   3DMAX     2\n",
       "4    4 Clovers & Lepricon     1\n",
       "..                    ...   ...\n",
       "500             mudgolems     1\n",
       "501           paiN Gaming     3\n",
       "502             vsBANDITS     1\n",
       "503  wisdom Nerve victory     1\n",
       "504               x6tence     2\n",
       "\n",
       "[505 rows x 2 columns]"
      ]
     },
     "execution_count": 13,
     "metadata": {},
     "output_type": "execute_result"
    }
   ],
   "source": [
    "teams_df[['TeamName','Game']].groupby('TeamName').count().reset_index()"
   ]
  },
  {
   "cell_type": "markdown",
   "id": "b8f8997f-0d7c-4f5c-aa19-316edf7263f7",
   "metadata": {},
   "source": [
    "A team can appear more than once but note that it is a different game."
   ]
  },
  {
   "cell_type": "markdown",
   "id": "9a044997-0bb7-4f4b-857f-bc9c2ab70427",
   "metadata": {},
   "source": [
    "### Part1 Explore Teams Data"
   ]
  },
  {
   "cell_type": "code",
   "execution_count": 81,
   "id": "8cbb0b44-3b5f-4e49-a85b-136bcb4f72f9",
   "metadata": {
    "tags": []
   },
   "outputs": [
    {
     "data": {
      "application/vnd.plotly.v1+json": {
       "config": {
        "plotlyServerURL": "https://plot.ly"
       },
       "data": [
        {
         "name": "Tournaments of Games",
         "offsetgroup": "0",
         "type": "bar",
         "x": [
          "Arena of Valor",
          "Counter-Strike: Global Offensive",
          "Dota 2",
          "Fortnite",
          "Hearthstone",
          "Heroes of the Storm",
          "League of Legends",
          "Overwatch",
          "PUBG",
          "Starcraft II"
         ],
         "xaxis": "x",
         "y": [
          81,
          49.5,
          22,
          15,
          9,
          7,
          6,
          5.5,
          4,
          2
         ],
         "yaxis": "y"
        },
        {
         "name": "Earnings of Games",
         "offsetgroup": "1",
         "type": "bar",
         "x": [
          "Arena of Valor",
          "Counter-Strike: Global Offensive",
          "Dota 2",
          "Fortnite",
          "Hearthstone",
          "Heroes of the Storm",
          "League of Legends",
          "Overwatch",
          "PUBG",
          "Starcraft II"
         ],
         "xaxis": "x",
         "y": [
          326472.645,
          262743.475,
          253425.2,
          131583.60499999998,
          72472.20999999999,
          71411.35,
          60919.875,
          58750,
          41687.5,
          9859.875
         ],
         "yaxis": "y2"
        }
       ],
       "layout": {
        "autosize": true,
        "template": {
         "data": {
          "bar": [
           {
            "error_x": {
             "color": "#2a3f5f"
            },
            "error_y": {
             "color": "#2a3f5f"
            },
            "marker": {
             "line": {
              "color": "#E5ECF6",
              "width": 0.5
             },
             "pattern": {
              "fillmode": "overlay",
              "size": 10,
              "solidity": 0.2
             }
            },
            "type": "bar"
           }
          ],
          "barpolar": [
           {
            "marker": {
             "line": {
              "color": "#E5ECF6",
              "width": 0.5
             },
             "pattern": {
              "fillmode": "overlay",
              "size": 10,
              "solidity": 0.2
             }
            },
            "type": "barpolar"
           }
          ],
          "carpet": [
           {
            "aaxis": {
             "endlinecolor": "#2a3f5f",
             "gridcolor": "white",
             "linecolor": "white",
             "minorgridcolor": "white",
             "startlinecolor": "#2a3f5f"
            },
            "baxis": {
             "endlinecolor": "#2a3f5f",
             "gridcolor": "white",
             "linecolor": "white",
             "minorgridcolor": "white",
             "startlinecolor": "#2a3f5f"
            },
            "type": "carpet"
           }
          ],
          "choropleth": [
           {
            "colorbar": {
             "outlinewidth": 0,
             "ticks": ""
            },
            "type": "choropleth"
           }
          ],
          "contour": [
           {
            "colorbar": {
             "outlinewidth": 0,
             "ticks": ""
            },
            "colorscale": [
             [
              0,
              "#0d0887"
             ],
             [
              0.1111111111111111,
              "#46039f"
             ],
             [
              0.2222222222222222,
              "#7201a8"
             ],
             [
              0.3333333333333333,
              "#9c179e"
             ],
             [
              0.4444444444444444,
              "#bd3786"
             ],
             [
              0.5555555555555556,
              "#d8576b"
             ],
             [
              0.6666666666666666,
              "#ed7953"
             ],
             [
              0.7777777777777778,
              "#fb9f3a"
             ],
             [
              0.8888888888888888,
              "#fdca26"
             ],
             [
              1,
              "#f0f921"
             ]
            ],
            "type": "contour"
           }
          ],
          "contourcarpet": [
           {
            "colorbar": {
             "outlinewidth": 0,
             "ticks": ""
            },
            "type": "contourcarpet"
           }
          ],
          "heatmap": [
           {
            "colorbar": {
             "outlinewidth": 0,
             "ticks": ""
            },
            "colorscale": [
             [
              0,
              "#0d0887"
             ],
             [
              0.1111111111111111,
              "#46039f"
             ],
             [
              0.2222222222222222,
              "#7201a8"
             ],
             [
              0.3333333333333333,
              "#9c179e"
             ],
             [
              0.4444444444444444,
              "#bd3786"
             ],
             [
              0.5555555555555556,
              "#d8576b"
             ],
             [
              0.6666666666666666,
              "#ed7953"
             ],
             [
              0.7777777777777778,
              "#fb9f3a"
             ],
             [
              0.8888888888888888,
              "#fdca26"
             ],
             [
              1,
              "#f0f921"
             ]
            ],
            "type": "heatmap"
           }
          ],
          "heatmapgl": [
           {
            "colorbar": {
             "outlinewidth": 0,
             "ticks": ""
            },
            "colorscale": [
             [
              0,
              "#0d0887"
             ],
             [
              0.1111111111111111,
              "#46039f"
             ],
             [
              0.2222222222222222,
              "#7201a8"
             ],
             [
              0.3333333333333333,
              "#9c179e"
             ],
             [
              0.4444444444444444,
              "#bd3786"
             ],
             [
              0.5555555555555556,
              "#d8576b"
             ],
             [
              0.6666666666666666,
              "#ed7953"
             ],
             [
              0.7777777777777778,
              "#fb9f3a"
             ],
             [
              0.8888888888888888,
              "#fdca26"
             ],
             [
              1,
              "#f0f921"
             ]
            ],
            "type": "heatmapgl"
           }
          ],
          "histogram": [
           {
            "marker": {
             "pattern": {
              "fillmode": "overlay",
              "size": 10,
              "solidity": 0.2
             }
            },
            "type": "histogram"
           }
          ],
          "histogram2d": [
           {
            "colorbar": {
             "outlinewidth": 0,
             "ticks": ""
            },
            "colorscale": [
             [
              0,
              "#0d0887"
             ],
             [
              0.1111111111111111,
              "#46039f"
             ],
             [
              0.2222222222222222,
              "#7201a8"
             ],
             [
              0.3333333333333333,
              "#9c179e"
             ],
             [
              0.4444444444444444,
              "#bd3786"
             ],
             [
              0.5555555555555556,
              "#d8576b"
             ],
             [
              0.6666666666666666,
              "#ed7953"
             ],
             [
              0.7777777777777778,
              "#fb9f3a"
             ],
             [
              0.8888888888888888,
              "#fdca26"
             ],
             [
              1,
              "#f0f921"
             ]
            ],
            "type": "histogram2d"
           }
          ],
          "histogram2dcontour": [
           {
            "colorbar": {
             "outlinewidth": 0,
             "ticks": ""
            },
            "colorscale": [
             [
              0,
              "#0d0887"
             ],
             [
              0.1111111111111111,
              "#46039f"
             ],
             [
              0.2222222222222222,
              "#7201a8"
             ],
             [
              0.3333333333333333,
              "#9c179e"
             ],
             [
              0.4444444444444444,
              "#bd3786"
             ],
             [
              0.5555555555555556,
              "#d8576b"
             ],
             [
              0.6666666666666666,
              "#ed7953"
             ],
             [
              0.7777777777777778,
              "#fb9f3a"
             ],
             [
              0.8888888888888888,
              "#fdca26"
             ],
             [
              1,
              "#f0f921"
             ]
            ],
            "type": "histogram2dcontour"
           }
          ],
          "mesh3d": [
           {
            "colorbar": {
             "outlinewidth": 0,
             "ticks": ""
            },
            "type": "mesh3d"
           }
          ],
          "parcoords": [
           {
            "line": {
             "colorbar": {
              "outlinewidth": 0,
              "ticks": ""
             }
            },
            "type": "parcoords"
           }
          ],
          "pie": [
           {
            "automargin": true,
            "type": "pie"
           }
          ],
          "scatter": [
           {
            "marker": {
             "colorbar": {
              "outlinewidth": 0,
              "ticks": ""
             }
            },
            "type": "scatter"
           }
          ],
          "scatter3d": [
           {
            "line": {
             "colorbar": {
              "outlinewidth": 0,
              "ticks": ""
             }
            },
            "marker": {
             "colorbar": {
              "outlinewidth": 0,
              "ticks": ""
             }
            },
            "type": "scatter3d"
           }
          ],
          "scattercarpet": [
           {
            "marker": {
             "colorbar": {
              "outlinewidth": 0,
              "ticks": ""
             }
            },
            "type": "scattercarpet"
           }
          ],
          "scattergeo": [
           {
            "marker": {
             "colorbar": {
              "outlinewidth": 0,
              "ticks": ""
             }
            },
            "type": "scattergeo"
           }
          ],
          "scattergl": [
           {
            "marker": {
             "colorbar": {
              "outlinewidth": 0,
              "ticks": ""
             }
            },
            "type": "scattergl"
           }
          ],
          "scattermapbox": [
           {
            "marker": {
             "colorbar": {
              "outlinewidth": 0,
              "ticks": ""
             }
            },
            "type": "scattermapbox"
           }
          ],
          "scatterpolar": [
           {
            "marker": {
             "colorbar": {
              "outlinewidth": 0,
              "ticks": ""
             }
            },
            "type": "scatterpolar"
           }
          ],
          "scatterpolargl": [
           {
            "marker": {
             "colorbar": {
              "outlinewidth": 0,
              "ticks": ""
             }
            },
            "type": "scatterpolargl"
           }
          ],
          "scatterternary": [
           {
            "marker": {
             "colorbar": {
              "outlinewidth": 0,
              "ticks": ""
             }
            },
            "type": "scatterternary"
           }
          ],
          "surface": [
           {
            "colorbar": {
             "outlinewidth": 0,
             "ticks": ""
            },
            "colorscale": [
             [
              0,
              "#0d0887"
             ],
             [
              0.1111111111111111,
              "#46039f"
             ],
             [
              0.2222222222222222,
              "#7201a8"
             ],
             [
              0.3333333333333333,
              "#9c179e"
             ],
             [
              0.4444444444444444,
              "#bd3786"
             ],
             [
              0.5555555555555556,
              "#d8576b"
             ],
             [
              0.6666666666666666,
              "#ed7953"
             ],
             [
              0.7777777777777778,
              "#fb9f3a"
             ],
             [
              0.8888888888888888,
              "#fdca26"
             ],
             [
              1,
              "#f0f921"
             ]
            ],
            "type": "surface"
           }
          ],
          "table": [
           {
            "cells": {
             "fill": {
              "color": "#EBF0F8"
             },
             "line": {
              "color": "white"
             }
            },
            "header": {
             "fill": {
              "color": "#C8D4E3"
             },
             "line": {
              "color": "white"
             }
            },
            "type": "table"
           }
          ]
         },
         "layout": {
          "annotationdefaults": {
           "arrowcolor": "#2a3f5f",
           "arrowhead": 0,
           "arrowwidth": 1
          },
          "autotypenumbers": "strict",
          "coloraxis": {
           "colorbar": {
            "outlinewidth": 0,
            "ticks": ""
           }
          },
          "colorscale": {
           "diverging": [
            [
             0,
             "#8e0152"
            ],
            [
             0.1,
             "#c51b7d"
            ],
            [
             0.2,
             "#de77ae"
            ],
            [
             0.3,
             "#f1b6da"
            ],
            [
             0.4,
             "#fde0ef"
            ],
            [
             0.5,
             "#f7f7f7"
            ],
            [
             0.6,
             "#e6f5d0"
            ],
            [
             0.7,
             "#b8e186"
            ],
            [
             0.8,
             "#7fbc41"
            ],
            [
             0.9,
             "#4d9221"
            ],
            [
             1,
             "#276419"
            ]
           ],
           "sequential": [
            [
             0,
             "#0d0887"
            ],
            [
             0.1111111111111111,
             "#46039f"
            ],
            [
             0.2222222222222222,
             "#7201a8"
            ],
            [
             0.3333333333333333,
             "#9c179e"
            ],
            [
             0.4444444444444444,
             "#bd3786"
            ],
            [
             0.5555555555555556,
             "#d8576b"
            ],
            [
             0.6666666666666666,
             "#ed7953"
            ],
            [
             0.7777777777777778,
             "#fb9f3a"
            ],
            [
             0.8888888888888888,
             "#fdca26"
            ],
            [
             1,
             "#f0f921"
            ]
           ],
           "sequentialminus": [
            [
             0,
             "#0d0887"
            ],
            [
             0.1111111111111111,
             "#46039f"
            ],
            [
             0.2222222222222222,
             "#7201a8"
            ],
            [
             0.3333333333333333,
             "#9c179e"
            ],
            [
             0.4444444444444444,
             "#bd3786"
            ],
            [
             0.5555555555555556,
             "#d8576b"
            ],
            [
             0.6666666666666666,
             "#ed7953"
            ],
            [
             0.7777777777777778,
             "#fb9f3a"
            ],
            [
             0.8888888888888888,
             "#fdca26"
            ],
            [
             1,
             "#f0f921"
            ]
           ]
          },
          "colorway": [
           "#636efa",
           "#EF553B",
           "#00cc96",
           "#ab63fa",
           "#FFA15A",
           "#19d3f3",
           "#FF6692",
           "#B6E880",
           "#FF97FF",
           "#FECB52"
          ],
          "font": {
           "color": "#2a3f5f"
          },
          "geo": {
           "bgcolor": "white",
           "lakecolor": "white",
           "landcolor": "#E5ECF6",
           "showlakes": true,
           "showland": true,
           "subunitcolor": "white"
          },
          "hoverlabel": {
           "align": "left"
          },
          "hovermode": "closest",
          "mapbox": {
           "style": "light"
          },
          "paper_bgcolor": "white",
          "plot_bgcolor": "#E5ECF6",
          "polar": {
           "angularaxis": {
            "gridcolor": "white",
            "linecolor": "white",
            "ticks": ""
           },
           "bgcolor": "#E5ECF6",
           "radialaxis": {
            "gridcolor": "white",
            "linecolor": "white",
            "ticks": ""
           }
          },
          "scene": {
           "xaxis": {
            "backgroundcolor": "#E5ECF6",
            "gridcolor": "white",
            "gridwidth": 2,
            "linecolor": "white",
            "showbackground": true,
            "ticks": "",
            "zerolinecolor": "white"
           },
           "yaxis": {
            "backgroundcolor": "#E5ECF6",
            "gridcolor": "white",
            "gridwidth": 2,
            "linecolor": "white",
            "showbackground": true,
            "ticks": "",
            "zerolinecolor": "white"
           },
           "zaxis": {
            "backgroundcolor": "#E5ECF6",
            "gridcolor": "white",
            "gridwidth": 2,
            "linecolor": "white",
            "showbackground": true,
            "ticks": "",
            "zerolinecolor": "white"
           }
          },
          "shapedefaults": {
           "line": {
            "color": "#2a3f5f"
           }
          },
          "ternary": {
           "aaxis": {
            "gridcolor": "white",
            "linecolor": "white",
            "ticks": ""
           },
           "baxis": {
            "gridcolor": "white",
            "linecolor": "white",
            "ticks": ""
           },
           "bgcolor": "#E5ECF6",
           "caxis": {
            "gridcolor": "white",
            "linecolor": "white",
            "ticks": ""
           }
          },
          "title": {
           "x": 0.05
          },
          "xaxis": {
           "automargin": true,
           "gridcolor": "white",
           "linecolor": "white",
           "ticks": "",
           "title": {
            "standoff": 15
           },
           "zerolinecolor": "white",
           "zerolinewidth": 2
          },
          "yaxis": {
           "automargin": true,
           "gridcolor": "white",
           "linecolor": "white",
           "ticks": "",
           "title": {
            "standoff": 15
           },
           "zerolinecolor": "white",
           "zerolinewidth": 2
          }
         }
        },
        "title": {
         "text": "Tournaments and Earnings of Games"
        },
        "xaxis": {
         "anchor": "y",
         "autorange": true,
         "domain": [
          0,
          0.94
         ],
         "range": [
          -0.5,
          9.5
         ],
         "title": {
          "text": "Games"
         },
         "type": "category"
        },
        "yaxis": {
         "anchor": "x",
         "autorange": true,
         "domain": [
          0,
          1
         ],
         "range": [
          0,
          85.26315789473685
         ],
         "title": {
          "text": "Tournaments of Games"
         },
         "type": "linear"
        },
        "yaxis2": {
         "anchor": "x",
         "autorange": true,
         "overlaying": "y",
         "range": [
          0,
          343655.4157894737
         ],
         "side": "right",
         "title": {
          "text": "Earnings of Games"
         },
         "type": "linear"
        }
       }
      },
      "image/png": "[encoded data removed]",
      "text/html": [
       "<div>                            <div id=\"609e19ba-e6fb-41cb-b6d8-84c75dd02af5\" class=\"plotly-graph-div\" style=\"height:525px; width:100%;\"></div>            <script type=\"text/javascript\">                require([\"plotly\"], function(Plotly) {                    window.PLOTLYENV=window.PLOTLYENV || {};                                    if (document.getElementById(\"609e19ba-e6fb-41cb-b6d8-84c75dd02af5\")) {                    Plotly.newPlot(                        \"609e19ba-e6fb-41cb-b6d8-84c75dd02af5\",                        [{\"name\":\"Tournaments of Games\",\"offsetgroup\":\"0\",\"x\":[\"Arena of Valor\",\"Counter-Strike: Global Offensive\",\"Dota 2\",\"Fortnite\",\"Hearthstone\",\"Heroes of the Storm\",\"League of Legends\",\"Overwatch\",\"PUBG\",\"Starcraft II\"],\"y\":[81.0,49.5,22.0,15.0,9.0,7.0,6.0,5.5,4.0,2.0],\"type\":\"bar\",\"xaxis\":\"x\",\"yaxis\":\"y\"},{\"name\":\"Earnings of Games\",\"offsetgroup\":\"1\",\"x\":[\"Arena of Valor\",\"Counter-Strike: Global Offensive\",\"Dota 2\",\"Fortnite\",\"Hearthstone\",\"Heroes of the Storm\",\"League of Legends\",\"Overwatch\",\"PUBG\",\"Starcraft II\"],\"y\":[326472.645,262743.475,253425.2,131583.60499999998,72472.20999999999,71411.35,60919.875,58750.0,41687.5,9859.875],\"type\":\"bar\",\"xaxis\":\"x\",\"yaxis\":\"y2\"}],                        {\"template\":{\"data\":{\"bar\":[{\"error_x\":{\"color\":\"#2a3f5f\"},\"error_y\":{\"color\":\"#2a3f5f\"},\"marker\":{\"line\":{\"color\":\"#E5ECF6\",\"width\":0.5},\"pattern\":{\"fillmode\":\"overlay\",\"size\":10,\"solidity\":0.2}},\"type\":\"bar\"}],\"barpolar\":[{\"marker\":{\"line\":{\"color\":\"#E5ECF6\",\"width\":0.5},\"pattern\":{\"fillmode\":\"overlay\",\"size\":10,\"solidity\":0.2}},\"type\":\"barpolar\"}],\"carpet\":[{\"aaxis\":{\"endlinecolor\":\"#2a3f5f\",\"gridcolor\":\"white\",\"linecolor\":\"white\",\"minorgridcolor\":\"white\",\"startlinecolor\":\"#2a3f5f\"},\"baxis\":{\"endlinecolor\":\"#2a3f5f\",\"gridcolor\":\"white\",\"linecolor\":\"white\",\"minorgridcolor\":\"white\",\"startlinecolor\":\"#2a3f5f\"},\"type\":\"carpet\"}],\"choropleth\":[{\"colorbar\":{\"outlinewidth\":0,\"ticks\":\"\"},\"type\":\"choropleth\"}],\"contour\":[{\"colorbar\":{\"outlinewidth\":0,\"ticks\":\"\"},\"colorscale\":[[0.0,\"#0d0887\"],[0.1111111111111111,\"#46039f\"],[0.2222222222222222,\"#7201a8\"],[0.3333333333333333,\"#9c179e\"],[0.4444444444444444,\"#bd3786\"],[0.5555555555555556,\"#d8576b\"],[0.6666666666666666,\"#ed7953\"],[0.7777777777777778,\"#fb9f3a\"],[0.8888888888888888,\"#fdca26\"],[1.0,\"#f0f921\"]],\"type\":\"contour\"}],\"contourcarpet\":[{\"colorbar\":{\"outlinewidth\":0,\"ticks\":\"\"},\"type\":\"contourcarpet\"}],\"heatmap\":[{\"colorbar\":{\"outlinewidth\":0,\"ticks\":\"\"},\"colorscale\":[[0.0,\"#0d0887\"],[0.1111111111111111,\"#46039f\"],[0.2222222222222222,\"#7201a8\"],[0.3333333333333333,\"#9c179e\"],[0.4444444444444444,\"#bd3786\"],[0.5555555555555556,\"#d8576b\"],[0.6666666666666666,\"#ed7953\"],[0.7777777777777778,\"#fb9f3a\"],[0.8888888888888888,\"#fdca26\"],[1.0,\"#f0f921\"]],\"type\":\"heatmap\"}],\"heatmapgl\":[{\"colorbar\":{\"outlinewidth\":0,\"ticks\":\"\"},\"colorscale\":[[0.0,\"#0d0887\"],[0.1111111111111111,\"#46039f\"],[0.2222222222222222,\"#7201a8\"],[0.3333333333333333,\"#9c179e\"],[0.4444444444444444,\"#bd3786\"],[0.5555555555555556,\"#d8576b\"],[0.6666666666666666,\"#ed7953\"],[0.7777777777777778,\"#fb9f3a\"],[0.8888888888888888,\"#fdca26\"],[1.0,\"#f0f921\"]],\"type\":\"heatmapgl\"}],\"histogram\":[{\"marker\":{\"pattern\":{\"fillmode\":\"overlay\",\"size\":10,\"solidity\":0.2}},\"type\":\"histogram\"}],\"histogram2d\":[{\"colorbar\":{\"outlinewidth\":0,\"ticks\":\"\"},\"colorscale\":[[0.0,\"#0d0887\"],[0.1111111111111111,\"#46039f\"],[0.2222222222222222,\"#7201a8\"],[0.3333333333333333,\"#9c179e\"],[0.4444444444444444,\"#bd3786\"],[0.5555555555555556,\"#d8576b\"],[0.6666666666666666,\"#ed7953\"],[0.7777777777777778,\"#fb9f3a\"],[0.8888888888888888,\"#fdca26\"],[1.0,\"#f0f921\"]],\"type\":\"histogram2d\"}],\"histogram2dcontour\":[{\"colorbar\":{\"outlinewidth\":0,\"ticks\":\"\"},\"colorscale\":[[0.0,\"#0d0887\"],[0.1111111111111111,\"#46039f\"],[0.2222222222222222,\"#7201a8\"],[0.3333333333333333,\"#9c179e\"],[0.4444444444444444,\"#bd3786\"],[0.5555555555555556,\"#d8576b\"],[0.6666666666666666,\"#ed7953\"],[0.7777777777777778,\"#fb9f3a\"],[0.8888888888888888,\"#fdca26\"],[1.0,\"#f0f921\"]],\"type\":\"histogram2dcontour\"}],\"mesh3d\":[{\"colorbar\":{\"outlinewidth\":0,\"ticks\":\"\"},\"type\":\"mesh3d\"}],\"parcoords\":[{\"line\":{\"colorbar\":{\"outlinewidth\":0,\"ticks\":\"\"}},\"type\":\"parcoords\"}],\"pie\":[{\"automargin\":true,\"type\":\"pie\"}],\"scatter\":[{\"marker\":{\"colorbar\":{\"outlinewidth\":0,\"ticks\":\"\"}},\"type\":\"scatter\"}],\"scatter3d\":[{\"line\":{\"colorbar\":{\"outlinewidth\":0,\"ticks\":\"\"}},\"marker\":{\"colorbar\":{\"outlinewidth\":0,\"ticks\":\"\"}},\"type\":\"scatter3d\"}],\"scattercarpet\":[{\"marker\":{\"colorbar\":{\"outlinewidth\":0,\"ticks\":\"\"}},\"type\":\"scattercarpet\"}],\"scattergeo\":[{\"marker\":{\"colorbar\":{\"outlinewidth\":0,\"ticks\":\"\"}},\"type\":\"scattergeo\"}],\"scattergl\":[{\"marker\":{\"colorbar\":{\"outlinewidth\":0,\"ticks\":\"\"}},\"type\":\"scattergl\"}],\"scattermapbox\":[{\"marker\":{\"colorbar\":{\"outlinewidth\":0,\"ticks\":\"\"}},\"type\":\"scattermapbox\"}],\"scatterpolar\":[{\"marker\":{\"colorbar\":{\"outlinewidth\":0,\"ticks\":\"\"}},\"type\":\"scatterpolar\"}],\"scatterpolargl\":[{\"marker\":{\"colorbar\":{\"outlinewidth\":0,\"ticks\":\"\"}},\"type\":\"scatterpolargl\"}],\"scatterternary\":[{\"marker\":{\"colorbar\":{\"outlinewidth\":0,\"ticks\":\"\"}},\"type\":\"scatterternary\"}],\"surface\":[{\"colorbar\":{\"outlinewidth\":0,\"ticks\":\"\"},\"colorscale\":[[0.0,\"#0d0887\"],[0.1111111111111111,\"#46039f\"],[0.2222222222222222,\"#7201a8\"],[0.3333333333333333,\"#9c179e\"],[0.4444444444444444,\"#bd3786\"],[0.5555555555555556,\"#d8576b\"],[0.6666666666666666,\"#ed7953\"],[0.7777777777777778,\"#fb9f3a\"],[0.8888888888888888,\"#fdca26\"],[1.0,\"#f0f921\"]],\"type\":\"surface\"}],\"table\":[{\"cells\":{\"fill\":{\"color\":\"#EBF0F8\"},\"line\":{\"color\":\"white\"}},\"header\":{\"fill\":{\"color\":\"#C8D4E3\"},\"line\":{\"color\":\"white\"}},\"type\":\"table\"}]},\"layout\":{\"annotationdefaults\":{\"arrowcolor\":\"#2a3f5f\",\"arrowhead\":0,\"arrowwidth\":1},\"autotypenumbers\":\"strict\",\"coloraxis\":{\"colorbar\":{\"outlinewidth\":0,\"ticks\":\"\"}},\"colorscale\":{\"diverging\":[[0,\"#8e0152\"],[0.1,\"#c51b7d\"],[0.2,\"#de77ae\"],[0.3,\"#f1b6da\"],[0.4,\"#fde0ef\"],[0.5,\"#f7f7f7\"],[0.6,\"#e6f5d0\"],[0.7,\"#b8e186\"],[0.8,\"#7fbc41\"],[0.9,\"#4d9221\"],[1,\"#276419\"]],\"sequential\":[[0.0,\"#0d0887\"],[0.1111111111111111,\"#46039f\"],[0.2222222222222222,\"#7201a8\"],[0.3333333333333333,\"#9c179e\"],[0.4444444444444444,\"#bd3786\"],[0.5555555555555556,\"#d8576b\"],[0.6666666666666666,\"#ed7953\"],[0.7777777777777778,\"#fb9f3a\"],[0.8888888888888888,\"#fdca26\"],[1.0,\"#f0f921\"]],\"sequentialminus\":[[0.0,\"#0d0887\"],[0.1111111111111111,\"#46039f\"],[0.2222222222222222,\"#7201a8\"],[0.3333333333333333,\"#9c179e\"],[0.4444444444444444,\"#bd3786\"],[0.5555555555555556,\"#d8576b\"],[0.6666666666666666,\"#ed7953\"],[0.7777777777777778,\"#fb9f3a\"],[0.8888888888888888,\"#fdca26\"],[1.0,\"#f0f921\"]]},\"colorway\":[\"#636efa\",\"#EF553B\",\"#00cc96\",\"#ab63fa\",\"#FFA15A\",\"#19d3f3\",\"#FF6692\",\"#B6E880\",\"#FF97FF\",\"#FECB52\"],\"font\":{\"color\":\"#2a3f5f\"},\"geo\":{\"bgcolor\":\"white\",\"lakecolor\":\"white\",\"landcolor\":\"#E5ECF6\",\"showlakes\":true,\"showland\":true,\"subunitcolor\":\"white\"},\"hoverlabel\":{\"align\":\"left\"},\"hovermode\":\"closest\",\"mapbox\":{\"style\":\"light\"},\"paper_bgcolor\":\"white\",\"plot_bgcolor\":\"#E5ECF6\",\"polar\":{\"angularaxis\":{\"gridcolor\":\"white\",\"linecolor\":\"white\",\"ticks\":\"\"},\"bgcolor\":\"#E5ECF6\",\"radialaxis\":{\"gridcolor\":\"white\",\"linecolor\":\"white\",\"ticks\":\"\"}},\"scene\":{\"xaxis\":{\"backgroundcolor\":\"#E5ECF6\",\"gridcolor\":\"white\",\"gridwidth\":2,\"linecolor\":\"white\",\"showbackground\":true,\"ticks\":\"\",\"zerolinecolor\":\"white\"},\"yaxis\":{\"backgroundcolor\":\"#E5ECF6\",\"gridcolor\":\"white\",\"gridwidth\":2,\"linecolor\":\"white\",\"showbackground\":true,\"ticks\":\"\",\"zerolinecolor\":\"white\"},\"zaxis\":{\"backgroundcolor\":\"#E5ECF6\",\"gridcolor\":\"white\",\"gridwidth\":2,\"linecolor\":\"white\",\"showbackground\":true,\"ticks\":\"\",\"zerolinecolor\":\"white\"}},\"shapedefaults\":{\"line\":{\"color\":\"#2a3f5f\"}},\"ternary\":{\"aaxis\":{\"gridcolor\":\"white\",\"linecolor\":\"white\",\"ticks\":\"\"},\"baxis\":{\"gridcolor\":\"white\",\"linecolor\":\"white\",\"ticks\":\"\"},\"bgcolor\":\"#E5ECF6\",\"caxis\":{\"gridcolor\":\"white\",\"linecolor\":\"white\",\"ticks\":\"\"}},\"title\":{\"x\":0.05},\"xaxis\":{\"automargin\":true,\"gridcolor\":\"white\",\"linecolor\":\"white\",\"ticks\":\"\",\"title\":{\"standoff\":15},\"zerolinecolor\":\"white\",\"zerolinewidth\":2},\"yaxis\":{\"automargin\":true,\"gridcolor\":\"white\",\"linecolor\":\"white\",\"ticks\":\"\",\"title\":{\"standoff\":15},\"zerolinecolor\":\"white\",\"zerolinewidth\":2}}},\"xaxis\":{\"anchor\":\"y\",\"domain\":[0.0,0.94],\"title\":{\"text\":\"Games\"}},\"yaxis\":{\"anchor\":\"x\",\"domain\":[0.0,1.0],\"title\":{\"text\":\"Tournaments of Games\"}},\"yaxis2\":{\"anchor\":\"x\",\"overlaying\":\"y\",\"side\":\"right\",\"title\":{\"text\":\"Earnings of Games\"}},\"title\":{\"text\":\"Tournaments and Earnings of Games\"}},                        {\"responsive\": true}                    ).then(function(){\n",
       "                            \n",
       "var gd = document.getElementById('609e19ba-e6fb-41cb-b6d8-84c75dd02af5');\n",
       "var x = new MutationObserver(function (mutations, observer) {{\n",
       "        var display = window.getComputedStyle(gd).display;\n",
       "        if (!display || display === 'none') {{\n",
       "            console.log([gd, 'removed!']);\n",
       "            Plotly.purge(gd);\n",
       "            observer.disconnect();\n",
       "        }}\n",
       "}});\n",
       "\n",
       "// Listen for the removal of the full notebook cells\n",
       "var notebookContainer = gd.closest('#notebook-container');\n",
       "if (notebookContainer) {{\n",
       "    x.observe(notebookContainer, {childList: true});\n",
       "}}\n",
       "\n",
       "// Listen for the clearing of the current output cell\n",
       "var outputEl = gd.closest('.output');\n",
       "if (outputEl) {{\n",
       "    x.observe(outputEl, {childList: true});\n",
       "}}\n",
       "\n",
       "                        })                };                });            </script>        </div>"
      ]
     },
     "metadata": {},
     "output_type": "display_data"
    }
   ],
   "source": [
    "#Show all the different games and prize money sums in the dataset\n",
    "popularity_game = pd.DataFrame(teams_df.groupby('Game')['TotalTournaments'].sum().reset_index())\n",
    "earnings_game = pd.DataFrame(teams_df.groupby('Game')['TotalUSDPrize'].sum().reset_index())\n",
    "\n",
    "\n",
    "# Create figure with secondary y-axis\n",
    "fig = make_subplots(specs=[[{\"secondary_y\": True}]])\n",
    "\n",
    "# Add traces\n",
    "fig.add_trace(\n",
    "    go.Bar(x=popularity_game['Game'].tolist(), y=popularity_per_game['TotalTournaments'].tolist(), name=\"Tournaments of Games\",\n",
    "    offsetgroup=0),\n",
    "    secondary_y=False\n",
    ")\n",
    "\n",
    "fig.add_trace(\n",
    "    go.Bar(x=earnings_game['Game'].tolist(), y=earnings_per_game['TotalUSDPrize'].tolist(), name=\"Earnings of Games\",\n",
    "    offsetgroup=1),\n",
    "    secondary_y=True\n",
    ")\n",
    "\n",
    "# Add figure title\n",
    "fig.update_layout(\n",
    "    title_text=\"Tournaments and Earnings of Games\"\n",
    ")\n",
    "\n",
    "\n",
    "# Set x-axis title\n",
    "fig.update_xaxes(title_text=\"Games\")\n",
    "\n",
    "# Set y-axes titles\n",
    "fig.update_yaxes(title_text=\"Tournaments of Games\", secondary_y=False)\n",
    "fig.update_yaxes(title_text=\"Earnings of Games\", secondary_y=True)\n",
    "\n",
    "fig.show()"
   ]
  },
  {
   "cell_type": "markdown",
   "id": "05960a69-2bfa-4935-9644-f9d7787e66ac",
   "metadata": {},
   "source": [
    "From this we can see that actually Starcraft II has the lion share of tournaments, followed by CSGO, Dota 2 and League of Legends. In fact, Starcraft 2 has more than 2X as much tournaments as CSGO. However, this is likely due to how long the game has been released (2010)"
   ]
  },
  {
   "cell_type": "code",
   "execution_count": 86,
   "id": "abdb4b96-e9fc-4ced-95b7-1ead4174fe76",
   "metadata": {},
   "outputs": [
    {
     "data": {
      "text/plain": [
       "Game\n",
       "Starcraft II                        81.0\n",
       "Counter-Strike: Global Offensive    49.5\n",
       "League of Legends                   22.0\n",
       "Dota 2                              15.0\n",
       "Heroes of the Storm                  9.0\n",
       "PUBG                                 7.0\n",
       "Overwatch                            6.0\n",
       "Fortnite                             5.5\n",
       "Hearthstone                          4.0\n",
       "Arena of Valor                       2.0\n",
       "Name: TotalTournaments, dtype: float64"
      ]
     },
     "execution_count": 86,
     "metadata": {},
     "output_type": "execute_result"
    }
   ],
   "source": [
    "# median Tournaments by game\n",
    "teams_df.groupby('Game')['TotalTournaments'].median().sort_values(ascending = False)"
   ]
  },
  {
   "cell_type": "code",
   "execution_count": 93,
   "id": "e6dd490b-70b9-4bb3-b43d-85e81df73e95",
   "metadata": {},
   "outputs": [
    {
     "data": {
      "text/plain": [
       "Game\n",
       "Dota 2                              2.202828e+08\n",
       "Counter-Strike: Global Offensive    8.485393e+07\n",
       "League of Legends                   6.466556e+07\n",
       "Fortnite                            3.466133e+07\n",
       "Starcraft II                        2.785615e+07\n",
       "Overwatch                           2.046527e+07\n",
       "PUBG                                1.671500e+07\n",
       "Hearthstone                         1.086453e+07\n",
       "Heroes of the Storm                 1.071052e+07\n",
       "Arena of Valor                      9.969149e+06\n",
       "Name: TotalUSDPrize, dtype: float64"
      ]
     },
     "execution_count": 93,
     "metadata": {},
     "output_type": "execute_result"
    }
   ],
   "source": [
    "# sum USDprize by game\n",
    "teams_df.groupby('Game')['TotalUSDPrize'].sum().sort_values(ascending = False)"
   ]
  },
  {
   "cell_type": "code",
   "execution_count": 85,
   "id": "9194cf1a-49dc-47b6-9a20-5e15b6a501a7",
   "metadata": {},
   "outputs": [
    {
     "data": {
      "text/plain": [
       "Game\n",
       "Counter-Strike: Global Offensive    326472.645\n",
       "League of Legends                   262743.475\n",
       "Dota 2                              253425.200\n",
       "Starcraft II                        131583.605\n",
       "Overwatch                            72472.210\n",
       "PUBG                                 71411.350\n",
       "Fortnite                             60919.875\n",
       "Arena of Valor                       58750.000\n",
       "Heroes of the Storm                  41687.500\n",
       "Hearthstone                           9859.875\n",
       "Name: TotalUSDPrize, dtype: float64"
      ]
     },
     "execution_count": 85,
     "metadata": {},
     "output_type": "execute_result"
    }
   ],
   "source": [
    "# median USDprize by game\n",
    "teams_df.groupby('Game')['TotalUSDPrize'].median().sort_values(ascending = False)"
   ]
  },
  {
   "cell_type": "code",
   "execution_count": 89,
   "id": "dfe97b65-964a-4242-a9ed-9095ea155734",
   "metadata": {},
   "outputs": [
    {
     "data": {
      "text/plain": [
       "Genre\n",
       "Multiplayer Online Battle Arena    3.056280e+08\n",
       "First-Person Shooter               1.053192e+08\n",
       "Battle Royale                      5.137633e+07\n",
       "Strategy                           2.785615e+07\n",
       "Collectible Card Game              1.086453e+07\n",
       "Name: TotalUSDPrize, dtype: float64"
      ]
     },
     "execution_count": 89,
     "metadata": {},
     "output_type": "execute_result"
    }
   ],
   "source": [
    "# sum USDPrize by Genre\n",
    "teams_df.groupby('Genre')['TotalUSDPrize'].sum('TotalUSDPrize').sort_values(ascending=False)"
   ]
  },
  {
   "cell_type": "code",
   "execution_count": 90,
   "id": "a598f4b9-9879-4726-a618-6147ed5662bc",
   "metadata": {},
   "outputs": [
    {
     "data": {
      "text/plain": [
       "Genre\n",
       "Multiplayer Online Battle Arena    165896.250\n",
       "First-Person Shooter               143829.405\n",
       "Strategy                           131583.605\n",
       "Battle Royale                       66771.915\n",
       "Collectible Card Game                9859.875\n",
       "Name: TotalUSDPrize, dtype: float64"
      ]
     },
     "execution_count": 90,
     "metadata": {},
     "output_type": "execute_result"
    }
   ],
   "source": [
    "#Show the average amount of prize money the team have won based on Genre\n",
    "# median USDPrize by Genre\n",
    "teams_df.groupby('Genre')['TotalUSDPrize'].median('TotalUSDPrize').sort_values(ascending=False)"
   ]
  },
  {
   "cell_type": "markdown",
   "id": "457d2569-eca7-420a-a0c7-412bbfe68022",
   "metadata": {},
   "source": [
    "Based of the various groupby tables, we have\n",
    "While it's true that MOBO brings in the highest total USD Prize won and average earnings, the median earnings for individual FPS players are highest. In addition, it should be mentioned that MOBA games has the highest number of competitors within the dataset. This could signify 1 of 2 things.\n",
    "\n",
    "1) The dataset is not representative of other generes\n",
    "\n",
    "2) MOBA is indeed the most popular and thus could explain the higher amount of money earned by pros since there would be more viewership"
   ]
  },
  {
   "cell_type": "markdown",
   "id": "277898c3-9aad-4a7e-9252-67d7b6863011",
   "metadata": {},
   "source": [
    "### Part2 Explore players Data"
   ]
  },
  {
   "cell_type": "code",
   "execution_count": 18,
   "id": "565e0e1e-e807-4110-b8f3-430da478b9d2",
   "metadata": {},
   "outputs": [
    {
     "data": {
      "text/html": [
       "<div>\n",
       "<style scoped>\n",
       "    .dataframe tbody tr th:only-of-type {\n",
       "        vertical-align: middle;\n",
       "    }\n",
       "\n",
       "    .dataframe tbody tr th {\n",
       "        vertical-align: top;\n",
       "    }\n",
       "\n",
       "    .dataframe thead th {\n",
       "        text-align: right;\n",
       "    }\n",
       "</style>\n",
       "<table border=\"1\" class=\"dataframe\">\n",
       "  <thead>\n",
       "    <tr style=\"text-align: right;\">\n",
       "      <th></th>\n",
       "      <th>PlayerId</th>\n",
       "      <th>NameFirst</th>\n",
       "      <th>NameLast</th>\n",
       "      <th>CurrentHandle</th>\n",
       "      <th>CountryCode</th>\n",
       "      <th>TotalUSDPrize</th>\n",
       "      <th>Game</th>\n",
       "      <th>Genre</th>\n",
       "    </tr>\n",
       "  </thead>\n",
       "  <tbody>\n",
       "    <tr>\n",
       "      <th>0</th>\n",
       "      <td>3883</td>\n",
       "      <td>Peter</td>\n",
       "      <td>Rasmussen</td>\n",
       "      <td>dupreeh</td>\n",
       "      <td>dk</td>\n",
       "      <td>1822989.41</td>\n",
       "      <td>Counter-Strike: Global Offensive</td>\n",
       "      <td>First-Person Shooter</td>\n",
       "    </tr>\n",
       "    <tr>\n",
       "      <th>1</th>\n",
       "      <td>3679</td>\n",
       "      <td>Andreas</td>\n",
       "      <td>Højsleth</td>\n",
       "      <td>Xyp9x</td>\n",
       "      <td>dk</td>\n",
       "      <td>1799288.57</td>\n",
       "      <td>Counter-Strike: Global Offensive</td>\n",
       "      <td>First-Person Shooter</td>\n",
       "    </tr>\n",
       "    <tr>\n",
       "      <th>2</th>\n",
       "      <td>3885</td>\n",
       "      <td>Nicolai</td>\n",
       "      <td>Reedtz</td>\n",
       "      <td>dev1ce</td>\n",
       "      <td>dk</td>\n",
       "      <td>1787489.88</td>\n",
       "      <td>Counter-Strike: Global Offensive</td>\n",
       "      <td>First-Person Shooter</td>\n",
       "    </tr>\n",
       "    <tr>\n",
       "      <th>3</th>\n",
       "      <td>3672</td>\n",
       "      <td>Lukas</td>\n",
       "      <td>Rossander</td>\n",
       "      <td>gla1ve</td>\n",
       "      <td>dk</td>\n",
       "      <td>1652350.75</td>\n",
       "      <td>Counter-Strike: Global Offensive</td>\n",
       "      <td>First-Person Shooter</td>\n",
       "    </tr>\n",
       "    <tr>\n",
       "      <th>4</th>\n",
       "      <td>17800</td>\n",
       "      <td>Emil</td>\n",
       "      <td>Reif</td>\n",
       "      <td>Magisk</td>\n",
       "      <td>dk</td>\n",
       "      <td>1416448.64</td>\n",
       "      <td>Counter-Strike: Global Offensive</td>\n",
       "      <td>First-Person Shooter</td>\n",
       "    </tr>\n",
       "    <tr>\n",
       "      <th>...</th>\n",
       "      <td>...</td>\n",
       "      <td>...</td>\n",
       "      <td>...</td>\n",
       "      <td>...</td>\n",
       "      <td>...</td>\n",
       "      <td>...</td>\n",
       "      <td>...</td>\n",
       "      <td>...</td>\n",
       "    </tr>\n",
       "    <tr>\n",
       "      <th>995</th>\n",
       "      <td>7400</td>\n",
       "      <td>Janne</td>\n",
       "      <td>Mikkonen</td>\n",
       "      <td>Savjz</td>\n",
       "      <td>fi</td>\n",
       "      <td>50734.44</td>\n",
       "      <td>Hearthstone</td>\n",
       "      <td>Collectible Card Game</td>\n",
       "    </tr>\n",
       "    <tr>\n",
       "      <th>996</th>\n",
       "      <td>3255</td>\n",
       "      <td>Drew</td>\n",
       "      <td>Biessener</td>\n",
       "      <td>Tidesoftime</td>\n",
       "      <td>us</td>\n",
       "      <td>50449.60</td>\n",
       "      <td>Hearthstone</td>\n",
       "      <td>Collectible Card Game</td>\n",
       "    </tr>\n",
       "    <tr>\n",
       "      <th>997</th>\n",
       "      <td>49164</td>\n",
       "      <td>Simone</td>\n",
       "      <td>Liguori</td>\n",
       "      <td>Leta</td>\n",
       "      <td>it</td>\n",
       "      <td>49300.00</td>\n",
       "      <td>Hearthstone</td>\n",
       "      <td>Collectible Card Game</td>\n",
       "    </tr>\n",
       "    <tr>\n",
       "      <th>998</th>\n",
       "      <td>43043</td>\n",
       "      <td>Mike</td>\n",
       "      <td>Eichner</td>\n",
       "      <td>Ike</td>\n",
       "      <td>us</td>\n",
       "      <td>48550.00</td>\n",
       "      <td>Hearthstone</td>\n",
       "      <td>Collectible Card Game</td>\n",
       "    </tr>\n",
       "    <tr>\n",
       "      <th>999</th>\n",
       "      <td>1100</td>\n",
       "      <td>Jeffrey</td>\n",
       "      <td>Brusi</td>\n",
       "      <td>SjoW</td>\n",
       "      <td>se</td>\n",
       "      <td>47973.61</td>\n",
       "      <td>Hearthstone</td>\n",
       "      <td>Collectible Card Game</td>\n",
       "    </tr>\n",
       "  </tbody>\n",
       "</table>\n",
       "<p>1000 rows × 8 columns</p>\n",
       "</div>"
      ],
      "text/plain": [
       "     PlayerId NameFirst   NameLast CurrentHandle CountryCode  TotalUSDPrize  \\\n",
       "0        3883     Peter  Rasmussen       dupreeh          dk     1822989.41   \n",
       "1        3679   Andreas   Højsleth         Xyp9x          dk     1799288.57   \n",
       "2        3885   Nicolai     Reedtz        dev1ce          dk     1787489.88   \n",
       "3        3672     Lukas  Rossander        gla1ve          dk     1652350.75   \n",
       "4       17800      Emil       Reif        Magisk          dk     1416448.64   \n",
       "..        ...       ...        ...           ...         ...            ...   \n",
       "995      7400     Janne   Mikkonen         Savjz          fi       50734.44   \n",
       "996      3255      Drew  Biessener   Tidesoftime          us       50449.60   \n",
       "997     49164    Simone    Liguori          Leta          it       49300.00   \n",
       "998     43043      Mike    Eichner           Ike          us       48550.00   \n",
       "999      1100   Jeffrey      Brusi          SjoW          se       47973.61   \n",
       "\n",
       "                                 Game                  Genre  \n",
       "0    Counter-Strike: Global Offensive   First-Person Shooter  \n",
       "1    Counter-Strike: Global Offensive   First-Person Shooter  \n",
       "2    Counter-Strike: Global Offensive   First-Person Shooter  \n",
       "3    Counter-Strike: Global Offensive   First-Person Shooter  \n",
       "4    Counter-Strike: Global Offensive   First-Person Shooter  \n",
       "..                                ...                    ...  \n",
       "995                       Hearthstone  Collectible Card Game  \n",
       "996                       Hearthstone  Collectible Card Game  \n",
       "997                       Hearthstone  Collectible Card Game  \n",
       "998                       Hearthstone  Collectible Card Game  \n",
       "999                       Hearthstone  Collectible Card Game  \n",
       "\n",
       "[1000 rows x 8 columns]"
      ]
     },
     "execution_count": 18,
     "metadata": {},
     "output_type": "execute_result"
    }
   ],
   "source": [
    "players_df"
   ]
  },
  {
   "cell_type": "code",
   "execution_count": 29,
   "id": "8a99d959-d642-4912-b37a-b5fca2ea666e",
   "metadata": {},
   "outputs": [
    {
     "data": {
      "text/plain": [
       "Counter-Strike: Global Offensive    100\n",
       "Dota 2                              100\n",
       "League of Legends                   100\n",
       "Fortnite                            100\n",
       "Overwatch                           100\n",
       "Starcraft II                        100\n",
       "Heroes of the Storm                 100\n",
       "PUBG                                100\n",
       "Arena of Valor                      100\n",
       "Hearthstone                         100\n",
       "Name: Game, dtype: int64"
      ]
     },
     "execution_count": 29,
     "metadata": {},
     "output_type": "execute_result"
    }
   ],
   "source": [
    "#Show the number of players for each game in the dataset\n",
    "players_df['Game'].value_counts()"
   ]
  },
  {
   "cell_type": "code",
   "execution_count": 30,
   "id": "4596ba93-5e8f-4aea-9f9e-21754b4bd3cb",
   "metadata": {},
   "outputs": [],
   "source": [
    "#join the country information and players information\n",
    "country_df = country_df.rename(columns={'Two_Letter_Country_Code':'CountryCode'})\n",
    "players_df['CountryCode'] = players_df['CountryCode'].apply(lambda x: x.upper())\n",
    "players_new = pd.merge(players_df, country_df, how='left', on='CountryCode')"
   ]
  },
  {
   "cell_type": "code",
   "execution_count": 31,
   "id": "f55d86f4-43e0-413a-9ca6-3124e267c1ea",
   "metadata": {},
   "outputs": [
    {
     "data": {
      "text/html": [
       "<div>\n",
       "<style scoped>\n",
       "    .dataframe tbody tr th:only-of-type {\n",
       "        vertical-align: middle;\n",
       "    }\n",
       "\n",
       "    .dataframe tbody tr th {\n",
       "        vertical-align: top;\n",
       "    }\n",
       "\n",
       "    .dataframe thead th {\n",
       "        text-align: right;\n",
       "    }\n",
       "</style>\n",
       "<table border=\"1\" class=\"dataframe\">\n",
       "  <thead>\n",
       "    <tr style=\"text-align: right;\">\n",
       "      <th></th>\n",
       "      <th>PlayerId</th>\n",
       "      <th>NameFirst</th>\n",
       "      <th>NameLast</th>\n",
       "      <th>CurrentHandle</th>\n",
       "      <th>CountryCode</th>\n",
       "      <th>TotalUSDPrize</th>\n",
       "      <th>Game</th>\n",
       "      <th>Genre</th>\n",
       "      <th>Continent_Name</th>\n",
       "      <th>Continent_Code</th>\n",
       "      <th>Country_Name</th>\n",
       "      <th>Three_Letter_Country_Code</th>\n",
       "      <th>Country_Number</th>\n",
       "    </tr>\n",
       "  </thead>\n",
       "  <tbody>\n",
       "    <tr>\n",
       "      <th>0</th>\n",
       "      <td>3883</td>\n",
       "      <td>Peter</td>\n",
       "      <td>Rasmussen</td>\n",
       "      <td>dupreeh</td>\n",
       "      <td>DK</td>\n",
       "      <td>1822989.41</td>\n",
       "      <td>Counter-Strike: Global Offensive</td>\n",
       "      <td>First-Person Shooter</td>\n",
       "      <td>Europe</td>\n",
       "      <td>EU</td>\n",
       "      <td>Denmark</td>\n",
       "      <td>DNK</td>\n",
       "      <td>208.0</td>\n",
       "    </tr>\n",
       "    <tr>\n",
       "      <th>1</th>\n",
       "      <td>3679</td>\n",
       "      <td>Andreas</td>\n",
       "      <td>Højsleth</td>\n",
       "      <td>Xyp9x</td>\n",
       "      <td>DK</td>\n",
       "      <td>1799288.57</td>\n",
       "      <td>Counter-Strike: Global Offensive</td>\n",
       "      <td>First-Person Shooter</td>\n",
       "      <td>Europe</td>\n",
       "      <td>EU</td>\n",
       "      <td>Denmark</td>\n",
       "      <td>DNK</td>\n",
       "      <td>208.0</td>\n",
       "    </tr>\n",
       "    <tr>\n",
       "      <th>2</th>\n",
       "      <td>3885</td>\n",
       "      <td>Nicolai</td>\n",
       "      <td>Reedtz</td>\n",
       "      <td>dev1ce</td>\n",
       "      <td>DK</td>\n",
       "      <td>1787489.88</td>\n",
       "      <td>Counter-Strike: Global Offensive</td>\n",
       "      <td>First-Person Shooter</td>\n",
       "      <td>Europe</td>\n",
       "      <td>EU</td>\n",
       "      <td>Denmark</td>\n",
       "      <td>DNK</td>\n",
       "      <td>208.0</td>\n",
       "    </tr>\n",
       "    <tr>\n",
       "      <th>3</th>\n",
       "      <td>3672</td>\n",
       "      <td>Lukas</td>\n",
       "      <td>Rossander</td>\n",
       "      <td>gla1ve</td>\n",
       "      <td>DK</td>\n",
       "      <td>1652350.75</td>\n",
       "      <td>Counter-Strike: Global Offensive</td>\n",
       "      <td>First-Person Shooter</td>\n",
       "      <td>Europe</td>\n",
       "      <td>EU</td>\n",
       "      <td>Denmark</td>\n",
       "      <td>DNK</td>\n",
       "      <td>208.0</td>\n",
       "    </tr>\n",
       "    <tr>\n",
       "      <th>4</th>\n",
       "      <td>17800</td>\n",
       "      <td>Emil</td>\n",
       "      <td>Reif</td>\n",
       "      <td>Magisk</td>\n",
       "      <td>DK</td>\n",
       "      <td>1416448.64</td>\n",
       "      <td>Counter-Strike: Global Offensive</td>\n",
       "      <td>First-Person Shooter</td>\n",
       "      <td>Europe</td>\n",
       "      <td>EU</td>\n",
       "      <td>Denmark</td>\n",
       "      <td>DNK</td>\n",
       "      <td>208.0</td>\n",
       "    </tr>\n",
       "    <tr>\n",
       "      <th>...</th>\n",
       "      <td>...</td>\n",
       "      <td>...</td>\n",
       "      <td>...</td>\n",
       "      <td>...</td>\n",
       "      <td>...</td>\n",
       "      <td>...</td>\n",
       "      <td>...</td>\n",
       "      <td>...</td>\n",
       "      <td>...</td>\n",
       "      <td>...</td>\n",
       "      <td>...</td>\n",
       "      <td>...</td>\n",
       "      <td>...</td>\n",
       "    </tr>\n",
       "    <tr>\n",
       "      <th>1027</th>\n",
       "      <td>7400</td>\n",
       "      <td>Janne</td>\n",
       "      <td>Mikkonen</td>\n",
       "      <td>Savjz</td>\n",
       "      <td>FI</td>\n",
       "      <td>50734.44</td>\n",
       "      <td>Hearthstone</td>\n",
       "      <td>Collectible Card Game</td>\n",
       "      <td>Europe</td>\n",
       "      <td>EU</td>\n",
       "      <td>Finland</td>\n",
       "      <td>FIN</td>\n",
       "      <td>246.0</td>\n",
       "    </tr>\n",
       "    <tr>\n",
       "      <th>1028</th>\n",
       "      <td>3255</td>\n",
       "      <td>Drew</td>\n",
       "      <td>Biessener</td>\n",
       "      <td>Tidesoftime</td>\n",
       "      <td>US</td>\n",
       "      <td>50449.60</td>\n",
       "      <td>Hearthstone</td>\n",
       "      <td>Collectible Card Game</td>\n",
       "      <td>North America</td>\n",
       "      <td>NaN</td>\n",
       "      <td>United States of America</td>\n",
       "      <td>USA</td>\n",
       "      <td>840.0</td>\n",
       "    </tr>\n",
       "    <tr>\n",
       "      <th>1029</th>\n",
       "      <td>49164</td>\n",
       "      <td>Simone</td>\n",
       "      <td>Liguori</td>\n",
       "      <td>Leta</td>\n",
       "      <td>IT</td>\n",
       "      <td>49300.00</td>\n",
       "      <td>Hearthstone</td>\n",
       "      <td>Collectible Card Game</td>\n",
       "      <td>Europe</td>\n",
       "      <td>EU</td>\n",
       "      <td>Italy</td>\n",
       "      <td>ITA</td>\n",
       "      <td>380.0</td>\n",
       "    </tr>\n",
       "    <tr>\n",
       "      <th>1030</th>\n",
       "      <td>43043</td>\n",
       "      <td>Mike</td>\n",
       "      <td>Eichner</td>\n",
       "      <td>Ike</td>\n",
       "      <td>US</td>\n",
       "      <td>48550.00</td>\n",
       "      <td>Hearthstone</td>\n",
       "      <td>Collectible Card Game</td>\n",
       "      <td>North America</td>\n",
       "      <td>NaN</td>\n",
       "      <td>United States of America</td>\n",
       "      <td>USA</td>\n",
       "      <td>840.0</td>\n",
       "    </tr>\n",
       "    <tr>\n",
       "      <th>1031</th>\n",
       "      <td>1100</td>\n",
       "      <td>Jeffrey</td>\n",
       "      <td>Brusi</td>\n",
       "      <td>SjoW</td>\n",
       "      <td>SE</td>\n",
       "      <td>47973.61</td>\n",
       "      <td>Hearthstone</td>\n",
       "      <td>Collectible Card Game</td>\n",
       "      <td>Europe</td>\n",
       "      <td>EU</td>\n",
       "      <td>Sweden</td>\n",
       "      <td>SWE</td>\n",
       "      <td>752.0</td>\n",
       "    </tr>\n",
       "  </tbody>\n",
       "</table>\n",
       "<p>1032 rows × 13 columns</p>\n",
       "</div>"
      ],
      "text/plain": [
       "      PlayerId NameFirst   NameLast CurrentHandle CountryCode  TotalUSDPrize  \\\n",
       "0         3883     Peter  Rasmussen       dupreeh          DK     1822989.41   \n",
       "1         3679   Andreas   Højsleth         Xyp9x          DK     1799288.57   \n",
       "2         3885   Nicolai     Reedtz        dev1ce          DK     1787489.88   \n",
       "3         3672     Lukas  Rossander        gla1ve          DK     1652350.75   \n",
       "4        17800      Emil       Reif        Magisk          DK     1416448.64   \n",
       "...        ...       ...        ...           ...         ...            ...   \n",
       "1027      7400     Janne   Mikkonen         Savjz          FI       50734.44   \n",
       "1028      3255      Drew  Biessener   Tidesoftime          US       50449.60   \n",
       "1029     49164    Simone    Liguori          Leta          IT       49300.00   \n",
       "1030     43043      Mike    Eichner           Ike          US       48550.00   \n",
       "1031      1100   Jeffrey      Brusi          SjoW          SE       47973.61   \n",
       "\n",
       "                                  Game                  Genre Continent_Name  \\\n",
       "0     Counter-Strike: Global Offensive   First-Person Shooter         Europe   \n",
       "1     Counter-Strike: Global Offensive   First-Person Shooter         Europe   \n",
       "2     Counter-Strike: Global Offensive   First-Person Shooter         Europe   \n",
       "3     Counter-Strike: Global Offensive   First-Person Shooter         Europe   \n",
       "4     Counter-Strike: Global Offensive   First-Person Shooter         Europe   \n",
       "...                                ...                    ...            ...   \n",
       "1027                       Hearthstone  Collectible Card Game         Europe   \n",
       "1028                       Hearthstone  Collectible Card Game  North America   \n",
       "1029                       Hearthstone  Collectible Card Game         Europe   \n",
       "1030                       Hearthstone  Collectible Card Game  North America   \n",
       "1031                       Hearthstone  Collectible Card Game         Europe   \n",
       "\n",
       "     Continent_Code              Country_Name Three_Letter_Country_Code  \\\n",
       "0                EU                   Denmark                       DNK   \n",
       "1                EU                   Denmark                       DNK   \n",
       "2                EU                   Denmark                       DNK   \n",
       "3                EU                   Denmark                       DNK   \n",
       "4                EU                   Denmark                       DNK   \n",
       "...             ...                       ...                       ...   \n",
       "1027             EU                   Finland                       FIN   \n",
       "1028            NaN  United States of America                       USA   \n",
       "1029             EU                     Italy                       ITA   \n",
       "1030            NaN  United States of America                       USA   \n",
       "1031             EU                    Sweden                       SWE   \n",
       "\n",
       "      Country_Number  \n",
       "0              208.0  \n",
       "1              208.0  \n",
       "2              208.0  \n",
       "3              208.0  \n",
       "4              208.0  \n",
       "...              ...  \n",
       "1027           246.0  \n",
       "1028           840.0  \n",
       "1029           380.0  \n",
       "1030           840.0  \n",
       "1031           752.0  \n",
       "\n",
       "[1032 rows x 13 columns]"
      ]
     },
     "execution_count": 31,
     "metadata": {},
     "output_type": "execute_result"
    }
   ],
   "source": [
    "#country name cleaning\n",
    "def name_cleaning(country):\n",
    "    country = country.split(',')\n",
    "    return country[0]\n",
    "players_new['Country_Name'] = players_new['Country_Name'].apply(name_cleaning)\n",
    "players_new['Country_Name'].unique()\n",
    "players_new"
   ]
  },
  {
   "cell_type": "code",
   "execution_count": 78,
   "id": "73291bcc-7d9e-4777-87e7-ec5789b57201",
   "metadata": {},
   "outputs": [
    {
     "data": {
      "text/plain": [
       "Korea                       251\n",
       "China                       168\n",
       "United States of America    114\n",
       "Sweden                       45\n",
       "Russian Federation           44\n",
       "Canada                       37\n",
       "France                       37\n",
       "Denmark                      36\n",
       "Taiwan                       34\n",
       "Germany                      30\n",
       "Name: Country_Name, dtype: int64"
      ]
     },
     "execution_count": 78,
     "metadata": {},
     "output_type": "execute_result"
    }
   ],
   "source": [
    "# It could be interesting to find out which countries have the most esports players.\n",
    "players_per_country = players_new['Country_Name'].value_counts()\n",
    "\n",
    "#Select the top 10 countries with most players in the dataset\n",
    "top10 = players_per_country.nlargest(10)\n",
    "top10"
   ]
  },
  {
   "cell_type": "code",
   "execution_count": 79,
   "id": "e8bf5ad3-052e-4e38-a0f8-7086bd85ba19",
   "metadata": {},
   "outputs": [
    {
     "data": {
      "text/html": [
       "<div>\n",
       "<style scoped>\n",
       "    .dataframe tbody tr th:only-of-type {\n",
       "        vertical-align: middle;\n",
       "    }\n",
       "\n",
       "    .dataframe tbody tr th {\n",
       "        vertical-align: top;\n",
       "    }\n",
       "\n",
       "    .dataframe thead th {\n",
       "        text-align: right;\n",
       "    }\n",
       "</style>\n",
       "<table border=\"1\" class=\"dataframe\">\n",
       "  <thead>\n",
       "    <tr style=\"text-align: right;\">\n",
       "      <th></th>\n",
       "      <th>Game</th>\n",
       "      <th>CurrentHandle</th>\n",
       "      <th>Country_Name</th>\n",
       "      <th>Continent_Name</th>\n",
       "    </tr>\n",
       "  </thead>\n",
       "  <tbody>\n",
       "    <tr>\n",
       "      <th>0</th>\n",
       "      <td>Counter-Strike: Global Offensive</td>\n",
       "      <td>dupreeh</td>\n",
       "      <td>Denmark</td>\n",
       "      <td>Europe</td>\n",
       "    </tr>\n",
       "    <tr>\n",
       "      <th>112</th>\n",
       "      <td>Dota 2</td>\n",
       "      <td>N0tail</td>\n",
       "      <td>Denmark</td>\n",
       "      <td>Europe</td>\n",
       "    </tr>\n",
       "    <tr>\n",
       "      <th>216</th>\n",
       "      <td>League of Legends</td>\n",
       "      <td>Faker</td>\n",
       "      <td>Korea</td>\n",
       "      <td>Asia</td>\n",
       "    </tr>\n",
       "    <tr>\n",
       "      <th>316</th>\n",
       "      <td>Fortnite</td>\n",
       "      <td>Bugha</td>\n",
       "      <td>United States of America</td>\n",
       "      <td>North America</td>\n",
       "    </tr>\n",
       "    <tr>\n",
       "      <th>419</th>\n",
       "      <td>Overwatch</td>\n",
       "      <td>Rascal</td>\n",
       "      <td>Korea</td>\n",
       "      <td>Asia</td>\n",
       "    </tr>\n",
       "    <tr>\n",
       "      <th>520</th>\n",
       "      <td>Starcraft II</td>\n",
       "      <td>Serral</td>\n",
       "      <td>Finland</td>\n",
       "      <td>Europe</td>\n",
       "    </tr>\n",
       "    <tr>\n",
       "      <th>620</th>\n",
       "      <td>Heroes of the Storm</td>\n",
       "      <td>KyoCha</td>\n",
       "      <td>Korea</td>\n",
       "      <td>Asia</td>\n",
       "    </tr>\n",
       "    <tr>\n",
       "      <th>720</th>\n",
       "      <td>PUBG</td>\n",
       "      <td>Loki</td>\n",
       "      <td>Korea</td>\n",
       "      <td>Asia</td>\n",
       "    </tr>\n",
       "    <tr>\n",
       "      <th>827</th>\n",
       "      <td>Arena of Valor</td>\n",
       "      <td>Cat</td>\n",
       "      <td>China</td>\n",
       "      <td>Asia</td>\n",
       "    </tr>\n",
       "    <tr>\n",
       "      <th>927</th>\n",
       "      <td>Hearthstone</td>\n",
       "      <td>Thijs</td>\n",
       "      <td>Netherlands</td>\n",
       "      <td>Europe</td>\n",
       "    </tr>\n",
       "  </tbody>\n",
       "</table>\n",
       "</div>"
      ],
      "text/plain": [
       "                                 Game CurrentHandle              Country_Name  \\\n",
       "0    Counter-Strike: Global Offensive       dupreeh                   Denmark   \n",
       "112                            Dota 2        N0tail                   Denmark   \n",
       "216                 League of Legends         Faker                     Korea   \n",
       "316                          Fortnite         Bugha  United States of America   \n",
       "419                         Overwatch        Rascal                     Korea   \n",
       "520                      Starcraft II        Serral                   Finland   \n",
       "620               Heroes of the Storm        KyoCha                     Korea   \n",
       "720                              PUBG          Loki                     Korea   \n",
       "827                    Arena of Valor           Cat                     China   \n",
       "927                       Hearthstone         Thijs               Netherlands   \n",
       "\n",
       "    Continent_Name  \n",
       "0           Europe  \n",
       "112         Europe  \n",
       "216           Asia  \n",
       "316  North America  \n",
       "419           Asia  \n",
       "520         Europe  \n",
       "620           Asia  \n",
       "720           Asia  \n",
       "827           Asia  \n",
       "927         Europe  "
      ]
     },
     "execution_count": 79,
     "metadata": {},
     "output_type": "execute_result"
    }
   ],
   "source": [
    "#Show the best earning player for every game in the dataset\n",
    "players_new.groupby('Game').head(1)[['Game', 'CurrentHandle', 'Country_Name', 'Continent_Name']]"
   ]
  },
  {
   "cell_type": "code",
   "execution_count": 95,
   "id": "858d5169-adf2-48b6-af52-c63da9a01cd5",
   "metadata": {},
   "outputs": [
    {
     "data": {
      "text/html": [
       "<div>\n",
       "<style scoped>\n",
       "    .dataframe tbody tr th:only-of-type {\n",
       "        vertical-align: middle;\n",
       "    }\n",
       "\n",
       "    .dataframe tbody tr th {\n",
       "        vertical-align: top;\n",
       "    }\n",
       "\n",
       "    .dataframe thead th {\n",
       "        text-align: right;\n",
       "    }\n",
       "</style>\n",
       "<table border=\"1\" class=\"dataframe\">\n",
       "  <thead>\n",
       "    <tr style=\"text-align: right;\">\n",
       "      <th></th>\n",
       "      <th>Genre</th>\n",
       "      <th>TotalUSDPrize</th>\n",
       "    </tr>\n",
       "  </thead>\n",
       "  <tbody>\n",
       "    <tr>\n",
       "      <th>0</th>\n",
       "      <td>Multiplayer Online Battle Arena</td>\n",
       "      <td>2.409416e+08</td>\n",
       "    </tr>\n",
       "    <tr>\n",
       "      <th>1</th>\n",
       "      <td>First-Person Shooter</td>\n",
       "      <td>7.325530e+07</td>\n",
       "    </tr>\n",
       "    <tr>\n",
       "      <th>2</th>\n",
       "      <td>Battle Royale</td>\n",
       "      <td>5.727101e+07</td>\n",
       "    </tr>\n",
       "    <tr>\n",
       "      <th>3</th>\n",
       "      <td>Strategy</td>\n",
       "      <td>2.537982e+07</td>\n",
       "    </tr>\n",
       "    <tr>\n",
       "      <th>4</th>\n",
       "      <td>Collectible Card Game</td>\n",
       "      <td>1.420638e+07</td>\n",
       "    </tr>\n",
       "  </tbody>\n",
       "</table>\n",
       "</div>"
      ],
      "text/plain": [
       "                             Genre  TotalUSDPrize\n",
       "0  Multiplayer Online Battle Arena   2.409416e+08\n",
       "1             First-Person Shooter   7.325530e+07\n",
       "2                    Battle Royale   5.727101e+07\n",
       "3                         Strategy   2.537982e+07\n",
       "4            Collectible Card Game   1.420638e+07"
      ]
     },
     "execution_count": 95,
     "metadata": {},
     "output_type": "execute_result"
    }
   ],
   "source": [
    "# sum USDPrize by Genre\n",
    "players_new[['Genre', 'TotalUSDPrize']].groupby('Genre').sum().sort_values(by='TotalUSDPrize',ascending=False).reset_index() #median earnings"
   ]
  },
  {
   "cell_type": "code",
   "execution_count": 98,
   "id": "ea5ddf49-f676-426e-84c5-387eb3d6ef63",
   "metadata": {},
   "outputs": [
    {
     "data": {
      "text/html": [
       "<div>\n",
       "<style scoped>\n",
       "    .dataframe tbody tr th:only-of-type {\n",
       "        vertical-align: middle;\n",
       "    }\n",
       "\n",
       "    .dataframe tbody tr th {\n",
       "        vertical-align: top;\n",
       "    }\n",
       "\n",
       "    .dataframe thead th {\n",
       "        text-align: right;\n",
       "    }\n",
       "</style>\n",
       "<table border=\"1\" class=\"dataframe\">\n",
       "  <thead>\n",
       "    <tr style=\"text-align: right;\">\n",
       "      <th></th>\n",
       "      <th>Genre</th>\n",
       "      <th>TotalUSDPrize</th>\n",
       "    </tr>\n",
       "  </thead>\n",
       "  <tbody>\n",
       "    <tr>\n",
       "      <th>0</th>\n",
       "      <td>First-Person Shooter</td>\n",
       "      <td>269446.780</td>\n",
       "    </tr>\n",
       "    <tr>\n",
       "      <th>1</th>\n",
       "      <td>Multiplayer Online Battle Arena</td>\n",
       "      <td>186745.650</td>\n",
       "    </tr>\n",
       "    <tr>\n",
       "      <th>2</th>\n",
       "      <td>Strategy</td>\n",
       "      <td>162767.105</td>\n",
       "    </tr>\n",
       "    <tr>\n",
       "      <th>3</th>\n",
       "      <td>Battle Royale</td>\n",
       "      <td>158755.420</td>\n",
       "    </tr>\n",
       "    <tr>\n",
       "      <th>4</th>\n",
       "      <td>Collectible Card Game</td>\n",
       "      <td>97593.920</td>\n",
       "    </tr>\n",
       "  </tbody>\n",
       "</table>\n",
       "</div>"
      ],
      "text/plain": [
       "                             Genre  TotalUSDPrize\n",
       "0             First-Person Shooter     269446.780\n",
       "1  Multiplayer Online Battle Arena     186745.650\n",
       "2                         Strategy     162767.105\n",
       "3                    Battle Royale     158755.420\n",
       "4            Collectible Card Game      97593.920"
      ]
     },
     "execution_count": 98,
     "metadata": {},
     "output_type": "execute_result"
    }
   ],
   "source": [
    "# median USDPrize by Genre\n",
    "players_new[['Genre', 'TotalUSDPrize']].groupby('Genre').median().sort_values(by='TotalUSDPrize',ascending=False).reset_index() #median earnings"
   ]
  },
  {
   "cell_type": "code",
   "execution_count": 99,
   "id": "8a345328-a860-4a63-9955-a6c09c92a2e8",
   "metadata": {},
   "outputs": [
    {
     "data": {
      "text/html": [
       "<div>\n",
       "<style scoped>\n",
       "    .dataframe tbody tr th:only-of-type {\n",
       "        vertical-align: middle;\n",
       "    }\n",
       "\n",
       "    .dataframe tbody tr th {\n",
       "        vertical-align: top;\n",
       "    }\n",
       "\n",
       "    .dataframe thead th {\n",
       "        text-align: right;\n",
       "    }\n",
       "</style>\n",
       "<table border=\"1\" class=\"dataframe\">\n",
       "  <thead>\n",
       "    <tr style=\"text-align: right;\">\n",
       "      <th></th>\n",
       "      <th>Game</th>\n",
       "      <th>TotalUSDPrize</th>\n",
       "    </tr>\n",
       "  </thead>\n",
       "  <tbody>\n",
       "    <tr>\n",
       "      <th>0</th>\n",
       "      <td>Dota 2</td>\n",
       "      <td>1.857838e+08</td>\n",
       "    </tr>\n",
       "    <tr>\n",
       "      <th>1</th>\n",
       "      <td>Counter-Strike: Global Offensive</td>\n",
       "      <td>6.084354e+07</td>\n",
       "    </tr>\n",
       "    <tr>\n",
       "      <th>2</th>\n",
       "      <td>Fortnite</td>\n",
       "      <td>4.396542e+07</td>\n",
       "    </tr>\n",
       "    <tr>\n",
       "      <th>3</th>\n",
       "      <td>League of Legends</td>\n",
       "      <td>3.504348e+07</td>\n",
       "    </tr>\n",
       "    <tr>\n",
       "      <th>4</th>\n",
       "      <td>Starcraft II</td>\n",
       "      <td>2.537982e+07</td>\n",
       "    </tr>\n",
       "    <tr>\n",
       "      <th>5</th>\n",
       "      <td>Hearthstone</td>\n",
       "      <td>1.420638e+07</td>\n",
       "    </tr>\n",
       "    <tr>\n",
       "      <th>6</th>\n",
       "      <td>PUBG</td>\n",
       "      <td>1.330559e+07</td>\n",
       "    </tr>\n",
       "    <tr>\n",
       "      <th>7</th>\n",
       "      <td>Overwatch</td>\n",
       "      <td>1.241176e+07</td>\n",
       "    </tr>\n",
       "    <tr>\n",
       "      <th>8</th>\n",
       "      <td>Heroes of the Storm</td>\n",
       "      <td>1.178045e+07</td>\n",
       "    </tr>\n",
       "    <tr>\n",
       "      <th>9</th>\n",
       "      <td>Arena of Valor</td>\n",
       "      <td>8.333952e+06</td>\n",
       "    </tr>\n",
       "  </tbody>\n",
       "</table>\n",
       "</div>"
      ],
      "text/plain": [
       "                               Game  TotalUSDPrize\n",
       "0                            Dota 2   1.857838e+08\n",
       "1  Counter-Strike: Global Offensive   6.084354e+07\n",
       "2                          Fortnite   4.396542e+07\n",
       "3                 League of Legends   3.504348e+07\n",
       "4                      Starcraft II   2.537982e+07\n",
       "5                       Hearthstone   1.420638e+07\n",
       "6                              PUBG   1.330559e+07\n",
       "7                         Overwatch   1.241176e+07\n",
       "8               Heroes of the Storm   1.178045e+07\n",
       "9                    Arena of Valor   8.333952e+06"
      ]
     },
     "execution_count": 99,
     "metadata": {},
     "output_type": "execute_result"
    }
   ],
   "source": [
    "# sum USDPrize by Game\n",
    "players_new[['Game', 'TotalUSDPrize']].groupby('Game').sum().sort_values(by='TotalUSDPrize',ascending=False).reset_index() #median earnings"
   ]
  },
  {
   "cell_type": "code",
   "execution_count": 100,
   "id": "f6f0bafb-ccbe-4aa9-b65c-a42e67cb6524",
   "metadata": {},
   "outputs": [
    {
     "data": {
      "text/html": [
       "<div>\n",
       "<style scoped>\n",
       "    .dataframe tbody tr th:only-of-type {\n",
       "        vertical-align: middle;\n",
       "    }\n",
       "\n",
       "    .dataframe tbody tr th {\n",
       "        vertical-align: top;\n",
       "    }\n",
       "\n",
       "    .dataframe thead th {\n",
       "        text-align: right;\n",
       "    }\n",
       "</style>\n",
       "<table border=\"1\" class=\"dataframe\">\n",
       "  <thead>\n",
       "    <tr style=\"text-align: right;\">\n",
       "      <th></th>\n",
       "      <th>Game</th>\n",
       "      <th>TotalUSDPrize</th>\n",
       "    </tr>\n",
       "  </thead>\n",
       "  <tbody>\n",
       "    <tr>\n",
       "      <th>0</th>\n",
       "      <td>Dota 2</td>\n",
       "      <td>1367572.050</td>\n",
       "    </tr>\n",
       "    <tr>\n",
       "      <th>1</th>\n",
       "      <td>Counter-Strike: Global Offensive</td>\n",
       "      <td>414305.650</td>\n",
       "    </tr>\n",
       "    <tr>\n",
       "      <th>2</th>\n",
       "      <td>League of Legends</td>\n",
       "      <td>281803.335</td>\n",
       "    </tr>\n",
       "    <tr>\n",
       "      <th>3</th>\n",
       "      <td>Fortnite</td>\n",
       "      <td>229464.980</td>\n",
       "    </tr>\n",
       "    <tr>\n",
       "      <th>4</th>\n",
       "      <td>Starcraft II</td>\n",
       "      <td>162767.105</td>\n",
       "    </tr>\n",
       "    <tr>\n",
       "      <th>5</th>\n",
       "      <td>Hearthstone</td>\n",
       "      <td>97593.920</td>\n",
       "    </tr>\n",
       "    <tr>\n",
       "      <th>6</th>\n",
       "      <td>Heroes of the Storm</td>\n",
       "      <td>89372.070</td>\n",
       "    </tr>\n",
       "    <tr>\n",
       "      <th>7</th>\n",
       "      <td>Overwatch</td>\n",
       "      <td>88443.760</td>\n",
       "    </tr>\n",
       "    <tr>\n",
       "      <th>8</th>\n",
       "      <td>PUBG</td>\n",
       "      <td>85032.940</td>\n",
       "    </tr>\n",
       "    <tr>\n",
       "      <th>9</th>\n",
       "      <td>Arena of Valor</td>\n",
       "      <td>58160.230</td>\n",
       "    </tr>\n",
       "  </tbody>\n",
       "</table>\n",
       "</div>"
      ],
      "text/plain": [
       "                               Game  TotalUSDPrize\n",
       "0                            Dota 2    1367572.050\n",
       "1  Counter-Strike: Global Offensive     414305.650\n",
       "2                 League of Legends     281803.335\n",
       "3                          Fortnite     229464.980\n",
       "4                      Starcraft II     162767.105\n",
       "5                       Hearthstone      97593.920\n",
       "6               Heroes of the Storm      89372.070\n",
       "7                         Overwatch      88443.760\n",
       "8                              PUBG      85032.940\n",
       "9                    Arena of Valor      58160.230"
      ]
     },
     "execution_count": 100,
     "metadata": {},
     "output_type": "execute_result"
    }
   ],
   "source": [
    "# median USDPrize by Game\n",
    "players_new[['Game', 'TotalUSDPrize']].groupby('Game').median().sort_values(by='TotalUSDPrize',ascending=False).reset_index() #median earnings"
   ]
  },
  {
   "cell_type": "code",
   "execution_count": null,
   "id": "9244d9e3-3b34-4ca6-bd34-58550d068fbf",
   "metadata": {},
   "outputs": [],
   "source": [
    "#TODO: player world map"
   ]
  },
  {
   "cell_type": "markdown",
   "id": "7a6f42f2-dcfb-49a2-9c56-18e97f925f07",
   "metadata": {},
   "source": [
    "### Part3 Esports in Country and Continent"
   ]
  },
  {
   "cell_type": "code",
   "execution_count": 68,
   "id": "a7374a17-0f82-46d4-8b9f-dbd05bc58773",
   "metadata": {},
   "outputs": [
    {
     "data": {
      "text/html": [
       "<div>\n",
       "<style scoped>\n",
       "    .dataframe tbody tr th:only-of-type {\n",
       "        vertical-align: middle;\n",
       "    }\n",
       "\n",
       "    .dataframe tbody tr th {\n",
       "        vertical-align: top;\n",
       "    }\n",
       "\n",
       "    .dataframe thead th {\n",
       "        text-align: right;\n",
       "    }\n",
       "</style>\n",
       "<table border=\"1\" class=\"dataframe\">\n",
       "  <thead>\n",
       "    <tr style=\"text-align: right;\">\n",
       "      <th></th>\n",
       "      <th>Country_Name</th>\n",
       "      <th>TotalUSDPrize</th>\n",
       "    </tr>\n",
       "  </thead>\n",
       "  <tbody>\n",
       "    <tr>\n",
       "      <th>0</th>\n",
       "      <td>China</td>\n",
       "      <td>72391878.56</td>\n",
       "    </tr>\n",
       "    <tr>\n",
       "      <th>1</th>\n",
       "      <td>Korea</td>\n",
       "      <td>58441733.71</td>\n",
       "    </tr>\n",
       "    <tr>\n",
       "      <th>2</th>\n",
       "      <td>United States of America</td>\n",
       "      <td>43099381.78</td>\n",
       "    </tr>\n",
       "    <tr>\n",
       "      <th>3</th>\n",
       "      <td>Denmark</td>\n",
       "      <td>26840800.02</td>\n",
       "    </tr>\n",
       "    <tr>\n",
       "      <th>4</th>\n",
       "      <td>Russian Federation</td>\n",
       "      <td>21645785.42</td>\n",
       "    </tr>\n",
       "    <tr>\n",
       "      <th>5</th>\n",
       "      <td>Sweden</td>\n",
       "      <td>20770423.01</td>\n",
       "    </tr>\n",
       "    <tr>\n",
       "      <th>6</th>\n",
       "      <td>Finland</td>\n",
       "      <td>18876262.25</td>\n",
       "    </tr>\n",
       "    <tr>\n",
       "      <th>7</th>\n",
       "      <td>France</td>\n",
       "      <td>15803240.18</td>\n",
       "    </tr>\n",
       "    <tr>\n",
       "      <th>8</th>\n",
       "      <td>Canada</td>\n",
       "      <td>13483648.61</td>\n",
       "    </tr>\n",
       "    <tr>\n",
       "      <th>9</th>\n",
       "      <td>Germany</td>\n",
       "      <td>10143181.56</td>\n",
       "    </tr>\n",
       "  </tbody>\n",
       "</table>\n",
       "</div>"
      ],
      "text/plain": [
       "               Country_Name  TotalUSDPrize\n",
       "0                     China    72391878.56\n",
       "1                     Korea    58441733.71\n",
       "2  United States of America    43099381.78\n",
       "3                   Denmark    26840800.02\n",
       "4        Russian Federation    21645785.42\n",
       "5                    Sweden    20770423.01\n",
       "6                   Finland    18876262.25\n",
       "7                    France    15803240.18\n",
       "8                    Canada    13483648.61\n",
       "9                   Germany    10143181.56"
      ]
     },
     "execution_count": 68,
     "metadata": {},
     "output_type": "execute_result"
    }
   ],
   "source": [
    "players_new.groupby('Country_Name')['TotalUSDPrize'].sum().sort_values(ascending=False).to_frame().reset_index().head(10)"
   ]
  },
  {
   "cell_type": "code",
   "execution_count": 77,
   "id": "097e6ec8-b65d-4000-86c4-6ec0663b2e85",
   "metadata": {},
   "outputs": [
    {
     "data": {
      "text/html": [
       "<div>\n",
       "<style scoped>\n",
       "    .dataframe tbody tr th:only-of-type {\n",
       "        vertical-align: middle;\n",
       "    }\n",
       "\n",
       "    .dataframe tbody tr th {\n",
       "        vertical-align: top;\n",
       "    }\n",
       "\n",
       "    .dataframe thead th {\n",
       "        text-align: right;\n",
       "    }\n",
       "</style>\n",
       "<table border=\"1\" class=\"dataframe\">\n",
       "  <thead>\n",
       "    <tr style=\"text-align: right;\">\n",
       "      <th></th>\n",
       "      <th>Country_Name</th>\n",
       "      <th>TotalUSDPrize</th>\n",
       "    </tr>\n",
       "  </thead>\n",
       "  <tbody>\n",
       "    <tr>\n",
       "      <th>0</th>\n",
       "      <td>Lebanon</td>\n",
       "      <td>4193412.690</td>\n",
       "    </tr>\n",
       "    <tr>\n",
       "      <th>1</th>\n",
       "      <td>Pakistan</td>\n",
       "      <td>3608317.340</td>\n",
       "    </tr>\n",
       "    <tr>\n",
       "      <th>2</th>\n",
       "      <td>Jordan</td>\n",
       "      <td>3165871.175</td>\n",
       "    </tr>\n",
       "    <tr>\n",
       "      <th>3</th>\n",
       "      <td>Estonia</td>\n",
       "      <td>1685007.455</td>\n",
       "    </tr>\n",
       "    <tr>\n",
       "      <th>4</th>\n",
       "      <td>Singapore</td>\n",
       "      <td>1553261.960</td>\n",
       "    </tr>\n",
       "    <tr>\n",
       "      <th>5</th>\n",
       "      <td>Macao</td>\n",
       "      <td>1337308.370</td>\n",
       "    </tr>\n",
       "    <tr>\n",
       "      <th>6</th>\n",
       "      <td>Romania</td>\n",
       "      <td>1239837.570</td>\n",
       "    </tr>\n",
       "    <tr>\n",
       "      <th>7</th>\n",
       "      <td>Israel</td>\n",
       "      <td>1232344.365</td>\n",
       "    </tr>\n",
       "    <tr>\n",
       "      <th>8</th>\n",
       "      <td>Macedonia</td>\n",
       "      <td>1046689.750</td>\n",
       "    </tr>\n",
       "    <tr>\n",
       "      <th>9</th>\n",
       "      <td>Malaysia</td>\n",
       "      <td>902489.365</td>\n",
       "    </tr>\n",
       "  </tbody>\n",
       "</table>\n",
       "</div>"
      ],
      "text/plain": [
       "  Country_Name  TotalUSDPrize\n",
       "0      Lebanon    4193412.690\n",
       "1     Pakistan    3608317.340\n",
       "2       Jordan    3165871.175\n",
       "3      Estonia    1685007.455\n",
       "4    Singapore    1553261.960\n",
       "5        Macao    1337308.370\n",
       "6      Romania    1239837.570\n",
       "7       Israel    1232344.365\n",
       "8    Macedonia    1046689.750\n",
       "9     Malaysia     902489.365"
      ]
     },
     "execution_count": 77,
     "metadata": {},
     "output_type": "execute_result"
    }
   ],
   "source": [
    "players_new.groupby('Country_Name')['TotalUSDPrize'].median().sort_values(ascending=False).to_frame().reset_index().head(10)"
   ]
  },
  {
   "cell_type": "code",
   "execution_count": 70,
   "id": "60e9fe91-a88d-40b5-928e-93a565552f30",
   "metadata": {},
   "outputs": [
    {
     "data": {
      "text/html": [
       "<div>\n",
       "<style scoped>\n",
       "    .dataframe tbody tr th:only-of-type {\n",
       "        vertical-align: middle;\n",
       "    }\n",
       "\n",
       "    .dataframe tbody tr th {\n",
       "        vertical-align: top;\n",
       "    }\n",
       "\n",
       "    .dataframe thead th {\n",
       "        text-align: right;\n",
       "    }\n",
       "</style>\n",
       "<table border=\"1\" class=\"dataframe\">\n",
       "  <thead>\n",
       "    <tr style=\"text-align: right;\">\n",
       "      <th></th>\n",
       "      <th>Continent_Name</th>\n",
       "      <th>TotalUSDPrize</th>\n",
       "    </tr>\n",
       "  </thead>\n",
       "  <tbody>\n",
       "    <tr>\n",
       "      <th>0</th>\n",
       "      <td>Asia</td>\n",
       "      <td>1.827135e+08</td>\n",
       "    </tr>\n",
       "    <tr>\n",
       "      <th>1</th>\n",
       "      <td>Europe</td>\n",
       "      <td>1.563520e+08</td>\n",
       "    </tr>\n",
       "    <tr>\n",
       "      <th>2</th>\n",
       "      <td>North America</td>\n",
       "      <td>5.703727e+07</td>\n",
       "    </tr>\n",
       "    <tr>\n",
       "      <th>3</th>\n",
       "      <td>Oceania</td>\n",
       "      <td>7.999675e+06</td>\n",
       "    </tr>\n",
       "    <tr>\n",
       "      <th>4</th>\n",
       "      <td>South America</td>\n",
       "      <td>6.951711e+06</td>\n",
       "    </tr>\n",
       "  </tbody>\n",
       "</table>\n",
       "</div>"
      ],
      "text/plain": [
       "  Continent_Name  TotalUSDPrize\n",
       "0           Asia   1.827135e+08\n",
       "1         Europe   1.563520e+08\n",
       "2  North America   5.703727e+07\n",
       "3        Oceania   7.999675e+06\n",
       "4  South America   6.951711e+06"
      ]
     },
     "execution_count": 70,
     "metadata": {},
     "output_type": "execute_result"
    }
   ],
   "source": [
    "players_new.groupby('Continent_Name')['TotalUSDPrize'].sum().sort_values(ascending=False).to_frame().reset_index()"
   ]
  },
  {
   "cell_type": "code",
   "execution_count": 76,
   "id": "ff97b9ec-4872-4329-8dcc-957fe80e67b6",
   "metadata": {},
   "outputs": [
    {
     "data": {
      "text/html": [
       "<div>\n",
       "<style scoped>\n",
       "    .dataframe tbody tr th:only-of-type {\n",
       "        vertical-align: middle;\n",
       "    }\n",
       "\n",
       "    .dataframe tbody tr th {\n",
       "        vertical-align: top;\n",
       "    }\n",
       "\n",
       "    .dataframe thead th {\n",
       "        text-align: right;\n",
       "    }\n",
       "</style>\n",
       "<table border=\"1\" class=\"dataframe\">\n",
       "  <thead>\n",
       "    <tr style=\"text-align: right;\">\n",
       "      <th></th>\n",
       "      <th>Continent_Name</th>\n",
       "      <th>TotalUSDPrize</th>\n",
       "    </tr>\n",
       "  </thead>\n",
       "  <tbody>\n",
       "    <tr>\n",
       "      <th>0</th>\n",
       "      <td>South America</td>\n",
       "      <td>382208.97</td>\n",
       "    </tr>\n",
       "    <tr>\n",
       "      <th>1</th>\n",
       "      <td>Europe</td>\n",
       "      <td>245208.72</td>\n",
       "    </tr>\n",
       "    <tr>\n",
       "      <th>2</th>\n",
       "      <td>North America</td>\n",
       "      <td>159833.35</td>\n",
       "    </tr>\n",
       "    <tr>\n",
       "      <th>3</th>\n",
       "      <td>Asia</td>\n",
       "      <td>141800.69</td>\n",
       "    </tr>\n",
       "    <tr>\n",
       "      <th>4</th>\n",
       "      <td>Oceania</td>\n",
       "      <td>79049.82</td>\n",
       "    </tr>\n",
       "  </tbody>\n",
       "</table>\n",
       "</div>"
      ],
      "text/plain": [
       "  Continent_Name  TotalUSDPrize\n",
       "0  South America      382208.97\n",
       "1         Europe      245208.72\n",
       "2  North America      159833.35\n",
       "3           Asia      141800.69\n",
       "4        Oceania       79049.82"
      ]
     },
     "execution_count": 76,
     "metadata": {},
     "output_type": "execute_result"
    }
   ],
   "source": [
    "players_new.groupby('Continent_Name')['TotalUSDPrize'].median().sort_values(ascending=False).to_frame().reset_index()"
   ]
  },
  {
   "cell_type": "markdown",
   "id": "4cfd08c5-e9e9-4857-859e-b84a90c0d90d",
   "metadata": {},
   "source": [
    "Country and Continent\n",
    "Interestingly, it seems that China has the most amount of ESports earnings. If we look at Continent, Asia and Europe largely dominates in terms of total USD earned. However, if we look at it from other dimension. Countries like Lebonon and Parkistan take the cake.\n",
    "\n",
    "I have a few hypothesis for this.\n",
    "\n",
    "1) Countries like China and Korea probably have a way higher population that are into ESports, thus resulting in higher total earnings\n",
    "\n",
    "2) Countries like Parkistan and other less developed countries probably aren't as accepting of ESports culture, so you would have to be really good to get into it, which explains higher median and average earnings"
   ]
  },
  {
   "cell_type": "markdown",
   "id": "8a31587d-197d-4ca3-b39d-e6cc46ad03b1",
   "metadata": {},
   "source": [
    "**Some of the lower player count country has \"elite\" players while popular countries have sheer numbers**"
   ]
  },
  {
   "cell_type": "code",
   "execution_count": null,
   "id": "4647e5df-d3ad-4696-8964-d559e08a1338",
   "metadata": {},
   "outputs": [],
   "source": []
  }
 ],
 "metadata": {
  "kernelspec": {
   "display_name": "Python [conda env:adaexam] *",
   "language": "python",
   "name": "conda-env-adaexam-py"
  },
  "language_info": {
   "codemirror_mode": {
    "name": "ipython",
    "version": 3
   },
   "file_extension": ".py",
   "mimetype": "text/x-python",
   "name": "python",
   "nbconvert_exporter": "python",
   "pygments_lexer": "ipython3",
   "version": "3.8.12"
  }
 },
 "nbformat": 4,
 "nbformat_minor": 5
}
