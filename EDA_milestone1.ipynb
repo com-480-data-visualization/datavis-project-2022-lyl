{
 "cells": [
  {
   "cell_type": "code",
   "execution_count": 45,
   "id": "1790b278-1110-4928-9e36-3f91f33953f5",
   "metadata": {},
   "outputs": [],
   "source": [
    "# Import the needed modules\n",
    "import pandas as pd\n",
    "import numpy as np\n",
    "import matplotlib.pyplot as plt\n",
    "import seaborn as sns\n",
    "import plotly.express as px\n",
    "import plotly.graph_objects as go\n",
    "from plotly.subplots import make_subplots"
   ]
  },
  {
   "cell_type": "markdown",
   "id": "1497afb9-3bea-47cc-8b37-90625d672071",
   "metadata": {},
   "source": [
    "### Read Data"
   ]
  },
  {
   "cell_type": "code",
   "execution_count": 46,
   "id": "d2fc597f-ad9a-42f1-af5e-7ce4e7702caa",
   "metadata": {},
   "outputs": [],
   "source": [
    "teams_df = pd.read_csv('data/highest_earning_teams.csv', sep=',')\n",
    "players_df = pd.read_csv('data/highest_earning_players.csv', sep=',')\n",
    "country_df = pd.read_csv('data/country-and-continent-codes-list.csv')"
   ]
  },
  {
   "cell_type": "code",
   "execution_count": 47,
   "id": "e71a59b6-f9de-46fc-9fac-9a2a97526933",
   "metadata": {},
   "outputs": [
    {
     "data": {
      "text/html": [
       "<div>\n",
       "<style scoped>\n",
       "    .dataframe tbody tr th:only-of-type {\n",
       "        vertical-align: middle;\n",
       "    }\n",
       "\n",
       "    .dataframe tbody tr th {\n",
       "        vertical-align: top;\n",
       "    }\n",
       "\n",
       "    .dataframe thead th {\n",
       "        text-align: right;\n",
       "    }\n",
       "</style>\n",
       "<table border=\"1\" class=\"dataframe\">\n",
       "  <thead>\n",
       "    <tr style=\"text-align: right;\">\n",
       "      <th></th>\n",
       "      <th>TeamId</th>\n",
       "      <th>TeamName</th>\n",
       "      <th>TotalUSDPrize</th>\n",
       "      <th>TotalTournaments</th>\n",
       "      <th>Game</th>\n",
       "      <th>Genre</th>\n",
       "    </tr>\n",
       "  </thead>\n",
       "  <tbody>\n",
       "    <tr>\n",
       "      <th>0</th>\n",
       "      <td>760</td>\n",
       "      <td>San Francisco Shock</td>\n",
       "      <td>3105000.0</td>\n",
       "      <td>7</td>\n",
       "      <td>Overwatch</td>\n",
       "      <td>First-Person Shooter</td>\n",
       "    </tr>\n",
       "    <tr>\n",
       "      <th>1</th>\n",
       "      <td>776</td>\n",
       "      <td>London Spitfire</td>\n",
       "      <td>1591136.5</td>\n",
       "      <td>13</td>\n",
       "      <td>Overwatch</td>\n",
       "      <td>First-Person Shooter</td>\n",
       "    </tr>\n",
       "    <tr>\n",
       "      <th>2</th>\n",
       "      <td>768</td>\n",
       "      <td>New York Excelsior</td>\n",
       "      <td>1572618.5</td>\n",
       "      <td>18</td>\n",
       "      <td>Overwatch</td>\n",
       "      <td>First-Person Shooter</td>\n",
       "    </tr>\n",
       "    <tr>\n",
       "      <th>3</th>\n",
       "      <td>773</td>\n",
       "      <td>Philadelphia Fusion</td>\n",
       "      <td>1186278.5</td>\n",
       "      <td>15</td>\n",
       "      <td>Overwatch</td>\n",
       "      <td>First-Person Shooter</td>\n",
       "    </tr>\n",
       "    <tr>\n",
       "      <th>4</th>\n",
       "      <td>766</td>\n",
       "      <td>Seoul Dynasty</td>\n",
       "      <td>1130000.0</td>\n",
       "      <td>6</td>\n",
       "      <td>Overwatch</td>\n",
       "      <td>First-Person Shooter</td>\n",
       "    </tr>\n",
       "    <tr>\n",
       "      <th>...</th>\n",
       "      <td>...</td>\n",
       "      <td>...</td>\n",
       "      <td>...</td>\n",
       "      <td>...</td>\n",
       "      <td>...</td>\n",
       "      <td>...</td>\n",
       "    </tr>\n",
       "    <tr>\n",
       "      <th>923</th>\n",
       "      <td>24781</td>\n",
       "      <td>Rex Regum Qeon</td>\n",
       "      <td>6286.8</td>\n",
       "      <td>2</td>\n",
       "      <td>Arena of Valor</td>\n",
       "      <td>Multiplayer Online Battle Arena</td>\n",
       "    </tr>\n",
       "    <tr>\n",
       "      <th>924</th>\n",
       "      <td>261</td>\n",
       "      <td>Alliance</td>\n",
       "      <td>4000.0</td>\n",
       "      <td>1</td>\n",
       "      <td>Arena of Valor</td>\n",
       "      <td>Multiplayer Online Battle Arena</td>\n",
       "    </tr>\n",
       "    <tr>\n",
       "      <th>925</th>\n",
       "      <td>713</td>\n",
       "      <td>Marines Esports</td>\n",
       "      <td>3429.6</td>\n",
       "      <td>1</td>\n",
       "      <td>Arena of Valor</td>\n",
       "      <td>Multiplayer Online Battle Arena</td>\n",
       "    </tr>\n",
       "    <tr>\n",
       "      <th>926</th>\n",
       "      <td>608</td>\n",
       "      <td>British National Team</td>\n",
       "      <td>2500.0</td>\n",
       "      <td>1</td>\n",
       "      <td>Arena of Valor</td>\n",
       "      <td>Multiplayer Online Battle Arena</td>\n",
       "    </tr>\n",
       "    <tr>\n",
       "      <th>927</th>\n",
       "      <td>584</td>\n",
       "      <td>Swedish National Team</td>\n",
       "      <td>2500.0</td>\n",
       "      <td>1</td>\n",
       "      <td>Arena of Valor</td>\n",
       "      <td>Multiplayer Online Battle Arena</td>\n",
       "    </tr>\n",
       "  </tbody>\n",
       "</table>\n",
       "<p>928 rows × 6 columns</p>\n",
       "</div>"
      ],
      "text/plain": [
       "     TeamId               TeamName  TotalUSDPrize  TotalTournaments  \\\n",
       "0       760    San Francisco Shock      3105000.0                 7   \n",
       "1       776        London Spitfire      1591136.5                13   \n",
       "2       768     New York Excelsior      1572618.5                18   \n",
       "3       773    Philadelphia Fusion      1186278.5                15   \n",
       "4       766          Seoul Dynasty      1130000.0                 6   \n",
       "..      ...                    ...            ...               ...   \n",
       "923   24781         Rex Regum Qeon         6286.8                 2   \n",
       "924     261               Alliance         4000.0                 1   \n",
       "925     713        Marines Esports         3429.6                 1   \n",
       "926     608  British National Team         2500.0                 1   \n",
       "927     584  Swedish National Team         2500.0                 1   \n",
       "\n",
       "               Game                            Genre  \n",
       "0         Overwatch             First-Person Shooter  \n",
       "1         Overwatch             First-Person Shooter  \n",
       "2         Overwatch             First-Person Shooter  \n",
       "3         Overwatch             First-Person Shooter  \n",
       "4         Overwatch             First-Person Shooter  \n",
       "..              ...                              ...  \n",
       "923  Arena of Valor  Multiplayer Online Battle Arena  \n",
       "924  Arena of Valor  Multiplayer Online Battle Arena  \n",
       "925  Arena of Valor  Multiplayer Online Battle Arena  \n",
       "926  Arena of Valor  Multiplayer Online Battle Arena  \n",
       "927  Arena of Valor  Multiplayer Online Battle Arena  \n",
       "\n",
       "[928 rows x 6 columns]"
      ]
     },
     "execution_count": 47,
     "metadata": {},
     "output_type": "execute_result"
    }
   ],
   "source": [
    "teams_df"
   ]
  },
  {
   "cell_type": "markdown",
   "id": "947b70e6-6792-4f67-8b9d-e17063bc85d3",
   "metadata": {},
   "source": [
    "The data includes 10 games and we can classify them according to the 5 genres."
   ]
  },
  {
   "cell_type": "code",
   "execution_count": 50,
   "id": "da8f61e1-e29a-405f-ab78-57b2acc9de9b",
   "metadata": {},
   "outputs": [
    {
     "data": {
      "text/plain": [
       "(Genre\n",
       " Battle Royale                      200\n",
       " Collectible Card Game               80\n",
       " First-Person Shooter               200\n",
       " Multiplayer Online Battle Arena    348\n",
       " Strategy                           100\n",
       " Name: Game, dtype: int64,\n",
       " Genre\n",
       " Battle Royale                      200\n",
       " Collectible Card Game              100\n",
       " First-Person Shooter               200\n",
       " Multiplayer Online Battle Arena    400\n",
       " Strategy                           100\n",
       " Name: Game, dtype: int64)"
      ]
     },
     "execution_count": 50,
     "metadata": {},
     "output_type": "execute_result"
    }
   ],
   "source": [
    "#Show all the unique game and genre included in the dataset\n",
    "teams_df.groupby('Genre')['Game'].unique().to_frame().reset_index()\n",
    "players_df.groupby('Genre')['Game'].unique().to_frame().reset_index()\n",
    "teams_df.groupby('Genre').count()['Game'],players_df.groupby('Genre').count()['Game']"
   ]
  },
  {
   "cell_type": "code",
   "execution_count": 28,
   "id": "8e2cae1b-d87c-4374-b2cd-6a2543b2e1a7",
   "metadata": {},
   "outputs": [
    {
     "data": {
      "image/png": "[encoded data removed]",
      "text/plain": [
       "<Figure size 720x720 with 1 Axes>"
      ]
     },
     "metadata": {
      "needs_background": "light"
     },
     "output_type": "display_data"
    },
    {
     "data": {
      "text/plain": [
       "<Figure size 432x288 with 0 Axes>"
      ]
     },
     "metadata": {},
     "output_type": "display_data"
    }
   ],
   "source": [
    "fig, ax = plt.subplots(figsize=(10,10))\n",
    "plt.xticks(rotation = 45)\n",
    "sns.boxplot(data = players_df, x=\"Genre\", y=\"TotalUSDPrize\")\n",
    "plt.show()"
   ]
  },
  {
   "cell_type": "markdown",
   "id": "7b99a65f-ee27-4aaf-b4e2-2e16a27409af",
   "metadata": {},
   "source": [
    "There are lots of  'outliers' in the data and the top of the top players competing in MOBA do outearn all the other genres."
   ]
  },
  {
   "cell_type": "code",
   "execution_count": 13,
   "id": "6b8fbab1-686e-48b5-a027-b8db3972436f",
   "metadata": {},
   "outputs": [
    {
     "data": {
      "text/html": [
       "<div>\n",
       "<style scoped>\n",
       "    .dataframe tbody tr th:only-of-type {\n",
       "        vertical-align: middle;\n",
       "    }\n",
       "\n",
       "    .dataframe tbody tr th {\n",
       "        vertical-align: top;\n",
       "    }\n",
       "\n",
       "    .dataframe thead th {\n",
       "        text-align: right;\n",
       "    }\n",
       "</style>\n",
       "<table border=\"1\" class=\"dataframe\">\n",
       "  <thead>\n",
       "    <tr style=\"text-align: right;\">\n",
       "      <th></th>\n",
       "      <th>TeamName</th>\n",
       "      <th>Game</th>\n",
       "    </tr>\n",
       "  </thead>\n",
       "  <tbody>\n",
       "    <tr>\n",
       "      <th>0</th>\n",
       "      <td>(monkey) Business</td>\n",
       "      <td>1</td>\n",
       "    </tr>\n",
       "    <tr>\n",
       "      <th>1</th>\n",
       "      <td>100 Thieves</td>\n",
       "      <td>3</td>\n",
       "    </tr>\n",
       "    <tr>\n",
       "      <th>2</th>\n",
       "      <td>303 Esports</td>\n",
       "      <td>1</td>\n",
       "    </tr>\n",
       "    <tr>\n",
       "      <th>3</th>\n",
       "      <td>3DMAX</td>\n",
       "      <td>2</td>\n",
       "    </tr>\n",
       "    <tr>\n",
       "      <th>4</th>\n",
       "      <td>4 Clovers &amp; Lepricon</td>\n",
       "      <td>1</td>\n",
       "    </tr>\n",
       "    <tr>\n",
       "      <th>...</th>\n",
       "      <td>...</td>\n",
       "      <td>...</td>\n",
       "    </tr>\n",
       "    <tr>\n",
       "      <th>500</th>\n",
       "      <td>mudgolems</td>\n",
       "      <td>1</td>\n",
       "    </tr>\n",
       "    <tr>\n",
       "      <th>501</th>\n",
       "      <td>paiN Gaming</td>\n",
       "      <td>3</td>\n",
       "    </tr>\n",
       "    <tr>\n",
       "      <th>502</th>\n",
       "      <td>vsBANDITS</td>\n",
       "      <td>1</td>\n",
       "    </tr>\n",
       "    <tr>\n",
       "      <th>503</th>\n",
       "      <td>wisdom Nerve victory</td>\n",
       "      <td>1</td>\n",
       "    </tr>\n",
       "    <tr>\n",
       "      <th>504</th>\n",
       "      <td>x6tence</td>\n",
       "      <td>2</td>\n",
       "    </tr>\n",
       "  </tbody>\n",
       "</table>\n",
       "<p>505 rows × 2 columns</p>\n",
       "</div>"
      ],
      "text/plain": [
       "                 TeamName  Game\n",
       "0       (monkey) Business     1\n",
       "1             100 Thieves     3\n",
       "2             303 Esports     1\n",
       "3                   3DMAX     2\n",
       "4    4 Clovers & Lepricon     1\n",
       "..                    ...   ...\n",
       "500             mudgolems     1\n",
       "501           paiN Gaming     3\n",
       "502             vsBANDITS     1\n",
       "503  wisdom Nerve victory     1\n",
       "504               x6tence     2\n",
       "\n",
       "[505 rows x 2 columns]"
      ]
     },
     "execution_count": 13,
     "metadata": {},
     "output_type": "execute_result"
    }
   ],
   "source": [
    "teams_df[['TeamName','Game']].groupby('TeamName').count().reset_index()"
   ]
  },
  {
   "cell_type": "markdown",
   "id": "b8f8997f-0d7c-4f5c-aa19-316edf7263f7",
   "metadata": {},
   "source": [
    "A team can appear more than once but note that it is a different game."
   ]
  },
  {
   "cell_type": "markdown",
   "id": "9a044997-0bb7-4f4b-857f-bc9c2ab70427",
   "metadata": {},
   "source": [
    "### Part1 Explore Teams Data"
   ]
  },
  {
   "cell_type": "code",
   "execution_count": 81,
   "id": "8cbb0b44-3b5f-4e49-a85b-136bcb4f72f9",
   "metadata": {
    "tags": []
   },
   "outputs": [
    {
     "data": {
      "application/vnd.plotly.v1+json": {
       "config": {
        "plotlyServerURL": "https://plot.ly"
       },
       "data": [
        {
         "name": "Tournaments of Games",
         "offsetgroup": "0",
         "type": "bar",
         "x": [
          "Arena of Valor",
          "Counter-Strike: Global Offensive",
          "Dota 2",
          "Fortnite",
          "Hearthstone",
          "Heroes of the Storm",
          "League of Legends",
          "Overwatch",
          "PUBG",
          "Starcraft II"
         ],
         "xaxis": "x",
         "y": [
          81,
          49.5,
          22,
          15,
          9,
          7,
          6,
          5.5,
          4,
          2
         ],
         "yaxis": "y"
        },
        {
         "name": "Earnings of Games",
         "offsetgroup": "1",
         "type": "bar",
         "x": [
          "Arena of Valor",
          "Counter-Strike: Global Offensive",
          "Dota 2",
          "Fortnite",
          "Hearthstone",
          "Heroes of the Storm",
          "League of Legends",
          "Overwatch",
          "PUBG",
          "Starcraft II"
         ],
         "xaxis": "x",
         "y": [
          326472.645,
          262743.475,
          253425.2,
          131583.60499999998,
          72472.20999999999,
          71411.35,
          60919.875,
          58750,
          41687.5,
          9859.875
         ],
         "yaxis": "y2"
        }
       ],
       "layout": {
        "autosize": true,
        "template": {
         "data": {
          "bar": [
           {
            "error_x": {
             "color": "#2a3f5f"
            },
            "error_y": {
             "color": "#2a3f5f"
            },
            "marker": {
             "line": {
              "color": "#E5ECF6",
              "width": 0.5
             },
             "pattern": {
              "fillmode": "overlay",
              "size": 10,
              "solidity": 0.2
             }
            },
            "type": "bar"
           }
          ],
          "barpolar": [
           {
            "marker": {
             "line": {
              "color": "#E5ECF6",
              "width": 0.5
             },
             "pattern": {
              "fillmode": "overlay",
              "size": 10,
              "solidity": 0.2
             }
            },
            "type": "barpolar"
           }
          ],
          "carpet": [
           {
            "aaxis": {
             "endlinecolor": "#2a3f5f",
             "gridcolor": "white",
             "linecolor": "white",
             "minorgridcolor": "white",
             "startlinecolor": "#2a3f5f"
            },
            "baxis": {
             "endlinecolor": "#2a3f5f",
             "gridcolor": "white",
             "linecolor": "white",
             "minorgridcolor": "white",
             "startlinecolor": "#2a3f5f"
            },
            "type": "carpet"
           }
          ],
          "choropleth": [
           {
            "colorbar": {
             "outlinewidth": 0,
             "ticks": ""
            },
            "type": "choropleth"
           }
          ],
          "contour": [
           {
            "colorbar": {
             "outlinewidth": 0,
             "ticks": ""
            },
            "colorscale": [
             [
              0,
              "#0d0887"
             ],
             [
              0.1111111111111111,
              "#46039f"
             ],
             [
              0.2222222222222222,
              "#7201a8"
             ],
             [
              0.3333333333333333,
              "#9c179e"
             ],
             [
              0.4444444444444444,
              "#bd3786"
             ],
             [
              0.5555555555555556,
              "#d8576b"
             ],
             [
              0.6666666666666666,
              "#ed7953"
             ],
             [
              0.7777777777777778,
              "#fb9f3a"
             ],
             [
              0.8888888888888888,
              "#fdca26"
             ],
             [
              1,
              "#f0f921"
             ]
            ],
            "type": "contour"
           }
          ],
          "contourcarpet": [
           {
            "colorbar": {
             "outlinewidth": 0,
             "ticks": ""
            },
            "type": "contourcarpet"
           }
          ],
          "heatmap": [
           {
            "colorbar": {
             "outlinewidth": 0,
             "ticks": ""
            },
            "colorscale": [
             [
              0,
              "#0d0887"
             ],
             [
              0.1111111111111111,
              "#46039f"
             ],
             [
              0.2222222222222222,
              "#7201a8"
             ],
             [
              0.3333333333333333,
              "#9c179e"
             ],
             [
              0.4444444444444444,
              "#bd3786"
             ],
             [
              0.5555555555555556,
              "#d8576b"
             ],
             [
              0.6666666666666666,
              "#ed7953"
             ],
             [
              0.7777777777777778,
              "#fb9f3a"
             ],
             [
              0.8888888888888888,
              "#fdca26"
             ],
             [
              1,
              "#f0f921"
             ]
            ],
            "type": "heatmap"
           }
          ],
          "heatmapgl": [
           {
            "colorbar": {
             "outlinewidth": 0,
             "ticks": ""
            },
            "colorscale": [
             [
              0,
              "#0d0887"
             ],
             [
              0.1111111111111111,
              "#46039f"
             ],
             [
              0.2222222222222222,
              "#7201a8"
             ],
             [
              0.3333333333333333,
              "#9c179e"
             ],
             [
              0.4444444444444444,
              "#bd3786"
             ],
             [
              0.5555555555555556,
              "#d8576b"
             ],
             [
              0.6666666666666666,
              "#ed7953"
             ],
             [
              0.7777777777777778,
              "#fb9f3a"
             ],
             [
              0.8888888888888888,
              "#fdca26"
             ],
             [
              1,
              "#f0f921"
             ]
            ],
            "type": "heatmapgl"
           }
          ],
          "histogram": [
           {
            "marker": {
             "pattern": {
              "fillmode": "overlay",
              "size": 10,
              "solidity": 0.2
             }
            },
            "type": "histogram"
           }
          ],
          "histogram2d": [
           {
            "colorbar": {
             "outlinewidth": 0,
             "ticks": ""
            },
            "colorscale": [
             [
              0,
              "#0d0887"
             ],
             [
              0.1111111111111111,
              "#46039f"
             ],
             [
              0.2222222222222222,
              "#7201a8"
             ],
             [
              0.3333333333333333,
              "#9c179e"
             ],
             [
              0.4444444444444444,
              "#bd3786"
             ],
             [
              0.5555555555555556,
              "#d8576b"
             ],
             [
              0.6666666666666666,
              "#ed7953"
             ],
             [
              0.7777777777777778,
              "#fb9f3a"
             ],
             [
              0.8888888888888888,
              "#fdca26"
             ],
             [
              1,
              "#f0f921"
             ]
            ],
            "type": "histogram2d"
           }
          ],
          "histogram2dcontour": [
           {
            "colorbar": {
             "outlinewidth": 0,
             "ticks": ""
            },
            "colorscale": [
             [
              0,
              "#0d0887"
             ],
             [
              0.1111111111111111,
              "#46039f"
             ],
             [
              0.2222222222222222,
              "#7201a8"
             ],
             [
              0.3333333333333333,
              "#9c179e"
             ],
             [
              0.4444444444444444,
              "#bd3786"
             ],
             [
              0.5555555555555556,
              "#d8576b"
             ],
             [
              0.6666666666666666,
              "#ed7953"
             ],
             [
              0.7777777777777778,
              "#fb9f3a"
             ],
             [
              0.8888888888888888,
              "#fdca26"
             ],
             [
              1,
              "#f0f921"
             ]
            ],
            "type": "histogram2dcontour"
           }
          ],
          "mesh3d": [
           {
            "colorbar": {
             "outlinewidth": 0,
             "ticks": ""
            },
            "type": "mesh3d"
           }
          ],
          "parcoords": [
           {
            "line": {
             "colorbar": {
              "outlinewidth": 0,
              "ticks": ""
             }
            },
            "type": "parcoords"
           }
          ],
          "pie": [
           {
            "automargin": true,
            "type": "pie"
           }
          ],
          "scatter": [
           {
            "marker": {
             "colorbar": {
              "outlinewidth": 0,
              "ticks": ""
             }
            },
            "type": "scatter"
           }
          ],
          "scatter3d": [
           {
            "line": {
             "colorbar": {
              "outlinewidth": 0,
              "ticks": ""
             }
            },
            "marker": {
             "colorbar": {
              "outlinewidth": 0,
              "ticks": ""
             }
            },
            "type": "scatter3d"
           }
          ],
          "scattercarpet": [
           {
            "marker": {
             "colorbar": {
              "outlinewidth": 0,
              "ticks": ""
             }
            },
            "type": "scattercarpet"
           }
          ],
          "scattergeo": [
           {
            "marker": {
             "colorbar": {
              "outlinewidth": 0,
              "ticks": ""
             }
            },
            "type": "scattergeo"
           }
          ],
          "scattergl": [
           {
            "marker": {
             "colorbar": {
              "outlinewidth": 0,
              "ticks": ""
             }
            },
            "type": "scattergl"
           }
          ],
          "scattermapbox": [
           {
            "marker": {
             "colorbar": {
              "outlinewidth": 0,
              "ticks": ""
             }
            },
            "type": "scattermapbox"
           }
          ],
          "scatterpolar": [
           {
            "marker": {
             "colorbar": {
              "outlinewidth": 0,
              "ticks": ""
             }
            },
            "type": "scatterpolar"
           }
          ],
          "scatterpolargl": [
           {
            "marker": {
             "colorbar": {
              "outlinewidth": 0,
              "ticks": ""
             }
            },
            "type": "scatterpolargl"
           }
          ],
          "scatterternary": [
           {
            "marker": {
             "colorbar": {
              "outlinewidth": 0,
              "ticks": ""
             }
            },
            "type": "scatterternary"
           }
          ],
          "surface": [
           {
            "colorbar": {
             "outlinewidth": 0,
             "ticks": ""
            },
            "colorscale": [
             [
              0,
              "#0d0887"
             ],
             [
              0.1111111111111111,
              "#46039f"
             ],
             [
              0.2222222222222222,
              "#7201a8"
             ],
             [
              0.3333333333333333,
              "#9c179e"
             ],
             [
              0.4444444444444444,
              "#bd3786"
             ],
             [
              0.5555555555555556,
              "#d8576b"
             ],
             [
              0.6666666666666666,
              "#ed7953"
             ],
             [
              0.7777777777777778,
              "#fb9f3a"
             ],
             [
              0.8888888888888888,
              "#fdca26"
             ],
             [
              1,
              "#f0f921"
             ]
            ],
            "type": "surface"
           }
          ],
          "table": [
           {
            "cells": {
             "fill": {
              "color": "#EBF0F8"
             },
             "line": {
              "color": "white"
             }
            },
            "header": {
             "fill": {
              "color": "#C8D4E3"
             },
             "line": {
              "color": "white"
             }
            },
            "type": "table"
           }
          ]
         },
         "layout": {
          "annotationdefaults": {
           "arrowcolor": "#2a3f5f",
           "arrowhead": 0,
           "arrowwidth": 1
          },
          "autotypenumbers": "strict",
          "coloraxis": {
           "colorbar": {
            "outlinewidth": 0,
            "ticks": ""
           }
          },
          "colorscale": {
           "diverging": [
            [
             0,
             "#8e0152"
            ],
            [
             0.1,
             "#c51b7d"
            ],
            [
             0.2,
             "#de77ae"
            ],
            [
             0.3,
             "#f1b6da"
            ],
            [
             0.4,
             "#fde0ef"
            ],
            [
             0.5,
             "#f7f7f7"
            ],
            [
             0.6,
             "#e6f5d0"
            ],
            [
             0.7,
             "#b8e186"
            ],
            [
             0.8,
             "#7fbc41"
            ],
            [
             0.9,
             "#4d9221"
            ],
            [
             1,
             "#276419"
            ]
           ],
           "sequential": [
            [
             0,
             "#0d0887"
            ],
            [
             0.1111111111111111,
             "#46039f"
            ],
            [
             0.2222222222222222,
             "#7201a8"
            ],
            [
             0.3333333333333333,
             "#9c179e"
            ],
            [
             0.4444444444444444,
             "#bd3786"
            ],
            [
             0.5555555555555556,
             "#d8576b"
            ],
            [
             0.6666666666666666,
             "#ed7953"
            ],
            [
             0.7777777777777778,
             "#fb9f3a"
            ],
            [
             0.8888888888888888,
             "#fdca26"
            ],
            [
             1,
             "#f0f921"
            ]
           ],
           "sequentialminus": [
            [
             0,
             "#0d0887"
            ],
            [
             0.1111111111111111,
             "#46039f"
            ],
            [
             0.2222222222222222,
             "#7201a8"
            ],
            [
             0.3333333333333333,
             "#9c179e"
            ],
            [
             0.4444444444444444,
             "#bd3786"
            ],
            [
             0.5555555555555556,
             "#d8576b"
            ],
            [
             0.6666666666666666,
             "#ed7953"
            ],
            [
             0.7777777777777778,
             "#fb9f3a"
            ],
            [
             0.8888888888888888,
             "#fdca26"
            ],
            [
             1,
             "#f0f921"
            ]
           ]
          },
          "colorway": [
           "#636efa",
           "#EF553B",
           "#00cc96",
           "#ab63fa",
           "#FFA15A",
           "#19d3f3",
           "#FF6692",
           "#B6E880",
           "#FF97FF",
           "#FECB52"
          ],
          "font": {
           "color": "#2a3f5f"
          },
          "geo": {
           "bgcolor": "white",
           "lakecolor": "white",
           "landcolor": "#E5ECF6",
           "showlakes": true,
           "showland": true,
           "subunitcolor": "white"
          },
          "hoverlabel": {
           "align": "left"
          },
          "hovermode": "closest",
          "mapbox": {
           "style": "light"
          },
          "paper_bgcolor": "white",
          "plot_bgcolor": "#E5ECF6",
          "polar": {
           "angularaxis": {
            "gridcolor": "white",
            "linecolor": "white",
            "ticks": ""
           },
           "bgcolor": "#E5ECF6",
           "radialaxis": {
            "gridcolor": "white",
            "linecolor": "white",
            "ticks": ""
           }
          },
          "scene": {
           "xaxis": {
            "backgroundcolor": "#E5ECF6",
            "gridcolor": "white",
            "gridwidth": 2,
            "linecolor": "white",
            "showbackground": true,
            "ticks": "",
            "zerolinecolor": "white"
           },
           "yaxis": {
            "backgroundcolor": "#E5ECF6",
            "gridcolor": "white",
            "gridwidth": 2,
            "linecolor": "white",
            "showbackground": true,
            "ticks": "",
            "zerolinecolor": "white"
           },
           "zaxis": {
            "backgroundcolor": "#E5ECF6",
            "gridcolor": "white",
            "gridwidth": 2,
            "linecolor": "white",
            "showbackground": true,
            "ticks": "",
            "zerolinecolor": "white"
           }
          },
          "shapedefaults": {
           "line": {
            "color": "#2a3f5f"
           }
          },
          "ternary": {
           "aaxis": {
            "gridcolor": "white",
            "linecolor": "white",
            "ticks": ""
           },
           "baxis": {
            "gridcolor": "white",
            "linecolor": "white",
            "ticks": ""
           },
           "bgcolor": "#E5ECF6",
           "caxis": {
            "gridcolor": "white",
            "linecolor": "white",
            "ticks": ""
           }
          },
          "title": {
           "x": 0.05
          },
          "xaxis": {
           "automargin": true,
           "gridcolor": "white",
           "linecolor": "white",
           "ticks": "",
           "title": {
            "standoff": 15
           },
           "zerolinecolor": "white",
           "zerolinewidth": 2
          },
          "yaxis": {
           "automargin": true,
           "gridcolor": "white",
           "linecolor": "white",
           "ticks": "",
           "title": {
            "standoff": 15
           },
           "zerolinecolor": "white",
           "zerolinewidth": 2
          }
         }
        },
        "title": {
         "text": "Tournaments and Earnings of Games"
        },
        "xaxis": {
         "anchor": "y",
         "autorange": true,
         "domain": [
          0,
          0.94
         ],
         "range": [
          -0.5,
          9.5
         ],
         "title": {
          "text": "Games"
         },
         "type": "category"
        },
        "yaxis": {
         "anchor": "x",
         "autorange": true,
         "domain": [
          0,
          1
         ],
         "range": [
          0,
          85.26315789473685
         ],
         "title": {
          "text": "Tournaments of Games"
         },
         "type": "linear"
        },
        "yaxis2": {
         "anchor": "x",
         "autorange": true,
         "overlaying": "y",
         "range": [
          0,
          343655.4157894737
         ],
         "side": "right",
         "title": {
          "text": "Earnings of Games"
         },
         "type": "linear"
        }
       }
      },
      "image/png": "[encoded data removed]",
      "text/html": [
       "<div>                            <div id=\"609e19ba-e6fb-41cb-b6d8-84c75dd02af5\" class=\"plotly-graph-div\" style=\"height:525px; width:100%;\"></div>            <script type=\"text/javascript\">                require([\"plotly\"], function(Plotly) {                    window.PLOTLYENV=window.PLOTLYENV || {};                                    if (document.getElementById(\"609e19ba-e6fb-41cb-b6d8-84c75dd02af5\")) {                    Plotly.newPlot(                        \"609e19ba-e6fb-41cb-b6d8-84c75dd02af5\",                        [{\"name\":\"Tournaments of Games\",\"offsetgroup\":\"0\",\"x\":[\"Arena of Valor\",\"Counter-Strike: Global Offensive\",\"Dota 2\",\"Fortnite\",\"Hearthstone\",\"Heroes of the Storm\",\"League of Legends\",\"Overwatch\",\"PUBG\",\"Starcraft II\"],\"y\":[81.0,49.5,22.0,15.0,9.0,7.0,6.0,5.5,4.0,2.0],\"type\":\"bar\",\"xaxis\":\"x\",\"yaxis\":\"y\"},{\"name\":\"Earnings of Games\",\"offsetgroup\":\"1\",\"x\":[\"Arena of Valor\",\"Counter-Strike: Global Offensive\",\"Dota 2\",\"Fortnite\",\"Hearthstone\",\"Heroes of the Storm\",\"League of Legends\",\"Overwatch\",\"PUBG\",\"Starcraft II\"],\"y\":[326472.645,262743.475,253425.2,131583.60499999998,72472.20999999999,71411.35,60919.875,58750.0,41687.5,9859.875],\"type\":\"bar\",\"xaxis\":\"x\",\"yaxis\":\"y2\"}],                        {\"template\":{\"data\":{\"bar\":[{\"error_x\":{\"color\":\"#2a3f5f\"},\"error_y\":{\"color\":\"#2a3f5f\"},\"marker\":{\"line\":{\"color\":\"#E5ECF6\",\"width\":0.5},\"pattern\":{\"fillmode\":\"overlay\",\"size\":10,\"solidity\":0.2}},\"type\":\"bar\"}],\"barpolar\":[{\"marker\":{\"line\":{\"color\":\"#E5ECF6\",\"width\":0.5},\"pattern\":{\"fillmode\":\"overlay\",\"size\":10,\"solidity\":0.2}},\"type\":\"barpolar\"}],\"carpet\":[{\"aaxis\":{\"endlinecolor\":\"#2a3f5f\",\"gridcolor\":\"white\",\"linecolor\":\"white\",\"minorgridcolor\":\"white\",\"startlinecolor\":\"#2a3f5f\"},\"baxis\":{\"endlinecolor\":\"#2a3f5f\",\"gridcolor\":\"white\",\"linecolor\":\"white\",\"minorgridcolor\":\"white\",\"startlinecolor\":\"#2a3f5f\"},\"type\":\"carpet\"}],\"choropleth\":[{\"colorbar\":{\"outlinewidth\":0,\"ticks\":\"\"},\"type\":\"choropleth\"}],\"contour\":[{\"colorbar\":{\"outlinewidth\":0,\"ticks\":\"\"},\"colorscale\":[[0.0,\"#0d0887\"],[0.1111111111111111,\"#46039f\"],[0.2222222222222222,\"#7201a8\"],[0.3333333333333333,\"#9c179e\"],[0.4444444444444444,\"#bd3786\"],[0.5555555555555556,\"#d8576b\"],[0.6666666666666666,\"#ed7953\"],[0.7777777777777778,\"#fb9f3a\"],[0.8888888888888888,\"#fdca26\"],[1.0,\"#f0f921\"]],\"type\":\"contour\"}],\"contourcarpet\":[{\"colorbar\":{\"outlinewidth\":0,\"ticks\":\"\"},\"type\":\"contourcarpet\"}],\"heatmap\":[{\"colorbar\":{\"outlinewidth\":0,\"ticks\":\"\"},\"colorscale\":[[0.0,\"#0d0887\"],[0.1111111111111111,\"#46039f\"],[0.2222222222222222,\"#7201a8\"],[0.3333333333333333,\"#9c179e\"],[0.4444444444444444,\"#bd3786\"],[0.5555555555555556,\"#d8576b\"],[0.6666666666666666,\"#ed7953\"],[0.7777777777777778,\"#fb9f3a\"],[0.8888888888888888,\"#fdca26\"],[1.0,\"#f0f921\"]],\"type\":\"heatmap\"}],\"heatmapgl\":[{\"colorbar\":{\"outlinewidth\":0,\"ticks\":\"\"},\"colorscale\":[[0.0,\"#0d0887\"],[0.1111111111111111,\"#46039f\"],[0.2222222222222222,\"#7201a8\"],[0.3333333333333333,\"#9c179e\"],[0.4444444444444444,\"#bd3786\"],[0.5555555555555556,\"#d8576b\"],[0.6666666666666666,\"#ed7953\"],[0.7777777777777778,\"#fb9f3a\"],[0.8888888888888888,\"#fdca26\"],[1.0,\"#f0f921\"]],\"type\":\"heatmapgl\"}],\"histogram\":[{\"marker\":{\"pattern\":{\"fillmode\":\"overlay\",\"size\":10,\"solidity\":0.2}},\"type\":\"histogram\"}],\"histogram2d\":[{\"colorbar\":{\"outlinewidth\":0,\"ticks\":\"\"},\"colorscale\":[[0.0,\"#0d0887\"],[0.1111111111111111,\"#46039f\"],[0.2222222222222222,\"#7201a8\"],[0.3333333333333333,\"#9c179e\"],[0.4444444444444444,\"#bd3786\"],[0.5555555555555556,\"#d8576b\"],[0.6666666666666666,\"#ed7953\"],[0.7777777777777778,\"#fb9f3a\"],[0.8888888888888888,\"#fdca26\"],[1.0,\"#f0f921\"]],\"type\":\"histogram2d\"}],\"histogram2dcontour\":[{\"colorbar\":{\"outlinewidth\":0,\"ticks\":\"\"},\"colorscale\":[[0.0,\"#0d0887\"],[0.1111111111111111,\"#46039f\"],[0.2222222222222222,\"#7201a8\"],[0.3333333333333333,\"#9c179e\"],[0.4444444444444444,\"#bd3786\"],[0.5555555555555556,\"#d8576b\"],[0.6666666666666666,\"#ed7953\"],[0.7777777777777778,\"#fb9f3a\"],[0.8888888888888888,\"#fdca26\"],[1.0,\"#f0f921\"]],\"type\":\"histogram2dcontour\"}],\"mesh3d\":[{\"colorbar\":{\"outlinewidth\":0,\"ticks\":\"\"},\"type\":\"mesh3d\"}],\"parcoords\":[{\"line\":{\"colorbar\":{\"outlinewidth\":0,\"ticks\":\"\"}},\"type\":\"parcoords\"}],\"pie\":[{\"automargin\":true,\"type\":\"pie\"}],\"scatter\":[{\"marker\":{\"colorbar\":{\"outlinewidth\":0,\"ticks\":\"\"}},\"type\":\"scatter\"}],\"scatter3d\":[{\"line\":{\"colorbar\":{\"outlinewidth\":0,\"ticks\":\"\"}},\"marker\":{\"colorbar\":{\"outlinewidth\":0,\"ticks\":\"\"}},\"type\":\"scatter3d\"}],\"scattercarpet\":[{\"marker\":{\"colorbar\":{\"outlinewidth\":0,\"ticks\":\"\"}},\"type\":\"scattercarpet\"}],\"scattergeo\":[{\"marker\":{\"colorbar\":{\"outlinewidth\":0,\"ticks\":\"\"}},\"type\":\"scattergeo\"}],\"scattergl\":[{\"marker\":{\"colorbar\":{\"outlinewidth\":0,\"ticks\":\"\"}},\"type\":\"scattergl\"}],\"scattermapbox\":[{\"marker\":{\"colorbar\":{\"outlinewidth\":0,\"ticks\":\"\"}},\"type\":\"scattermapbox\"}],\"scatterpolar\":[{\"marker\":{\"colorbar\":{\"outlinewidth\":0,\"ticks\":\"\"}},\"type\":\"scatterpolar\"}],\"scatterpolargl\":[{\"marker\":{\"colorbar\":{\"outlinewidth\":0,\"ticks\":\"\"}},\"type\":\"scatterpolargl\"}],\"scatterternary\":[{\"marker\":{\"colorbar\":{\"outlinewidth\":0,\"ticks\":\"\"}},\"type\":\"scatterternary\"}],\"surface\":[{\"colorbar\":{\"outlinewidth\":0,\"ticks\":\"\"},\"colorscale\":[[0.0,\"#0d0887\"],[0.1111111111111111,\"#46039f\"],[0.2222222222222222,\"#7201a8\"],[0.3333333333333333,\"#9c179e\"],[0.4444444444444444,\"#bd3786\"],[0.5555555555555556,\"#d8576b\"],[0.6666666666666666,\"#ed7953\"],[0.7777777777777778,\"#fb9f3a\"],[0.8888888888888888,\"#fdca26\"],[1.0,\"#f0f921\"]],\"type\":\"surface\"}],\"table\":[{\"cells\":{\"fill\":{\"color\":\"#EBF0F8\"},\"line\":{\"color\":\"white\"}},\"header\":{\"fill\":{\"color\":\"#C8D4E3\"},\"line\":{\"color\":\"white\"}},\"type\":\"table\"}]},\"layout\":{\"annotationdefaults\":{\"arrowcolor\":\"#2a3f5f\",\"arrowhead\":0,\"arrowwidth\":1},\"autotypenumbers\":\"strict\",\"coloraxis\":{\"colorbar\":{\"outlinewidth\":0,\"ticks\":\"\"}},\"colorscale\":{\"diverging\":[[0,\"#8e0152\"],[0.1,\"#c51b7d\"],[0.2,\"#de77ae\"],[0.3,\"#f1b6da\"],[0.4,\"#fde0ef\"],[0.5,\"#f7f7f7\"],[0.6,\"#e6f5d0\"],[0.7,\"#b8e186\"],[0.8,\"#7fbc41\"],[0.9,\"#4d9221\"],[1,\"#276419\"]],\"sequential\":[[0.0,\"#0d0887\"],[0.1111111111111111,\"#46039f\"],[0.2222222222222222,\"#7201a8\"],[0.3333333333333333,\"#9c179e\"],[0.4444444444444444,\"#bd3786\"],[0.5555555555555556,\"#d8576b\"],[0.6666666666666666,\"#ed7953\"],[0.7777777777777778,\"#fb9f3a\"],[0.8888888888888888,\"#fdca26\"],[1.0,\"#f0f921\"]],\"sequentialminus\":[[0.0,\"#0d0887\"],[0.1111111111111111,\"#46039f\"],[0.2222222222222222,\"#7201a8\"],[0.3333333333333333,\"#9c179e\"],[0.4444444444444444,\"#bd3786\"],[0.5555555555555556,\"#d8576b\"],[0.6666666666666666,\"#ed7953\"],[0.7777777777777778,\"#fb9f3a\"],[0.8888888888888888,\"#fdca26\"],[1.0,\"#f0f921\"]]},\"colorway\":[\"#636efa\",\"#EF553B\",\"#00cc96\",\"#ab63fa\",\"#FFA15A\",\"#19d3f3\",\"#FF6692\",\"#B6E880\",\"#FF97FF\",\"#FECB52\"],\"font\":{\"color\":\"#2a3f5f\"},\"geo\":{\"bgcolor\":\"white\",\"lakecolor\":\"white\",\"landcolor\":\"#E5ECF6\",\"showlakes\":true,\"showland\":true,\"subunitcolor\":\"white\"},\"hoverlabel\":{\"align\":\"left\"},\"hovermode\":\"closest\",\"mapbox\":{\"style\":\"light\"},\"paper_bgcolor\":\"white\",\"plot_bgcolor\":\"#E5ECF6\",\"polar\":{\"angularaxis\":{\"gridcolor\":\"white\",\"linecolor\":\"white\",\"ticks\":\"\"},\"bgcolor\":\"#E5ECF6\",\"radialaxis\":{\"gridcolor\":\"white\",\"linecolor\":\"white\",\"ticks\":\"\"}},\"scene\":{\"xaxis\":{\"backgroundcolor\":\"#E5ECF6\",\"gridcolor\":\"white\",\"gridwidth\":2,\"linecolor\":\"white\",\"showbackground\":true,\"ticks\":\"\",\"zerolinecolor\":\"white\"},\"yaxis\":{\"backgroundcolor\":\"#E5ECF6\",\"gridcolor\":\"white\",\"gridwidth\":2,\"linecolor\":\"white\",\"showbackground\":true,\"ticks\":\"\",\"zerolinecolor\":\"white\"},\"zaxis\":{\"backgroundcolor\":\"#E5ECF6\",\"gridcolor\":\"white\",\"gridwidth\":2,\"linecolor\":\"white\",\"showbackground\":true,\"ticks\":\"\",\"zerolinecolor\":\"white\"}},\"shapedefaults\":{\"line\":{\"color\":\"#2a3f5f\"}},\"ternary\":{\"aaxis\":{\"gridcolor\":\"white\",\"linecolor\":\"white\",\"ticks\":\"\"},\"baxis\":{\"gridcolor\":\"white\",\"linecolor\":\"white\",\"ticks\":\"\"},\"bgcolor\":\"#E5ECF6\",\"caxis\":{\"gridcolor\":\"white\",\"linecolor\":\"white\",\"ticks\":\"\"}},\"title\":{\"x\":0.05},\"xaxis\":{\"automargin\":true,\"gridcolor\":\"white\",\"linecolor\":\"white\",\"ticks\":\"\",\"title\":{\"standoff\":15},\"zerolinecolor\":\"white\",\"zerolinewidth\":2},\"yaxis\":{\"automargin\":true,\"gridcolor\":\"white\",\"linecolor\":\"white\",\"ticks\":\"\",\"title\":{\"standoff\":15},\"zerolinecolor\":\"white\",\"zerolinewidth\":2}}},\"xaxis\":{\"anchor\":\"y\",\"domain\":[0.0,0.94],\"title\":{\"text\":\"Games\"}},\"yaxis\":{\"anchor\":\"x\",\"domain\":[0.0,1.0],\"title\":{\"text\":\"Tournaments of Games\"}},\"yaxis2\":{\"anchor\":\"x\",\"overlaying\":\"y\",\"side\":\"right\",\"title\":{\"text\":\"Earnings of Games\"}},\"title\":{\"text\":\"Tournaments and Earnings of Games\"}},                        {\"responsive\": true}                    ).then(function(){\n",
       "                            \n",
       "var gd = document.getElementById('609e19ba-e6fb-41cb-b6d8-84c75dd02af5');\n",
       "var x = new MutationObserver(function (mutations, observer) {{\n",
       "        var display = window.getComputedStyle(gd).display;\n",
       "        if (!display || display === 'none') {{\n",
       "            console.log([gd, 'removed!']);\n",
       "            Plotly.purge(gd);\n",
       "            observer.disconnect();\n",
       "        }}\n",
       "}});\n",
       "\n",
       "// Listen for the removal of the full notebook cells\n",
       "var notebookContainer = gd.closest('#notebook-container');\n",
       "if (notebookContainer) {{\n",
       "    x.observe(notebookContainer, {childList: true});\n",
       "}}\n",
       "\n",
       "// Listen for the clearing of the current output cell\n",
       "var outputEl = gd.closest('.output');\n",
       "if (outputEl) {{\n",
       "    x.observe(outputEl, {childList: true});\n",
       "}}\n",
       "\n",
       "                        })                };                });            </script>        </div>"
      ]
     },
     "metadata": {},
     "output_type": "display_data"
    }
   ],
   "source": [
    "#Show all the different games and prize money sums in the dataset\n",
    "popularity_game = pd.DataFrame(teams_df.groupby('Game')['TotalTournaments'].sum().reset_index())\n",
    "earnings_game = pd.DataFrame(teams_df.groupby('Game')['TotalUSDPrize'].sum().reset_index())\n",
    "\n",
    "\n",
    "# Create figure with secondary y-axis\n",
    "fig = make_subplots(specs=[[{\"secondary_y\": True}]])\n",
    "\n",
    "# Add traces\n",
    "fig.add_trace(\n",
    "    go.Bar(x=popularity_game['Game'].tolist(), y=popularity_per_game['TotalTournaments'].tolist(), name=\"Tournaments of Games\",\n",
    "    offsetgroup=0),\n",
    "    secondary_y=False\n",
    ")\n",
    "\n",
    "fig.add_trace(\n",
    "    go.Bar(x=earnings_game['Game'].tolist(), y=earnings_per_game['TotalUSDPrize'].tolist(), name=\"Earnings of Games\",\n",
    "    offsetgroup=1),\n",
    "    secondary_y=True\n",
    ")\n",
    "\n",
    "# Add figure title\n",
    "fig.update_layout(\n",
    "    title_text=\"Tournaments and Earnings of Games\"\n",
    ")\n",
    "\n",
    "\n",
    "# Set x-axis title\n",
    "fig.update_xaxes(title_text=\"Games\")\n",
    "\n",
    "# Set y-axes titles\n",
    "fig.update_yaxes(title_text=\"Tournaments of Games\", secondary_y=False)\n",
    "fig.update_yaxes(title_text=\"Earnings of Games\", secondary_y=True)\n",
    "\n",
    "fig.show()"
   ]
  },
  {
   "cell_type": "markdown",
   "id": "05960a69-2bfa-4935-9644-f9d7787e66ac",
   "metadata": {},
   "source": [
    "From this we can see that actually Starcraft II has the lion share of tournaments, followed by CSGO, Dota 2 and League of Legends. In fact, Starcraft 2 has more than 2X as much tournaments as CSGO. However, this is likely due to how long the game has been released (2010)"
   ]
  },
  {
   "cell_type": "code",
   "execution_count": 86,
   "id": "abdb4b96-e9fc-4ced-95b7-1ead4174fe76",
   "metadata": {},
   "outputs": [
    {
     "data": {
      "text/plain": [
       "Game\n",
       "Starcraft II                        81.0\n",
       "Counter-Strike: Global Offensive    49.5\n",
       "League of Legends                   22.0\n",
       "Dota 2                              15.0\n",
       "Heroes of the Storm                  9.0\n",
       "PUBG                                 7.0\n",
       "Overwatch                            6.0\n",
       "Fortnite                             5.5\n",
       "Hearthstone                          4.0\n",
       "Arena of Valor                       2.0\n",
       "Name: TotalTournaments, dtype: float64"
      ]
     },
     "execution_count": 86,
     "metadata": {},
     "output_type": "execute_result"
    }
   ],
   "source": [
    "# median Tournaments by game\n",
    "teams_df.groupby('Game')['TotalTournaments'].median().sort_values(ascending = False)"
   ]
  },
  {
   "cell_type": "code",
   "execution_count": 93,
   "id": "e6dd490b-70b9-4bb3-b43d-85e81df73e95",
   "metadata": {},
   "outputs": [
    {
     "data": {
      "text/plain": [
       "Game\n",
       "Dota 2                              2.202828e+08\n",
       "Counter-Strike: Global Offensive    8.485393e+07\n",
       "League of Legends                   6.466556e+07\n",
       "Fortnite                            3.466133e+07\n",
       "Starcraft II                        2.785615e+07\n",
       "Overwatch                           2.046527e+07\n",
       "PUBG                                1.671500e+07\n",
       "Hearthstone                         1.086453e+07\n",
       "Heroes of the Storm                 1.071052e+07\n",
       "Arena of Valor                      9.969149e+06\n",
       "Name: TotalUSDPrize, dtype: float64"
      ]
     },
     "execution_count": 93,
     "metadata": {},
     "output_type": "execute_result"
    }
   ],
   "source": [
    "# sum USDprize by game\n",
    "teams_df.groupby('Game')['TotalUSDPrize'].sum().sort_values(ascending = False)"
   ]
  },
  {
   "cell_type": "code",
   "execution_count": 85,
   "id": "9194cf1a-49dc-47b6-9a20-5e15b6a501a7",
   "metadata": {},
   "outputs": [
    {
     "data": {
      "text/plain": [
       "Game\n",
       "Counter-Strike: Global Offensive    326472.645\n",
       "League of Legends                   262743.475\n",
       "Dota 2                              253425.200\n",
       "Starcraft II                        131583.605\n",
       "Overwatch                            72472.210\n",
       "PUBG                                 71411.350\n",
       "Fortnite                             60919.875\n",
       "Arena of Valor                       58750.000\n",
       "Heroes of the Storm                  41687.500\n",
       "Hearthstone                           9859.875\n",
       "Name: TotalUSDPrize, dtype: float64"
      ]
     },
     "execution_count": 85,
     "metadata": {},
     "output_type": "execute_result"
    }
   ],
   "source": [
    "# median USDprize by game\n",
    "teams_df.groupby('Game')['TotalUSDPrize'].median().sort_values(ascending = False)"
   ]
  },
  {
   "cell_type": "code",
   "execution_count": 89,
   "id": "dfe97b65-964a-4242-a9ed-9095ea155734",
   "metadata": {},
   "outputs": [
    {
     "data": {
      "text/plain": [
       "Genre\n",
       "Multiplayer Online Battle Arena    3.056280e+08\n",
       "First-Person Shooter               1.053192e+08\n",
       "Battle Royale                      5.137633e+07\n",
       "Strategy                           2.785615e+07\n",
       "Collectible Card Game              1.086453e+07\n",
       "Name: TotalUSDPrize, dtype: float64"
      ]
     },
     "execution_count": 89,
     "metadata": {},
     "output_type": "execute_result"
    }
   ],
   "source": [
    "# sum USDPrize by Genre\n",
    "teams_df.groupby('Genre')['TotalUSDPrize'].sum('TotalUSDPrize').sort_values(ascending=False)"
   ]
  },
  {
   "cell_type": "code",
   "execution_count": 90,
   "id": "a598f4b9-9879-4726-a618-6147ed5662bc",
   "metadata": {},
   "outputs": [
    {
     "data": {
      "text/plain": [
       "Genre\n",
       "Multiplayer Online Battle Arena    165896.250\n",
       "First-Person Shooter               143829.405\n",
       "Strategy                           131583.605\n",
       "Battle Royale                       66771.915\n",
       "Collectible Card Game                9859.875\n",
       "Name: TotalUSDPrize, dtype: float64"
      ]
     },
     "execution_count": 90,
     "metadata": {},
     "output_type": "execute_result"
    }
   ],
   "source": [
    "#Show the average amount of prize money the team have won based on Genre\n",
    "# median USDPrize by Genre\n",
    "teams_df.groupby('Genre')['TotalUSDPrize'].median('TotalUSDPrize').sort_values(ascending=False)"
   ]
  },
  {
   "cell_type": "markdown",
   "id": "457d2569-eca7-420a-a0c7-412bbfe68022",
   "metadata": {},
   "source": [
    "Based of the various groupby tables, we have\n",
    "While it's true that MOBO brings in the highest total USD Prize won and average earnings, the median earnings for individual FPS players are highest. In addition, it should be mentioned that MOBA games has the highest number of competitors within the dataset. This could signify 1 of 2 things.\n",
    "\n",
    "1) The dataset is not representative of other generes\n",
    "\n",
    "2) MOBA is indeed the most popular and thus could explain the higher amount of money earned by pros since there would be more viewership"
   ]
  },
  {
   "cell_type": "markdown",
   "id": "277898c3-9aad-4a7e-9252-67d7b6863011",
   "metadata": {},
   "source": [
    "### Part2 Explore players Data"
   ]
  },
  {
   "cell_type": "code",
   "execution_count": 18,
   "id": "565e0e1e-e807-4110-b8f3-430da478b9d2",
   "metadata": {},
   "outputs": [
    {
     "data": {
      "text/html": [
       "<div>\n",
       "<style scoped>\n",
       "    .dataframe tbody tr th:only-of-type {\n",
       "        vertical-align: middle;\n",
       "    }\n",
       "\n",
       "    .dataframe tbody tr th {\n",
       "        vertical-align: top;\n",
       "    }\n",
       "\n",
       "    .dataframe thead th {\n",
       "        text-align: right;\n",
       "    }\n",
       "</style>\n",
       "<table border=\"1\" class=\"dataframe\">\n",
       "  <thead>\n",
       "    <tr style=\"text-align: right;\">\n",
       "      <th></th>\n",
       "      <th>PlayerId</th>\n",
       "      <th>NameFirst</th>\n",
       "      <th>NameLast</th>\n",
       "      <th>CurrentHandle</th>\n",
       "      <th>CountryCode</th>\n",
       "      <th>TotalUSDPrize</th>\n",
       "      <th>Game</th>\n",
       "      <th>Genre</th>\n",
       "    </tr>\n",
       "  </thead>\n",
       "  <tbody>\n",
       "    <tr>\n",
       "      <th>0</th>\n",
       "      <td>3883</td>\n",
       "      <td>Peter</td>\n",
       "      <td>Rasmussen</td>\n",
       "      <td>dupreeh</td>\n",
       "      <td>dk</td>\n",
       "      <td>1822989.41</td>\n",
       "      <td>Counter-Strike: Global Offensive</td>\n",
       "      <td>First-Person Shooter</td>\n",
       "    </tr>\n",
       "    <tr>\n",
       "      <th>1</th>\n",
       "      <td>3679</td>\n",
       "      <td>Andreas</td>\n",
       "      <td>Højsleth</td>\n",
       "      <td>Xyp9x</td>\n",
       "      <td>dk</td>\n",
       "      <td>1799288.57</td>\n",
       "      <td>Counter-Strike: Global Offensive</td>\n",
       "      <td>First-Person Shooter</td>\n",
       "    </tr>\n",
       "    <tr>\n",
       "      <th>2</th>\n",
       "      <td>3885</td>\n",
       "      <td>Nicolai</td>\n",
       "      <td>Reedtz</td>\n",
       "      <td>dev1ce</td>\n",
       "      <td>dk</td>\n",
       "      <td>1787489.88</td>\n",
       "      <td>Counter-Strike: Global Offensive</td>\n",
       "      <td>First-Person Shooter</td>\n",
       "    </tr>\n",
       "    <tr>\n",
       "      <th>3</th>\n",
       "      <td>3672</td>\n",
       "      <td>Lukas</td>\n",
       "      <td>Rossander</td>\n",
       "      <td>gla1ve</td>\n",
       "      <td>dk</td>\n",
       "      <td>1652350.75</td>\n",
       "      <td>Counter-Strike: Global Offensive</td>\n",
       "      <td>First-Person Shooter</td>\n",
       "    </tr>\n",
       "    <tr>\n",
       "      <th>4</th>\n",
       "      <td>17800</td>\n",
       "      <td>Emil</td>\n",
       "      <td>Reif</td>\n",
       "      <td>Magisk</td>\n",
       "      <td>dk</td>\n",
       "      <td>1416448.64</td>\n",
       "      <td>Counter-Strike: Global Offensive</td>\n",
       "      <td>First-Person Shooter</td>\n",
       "    </tr>\n",
       "    <tr>\n",
       "      <th>...</th>\n",
       "      <td>...</td>\n",
       "      <td>...</td>\n",
       "      <td>...</td>\n",
       "      <td>...</td>\n",
       "      <td>...</td>\n",
       "      <td>...</td>\n",
       "      <td>...</td>\n",
       "      <td>...</td>\n",
       "    </tr>\n",
       "    <tr>\n",
       "      <th>995</th>\n",
       "      <td>7400</td>\n",
       "      <td>Janne</td>\n",
       "      <td>Mikkonen</td>\n",
       "      <td>Savjz</td>\n",
       "      <td>fi</td>\n",
       "      <td>50734.44</td>\n",
       "      <td>Hearthstone</td>\n",
       "      <td>Collectible Card Game</td>\n",
       "    </tr>\n",
       "    <tr>\n",
       "      <th>996</th>\n",
       "      <td>3255</td>\n",
       "      <td>Drew</td>\n",
       "      <td>Biessener</td>\n",
       "      <td>Tidesoftime</td>\n",
       "      <td>us</td>\n",
       "      <td>50449.60</td>\n",
       "      <td>Hearthstone</td>\n",
       "      <td>Collectible Card Game</td>\n",
       "    </tr>\n",
       "    <tr>\n",
       "      <th>997</th>\n",
       "      <td>49164</td>\n",
       "      <td>Simone</td>\n",
       "      <td>Liguori</td>\n",
       "      <td>Leta</td>\n",
       "      <td>it</td>\n",
       "      <td>49300.00</td>\n",
       "      <td>Hearthstone</td>\n",
       "      <td>Collectible Card Game</td>\n",
       "    </tr>\n",
       "    <tr>\n",
       "      <th>998</th>\n",
       "      <td>43043</td>\n",
       "      <td>Mike</td>\n",
       "      <td>Eichner</td>\n",
       "      <td>Ike</td>\n",
       "      <td>us</td>\n",
       "      <td>48550.00</td>\n",
       "      <td>Hearthstone</td>\n",
       "      <td>Collectible Card Game</td>\n",
       "    </tr>\n",
       "    <tr>\n",
       "      <th>999</th>\n",
       "      <td>1100</td>\n",
       "      <td>Jeffrey</td>\n",
       "      <td>Brusi</td>\n",
       "      <td>SjoW</td>\n",
       "      <td>se</td>\n",
       "      <td>47973.61</td>\n",
       "      <td>Hearthstone</td>\n",
       "      <td>Collectible Card Game</td>\n",
       "    </tr>\n",
       "  </tbody>\n",
       "</table>\n",
       "<p>1000 rows × 8 columns</p>\n",
       "</div>"
      ],
      "text/plain": [
       "     PlayerId NameFirst   NameLast CurrentHandle CountryCode  TotalUSDPrize  \\\n",
       "0        3883     Peter  Rasmussen       dupreeh          dk     1822989.41   \n",
       "1        3679   Andreas   Højsleth         Xyp9x          dk     1799288.57   \n",
       "2        3885   Nicolai     Reedtz        dev1ce          dk     1787489.88   \n",
       "3        3672     Lukas  Rossander        gla1ve          dk     1652350.75   \n",
       "4       17800      Emil       Reif        Magisk          dk     1416448.64   \n",
       "..        ...       ...        ...           ...         ...            ...   \n",
       "995      7400     Janne   Mikkonen         Savjz          fi       50734.44   \n",
       "996      3255      Drew  Biessener   Tidesoftime          us       50449.60   \n",
       "997     49164    Simone    Liguori          Leta          it       49300.00   \n",
       "998     43043      Mike    Eichner           Ike          us       48550.00   \n",
       "999      1100   Jeffrey      Brusi          SjoW          se       47973.61   \n",
       "\n",
       "                                 Game                  Genre  \n",
       "0    Counter-Strike: Global Offensive   First-Person Shooter  \n",
       "1    Counter-Strike: Global Offensive   First-Person Shooter  \n",
       "2    Counter-Strike: Global Offensive   First-Person Shooter  \n",
       "3    Counter-Strike: Global Offensive   First-Person Shooter  \n",
       "4    Counter-Strike: Global Offensive   First-Person Shooter  \n",
       "..                                ...                    ...  \n",
       "995                       Hearthstone  Collectible Card Game  \n",
       "996                       Hearthstone  Collectible Card Game  \n",
       "997                       Hearthstone  Collectible Card Game  \n",
       "998                       Hearthstone  Collectible Card Game  \n",
       "999                       Hearthstone  Collectible Card Game  \n",
       "\n",
       "[1000 rows x 8 columns]"
      ]
     },
     "execution_count": 18,
     "metadata": {},
     "output_type": "execute_result"
    }
   ],
   "source": [
    "players_df"
   ]
  },
  {
   "cell_type": "code",
   "execution_count": 29,
   "id": "8a99d959-d642-4912-b37a-b5fca2ea666e",
   "metadata": {},
   "outputs": [
    {
     "data": {
      "text/plain": [
       "Counter-Strike: Global Offensive    100\n",
       "Dota 2                              100\n",
       "League of Legends                   100\n",
       "Fortnite                            100\n",
       "Overwatch                           100\n",
       "Starcraft II                        100\n",
       "Heroes of the Storm                 100\n",
       "PUBG                                100\n",
       "Arena of Valor                      100\n",
       "Hearthstone                         100\n",
       "Name: Game, dtype: int64"
      ]
     },
     "execution_count": 29,
     "metadata": {},
     "output_type": "execute_result"
    }
   ],
   "source": [
    "#Show the number of players for each game in the dataset\n",
    "players_df['Game'].value_counts()"
   ]
  },
  {
   "cell_type": "code",
   "execution_count": 30,
   "id": "4596ba93-5e8f-4aea-9f9e-21754b4bd3cb",
   "metadata": {},
   "outputs": [],
   "source": [
    "#join the country information and players information\n",
    "country_df = country_df.rename(columns={'Two_Letter_Country_Code':'CountryCode'})\n",
    "players_df['CountryCode'] = players_df['CountryCode'].apply(lambda x: x.upper())\n",
    "players_new = pd.merge(players_df, country_df, how='left', on='CountryCode')"
   ]
  },
  {
   "cell_type": "code",
   "execution_count": 31,
   "id": "f55d86f4-43e0-413a-9ca6-3124e267c1ea",
   "metadata": {},
   "outputs": [
    {
     "data": {
      "text/html": [
       "<div>\n",
       "<style scoped>\n",
       "    .dataframe tbody tr th:only-of-type {\n",
       "        vertical-align: middle;\n",
       "    }\n",
       "\n",
       "    .dataframe tbody tr th {\n",
       "        vertical-align: top;\n",
       "    }\n",
       "\n",
       "    .dataframe thead th {\n",
       "        text-align: right;\n",
       "    }\n",
       "</style>\n",
       "<table border=\"1\" class=\"dataframe\">\n",
       "  <thead>\n",
       "    <tr style=\"text-align: right;\">\n",
       "      <th></th>\n",
       "      <th>PlayerId</th>\n",
       "      <th>NameFirst</th>\n",
       "      <th>NameLast</th>\n",
       "      <th>CurrentHandle</th>\n",
       "      <th>CountryCode</th>\n",
       "      <th>TotalUSDPrize</th>\n",
       "      <th>Game</th>\n",
       "      <th>Genre</th>\n",
       "      <th>Continent_Name</th>\n",
       "      <th>Continent_Code</th>\n",
       "      <th>Country_Name</th>\n",
       "      <th>Three_Letter_Country_Code</th>\n",
       "      <th>Country_Number</th>\n",
       "    </tr>\n",
       "  </thead>\n",
       "  <tbody>\n",
       "    <tr>\n",
       "      <th>0</th>\n",
       "      <td>3883</td>\n",
       "      <td>Peter</td>\n",
       "      <td>Rasmussen</td>\n",
       "      <td>dupreeh</td>\n",
       "      <td>DK</td>\n",
       "      <td>1822989.41</td>\n",
       "      <td>Counter-Strike: Global Offensive</td>\n",
       "      <td>First-Person Shooter</td>\n",
       "      <td>Europe</td>\n",
       "      <td>EU</td>\n",
       "      <td>Denmark</td>\n",
       "      <td>DNK</td>\n",
       "      <td>208.0</td>\n",
       "    </tr>\n",
       "    <tr>\n",
       "      <th>1</th>\n",
       "      <td>3679</td>\n",
       "      <td>Andreas</td>\n",
       "      <td>Højsleth</td>\n",
       "      <td>Xyp9x</td>\n",
       "      <td>DK</td>\n",
       "      <td>1799288.57</td>\n",
       "      <td>Counter-Strike: Global Offensive</td>\n",
       "      <td>First-Person Shooter</td>\n",
       "      <td>Europe</td>\n",
       "      <td>EU</td>\n",
       "      <td>Denmark</td>\n",
       "      <td>DNK</td>\n",
       "      <td>208.0</td>\n",
       "    </tr>\n",
       "    <tr>\n",
       "      <th>2</th>\n",
       "      <td>3885</td>\n",
       "      <td>Nicolai</td>\n",
       "      <td>Reedtz</td>\n",
       "      <td>dev1ce</td>\n",
       "      <td>DK</td>\n",
       "      <td>1787489.88</td>\n",
       "      <td>Counter-Strike: Global Offensive</td>\n",
       "      <td>First-Person Shooter</td>\n",
       "      <td>Europe</td>\n",
       "      <td>EU</td>\n",
       "      <td>Denmark</td>\n",
       "      <td>DNK</td>\n",
       "      <td>208.0</td>\n",
       "    </tr>\n",
       "    <tr>\n",
       "      <th>3</th>\n",
       "      <td>3672</td>\n",
       "      <td>Lukas</td>\n",
       "      <td>Rossander</td>\n",
       "      <td>gla1ve</td>\n",
       "      <td>DK</td>\n",
       "      <td>1652350.75</td>\n",
       "      <td>Counter-Strike: Global Offensive</td>\n",
       "      <td>First-Person Shooter</td>\n",
       "      <td>Europe</td>\n",
       "      <td>EU</td>\n",
       "      <td>Denmark</td>\n",
       "      <td>DNK</td>\n",
       "      <td>208.0</td>\n",
       "    </tr>\n",
       "    <tr>\n",
       "      <th>4</th>\n",
       "      <td>17800</td>\n",
       "      <td>Emil</td>\n",
       "      <td>Reif</td>\n",
       "      <td>Magisk</td>\n",
       "      <td>DK</td>\n",
       "      <td>1416448.64</td>\n",
       "      <td>Counter-Strike: Global Offensive</td>\n",
       "      <td>First-Person Shooter</td>\n",
       "      <td>Europe</td>\n",
       "      <td>EU</td>\n",
       "      <td>Denmark</td>\n",
       "      <td>DNK</td>\n",
       "      <td>208.0</td>\n",
       "    </tr>\n",
       "    <tr>\n",
       "      <th>...</th>\n",
       "      <td>...</td>\n",
       "      <td>...</td>\n",
       "      <td>...</td>\n",
       "      <td>...</td>\n",
       "      <td>...</td>\n",
       "      <td>...</td>\n",
       "      <td>...</td>\n",
       "      <td>...</td>\n",
       "      <td>...</td>\n",
       "      <td>...</td>\n",
       "      <td>...</td>\n",
       "      <td>...</td>\n",
       "      <td>...</td>\n",
       "    </tr>\n",
       "    <tr>\n",
       "      <th>1027</th>\n",
       "      <td>7400</td>\n",
       "      <td>Janne</td>\n",
       "      <td>Mikkonen</td>\n",
       "      <td>Savjz</td>\n",
       "      <td>FI</td>\n",
       "      <td>50734.44</td>\n",
       "      <td>Hearthstone</td>\n",
       "      <td>Collectible Card Game</td>\n",
       "      <td>Europe</td>\n",
       "      <td>EU</td>\n",
       "      <td>Finland</td>\n",
       "      <td>FIN</td>\n",
       "      <td>246.0</td>\n",
       "    </tr>\n",
       "    <tr>\n",
       "      <th>1028</th>\n",
       "      <td>3255</td>\n",
       "      <td>Drew</td>\n",
       "      <td>Biessener</td>\n",
       "      <td>Tidesoftime</td>\n",
       "      <td>US</td>\n",
       "      <td>50449.60</td>\n",
       "      <td>Hearthstone</td>\n",
       "      <td>Collectible Card Game</td>\n",
       "      <td>North America</td>\n",
       "      <td>NaN</td>\n",
       "      <td>United States of America</td>\n",
       "      <td>USA</td>\n",
       "      <td>840.0</td>\n",
       "    </tr>\n",
       "    <tr>\n",
       "      <th>1029</th>\n",
       "      <td>49164</td>\n",
       "      <td>Simone</td>\n",
       "      <td>Liguori</td>\n",
       "      <td>Leta</td>\n",
       "      <td>IT</td>\n",
       "      <td>49300.00</td>\n",
       "      <td>Hearthstone</td>\n",
       "      <td>Collectible Card Game</td>\n",
       "      <td>Europe</td>\n",
       "      <td>EU</td>\n",
       "      <td>Italy</td>\n",
       "      <td>ITA</td>\n",
       "      <td>380.0</td>\n",
       "    </tr>\n",
       "    <tr>\n",
       "      <th>1030</th>\n",
       "      <td>43043</td>\n",
       "      <td>Mike</td>\n",
       "      <td>Eichner</td>\n",
       "      <td>Ike</td>\n",
       "      <td>US</td>\n",
       "      <td>48550.00</td>\n",
       "      <td>Hearthstone</td>\n",
       "      <td>Collectible Card Game</td>\n",
       "      <td>North America</td>\n",
       "      <td>NaN</td>\n",
       "      <td>United States of America</td>\n",
       "      <td>USA</td>\n",
       "      <td>840.0</td>\n",
       "    </tr>\n",
       "    <tr>\n",
       "      <th>1031</th>\n",
       "      <td>1100</td>\n",
       "      <td>Jeffrey</td>\n",
       "      <td>Brusi</td>\n",
       "      <td>SjoW</td>\n",
       "      <td>SE</td>\n",
       "      <td>47973.61</td>\n",
       "      <td>Hearthstone</td>\n",
       "      <td>Collectible Card Game</td>\n",
       "      <td>Europe</td>\n",
       "      <td>EU</td>\n",
       "      <td>Sweden</td>\n",
       "      <td>SWE</td>\n",
       "      <td>752.0</td>\n",
       "    </tr>\n",
       "  </tbody>\n",
       "</table>\n",
       "<p>1032 rows × 13 columns</p>\n",
       "</div>"
      ],
      "text/plain": [
       "      PlayerId NameFirst   NameLast CurrentHandle CountryCode  TotalUSDPrize  \\\n",
       "0         3883     Peter  Rasmussen       dupreeh          DK     1822989.41   \n",
       "1         3679   Andreas   Højsleth         Xyp9x          DK     1799288.57   \n",
       "2         3885   Nicolai     Reedtz        dev1ce          DK     1787489.88   \n",
       "3         3672     Lukas  Rossander        gla1ve          DK     1652350.75   \n",
       "4        17800      Emil       Reif        Magisk          DK     1416448.64   \n",
       "...        ...       ...        ...           ...         ...            ...   \n",
       "1027      7400     Janne   Mikkonen         Savjz          FI       50734.44   \n",
       "1028      3255      Drew  Biessener   Tidesoftime          US       50449.60   \n",
       "1029     49164    Simone    Liguori          Leta          IT       49300.00   \n",
       "1030     43043      Mike    Eichner           Ike          US       48550.00   \n",
       "1031      1100   Jeffrey      Brusi          SjoW          SE       47973.61   \n",
       "\n",
       "                                  Game                  Genre Continent_Name  \\\n",
       "0     Counter-Strike: Global Offensive   First-Person Shooter         Europe   \n",
       "1     Counter-Strike: Global Offensive   First-Person Shooter         Europe   \n",
       "2     Counter-Strike: Global Offensive   First-Person Shooter         Europe   \n",
       "3     Counter-Strike: Global Offensive   First-Person Shooter         Europe   \n",
       "4     Counter-Strike: Global Offensive   First-Person Shooter         Europe   \n",
       "...                                ...                    ...            ...   \n",
       "1027                       Hearthstone  Collectible Card Game         Europe   \n",
       "1028                       Hearthstone  Collectible Card Game  North America   \n",
       "1029                       Hearthstone  Collectible Card Game         Europe   \n",
       "1030                       Hearthstone  Collectible Card Game  North America   \n",
       "1031                       Hearthstone  Collectible Card Game         Europe   \n",
       "\n",
       "     Continent_Code              Country_Name Three_Letter_Country_Code  \\\n",
       "0                EU                   Denmark                       DNK   \n",
       "1                EU                   Denmark                       DNK   \n",
       "2                EU                   Denmark                       DNK   \n",
       "3                EU                   Denmark                       DNK   \n",
       "4                EU                   Denmark                       DNK   \n",
       "...             ...                       ...                       ...   \n",
       "1027             EU                   Finland                       FIN   \n",
       "1028            NaN  United States of America                       USA   \n",
       "1029             EU                     Italy                       ITA   \n",
       "1030            NaN  United States of America                       USA   \n",
       "1031             EU                    Sweden                       SWE   \n",
       "\n",
       "      Country_Number  \n",
       "0              208.0  \n",
       "1              208.0  \n",
       "2              208.0  \n",
       "3              208.0  \n",
       "4              208.0  \n",
       "...              ...  \n",
       "1027           246.0  \n",
       "1028           840.0  \n",
       "1029           380.0  \n",
       "1030           840.0  \n",
       "1031           752.0  \n",
       "\n",
       "[1032 rows x 13 columns]"
      ]
     },
     "execution_count": 31,
     "metadata": {},
     "output_type": "execute_result"
    }
   ],
   "source": [
    "#country name cleaning\n",
    "def name_cleaning(country):\n",
    "    country = country.split(',')\n",
    "    return country[0]\n",
    "players_new['Country_Name'] = players_new['Country_Name'].apply(name_cleaning)\n",
    "players_new['Country_Name'].unique()\n",
    "players_new"
   ]
  },
  {
   "cell_type": "code",
   "execution_count": 78,
   "id": "73291bcc-7d9e-4777-87e7-ec5789b57201",
   "metadata": {},
   "outputs": [
    {
     "data": {
      "text/plain": [
       "Korea                       251\n",
       "China                       168\n",
       "United States of America    114\n",
       "Sweden                       45\n",
       "Russian Federation           44\n",
       "Canada                       37\n",
       "France                       37\n",
       "Denmark                      36\n",
       "Taiwan                       34\n",
       "Germany                      30\n",
       "Name: Country_Name, dtype: int64"
      ]
     },
     "execution_count": 78,
     "metadata": {},
     "output_type": "execute_result"
    }
   ],
   "source": [
    "# It could be interesting to find out which countries have the most esports players.\n",
    "players_per_country = players_new['Country_Name'].value_counts()\n",
    "\n",
    "#Select the top 10 countries with most players in the dataset\n",
    "top10 = players_per_country.nlargest(10)\n",
    "top10"
   ]
  },
  {
   "cell_type": "code",
   "execution_count": 79,
   "id": "e8bf5ad3-052e-4e38-a0f8-7086bd85ba19",
   "metadata": {},
   "outputs": [
    {
     "data": {
      "text/html": [
       "<div>\n",
       "<style scoped>\n",
       "    .dataframe tbody tr th:only-of-type {\n",
       "        vertical-align: middle;\n",
       "    }\n",
       "\n",
       "    .dataframe tbody tr th {\n",
       "        vertical-align: top;\n",
       "    }\n",
       "\n",
       "    .dataframe thead th {\n",
       "        text-align: right;\n",
       "    }\n",
       "</style>\n",
       "<table border=\"1\" class=\"dataframe\">\n",
       "  <thead>\n",
       "    <tr style=\"text-align: right;\">\n",
       "      <th></th>\n",
       "      <th>Game</th>\n",
       "      <th>CurrentHandle</th>\n",
       "      <th>Country_Name</th>\n",
       "      <th>Continent_Name</th>\n",
       "    </tr>\n",
       "  </thead>\n",
       "  <tbody>\n",
       "    <tr>\n",
       "      <th>0</th>\n",
       "      <td>Counter-Strike: Global Offensive</td>\n",
       "      <td>dupreeh</td>\n",
       "      <td>Denmark</td>\n",
       "      <td>Europe</td>\n",
       "    </tr>\n",
       "    <tr>\n",
       "      <th>112</th>\n",
       "      <td>Dota 2</td>\n",
       "      <td>N0tail</td>\n",
       "      <td>Denmark</td>\n",
       "      <td>Europe</td>\n",
       "    </tr>\n",
       "    <tr>\n",
       "      <th>216</th>\n",
       "      <td>League of Legends</td>\n",
       "      <td>Faker</td>\n",
       "      <td>Korea</td>\n",
       "      <td>Asia</td>\n",
       "    </tr>\n",
       "    <tr>\n",
       "      <th>316</th>\n",
       "      <td>Fortnite</td>\n",
       "      <td>Bugha</td>\n",
       "      <td>United States of America</td>\n",
       "      <td>North America</td>\n",
       "    </tr>\n",
       "    <tr>\n",
       "      <th>419</th>\n",
       "      <td>Overwatch</td>\n",
       "      <td>Rascal</td>\n",
       "      <td>Korea</td>\n",
       "      <td>Asia</td>\n",
       "    </tr>\n",
       "    <tr>\n",
       "      <th>520</th>\n",
       "      <td>Starcraft II</td>\n",
       "      <td>Serral</td>\n",
       "      <td>Finland</td>\n",
       "      <td>Europe</td>\n",
       "    </tr>\n",
       "    <tr>\n",
       "      <th>620</th>\n",
       "      <td>Heroes of the Storm</td>\n",
       "      <td>KyoCha</td>\n",
       "      <td>Korea</td>\n",
       "      <td>Asia</td>\n",
       "    </tr>\n",
       "    <tr>\n",
       "      <th>720</th>\n",
       "      <td>PUBG</td>\n",
       "      <td>Loki</td>\n",
       "      <td>Korea</td>\n",
       "      <td>Asia</td>\n",
       "    </tr>\n",
       "    <tr>\n",
       "      <th>827</th>\n",
       "      <td>Arena of Valor</td>\n",
       "      <td>Cat</td>\n",
       "      <td>China</td>\n",
       "      <td>Asia</td>\n",
       "    </tr>\n",
       "    <tr>\n",
       "      <th>927</th>\n",
       "      <td>Hearthstone</td>\n",
       "      <td>Thijs</td>\n",
       "      <td>Netherlands</td>\n",
       "      <td>Europe</td>\n",
       "    </tr>\n",
       "  </tbody>\n",
       "</table>\n",
       "</div>"
      ],
      "text/plain": [
       "                                 Game CurrentHandle              Country_Name  \\\n",
       "0    Counter-Strike: Global Offensive       dupreeh                   Denmark   \n",
       "112                            Dota 2        N0tail                   Denmark   \n",
       "216                 League of Legends         Faker                     Korea   \n",
       "316                          Fortnite         Bugha  United States of America   \n",
       "419                         Overwatch        Rascal                     Korea   \n",
       "520                      Starcraft II        Serral                   Finland   \n",
       "620               Heroes of the Storm        KyoCha                     Korea   \n",
       "720                              PUBG          Loki                     Korea   \n",
       "827                    Arena of Valor           Cat                     China   \n",
       "927                       Hearthstone         Thijs               Netherlands   \n",
       "\n",
       "    Continent_Name  \n",
       "0           Europe  \n",
       "112         Europe  \n",
       "216           Asia  \n",
       "316  North America  \n",
       "419           Asia  \n",
       "520         Europe  \n",
       "620           Asia  \n",
       "720           Asia  \n",
       "827           Asia  \n",
       "927         Europe  "
      ]
     },
     "execution_count": 79,
     "metadata": {},
     "output_type": "execute_result"
    }
   ],
   "source": [
    "#Show the best earning player for every game in the dataset\n",
    "players_new.groupby('Game').head(1)[['Game', 'CurrentHandle', 'Country_Name', 'Continent_Name']]"
   ]
  },
  {
   "cell_type": "code",
   "execution_count": 91,
   "id": "858d5169-adf2-48b6-af52-c63da9a01cd5",
   "metadata": {},
   "outputs": [
    {
     "data": {
      "text/html": [
       "<div>\n",
       "<style scoped>\n",
       "    .dataframe tbody tr th:only-of-type {\n",
       "        vertical-align: middle;\n",
       "    }\n",
       "\n",
       "    .dataframe tbody tr th {\n",
       "        vertical-align: top;\n",
       "    }\n",
       "\n",
       "    .dataframe thead th {\n",
       "        text-align: right;\n",
       "    }\n",
       "</style>\n",
       "<table border=\"1\" class=\"dataframe\">\n",
       "  <thead>\n",
       "    <tr style=\"text-align: right;\">\n",
       "      <th></th>\n",
       "      <th>Genre</th>\n",
       "      <th>TotalUSDPrize</th>\n",
       "    </tr>\n",
       "  </thead>\n",
       "  <tbody>\n",
       "    <tr>\n",
       "      <th>0</th>\n",
       "      <td>Multiplayer Online Battle Arena</td>\n",
       "      <td>2.409416e+08</td>\n",
       "    </tr>\n",
       "    <tr>\n",
       "      <th>1</th>\n",
       "      <td>First-Person Shooter</td>\n",
       "      <td>7.325530e+07</td>\n",
       "    </tr>\n",
       "    <tr>\n",
       "      <th>2</th>\n",
       "      <td>Battle Royale</td>\n",
       "      <td>5.727101e+07</td>\n",
       "    </tr>\n",
       "    <tr>\n",
       "      <th>3</th>\n",
       "      <td>Strategy</td>\n",
       "      <td>2.537982e+07</td>\n",
       "    </tr>\n",
       "    <tr>\n",
       "      <th>4</th>\n",
       "      <td>Collectible Card Game</td>\n",
       "      <td>1.420638e+07</td>\n",
       "    </tr>\n",
       "  </tbody>\n",
       "</table>\n",
       "</div>"
      ],
      "text/plain": [
       "                             Genre  TotalUSDPrize\n",
       "0  Multiplayer Online Battle Arena   2.409416e+08\n",
       "1             First-Person Shooter   7.325530e+07\n",
       "2                    Battle Royale   5.727101e+07\n",
       "3                         Strategy   2.537982e+07\n",
       "4            Collectible Card Game   1.420638e+07"
      ]
     },
     "execution_count": 91,
     "metadata": {},
     "output_type": "execute_result"
    }
   ],
   "source": [
    "# sum USDPrize by Genre\n",
    "players_new[['Genre', 'TotalUSDPrize']].groupby('Genre').sum().sort_values(by='TotalUSDPrize',ascending=False).reset_index() #median earnings"
   ]
  },
  {
   "cell_type": "code",
   "execution_count": 92,
   "id": "8a345328-a860-4a63-9955-a6c09c92a2e8",
   "metadata": {},
   "outputs": [
    {
     "data": {
      "text/html": [
       "<div>\n",
       "<style scoped>\n",
       "    .dataframe tbody tr th:only-of-type {\n",
       "        vertical-align: middle;\n",
       "    }\n",
       "\n",
       "    .dataframe tbody tr th {\n",
       "        vertical-align: top;\n",
       "    }\n",
       "\n",
       "    .dataframe thead th {\n",
       "        text-align: right;\n",
       "    }\n",
       "</style>\n",
       "<table border=\"1\" class=\"dataframe\">\n",
       "  <thead>\n",
       "    <tr style=\"text-align: right;\">\n",
       "      <th></th>\n",
       "      <th>Genre</th>\n",
       "      <th>TotalUSDPrize</th>\n",
       "    </tr>\n",
       "  </thead>\n",
       "  <tbody>\n",
       "    <tr>\n",
       "      <th>0</th>\n",
       "      <td>First-Person Shooter</td>\n",
       "      <td>269446.780</td>\n",
       "    </tr>\n",
       "    <tr>\n",
       "      <th>1</th>\n",
       "      <td>Multiplayer Online Battle Arena</td>\n",
       "      <td>186745.650</td>\n",
       "    </tr>\n",
       "    <tr>\n",
       "      <th>2</th>\n",
       "      <td>Strategy</td>\n",
       "      <td>162767.105</td>\n",
       "    </tr>\n",
       "    <tr>\n",
       "      <th>3</th>\n",
       "      <td>Battle Royale</td>\n",
       "      <td>158755.420</td>\n",
       "    </tr>\n",
       "    <tr>\n",
       "      <th>4</th>\n",
       "      <td>Collectible Card Game</td>\n",
       "      <td>97593.920</td>\n",
       "    </tr>\n",
       "  </tbody>\n",
       "</table>\n",
       "</div>"
      ],
      "text/plain": [
       "                             Genre  TotalUSDPrize\n",
       "0             First-Person Shooter     269446.780\n",
       "1  Multiplayer Online Battle Arena     186745.650\n",
       "2                         Strategy     162767.105\n",
       "3                    Battle Royale     158755.420\n",
       "4            Collectible Card Game      97593.920"
      ]
     },
     "execution_count": 92,
     "metadata": {},
     "output_type": "execute_result"
    }
   ],
   "source": [
    "# median USDPrize by Genre\n",
    "players_new[['Genre', 'TotalUSDPrize']].groupby('Genre').median().sort_values(by='TotalUSDPrize',ascending=False).reset_index() #median earnings"
   ]
  },
  {
   "cell_type": "code",
   "execution_count": null,
   "id": "9244d9e3-3b34-4ca6-bd34-58550d068fbf",
   "metadata": {},
   "outputs": [],
   "source": [
    "#TODO: player world map"
   ]
  },
  {
   "cell_type": "markdown",
   "id": "7a6f42f2-dcfb-49a2-9c56-18e97f925f07",
   "metadata": {},
   "source": [
    "### Part3 Esports in Country and Continent"
   ]
  },
  {
   "cell_type": "code",
   "execution_count": 68,
   "id": "a7374a17-0f82-46d4-8b9f-dbd05bc58773",
   "metadata": {},
   "outputs": [
    {
     "data": {
      "text/html": [
       "<div>\n",
       "<style scoped>\n",
       "    .dataframe tbody tr th:only-of-type {\n",
       "        vertical-align: middle;\n",
       "    }\n",
       "\n",
       "    .dataframe tbody tr th {\n",
       "        vertical-align: top;\n",
       "    }\n",
       "\n",
       "    .dataframe thead th {\n",
       "        text-align: right;\n",
       "    }\n",
       "</style>\n",
       "<table border=\"1\" class=\"dataframe\">\n",
       "  <thead>\n",
       "    <tr style=\"text-align: right;\">\n",
       "      <th></th>\n",
       "      <th>Country_Name</th>\n",
       "      <th>TotalUSDPrize</th>\n",
       "    </tr>\n",
       "  </thead>\n",
       "  <tbody>\n",
       "    <tr>\n",
       "      <th>0</th>\n",
       "      <td>China</td>\n",
       "      <td>72391878.56</td>\n",
       "    </tr>\n",
       "    <tr>\n",
       "      <th>1</th>\n",
       "      <td>Korea</td>\n",
       "      <td>58441733.71</td>\n",
       "    </tr>\n",
       "    <tr>\n",
       "      <th>2</th>\n",
       "      <td>United States of America</td>\n",
       "      <td>43099381.78</td>\n",
       "    </tr>\n",
       "    <tr>\n",
       "      <th>3</th>\n",
       "      <td>Denmark</td>\n",
       "      <td>26840800.02</td>\n",
       "    </tr>\n",
       "    <tr>\n",
       "      <th>4</th>\n",
       "      <td>Russian Federation</td>\n",
       "      <td>21645785.42</td>\n",
       "    </tr>\n",
       "    <tr>\n",
       "      <th>5</th>\n",
       "      <td>Sweden</td>\n",
       "      <td>20770423.01</td>\n",
       "    </tr>\n",
       "    <tr>\n",
       "      <th>6</th>\n",
       "      <td>Finland</td>\n",
       "      <td>18876262.25</td>\n",
       "    </tr>\n",
       "    <tr>\n",
       "      <th>7</th>\n",
       "      <td>France</td>\n",
       "      <td>15803240.18</td>\n",
       "    </tr>\n",
       "    <tr>\n",
       "      <th>8</th>\n",
       "      <td>Canada</td>\n",
       "      <td>13483648.61</td>\n",
       "    </tr>\n",
       "    <tr>\n",
       "      <th>9</th>\n",
       "      <td>Germany</td>\n",
       "      <td>10143181.56</td>\n",
       "    </tr>\n",
       "  </tbody>\n",
       "</table>\n",
       "</div>"
      ],
      "text/plain": [
       "               Country_Name  TotalUSDPrize\n",
       "0                     China    72391878.56\n",
       "1                     Korea    58441733.71\n",
       "2  United States of America    43099381.78\n",
       "3                   Denmark    26840800.02\n",
       "4        Russian Federation    21645785.42\n",
       "5                    Sweden    20770423.01\n",
       "6                   Finland    18876262.25\n",
       "7                    France    15803240.18\n",
       "8                    Canada    13483648.61\n",
       "9                   Germany    10143181.56"
      ]
     },
     "execution_count": 68,
     "metadata": {},
     "output_type": "execute_result"
    }
   ],
   "source": [
    "players_new.groupby('Country_Name')['TotalUSDPrize'].sum().sort_values(ascending=False).to_frame().reset_index().head(10)"
   ]
  },
  {
   "cell_type": "code",
   "execution_count": 77,
   "id": "097e6ec8-b65d-4000-86c4-6ec0663b2e85",
   "metadata": {},
   "outputs": [
    {
     "data": {
      "text/html": [
       "<div>\n",
       "<style scoped>\n",
       "    .dataframe tbody tr th:only-of-type {\n",
       "        vertical-align: middle;\n",
       "    }\n",
       "\n",
       "    .dataframe tbody tr th {\n",
       "        vertical-align: top;\n",
       "    }\n",
       "\n",
       "    .dataframe thead th {\n",
       "        text-align: right;\n",
       "    }\n",
       "</style>\n",
       "<table border=\"1\" class=\"dataframe\">\n",
       "  <thead>\n",
       "    <tr style=\"text-align: right;\">\n",
       "      <th></th>\n",
       "      <th>Country_Name</th>\n",
       "      <th>TotalUSDPrize</th>\n",
       "    </tr>\n",
       "  </thead>\n",
       "  <tbody>\n",
       "    <tr>\n",
       "      <th>0</th>\n",
       "      <td>Lebanon</td>\n",
       "      <td>4193412.690</td>\n",
       "    </tr>\n",
       "    <tr>\n",
       "      <th>1</th>\n",
       "      <td>Pakistan</td>\n",
       "      <td>3608317.340</td>\n",
       "    </tr>\n",
       "    <tr>\n",
       "      <th>2</th>\n",
       "      <td>Jordan</td>\n",
       "      <td>3165871.175</td>\n",
       "    </tr>\n",
       "    <tr>\n",
       "      <th>3</th>\n",
       "      <td>Estonia</td>\n",
       "      <td>1685007.455</td>\n",
       "    </tr>\n",
       "    <tr>\n",
       "      <th>4</th>\n",
       "      <td>Singapore</td>\n",
       "      <td>1553261.960</td>\n",
       "    </tr>\n",
       "    <tr>\n",
       "      <th>5</th>\n",
       "      <td>Macao</td>\n",
       "      <td>1337308.370</td>\n",
       "    </tr>\n",
       "    <tr>\n",
       "      <th>6</th>\n",
       "      <td>Romania</td>\n",
       "      <td>1239837.570</td>\n",
       "    </tr>\n",
       "    <tr>\n",
       "      <th>7</th>\n",
       "      <td>Israel</td>\n",
       "      <td>1232344.365</td>\n",
       "    </tr>\n",
       "    <tr>\n",
       "      <th>8</th>\n",
       "      <td>Macedonia</td>\n",
       "      <td>1046689.750</td>\n",
       "    </tr>\n",
       "    <tr>\n",
       "      <th>9</th>\n",
       "      <td>Malaysia</td>\n",
       "      <td>902489.365</td>\n",
       "    </tr>\n",
       "  </tbody>\n",
       "</table>\n",
       "</div>"
      ],
      "text/plain": [
       "  Country_Name  TotalUSDPrize\n",
       "0      Lebanon    4193412.690\n",
       "1     Pakistan    3608317.340\n",
       "2       Jordan    3165871.175\n",
       "3      Estonia    1685007.455\n",
       "4    Singapore    1553261.960\n",
       "5        Macao    1337308.370\n",
       "6      Romania    1239837.570\n",
       "7       Israel    1232344.365\n",
       "8    Macedonia    1046689.750\n",
       "9     Malaysia     902489.365"
      ]
     },
     "execution_count": 77,
     "metadata": {},
     "output_type": "execute_result"
    }
   ],
   "source": [
    "players_new.groupby('Country_Name')['TotalUSDPrize'].median().sort_values(ascending=False).to_frame().reset_index().head(10)"
   ]
  },
  {
   "cell_type": "code",
   "execution_count": 70,
   "id": "60e9fe91-a88d-40b5-928e-93a565552f30",
   "metadata": {},
   "outputs": [
    {
     "data": {
      "text/html": [
       "<div>\n",
       "<style scoped>\n",
       "    .dataframe tbody tr th:only-of-type {\n",
       "        vertical-align: middle;\n",
       "    }\n",
       "\n",
       "    .dataframe tbody tr th {\n",
       "        vertical-align: top;\n",
       "    }\n",
       "\n",
       "    .dataframe thead th {\n",
       "        text-align: right;\n",
       "    }\n",
       "</style>\n",
       "<table border=\"1\" class=\"dataframe\">\n",
       "  <thead>\n",
       "    <tr style=\"text-align: right;\">\n",
       "      <th></th>\n",
       "      <th>Continent_Name</th>\n",
       "      <th>TotalUSDPrize</th>\n",
       "    </tr>\n",
       "  </thead>\n",
       "  <tbody>\n",
       "    <tr>\n",
       "      <th>0</th>\n",
       "      <td>Asia</td>\n",
       "      <td>1.827135e+08</td>\n",
       "    </tr>\n",
       "    <tr>\n",
       "      <th>1</th>\n",
       "      <td>Europe</td>\n",
       "      <td>1.563520e+08</td>\n",
       "    </tr>\n",
       "    <tr>\n",
       "      <th>2</th>\n",
       "      <td>North America</td>\n",
       "      <td>5.703727e+07</td>\n",
       "    </tr>\n",
       "    <tr>\n",
       "      <th>3</th>\n",
       "      <td>Oceania</td>\n",
       "      <td>7.999675e+06</td>\n",
       "    </tr>\n",
       "    <tr>\n",
       "      <th>4</th>\n",
       "      <td>South America</td>\n",
       "      <td>6.951711e+06</td>\n",
       "    </tr>\n",
       "  </tbody>\n",
       "</table>\n",
       "</div>"
      ],
      "text/plain": [
       "  Continent_Name  TotalUSDPrize\n",
       "0           Asia   1.827135e+08\n",
       "1         Europe   1.563520e+08\n",
       "2  North America   5.703727e+07\n",
       "3        Oceania   7.999675e+06\n",
       "4  South America   6.951711e+06"
      ]
     },
     "execution_count": 70,
     "metadata": {},
     "output_type": "execute_result"
    }
   ],
   "source": [
    "players_new.groupby('Continent_Name')['TotalUSDPrize'].sum().sort_values(ascending=False).to_frame().reset_index()"
   ]
  },
  {
   "cell_type": "code",
   "execution_count": 76,
   "id": "ff97b9ec-4872-4329-8dcc-957fe80e67b6",
   "metadata": {},
   "outputs": [
    {
     "data": {
      "text/html": [
       "<div>\n",
       "<style scoped>\n",
       "    .dataframe tbody tr th:only-of-type {\n",
       "        vertical-align: middle;\n",
       "    }\n",
       "\n",
       "    .dataframe tbody tr th {\n",
       "        vertical-align: top;\n",
       "    }\n",
       "\n",
       "    .dataframe thead th {\n",
       "        text-align: right;\n",
       "    }\n",
       "</style>\n",
       "<table border=\"1\" class=\"dataframe\">\n",
       "  <thead>\n",
       "    <tr style=\"text-align: right;\">\n",
       "      <th></th>\n",
       "      <th>Continent_Name</th>\n",
       "      <th>TotalUSDPrize</th>\n",
       "    </tr>\n",
       "  </thead>\n",
       "  <tbody>\n",
       "    <tr>\n",
       "      <th>0</th>\n",
       "      <td>South America</td>\n",
       "      <td>382208.97</td>\n",
       "    </tr>\n",
       "    <tr>\n",
       "      <th>1</th>\n",
       "      <td>Europe</td>\n",
       "      <td>245208.72</td>\n",
       "    </tr>\n",
       "    <tr>\n",
       "      <th>2</th>\n",
       "      <td>North America</td>\n",
       "      <td>159833.35</td>\n",
       "    </tr>\n",
       "    <tr>\n",
       "      <th>3</th>\n",
       "      <td>Asia</td>\n",
       "      <td>141800.69</td>\n",
       "    </tr>\n",
       "    <tr>\n",
       "      <th>4</th>\n",
       "      <td>Oceania</td>\n",
       "      <td>79049.82</td>\n",
       "    </tr>\n",
       "  </tbody>\n",
       "</table>\n",
       "</div>"
      ],
      "text/plain": [
       "  Continent_Name  TotalUSDPrize\n",
       "0  South America      382208.97\n",
       "1         Europe      245208.72\n",
       "2  North America      159833.35\n",
       "3           Asia      141800.69\n",
       "4        Oceania       79049.82"
      ]
     },
     "execution_count": 76,
     "metadata": {},
     "output_type": "execute_result"
    }
   ],
   "source": [
    "players_new.groupby('Continent_Name')['TotalUSDPrize'].median().sort_values(ascending=False).to_frame().reset_index()"
   ]
  },
  {
   "cell_type": "markdown",
   "id": "4cfd08c5-e9e9-4857-859e-b84a90c0d90d",
   "metadata": {},
   "source": [
    "Country and Continent\n",
    "Interestingly, it seems that China has the most amount of ESports earnings. If we look at Continent, Asia and Europe largely dominates in terms of total USD earned. However, if we look at it from other dimension. Countries like Lebonon and Parkistan take the cake.\n",
    "\n",
    "I have a few hypothesis for this.\n",
    "\n",
    "1) Countries like China and Korea probably have a way higher population that are into ESports, thus resulting in higher total earnings\n",
    "\n",
    "2) Countries like Parkistan and other less developed countries probably aren't as accepting of ESports culture, so you would have to be really good to get into it, which explains higher median and average earnings"
   ]
  },
  {
   "cell_type": "markdown",
   "id": "8a31587d-197d-4ca3-b39d-e6cc46ad03b1",
   "metadata": {},
   "source": [
    "**Some of the lower player count country has \"elite\" players while popular countries have sheer numbers**"
   ]
  },
  {
   "cell_type": "code",
   "execution_count": null,
   "id": "4647e5df-d3ad-4696-8964-d559e08a1338",
   "metadata": {},
   "outputs": [],
   "source": []
  }
 ],
 "metadata": {
  "kernelspec": {
   "display_name": "Python [conda env:adaexam] *",
   "language": "python",
   "name": "conda-env-adaexam-py"
  },
  "language_info": {
   "codemirror_mode": {
    "name": "ipython",
    "version": 3
   },
   "file_extension": ".py",
   "mimetype": "text/x-python",
   "name": "python",
   "nbconvert_exporter": "python",
   "pygments_lexer": "ipython3",
   "version": "3.8.12"
  }
 },
 "nbformat": 4,
 "nbformat_minor": 5
}
